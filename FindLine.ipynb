{
 "cells": [
  {
   "cell_type": "code",
   "execution_count": 5,
   "metadata": {},
   "outputs": [
    {
     "data": {
      "text/html": [
       "\n",
       "    <div class=\"bk-root\">\n",
       "        <a href=\"https://bokeh.pydata.org\" target=\"_blank\" class=\"bk-logo bk-logo-small bk-logo-notebook\"></a>\n",
       "        <span id=\"2632\">Loading BokehJS ...</span>\n",
       "    </div>"
      ]
     },
     "metadata": {},
     "output_type": "display_data"
    },
    {
     "data": {
      "application/javascript": [
       "\n",
       "(function(root) {\n",
       "  function now() {\n",
       "    return new Date();\n",
       "  }\n",
       "\n",
       "  var force = true;\n",
       "\n",
       "  if (typeof (root._bokeh_onload_callbacks) === \"undefined\" || force === true) {\n",
       "    root._bokeh_onload_callbacks = [];\n",
       "    root._bokeh_is_loading = undefined;\n",
       "  }\n",
       "\n",
       "  var JS_MIME_TYPE = 'application/javascript';\n",
       "  var HTML_MIME_TYPE = 'text/html';\n",
       "  var EXEC_MIME_TYPE = 'application/vnd.bokehjs_exec.v0+json';\n",
       "  var CLASS_NAME = 'output_bokeh rendered_html';\n",
       "\n",
       "  /**\n",
       "   * Render data to the DOM node\n",
       "   */\n",
       "  function render(props, node) {\n",
       "    var script = document.createElement(\"script\");\n",
       "    node.appendChild(script);\n",
       "  }\n",
       "\n",
       "  /**\n",
       "   * Handle when an output is cleared or removed\n",
       "   */\n",
       "  function handleClearOutput(event, handle) {\n",
       "    var cell = handle.cell;\n",
       "\n",
       "    var id = cell.output_area._bokeh_element_id;\n",
       "    var server_id = cell.output_area._bokeh_server_id;\n",
       "    // Clean up Bokeh references\n",
       "    if (id != null && id in Bokeh.index) {\n",
       "      Bokeh.index[id].model.document.clear();\n",
       "      delete Bokeh.index[id];\n",
       "    }\n",
       "\n",
       "    if (server_id !== undefined) {\n",
       "      // Clean up Bokeh references\n",
       "      var cmd = \"from bokeh.io.state import curstate; print(curstate().uuid_to_server['\" + server_id + \"'].get_sessions()[0].document.roots[0]._id)\";\n",
       "      cell.notebook.kernel.execute(cmd, {\n",
       "        iopub: {\n",
       "          output: function(msg) {\n",
       "            var id = msg.content.text.trim();\n",
       "            if (id in Bokeh.index) {\n",
       "              Bokeh.index[id].model.document.clear();\n",
       "              delete Bokeh.index[id];\n",
       "            }\n",
       "          }\n",
       "        }\n",
       "      });\n",
       "      // Destroy server and session\n",
       "      var cmd = \"import bokeh.io.notebook as ion; ion.destroy_server('\" + server_id + \"')\";\n",
       "      cell.notebook.kernel.execute(cmd);\n",
       "    }\n",
       "  }\n",
       "\n",
       "  /**\n",
       "   * Handle when a new output is added\n",
       "   */\n",
       "  function handleAddOutput(event, handle) {\n",
       "    var output_area = handle.output_area;\n",
       "    var output = handle.output;\n",
       "\n",
       "    // limit handleAddOutput to display_data with EXEC_MIME_TYPE content only\n",
       "    if ((output.output_type != \"display_data\") || (!output.data.hasOwnProperty(EXEC_MIME_TYPE))) {\n",
       "      return\n",
       "    }\n",
       "\n",
       "    var toinsert = output_area.element.find(\".\" + CLASS_NAME.split(' ')[0]);\n",
       "\n",
       "    if (output.metadata[EXEC_MIME_TYPE][\"id\"] !== undefined) {\n",
       "      toinsert[toinsert.length - 1].firstChild.textContent = output.data[JS_MIME_TYPE];\n",
       "      // store reference to embed id on output_area\n",
       "      output_area._bokeh_element_id = output.metadata[EXEC_MIME_TYPE][\"id\"];\n",
       "    }\n",
       "    if (output.metadata[EXEC_MIME_TYPE][\"server_id\"] !== undefined) {\n",
       "      var bk_div = document.createElement(\"div\");\n",
       "      bk_div.innerHTML = output.data[HTML_MIME_TYPE];\n",
       "      var script_attrs = bk_div.children[0].attributes;\n",
       "      for (var i = 0; i < script_attrs.length; i++) {\n",
       "        toinsert[toinsert.length - 1].firstChild.setAttribute(script_attrs[i].name, script_attrs[i].value);\n",
       "      }\n",
       "      // store reference to server id on output_area\n",
       "      output_area._bokeh_server_id = output.metadata[EXEC_MIME_TYPE][\"server_id\"];\n",
       "    }\n",
       "  }\n",
       "\n",
       "  function register_renderer(events, OutputArea) {\n",
       "\n",
       "    function append_mime(data, metadata, element) {\n",
       "      // create a DOM node to render to\n",
       "      var toinsert = this.create_output_subarea(\n",
       "        metadata,\n",
       "        CLASS_NAME,\n",
       "        EXEC_MIME_TYPE\n",
       "      );\n",
       "      this.keyboard_manager.register_events(toinsert);\n",
       "      // Render to node\n",
       "      var props = {data: data, metadata: metadata[EXEC_MIME_TYPE]};\n",
       "      render(props, toinsert[toinsert.length - 1]);\n",
       "      element.append(toinsert);\n",
       "      return toinsert\n",
       "    }\n",
       "\n",
       "    /* Handle when an output is cleared or removed */\n",
       "    events.on('clear_output.CodeCell', handleClearOutput);\n",
       "    events.on('delete.Cell', handleClearOutput);\n",
       "\n",
       "    /* Handle when a new output is added */\n",
       "    events.on('output_added.OutputArea', handleAddOutput);\n",
       "\n",
       "    /**\n",
       "     * Register the mime type and append_mime function with output_area\n",
       "     */\n",
       "    OutputArea.prototype.register_mime_type(EXEC_MIME_TYPE, append_mime, {\n",
       "      /* Is output safe? */\n",
       "      safe: true,\n",
       "      /* Index of renderer in `output_area.display_order` */\n",
       "      index: 0\n",
       "    });\n",
       "  }\n",
       "\n",
       "  // register the mime type if in Jupyter Notebook environment and previously unregistered\n",
       "  if (root.Jupyter !== undefined) {\n",
       "    var events = require('base/js/events');\n",
       "    var OutputArea = require('notebook/js/outputarea').OutputArea;\n",
       "\n",
       "    if (OutputArea.prototype.mime_types().indexOf(EXEC_MIME_TYPE) == -1) {\n",
       "      register_renderer(events, OutputArea);\n",
       "    }\n",
       "  }\n",
       "\n",
       "  \n",
       "  if (typeof (root._bokeh_timeout) === \"undefined\" || force === true) {\n",
       "    root._bokeh_timeout = Date.now() + 5000;\n",
       "    root._bokeh_failed_load = false;\n",
       "  }\n",
       "\n",
       "  var NB_LOAD_WARNING = {'data': {'text/html':\n",
       "     \"<div style='background-color: #fdd'>\\n\"+\n",
       "     \"<p>\\n\"+\n",
       "     \"BokehJS does not appear to have successfully loaded. If loading BokehJS from CDN, this \\n\"+\n",
       "     \"may be due to a slow or bad network connection. Possible fixes:\\n\"+\n",
       "     \"</p>\\n\"+\n",
       "     \"<ul>\\n\"+\n",
       "     \"<li>re-rerun `output_notebook()` to attempt to load from CDN again, or</li>\\n\"+\n",
       "     \"<li>use INLINE resources instead, as so:</li>\\n\"+\n",
       "     \"</ul>\\n\"+\n",
       "     \"<code>\\n\"+\n",
       "     \"from bokeh.resources import INLINE\\n\"+\n",
       "     \"output_notebook(resources=INLINE)\\n\"+\n",
       "     \"</code>\\n\"+\n",
       "     \"</div>\"}};\n",
       "\n",
       "  function display_loaded() {\n",
       "    var el = document.getElementById(\"2632\");\n",
       "    if (el != null) {\n",
       "      el.textContent = \"BokehJS is loading...\";\n",
       "    }\n",
       "    if (root.Bokeh !== undefined) {\n",
       "      if (el != null) {\n",
       "        el.textContent = \"BokehJS \" + root.Bokeh.version + \" successfully loaded.\";\n",
       "      }\n",
       "    } else if (Date.now() < root._bokeh_timeout) {\n",
       "      setTimeout(display_loaded, 100)\n",
       "    }\n",
       "  }\n",
       "\n",
       "\n",
       "  function run_callbacks() {\n",
       "    try {\n",
       "      root._bokeh_onload_callbacks.forEach(function(callback) { callback() });\n",
       "    }\n",
       "    finally {\n",
       "      delete root._bokeh_onload_callbacks\n",
       "    }\n",
       "    console.info(\"Bokeh: all callbacks have finished\");\n",
       "  }\n",
       "\n",
       "  function load_libs(js_urls, callback) {\n",
       "    root._bokeh_onload_callbacks.push(callback);\n",
       "    if (root._bokeh_is_loading > 0) {\n",
       "      console.log(\"Bokeh: BokehJS is being loaded, scheduling callback at\", now());\n",
       "      return null;\n",
       "    }\n",
       "    if (js_urls == null || js_urls.length === 0) {\n",
       "      run_callbacks();\n",
       "      return null;\n",
       "    }\n",
       "    console.log(\"Bokeh: BokehJS not loaded, scheduling load and callback at\", now());\n",
       "    root._bokeh_is_loading = js_urls.length;\n",
       "    for (var i = 0; i < js_urls.length; i++) {\n",
       "      var url = js_urls[i];\n",
       "      var s = document.createElement('script');\n",
       "      s.src = url;\n",
       "      s.async = false;\n",
       "      s.onreadystatechange = s.onload = function() {\n",
       "        root._bokeh_is_loading--;\n",
       "        if (root._bokeh_is_loading === 0) {\n",
       "          console.log(\"Bokeh: all BokehJS libraries loaded\");\n",
       "          run_callbacks()\n",
       "        }\n",
       "      };\n",
       "      s.onerror = function() {\n",
       "        console.warn(\"failed to load library \" + url);\n",
       "      };\n",
       "      console.log(\"Bokeh: injecting script tag for BokehJS library: \", url);\n",
       "      document.getElementsByTagName(\"head\")[0].appendChild(s);\n",
       "    }\n",
       "  };var element = document.getElementById(\"2632\");\n",
       "  if (element == null) {\n",
       "    console.log(\"Bokeh: ERROR: autoload.js configured with elementid '2632' but no matching script tag was found. \")\n",
       "    return false;\n",
       "  }\n",
       "\n",
       "  var js_urls = [\"https://cdn.pydata.org/bokeh/release/bokeh-1.0.4.min.js\", \"https://cdn.pydata.org/bokeh/release/bokeh-widgets-1.0.4.min.js\", \"https://cdn.pydata.org/bokeh/release/bokeh-tables-1.0.4.min.js\", \"https://cdn.pydata.org/bokeh/release/bokeh-gl-1.0.4.min.js\"];\n",
       "\n",
       "  var inline_js = [\n",
       "    function(Bokeh) {\n",
       "      Bokeh.set_log_level(\"info\");\n",
       "    },\n",
       "    \n",
       "    function(Bokeh) {\n",
       "      \n",
       "    },\n",
       "    function(Bokeh) {\n",
       "      console.log(\"Bokeh: injecting CSS: https://cdn.pydata.org/bokeh/release/bokeh-1.0.4.min.css\");\n",
       "      Bokeh.embed.inject_css(\"https://cdn.pydata.org/bokeh/release/bokeh-1.0.4.min.css\");\n",
       "      console.log(\"Bokeh: injecting CSS: https://cdn.pydata.org/bokeh/release/bokeh-widgets-1.0.4.min.css\");\n",
       "      Bokeh.embed.inject_css(\"https://cdn.pydata.org/bokeh/release/bokeh-widgets-1.0.4.min.css\");\n",
       "      console.log(\"Bokeh: injecting CSS: https://cdn.pydata.org/bokeh/release/bokeh-tables-1.0.4.min.css\");\n",
       "      Bokeh.embed.inject_css(\"https://cdn.pydata.org/bokeh/release/bokeh-tables-1.0.4.min.css\");\n",
       "    }\n",
       "  ];\n",
       "\n",
       "  function run_inline_js() {\n",
       "    \n",
       "    if ((root.Bokeh !== undefined) || (force === true)) {\n",
       "      for (var i = 0; i < inline_js.length; i++) {\n",
       "        inline_js[i].call(root, root.Bokeh);\n",
       "      }if (force === true) {\n",
       "        display_loaded();\n",
       "      }} else if (Date.now() < root._bokeh_timeout) {\n",
       "      setTimeout(run_inline_js, 100);\n",
       "    } else if (!root._bokeh_failed_load) {\n",
       "      console.log(\"Bokeh: BokehJS failed to load within specified timeout.\");\n",
       "      root._bokeh_failed_load = true;\n",
       "    } else if (force !== true) {\n",
       "      var cell = $(document.getElementById(\"2632\")).parents('.cell').data().cell;\n",
       "      cell.output_area.append_execute_result(NB_LOAD_WARNING)\n",
       "    }\n",
       "\n",
       "  }\n",
       "\n",
       "  if (root._bokeh_is_loading === 0) {\n",
       "    console.log(\"Bokeh: BokehJS loaded, going straight to plotting\");\n",
       "    run_inline_js();\n",
       "  } else {\n",
       "    load_libs(js_urls, function() {\n",
       "      console.log(\"Bokeh: BokehJS plotting callback run at\", now());\n",
       "      run_inline_js();\n",
       "    });\n",
       "  }\n",
       "}(window));"
      ],
      "application/vnd.bokehjs_load.v0+json": "\n(function(root) {\n  function now() {\n    return new Date();\n  }\n\n  var force = true;\n\n  if (typeof (root._bokeh_onload_callbacks) === \"undefined\" || force === true) {\n    root._bokeh_onload_callbacks = [];\n    root._bokeh_is_loading = undefined;\n  }\n\n  \n\n  \n  if (typeof (root._bokeh_timeout) === \"undefined\" || force === true) {\n    root._bokeh_timeout = Date.now() + 5000;\n    root._bokeh_failed_load = false;\n  }\n\n  var NB_LOAD_WARNING = {'data': {'text/html':\n     \"<div style='background-color: #fdd'>\\n\"+\n     \"<p>\\n\"+\n     \"BokehJS does not appear to have successfully loaded. If loading BokehJS from CDN, this \\n\"+\n     \"may be due to a slow or bad network connection. Possible fixes:\\n\"+\n     \"</p>\\n\"+\n     \"<ul>\\n\"+\n     \"<li>re-rerun `output_notebook()` to attempt to load from CDN again, or</li>\\n\"+\n     \"<li>use INLINE resources instead, as so:</li>\\n\"+\n     \"</ul>\\n\"+\n     \"<code>\\n\"+\n     \"from bokeh.resources import INLINE\\n\"+\n     \"output_notebook(resources=INLINE)\\n\"+\n     \"</code>\\n\"+\n     \"</div>\"}};\n\n  function display_loaded() {\n    var el = document.getElementById(\"2632\");\n    if (el != null) {\n      el.textContent = \"BokehJS is loading...\";\n    }\n    if (root.Bokeh !== undefined) {\n      if (el != null) {\n        el.textContent = \"BokehJS \" + root.Bokeh.version + \" successfully loaded.\";\n      }\n    } else if (Date.now() < root._bokeh_timeout) {\n      setTimeout(display_loaded, 100)\n    }\n  }\n\n\n  function run_callbacks() {\n    try {\n      root._bokeh_onload_callbacks.forEach(function(callback) { callback() });\n    }\n    finally {\n      delete root._bokeh_onload_callbacks\n    }\n    console.info(\"Bokeh: all callbacks have finished\");\n  }\n\n  function load_libs(js_urls, callback) {\n    root._bokeh_onload_callbacks.push(callback);\n    if (root._bokeh_is_loading > 0) {\n      console.log(\"Bokeh: BokehJS is being loaded, scheduling callback at\", now());\n      return null;\n    }\n    if (js_urls == null || js_urls.length === 0) {\n      run_callbacks();\n      return null;\n    }\n    console.log(\"Bokeh: BokehJS not loaded, scheduling load and callback at\", now());\n    root._bokeh_is_loading = js_urls.length;\n    for (var i = 0; i < js_urls.length; i++) {\n      var url = js_urls[i];\n      var s = document.createElement('script');\n      s.src = url;\n      s.async = false;\n      s.onreadystatechange = s.onload = function() {\n        root._bokeh_is_loading--;\n        if (root._bokeh_is_loading === 0) {\n          console.log(\"Bokeh: all BokehJS libraries loaded\");\n          run_callbacks()\n        }\n      };\n      s.onerror = function() {\n        console.warn(\"failed to load library \" + url);\n      };\n      console.log(\"Bokeh: injecting script tag for BokehJS library: \", url);\n      document.getElementsByTagName(\"head\")[0].appendChild(s);\n    }\n  };var element = document.getElementById(\"2632\");\n  if (element == null) {\n    console.log(\"Bokeh: ERROR: autoload.js configured with elementid '2632' but no matching script tag was found. \")\n    return false;\n  }\n\n  var js_urls = [\"https://cdn.pydata.org/bokeh/release/bokeh-1.0.4.min.js\", \"https://cdn.pydata.org/bokeh/release/bokeh-widgets-1.0.4.min.js\", \"https://cdn.pydata.org/bokeh/release/bokeh-tables-1.0.4.min.js\", \"https://cdn.pydata.org/bokeh/release/bokeh-gl-1.0.4.min.js\"];\n\n  var inline_js = [\n    function(Bokeh) {\n      Bokeh.set_log_level(\"info\");\n    },\n    \n    function(Bokeh) {\n      \n    },\n    function(Bokeh) {\n      console.log(\"Bokeh: injecting CSS: https://cdn.pydata.org/bokeh/release/bokeh-1.0.4.min.css\");\n      Bokeh.embed.inject_css(\"https://cdn.pydata.org/bokeh/release/bokeh-1.0.4.min.css\");\n      console.log(\"Bokeh: injecting CSS: https://cdn.pydata.org/bokeh/release/bokeh-widgets-1.0.4.min.css\");\n      Bokeh.embed.inject_css(\"https://cdn.pydata.org/bokeh/release/bokeh-widgets-1.0.4.min.css\");\n      console.log(\"Bokeh: injecting CSS: https://cdn.pydata.org/bokeh/release/bokeh-tables-1.0.4.min.css\");\n      Bokeh.embed.inject_css(\"https://cdn.pydata.org/bokeh/release/bokeh-tables-1.0.4.min.css\");\n    }\n  ];\n\n  function run_inline_js() {\n    \n    if ((root.Bokeh !== undefined) || (force === true)) {\n      for (var i = 0; i < inline_js.length; i++) {\n        inline_js[i].call(root, root.Bokeh);\n      }if (force === true) {\n        display_loaded();\n      }} else if (Date.now() < root._bokeh_timeout) {\n      setTimeout(run_inline_js, 100);\n    } else if (!root._bokeh_failed_load) {\n      console.log(\"Bokeh: BokehJS failed to load within specified timeout.\");\n      root._bokeh_failed_load = true;\n    } else if (force !== true) {\n      var cell = $(document.getElementById(\"2632\")).parents('.cell').data().cell;\n      cell.output_area.append_execute_result(NB_LOAD_WARNING)\n    }\n\n  }\n\n  if (root._bokeh_is_loading === 0) {\n    console.log(\"Bokeh: BokehJS loaded, going straight to plotting\");\n    run_inline_js();\n  } else {\n    load_libs(js_urls, function() {\n      console.log(\"Bokeh: BokehJS plotting callback run at\", now());\n      run_inline_js();\n    });\n  }\n}(window));"
     },
     "metadata": {},
     "output_type": "display_data"
    }
   ],
   "source": [
    "import pyspeckit as ps\n",
    "from astropy.io import fits\n",
    "from bokeh.layouts import column\n",
    "\n",
    "import os\n",
    "\n",
    "import astropy.units as u\n",
    "from astropy.io import fits\n",
    "from spectral_cube import SpectralCube\n",
    "import matplotlib.pyplot as plt\n",
    "from bokeh.plotting import output_notebook, figure, show\n",
    "from bokeh.models import HoverTool, tools\n",
    "from bokeh.models import Span, Label, Arrow, NormalHead\n",
    "import numpy as np\n",
    "output_notebook()\n",
    "%matplotlib widget\n",
    "\n",
    "import warnings\n",
    "warnings.filterwarnings('ignore')\n",
    "\n",
    "#f = fits.open('../Observation1/data/FixedAstrometryDATACUBE_FINAL.fits')\n",
    "\n",
    "#c = ps.Cube(f[1])\n",
    "#cube1= SpectralCube.read('../Observation1/data/FixedAstrometryDATACUBE_FINAL.fits',hdu=1)\n",
    "from astropy.coordinates import SkyCoord, Angle\n",
    "import astropy.units as u\n",
    "\n",
    "\n",
    "\n",
    "\n",
    "##Emission Lines\n",
    "class line(object):\n",
    "    def __init__(self,name):\n",
    "        self.name = name\n",
    "\n",
    "        \n",
    "        \n",
    "##Emission Lines\n",
    "class specto(object):\n",
    "    def __init__(self,wave,flux,ra,dec,apperture):\n",
    "        self.wave = wave\n",
    "        self.flux = flux\n",
    "        self.ra = ra\n",
    "        self.dec = dec\n",
    "        self.apperture = apperture\n",
    "        \n",
    "    def plotline(self,title='b'):\n",
    "        p = self.plot(title,showplot=False)\n",
    "        linetoplot = self.flux[self.lineindex]\n",
    "        wavetoplot = self.wave[self.lineindex]\n",
    "        p.line(wavetoplot,linetoplot,line_color='red')\n",
    "        show(p)\n",
    "            \n",
    "    def plot(self,title='b',showplot=True):\n",
    "        \"Plot with BOkeh\"\n",
    "        x = self.wave\n",
    "        y = self.flux\n",
    "\n",
    "        p = figure(plot_width=900, plot_height=500, title=title,active_drag='box_zoom', active_scroll='wheel_zoom')\n",
    "\n",
    "\n",
    "        p.line(x,y)\n",
    "\n",
    "\n",
    "\n",
    "        #Tool to get wavelength\n",
    "        hover2 = HoverTool(\n",
    "                tooltips=[\n",
    "                    (\"(x,y)\", \"($x{1}, $y)\"),\n",
    "                ]\n",
    "            )\n",
    "\n",
    "\n",
    "\n",
    "        p.add_tools(hover2)\n",
    "        if showplot:\n",
    "            show(p)\n",
    "        return p\n",
    "        \n",
    "\n",
    "\n",
    "        \n",
    "def getspectrafromregion(spectralcube,ra,dec,aperture,xmin=6400.,xmax=6650.):\n",
    "    \"\"\"Get a dec,ra in hh:mm:ss and aperture in arcsecond\"\"\"\n",
    "    \n",
    "    \n",
    "    sourcename = 'tempspectra'\n",
    "    region = 'fk5; circle({}, {}, {}\")'.format(ra,dec,aperture)\n",
    "\n",
    "    filename = '{}.fits'.format(sourcename)\n",
    "\n",
    "    #Spectrum\n",
    "    subcube = spectralcube.subcube_from_ds9region(region)  \n",
    "    spectrum = subcube.sum(axis=(1, 2)) \n",
    "\n",
    "\n",
    "    if os.path.isfile(filename):\n",
    "        os.remove(filename)\n",
    "    spectrum.write(filename)\n",
    "    \n",
    "    \n",
    "    pyspec = ps.Spectrum(filename)\n",
    "    \n",
    "    os.remove(filename)\n",
    "    \n",
    "    \n",
    "    pyspec.crop(xmin, xmax, unit='angstrom') \n",
    "    pyspec.baseline(xmin=xmin, xmax=xmax,exclude=[6520,6600,6660,6700],order=2,subtract=True)\n",
    "\n",
    "    inds = np.argsort(pyspec.xarr)\n",
    "    xp2 = pyspec.xarr.value[inds]\n",
    "    yp2 = pyspec.data[inds]\n",
    "\n",
    "\n",
    "    x = np.array(xp2)\n",
    "    y = np.array(yp2)\n",
    "    \n",
    "    return specto(x,y,ra,dec,aperture)\n",
    "\n",
    "def findlines(specto,minwave,maxwave,toleranceinsigma):\n",
    "    errorindex = np.where( (minwave < specto.wave) &  (maxwave > specto.wave) )[0]\n",
    "    errorflux = specto.flux[errorindex]\n",
    "    errorstd = np.std(errorflux)\n",
    "    lineindex = np.where(specto.flux > toleranceinsigma* errorstd)[0]\n",
    "    if len(lineindex) > 2:\n",
    "        #print('Found Line')\n",
    "        specto.lineindex = lineindex\n",
    "        specto.line = True\n",
    "    else:\n",
    "        #print('Booo')\n",
    "        specto.line = False\n",
    "    \n",
    "\n",
    "def getlatloglist(spectralcube,latsepa=0.5,logsepa=0.5):\n",
    "    cubelatextrema = spectralcube.latitude_extrema\n",
    "    cubelongextrema = spectralcube.longitude_extrema\n",
    "    seplat = Angle(latsepa*u.arcsec)\n",
    "    seplog = Angle(logsepa*u.arcsec)\n",
    "\n",
    "    latlist = np.arange(Angle(cubelatextrema[0]).deg,\n",
    "                        Angle(cubelatextrema[1]).deg,\n",
    "                        seplat.deg)\n",
    "\n",
    "    loglist = np.arange(Angle(cubelongextrema[0]).deg,\n",
    "                        Angle(cubelongextrema[1]).deg,\n",
    "                        seplog.deg)\n",
    "\n",
    "    latloglist = []\n",
    "    for la in latlist:\n",
    "        templa = Angle(la*u.deg)    \n",
    "        for log in loglist:\n",
    "            templog = Angle(log*u.deg)\n",
    "            latloglist.append([templa.to_string(unit=u.degree, sep=':'),templog.to_string(unit=u.hour, sep=':')])\n",
    "    return latloglist\n",
    "\n",
    "\n",
    "def makeregionfromlist(listcoord,nameregfile):\n",
    "    with open(nameregfile,'w') as fileone:\n",
    "        for coord in listcoord:#print(line)\n",
    "                text='fk5; circle({0},{1},{2}\") # color=red text={3} \\n'.format(coord[0],coord[1],coord[2],coord[3])\n",
    "                fileone.write(text)\n",
    "\n",
    "#c = ps.Cube(cube=cube1)"
   ]
  },
  {
   "cell_type": "markdown",
   "metadata": {},
   "source": [
    "# mini try first\n",
    "\n",
    "Mini datacube:\n",
    "#mini = spectralcube[:,135:160,190:220]\n",
    "#mini"
   ]
  },
  {
   "cell_type": "code",
   "execution_count": 2,
   "metadata": {},
   "outputs": [],
   "source": [
    "cube = 'mini.fits'\n",
    "spectralcube= SpectralCube.read(cube,hdu=1)\n",
    "listlatlog = getlatloglist(spectralcube,latsepa=0.5,logsepa=0.5)\n"
   ]
  },
  {
   "cell_type": "code",
   "execution_count": 7,
   "metadata": {},
   "outputs": [
    {
     "data": {
      "text/html": [
       "\n",
       "\n",
       "\n",
       "\n",
       "\n",
       "\n",
       "  <div class=\"bk-root\" id=\"e584dba6-99e0-4977-b540-ce73af524219\" data-root-id=\"5264\"></div>\n"
      ]
     },
     "metadata": {},
     "output_type": "display_data"
    },
    {
     "data": {
      "application/javascript": [
       "(function(root) {\n",
       "  function embed_document(root) {\n",
       "    \n",
       "  var docs_json = {\"8b2d7a09-d3be-4555-8657-80b0f23c7629\":{\"roots\":{\"references\":[{\"attributes\":{\"below\":[{\"id\":\"5274\",\"type\":\"LinearAxis\"}],\"left\":[{\"id\":\"5279\",\"type\":\"LinearAxis\"}],\"plot_height\":500,\"plot_width\":900,\"renderers\":[{\"id\":\"5274\",\"type\":\"LinearAxis\"},{\"id\":\"5278\",\"type\":\"Grid\"},{\"id\":\"5279\",\"type\":\"LinearAxis\"},{\"id\":\"5283\",\"type\":\"Grid\"},{\"id\":\"5292\",\"type\":\"BoxAnnotation\"},{\"id\":\"5302\",\"type\":\"GlyphRenderer\"},{\"id\":\"5309\",\"type\":\"GlyphRenderer\"}],\"title\":{\"id\":\"5263\",\"type\":\"Title\"},\"toolbar\":{\"id\":\"5290\",\"type\":\"Toolbar\"},\"x_range\":{\"id\":\"5266\",\"type\":\"DataRange1d\"},\"x_scale\":{\"id\":\"5270\",\"type\":\"LinearScale\"},\"y_range\":{\"id\":\"5268\",\"type\":\"DataRange1d\"},\"y_scale\":{\"id\":\"5272\",\"type\":\"LinearScale\"}},\"id\":\"5264\",\"subtype\":\"Figure\",\"type\":\"Plot\"},{\"attributes\":{\"source\":{\"id\":\"5306\",\"type\":\"ColumnDataSource\"}},\"id\":\"5310\",\"type\":\"CDSView\"},{\"attributes\":{\"plot\":{\"id\":\"5264\",\"subtype\":\"Figure\",\"type\":\"Plot\"},\"ticker\":{\"id\":\"5275\",\"type\":\"BasicTicker\"}},\"id\":\"5278\",\"type\":\"Grid\"},{\"attributes\":{\"callback\":null,\"data\":{\"x\":{\"__ndarray__\":\"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\",\"dtype\":\"float64\",\"shape\":[200]},\"y\":[-34.0285530090332,-8.14333724975586,-26.943721771240234,-3.5002613067626953,34.197052001953125,43.36477279663086,43.68991470336914,18.05491828918457,0.18805935978889465,-25.671527862548828,1.2895115613937378,25.110729217529297,23.51587677001953,9.979811668395996,-10.477204322814941,-3.558906078338623,27.26681137084961,71.13373565673828,13.803829193115234,20.7641544342041,66.95452880859375,9.188555717468262,-26.176713943481445,25.836503982543945,-13.304994583129883,-41.4278678894043,19.098987579345703,14.876277923583984,-30.15898323059082,-22.02144432067871,-62.20695495605469,-40.180606842041016,-62.1341667175293,3.433948516845703,-20.473817825317383,-46.21159362792969,-19.751298904418945,-31.112714767456055,-10.722227096557617,5.170892715454102,-14.185672760009766,18.21027183532715,-24.985509872436523,-67.10211944580078,-61.759674072265625,10.177077293395996,31.02393341064453,-36.5457649230957,14.696859359741211,-27.857196807861328,9.473093032836914,3.015489101409912,85.45870971679688,60.96340560913086,17.317169189453125,-48.21120071411133,109.4979248046875,58.03305435180664,27.595470428466797,-36.910282135009766,-21.68305206298828,-26.750062942504883,-1.7328994274139404,22.325105667114258,-14.94152545928955,-53.42427444458008,-55.786834716796875,-22.56192398071289,-21.384794235229492,-33.71272277832031,-68.83013153076172,-7.933553695678711,-7.7773847579956055,-21.53423309326172,-84.65416717529297,-92.00132751464844,-75.82815551757812,-3.365243911743164,135.90463256835938,239.9962158203125,71.85216522216797,43.67571258544922,14.05621337890625,44.50160217285156,94.66336822509766,26.45142936706543,7.436945915222168,-20.82038688659668,-6.110854625701904,-8.147345542907715,-33.97356033325195,13.59201717376709,-36.14592361450195,-5.856940269470215,-51.62110900878906,-26.090286254882812,-42.473453521728516,5.200940132141113,56.180824279785156,14.674330711364746,-18.427675247192383,-42.51508331298828,-23.20117950439453,-3.792722463607788,-35.189613342285156,35.7321662902832,188.21994018554688,179.43177795410156,8.69958782196045,-48.940608978271484,-77.86698913574219,-46.885215759277344,-16.241756439208984,38.96183395385742,27.222623825073242,116.66487884521484,88.9737777709961,43.923500061035156,28.409543991088867,-9.350924491882324,64.74378204345703,117.11602020263672,306.99774169921875,432.35400390625,289.14990234375,209.29757690429688,212.6685791015625,293.4580993652344,245.53005981445312,275.5188293457031,348.0325622558594,156.93797302246094,242.21649169921875,254.91818237304688,306.21759033203125,256.4903564453125,181.753173828125,139.78399658203125,94.92208099365234,68.60649108886719,72.51045227050781,181.16473388671875,241.76744079589844,122.78269958496094,61.38677215576172,56.73334503173828,115.18618774414062,95.55561065673828,62.18046951293945,35.914649963378906,42.652198791503906,3.573533773422241,-10.040706634521484,32.601959228515625,14.5993070602417,-41.09663391113281,-2.2993392944335938,63.904029846191406,9.41105842590332,41.127384185791016,8.222931861877441,-5.640679836273193,37.45940017700195,67.05711364746094,59.14622497558594,33.78960418701172,-1.254198431968689,-64.87276458740234,-10.855513572692871,20.488466262817383,-30.1975154876709,-8.14013957977295,4.8255085945129395,-16.024446487426758,-11.429752349853516,-0.32180479168891907,1.3230781555175781,-1.9631211757659912,-18.923566818237305,-18.190095901489258,-18.825939178466797,51.11323928833008,-37.521610260009766,-16.225358963012695,6.104043006896973,-19.799760818481445,20.318721771240234,89.36622619628906,73.51268005371094,-26.16086196899414,-13.947617530822754,-50.10002517700195,-17.747726440429688,-7.067474842071533,-10.774238586425781,-30.681371688842773,-27.900691986083984,13.151298522949219,8.50682544708252,-30.383426666259766]},\"selected\":{\"id\":\"5518\",\"type\":\"Selection\"},\"selection_policy\":{\"id\":\"5517\",\"type\":\"UnionRenderers\"}},\"id\":\"5299\",\"type\":\"ColumnDataSource\"},{\"attributes\":{\"line_color\":\"red\",\"x\":{\"field\":\"x\"},\"y\":{\"field\":\"y\"}},\"id\":\"5307\",\"type\":\"Line\"},{\"attributes\":{\"source\":{\"id\":\"5299\",\"type\":\"ColumnDataSource\"}},\"id\":\"5303\",\"type\":\"CDSView\"},{\"attributes\":{\"line_alpha\":0.1,\"line_color\":\"#1f77b4\",\"x\":{\"field\":\"x\"},\"y\":{\"field\":\"y\"}},\"id\":\"5301\",\"type\":\"Line\"},{\"attributes\":{},\"id\":\"5287\",\"type\":\"SaveTool\"},{\"attributes\":{},\"id\":\"5520\",\"type\":\"Selection\"},{\"attributes\":{\"callback\":null},\"id\":\"5266\",\"type\":\"DataRange1d\"},{\"attributes\":{},\"id\":\"5272\",\"type\":\"LinearScale\"},{\"attributes\":{},\"id\":\"5514\",\"type\":\"BasicTickFormatter\"},{\"attributes\":{},\"id\":\"5288\",\"type\":\"ResetTool\"},{\"attributes\":{\"plot\":null,\"text\":\"17:40:41.8068, -53:40:22.1137, 31\"},\"id\":\"5263\",\"type\":\"Title\"},{\"attributes\":{},\"id\":\"5517\",\"type\":\"UnionRenderers\"},{\"attributes\":{\"active_drag\":{\"id\":\"5286\",\"type\":\"BoxZoomTool\"},\"active_inspect\":\"auto\",\"active_multi\":null,\"active_scroll\":{\"id\":\"5285\",\"type\":\"WheelZoomTool\"},\"active_tap\":\"auto\",\"tools\":[{\"id\":\"5284\",\"type\":\"PanTool\"},{\"id\":\"5285\",\"type\":\"WheelZoomTool\"},{\"id\":\"5286\",\"type\":\"BoxZoomTool\"},{\"id\":\"5287\",\"type\":\"SaveTool\"},{\"id\":\"5288\",\"type\":\"ResetTool\"},{\"id\":\"5289\",\"type\":\"HelpTool\"},{\"id\":\"5304\",\"type\":\"HoverTool\"}]},\"id\":\"5290\",\"type\":\"Toolbar\"},{\"attributes\":{},\"id\":\"5275\",\"type\":\"BasicTicker\"},{\"attributes\":{\"line_alpha\":0.1,\"line_color\":\"#1f77b4\",\"x\":{\"field\":\"x\"},\"y\":{\"field\":\"y\"}},\"id\":\"5308\",\"type\":\"Line\"},{\"attributes\":{\"callback\":null,\"data\":{\"x\":{\"__ndarray__\":\"////P5mYuUD///8/2Zm5QP///z8Zm7lA////P9meuUD///8/WaG5QP///z+ZorlA////P1mmuUD///8/mae5QP///z/ZqLlA\",\"dtype\":\"float64\",\"shape\":[9]},\"y\":[306.99774169921875,432.35400390625,289.14990234375,293.4580993652344,275.5188293457031,348.0325622558594,254.91818237304688,306.21759033203125,256.4903564453125]},\"selected\":{\"id\":\"5520\",\"type\":\"Selection\"},\"selection_policy\":{\"id\":\"5519\",\"type\":\"UnionRenderers\"}},\"id\":\"5306\",\"type\":\"ColumnDataSource\"},{\"attributes\":{\"data_source\":{\"id\":\"5299\",\"type\":\"ColumnDataSource\"},\"glyph\":{\"id\":\"5300\",\"type\":\"Line\"},\"hover_glyph\":null,\"muted_glyph\":null,\"nonselection_glyph\":{\"id\":\"5301\",\"type\":\"Line\"},\"selection_glyph\":null,\"view\":{\"id\":\"5303\",\"type\":\"CDSView\"}},\"id\":\"5302\",\"type\":\"GlyphRenderer\"},{\"attributes\":{\"overlay\":{\"id\":\"5292\",\"type\":\"BoxAnnotation\"}},\"id\":\"5286\",\"type\":\"BoxZoomTool\"},{\"attributes\":{},\"id\":\"5519\",\"type\":\"UnionRenderers\"},{\"attributes\":{\"callback\":null,\"tooltips\":[[\"(x,y)\",\"($x{1}, $y)\"]]},\"id\":\"5304\",\"type\":\"HoverTool\"},{\"attributes\":{},\"id\":\"5512\",\"type\":\"BasicTickFormatter\"},{\"attributes\":{\"formatter\":{\"id\":\"5514\",\"type\":\"BasicTickFormatter\"},\"plot\":{\"id\":\"5264\",\"subtype\":\"Figure\",\"type\":\"Plot\"},\"ticker\":{\"id\":\"5275\",\"type\":\"BasicTicker\"}},\"id\":\"5274\",\"type\":\"LinearAxis\"},{\"attributes\":{\"dimension\":1,\"plot\":{\"id\":\"5264\",\"subtype\":\"Figure\",\"type\":\"Plot\"},\"ticker\":{\"id\":\"5280\",\"type\":\"BasicTicker\"}},\"id\":\"5283\",\"type\":\"Grid\"},{\"attributes\":{\"data_source\":{\"id\":\"5306\",\"type\":\"ColumnDataSource\"},\"glyph\":{\"id\":\"5307\",\"type\":\"Line\"},\"hover_glyph\":null,\"muted_glyph\":null,\"nonselection_glyph\":{\"id\":\"5308\",\"type\":\"Line\"},\"selection_glyph\":null,\"view\":{\"id\":\"5310\",\"type\":\"CDSView\"}},\"id\":\"5309\",\"type\":\"GlyphRenderer\"},{\"attributes\":{},\"id\":\"5270\",\"type\":\"LinearScale\"},{\"attributes\":{},\"id\":\"5285\",\"type\":\"WheelZoomTool\"},{\"attributes\":{\"callback\":null},\"id\":\"5268\",\"type\":\"DataRange1d\"},{\"attributes\":{},\"id\":\"5518\",\"type\":\"Selection\"},{\"attributes\":{\"bottom_units\":\"screen\",\"fill_alpha\":{\"value\":0.5},\"fill_color\":{\"value\":\"lightgrey\"},\"left_units\":\"screen\",\"level\":\"overlay\",\"line_alpha\":{\"value\":1.0},\"line_color\":{\"value\":\"black\"},\"line_dash\":[4,4],\"line_width\":{\"value\":2},\"plot\":null,\"render_mode\":\"css\",\"right_units\":\"screen\",\"top_units\":\"screen\"},\"id\":\"5292\",\"type\":\"BoxAnnotation\"},{\"attributes\":{},\"id\":\"5289\",\"type\":\"HelpTool\"},{\"attributes\":{},\"id\":\"5284\",\"type\":\"PanTool\"},{\"attributes\":{},\"id\":\"5280\",\"type\":\"BasicTicker\"},{\"attributes\":{\"line_color\":\"#1f77b4\",\"x\":{\"field\":\"x\"},\"y\":{\"field\":\"y\"}},\"id\":\"5300\",\"type\":\"Line\"},{\"attributes\":{\"formatter\":{\"id\":\"5512\",\"type\":\"BasicTickFormatter\"},\"plot\":{\"id\":\"5264\",\"subtype\":\"Figure\",\"type\":\"Plot\"},\"ticker\":{\"id\":\"5280\",\"type\":\"BasicTicker\"}},\"id\":\"5279\",\"type\":\"LinearAxis\"}],\"root_ids\":[\"5264\"]},\"title\":\"Bokeh Application\",\"version\":\"1.0.4\"}};\n",
       "  var render_items = [{\"docid\":\"8b2d7a09-d3be-4555-8657-80b0f23c7629\",\"roots\":{\"5264\":\"e584dba6-99e0-4977-b540-ce73af524219\"}}];\n",
       "  root.Bokeh.embed.embed_items_notebook(docs_json, render_items);\n",
       "\n",
       "  }\n",
       "  if (root.Bokeh !== undefined) {\n",
       "    embed_document(root);\n",
       "  } else {\n",
       "    var attempts = 0;\n",
       "    var timer = setInterval(function(root) {\n",
       "      if (root.Bokeh !== undefined) {\n",
       "        embed_document(root);\n",
       "        clearInterval(timer);\n",
       "      }\n",
       "      attempts++;\n",
       "      if (attempts > 100) {\n",
       "        console.log(\"Bokeh: ERROR: Unable to run BokehJS code because BokehJS library is missing\");\n",
       "        clearInterval(timer);\n",
       "      }\n",
       "    }, 10, root)\n",
       "  }\n",
       "})(window);"
      ],
      "application/vnd.bokehjs_exec.v0+json": ""
     },
     "metadata": {
      "application/vnd.bokehjs_exec.v0+json": {
       "id": "5264"
      }
     },
     "output_type": "display_data"
    },
    {
     "data": {
      "text/html": [
       "\n",
       "\n",
       "\n",
       "\n",
       "\n",
       "\n",
       "  <div class=\"bk-root\" id=\"9d8da0cf-b5e4-4e22-8842-cb48639108e7\" data-root-id=\"5582\"></div>\n"
      ]
     },
     "metadata": {},
     "output_type": "display_data"
    },
    {
     "data": {
      "application/javascript": [
       "(function(root) {\n",
       "  function embed_document(root) {\n",
       "    \n",
       "  var docs_json = {\"5bb7d6de-47e8-47e6-bfa4-ec75759de432\":{\"roots\":{\"references\":[{\"attributes\":{\"below\":[{\"id\":\"5592\",\"type\":\"LinearAxis\"}],\"left\":[{\"id\":\"5597\",\"type\":\"LinearAxis\"}],\"plot_height\":500,\"plot_width\":900,\"renderers\":[{\"id\":\"5592\",\"type\":\"LinearAxis\"},{\"id\":\"5596\",\"type\":\"Grid\"},{\"id\":\"5597\",\"type\":\"LinearAxis\"},{\"id\":\"5601\",\"type\":\"Grid\"},{\"id\":\"5610\",\"type\":\"BoxAnnotation\"},{\"id\":\"5620\",\"type\":\"GlyphRenderer\"},{\"id\":\"5627\",\"type\":\"GlyphRenderer\"}],\"title\":{\"id\":\"5581\",\"type\":\"Title\"},\"toolbar\":{\"id\":\"5608\",\"type\":\"Toolbar\"},\"x_range\":{\"id\":\"5584\",\"type\":\"DataRange1d\"},\"x_scale\":{\"id\":\"5588\",\"type\":\"LinearScale\"},\"y_range\":{\"id\":\"5586\",\"type\":\"DataRange1d\"},\"y_scale\":{\"id\":\"5590\",\"type\":\"LinearScale\"}},\"id\":\"5582\",\"subtype\":\"Figure\",\"type\":\"Plot\"},{\"attributes\":{\"source\":{\"id\":\"5617\",\"type\":\"ColumnDataSource\"}},\"id\":\"5621\",\"type\":\"CDSView\"},{\"attributes\":{},\"id\":\"5602\",\"type\":\"PanTool\"},{\"attributes\":{\"data_source\":{\"id\":\"5617\",\"type\":\"ColumnDataSource\"},\"glyph\":{\"id\":\"5618\",\"type\":\"Line\"},\"hover_glyph\":null,\"muted_glyph\":null,\"nonselection_glyph\":{\"id\":\"5619\",\"type\":\"Line\"},\"selection_glyph\":null,\"view\":{\"id\":\"5621\",\"type\":\"CDSView\"}},\"id\":\"5620\",\"type\":\"GlyphRenderer\"},{\"attributes\":{\"dimension\":1,\"plot\":{\"id\":\"5582\",\"subtype\":\"Figure\",\"type\":\"Plot\"},\"ticker\":{\"id\":\"5598\",\"type\":\"BasicTicker\"}},\"id\":\"5601\",\"type\":\"Grid\"},{\"attributes\":{\"source\":{\"id\":\"5624\",\"type\":\"ColumnDataSource\"}},\"id\":\"5628\",\"type\":\"CDSView\"},{\"attributes\":{\"plot\":{\"id\":\"5582\",\"subtype\":\"Figure\",\"type\":\"Plot\"},\"ticker\":{\"id\":\"5593\",\"type\":\"BasicTicker\"}},\"id\":\"5596\",\"type\":\"Grid\"},{\"attributes\":{\"callback\":null,\"data\":{\"x\":{\"__ndarray__\":\"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\",\"dtype\":\"float64\",\"shape\":[200]},\"y\":[-23.124380111694336,-45.208351135253906,31.981630325317383,87.78076934814453,34.389747619628906,-2.303986072540283,66.87632751464844,39.54349136352539,37.80857467651367,15.395462036132812,-4.09257698059082,36.619361877441406,-0.8239489197731018,-51.367820739746094,3.8498098850250244,16.87215232849121,26.792957305908203,65.69450378417969,3.9305419921875,35.41050720214844,10.012564659118652,-47.094093322753906,41.508262634277344,-52.89497375488281,-77.70712280273438,-12.882765769958496,-20.929237365722656,-46.05258560180664,-17.4637508392334,51.67027282714844,-15.235713958740234,-60.27961730957031,-59.92163848876953,-57.09756851196289,-51.645057678222656,-57.83094787597656,-22.820035934448242,4.533919811248779,-45.992469787597656,-35.710243225097656,-61.9318962097168,-59.17573928833008,-0.7603769302368164,-16.404560089111328,-43.8765983581543,-64.6640396118164,-9.322066307067871,49.718421936035156,17.013330459594727,1.6178336143493652,-41.70561599731445,16.27931022644043,106.5752944946289,158.02316284179688,65.85459899902344,2.636502504348755,114.59176635742188,142.10272216796875,57.00408935546875,-62.077674865722656,-42.27025604248047,-7.365887641906738,9.983330726623535,3.1111390590667725,-39.56595993041992,-23.375356674194336,-17.29458999633789,-56.57463836669922,-94.50895690917969,-8.682024955749512,-57.946128845214844,-7.395998954772949,-15.651507377624512,-68.90967559814453,-112.84799194335938,-102.54946899414062,-151.8805694580078,-93.88252258300781,149.91900634765625,248.59066772460938,210.4606170654297,38.6008415222168,19.6956844329834,121.4607162475586,152.4162139892578,-22.255474090576172,3.369988441467285,14.895378112792969,-85.24717712402344,14.066839218139648,-50.39426803588867,10.170775413513184,-9.65893268585205,-67.15609741210938,-55.35318374633789,-33.30610656738281,-60.127410888671875,50.191688537597656,115.98981475830078,8.250131607055664,52.68454360961914,-51.436683654785156,-14.283960342407227,-14.042588233947754,-41.31852340698242,80.00639343261719,262.0842590332031,313.03961181640625,42.28428268432617,-6.584790229797363,-38.648414611816406,-8.950786590576172,44.02030563354492,84.28341674804688,129.0155487060547,184.18177795410156,185.66152954101562,170.0580291748047,176.39500427246094,226.83941650390625,270.6830139160156,365.44635009765625,669.2218627929688,890.3780517578125,860.4500732421875,835.2315063476562,1056.3773193359375,1242.1209716796875,1249.66015625,1329.383056640625,1302.3509521484375,1117.769287109375,1192.3173828125,1187.5880126953125,1161.6927490234375,1096.1397705078125,876.0919799804688,647.3695678710938,507.8196105957031,396.6739501953125,311.70166015625,367.0082092285156,494.7588806152344,294.9311828613281,149.66018676757812,102.09768676757812,197.07818603515625,210.0184326171875,146.7836456298828,79.64679718017578,-4.6792449951171875,-27.722055435180664,36.79302215576172,22.885515213012695,-40.42040252685547,-45.082984924316406,-9.491146087646484,49.11511993408203,26.35398292541504,40.41244888305664,-18.9367733001709,-4.810628414154053,55.7164192199707,114.25862884521484,122.58089447021484,29.141468048095703,-2.036458969116211,-53.09912872314453,-57.90737533569336,-29.75685691833496,-40.30895233154297,7.321108818054199,38.067649841308594,-15.373528480529785,-1.898176670074463,32.27910614013672,-17.521127700805664,-0.5710914134979248,-33.653011322021484,-40.31303024291992,-41.151248931884766,23.09625244140625,17.036407470703125,66.5920639038086,14.653363227844238,5.226650238037109,5.600987911224365,47.42017364501953,40.02161407470703,-44.010955810546875,-22.303020477294922,-15.356534004211426,-26.830921173095703,-52.21031188964844,-37.40999221801758,-64.3728256225586,-9.249456405639648,11.838783264160156,32.93510437011719,-68.35551452636719]},\"selected\":{\"id\":\"5846\",\"type\":\"Selection\"},\"selection_policy\":{\"id\":\"5845\",\"type\":\"UnionRenderers\"}},\"id\":\"5617\",\"type\":\"ColumnDataSource\"},{\"attributes\":{},\"id\":\"5846\",\"type\":\"Selection\"},{\"attributes\":{},\"id\":\"5845\",\"type\":\"UnionRenderers\"},{\"attributes\":{},\"id\":\"5606\",\"type\":\"ResetTool\"},{\"attributes\":{\"formatter\":{\"id\":\"5840\",\"type\":\"BasicTickFormatter\"},\"plot\":{\"id\":\"5582\",\"subtype\":\"Figure\",\"type\":\"Plot\"},\"ticker\":{\"id\":\"5598\",\"type\":\"BasicTicker\"}},\"id\":\"5597\",\"type\":\"LinearAxis\"},{\"attributes\":{\"formatter\":{\"id\":\"5842\",\"type\":\"BasicTickFormatter\"},\"plot\":{\"id\":\"5582\",\"subtype\":\"Figure\",\"type\":\"Plot\"},\"ticker\":{\"id\":\"5593\",\"type\":\"BasicTicker\"}},\"id\":\"5592\",\"type\":\"LinearAxis\"},{\"attributes\":{\"overlay\":{\"id\":\"5610\",\"type\":\"BoxAnnotation\"}},\"id\":\"5604\",\"type\":\"BoxZoomTool\"},{\"attributes\":{\"line_alpha\":0.1,\"line_color\":\"#1f77b4\",\"x\":{\"field\":\"x\"},\"y\":{\"field\":\"y\"}},\"id\":\"5626\",\"type\":\"Line\"},{\"attributes\":{},\"id\":\"5607\",\"type\":\"HelpTool\"},{\"attributes\":{\"bottom_units\":\"screen\",\"fill_alpha\":{\"value\":0.5},\"fill_color\":{\"value\":\"lightgrey\"},\"left_units\":\"screen\",\"level\":\"overlay\",\"line_alpha\":{\"value\":1.0},\"line_color\":{\"value\":\"black\"},\"line_dash\":[4,4],\"line_width\":{\"value\":2},\"plot\":null,\"render_mode\":\"css\",\"right_units\":\"screen\",\"top_units\":\"screen\"},\"id\":\"5610\",\"type\":\"BoxAnnotation\"},{\"attributes\":{\"callback\":null},\"id\":\"5586\",\"type\":\"DataRange1d\"},{\"attributes\":{\"line_alpha\":0.1,\"line_color\":\"#1f77b4\",\"x\":{\"field\":\"x\"},\"y\":{\"field\":\"y\"}},\"id\":\"5619\",\"type\":\"Line\"},{\"attributes\":{\"active_drag\":{\"id\":\"5604\",\"type\":\"BoxZoomTool\"},\"active_inspect\":\"auto\",\"active_multi\":null,\"active_scroll\":{\"id\":\"5603\",\"type\":\"WheelZoomTool\"},\"active_tap\":\"auto\",\"tools\":[{\"id\":\"5602\",\"type\":\"PanTool\"},{\"id\":\"5603\",\"type\":\"WheelZoomTool\"},{\"id\":\"5604\",\"type\":\"BoxZoomTool\"},{\"id\":\"5605\",\"type\":\"SaveTool\"},{\"id\":\"5606\",\"type\":\"ResetTool\"},{\"id\":\"5607\",\"type\":\"HelpTool\"},{\"id\":\"5622\",\"type\":\"HoverTool\"}]},\"id\":\"5608\",\"type\":\"Toolbar\"},{\"attributes\":{},\"id\":\"5598\",\"type\":\"BasicTicker\"},{\"attributes\":{},\"id\":\"5848\",\"type\":\"Selection\"},{\"attributes\":{},\"id\":\"5842\",\"type\":\"BasicTickFormatter\"},{\"attributes\":{},\"id\":\"5590\",\"type\":\"LinearScale\"},{\"attributes\":{\"line_color\":\"#1f77b4\",\"x\":{\"field\":\"x\"},\"y\":{\"field\":\"y\"}},\"id\":\"5618\",\"type\":\"Line\"},{\"attributes\":{\"data_source\":{\"id\":\"5624\",\"type\":\"ColumnDataSource\"},\"glyph\":{\"id\":\"5625\",\"type\":\"Line\"},\"hover_glyph\":null,\"muted_glyph\":null,\"nonselection_glyph\":{\"id\":\"5626\",\"type\":\"Line\"},\"selection_glyph\":null,\"view\":{\"id\":\"5628\",\"type\":\"CDSView\"}},\"id\":\"5627\",\"type\":\"GlyphRenderer\"},{\"attributes\":{},\"id\":\"5603\",\"type\":\"WheelZoomTool\"},{\"attributes\":{},\"id\":\"5840\",\"type\":\"BasicTickFormatter\"},{\"attributes\":{},\"id\":\"5588\",\"type\":\"LinearScale\"},{\"attributes\":{\"plot\":null,\"text\":\"17:40:41.8401, -53:40:22.1137, 32\"},\"id\":\"5581\",\"type\":\"Title\"},{\"attributes\":{\"callback\":null},\"id\":\"5584\",\"type\":\"DataRange1d\"},{\"attributes\":{\"callback\":null,\"tooltips\":[[\"(x,y)\",\"($x{1}, $y)\"]]},\"id\":\"5622\",\"type\":\"HoverTool\"},{\"attributes\":{},\"id\":\"5847\",\"type\":\"UnionRenderers\"},{\"attributes\":{},\"id\":\"5605\",\"type\":\"SaveTool\"},{\"attributes\":{},\"id\":\"5593\",\"type\":\"BasicTicker\"},{\"attributes\":{\"line_color\":\"red\",\"x\":{\"field\":\"x\"},\"y\":{\"field\":\"y\"}},\"id\":\"5625\",\"type\":\"Line\"},{\"attributes\":{\"callback\":null,\"data\":{\"x\":{\"__ndarray__\":\"////P1mXuUD///8/mZi5QP///z/ZmblA////PxmbuUD///8/WZy5QP///z+ZnblA////P9meuUD///8/GaC5QP///z9ZoblA////P5miuUD///8/2aO5QP///z8ZpblA////P1mmuUD///8/mae5QP///z/ZqLlA////PxmquUD///8/Wau5QP///z+ZrLlA////P9mtuUD///8/WbC5QP///z+ZsblA\",\"dtype\":\"float64\",\"shape\":[21]},\"y\":[365.44635009765625,669.2218627929688,890.3780517578125,860.4500732421875,835.2315063476562,1056.3773193359375,1242.1209716796875,1249.66015625,1329.383056640625,1302.3509521484375,1117.769287109375,1192.3173828125,1187.5880126953125,1161.6927490234375,1096.1397705078125,876.0919799804688,647.3695678710938,507.8196105957031,396.6739501953125,367.0082092285156,494.7588806152344]},\"selected\":{\"id\":\"5848\",\"type\":\"Selection\"},\"selection_policy\":{\"id\":\"5847\",\"type\":\"UnionRenderers\"}},\"id\":\"5624\",\"type\":\"ColumnDataSource\"}],\"root_ids\":[\"5582\"]},\"title\":\"Bokeh Application\",\"version\":\"1.0.4\"}};\n",
       "  var render_items = [{\"docid\":\"5bb7d6de-47e8-47e6-bfa4-ec75759de432\",\"roots\":{\"5582\":\"9d8da0cf-b5e4-4e22-8842-cb48639108e7\"}}];\n",
       "  root.Bokeh.embed.embed_items_notebook(docs_json, render_items);\n",
       "\n",
       "  }\n",
       "  if (root.Bokeh !== undefined) {\n",
       "    embed_document(root);\n",
       "  } else {\n",
       "    var attempts = 0;\n",
       "    var timer = setInterval(function(root) {\n",
       "      if (root.Bokeh !== undefined) {\n",
       "        embed_document(root);\n",
       "        clearInterval(timer);\n",
       "      }\n",
       "      attempts++;\n",
       "      if (attempts > 100) {\n",
       "        console.log(\"Bokeh: ERROR: Unable to run BokehJS code because BokehJS library is missing\");\n",
       "        clearInterval(timer);\n",
       "      }\n",
       "    }, 10, root)\n",
       "  }\n",
       "})(window);"
      ],
      "application/vnd.bokehjs_exec.v0+json": ""
     },
     "metadata": {
      "application/vnd.bokehjs_exec.v0+json": {
       "id": "5582"
      }
     },
     "output_type": "display_data"
    },
    {
     "data": {
      "text/html": [
       "\n",
       "\n",
       "\n",
       "\n",
       "\n",
       "\n",
       "  <div class=\"bk-root\" id=\"591bc13c-6512-4ce0-97e4-d376e25e0d7d\" data-root-id=\"5910\"></div>\n"
      ]
     },
     "metadata": {},
     "output_type": "display_data"
    },
    {
     "data": {
      "application/javascript": [
       "(function(root) {\n",
       "  function embed_document(root) {\n",
       "    \n",
       "  var docs_json = {\"0119717a-cdfb-430e-86bd-ea8813f08e46\":{\"roots\":{\"references\":[{\"attributes\":{\"below\":[{\"id\":\"5920\",\"type\":\"LinearAxis\"}],\"left\":[{\"id\":\"5925\",\"type\":\"LinearAxis\"}],\"plot_height\":500,\"plot_width\":900,\"renderers\":[{\"id\":\"5920\",\"type\":\"LinearAxis\"},{\"id\":\"5924\",\"type\":\"Grid\"},{\"id\":\"5925\",\"type\":\"LinearAxis\"},{\"id\":\"5929\",\"type\":\"Grid\"},{\"id\":\"5938\",\"type\":\"BoxAnnotation\"},{\"id\":\"5948\",\"type\":\"GlyphRenderer\"},{\"id\":\"5955\",\"type\":\"GlyphRenderer\"}],\"title\":{\"id\":\"5909\",\"type\":\"Title\"},\"toolbar\":{\"id\":\"5936\",\"type\":\"Toolbar\"},\"x_range\":{\"id\":\"5912\",\"type\":\"DataRange1d\"},\"x_scale\":{\"id\":\"5916\",\"type\":\"LinearScale\"},\"y_range\":{\"id\":\"5914\",\"type\":\"DataRange1d\"},\"y_scale\":{\"id\":\"5918\",\"type\":\"LinearScale\"}},\"id\":\"5910\",\"subtype\":\"Figure\",\"type\":\"Plot\"},{\"attributes\":{},\"id\":\"5934\",\"type\":\"ResetTool\"},{\"attributes\":{\"active_drag\":{\"id\":\"5932\",\"type\":\"BoxZoomTool\"},\"active_inspect\":\"auto\",\"active_multi\":null,\"active_scroll\":{\"id\":\"5931\",\"type\":\"WheelZoomTool\"},\"active_tap\":\"auto\",\"tools\":[{\"id\":\"5930\",\"type\":\"PanTool\"},{\"id\":\"5931\",\"type\":\"WheelZoomTool\"},{\"id\":\"5932\",\"type\":\"BoxZoomTool\"},{\"id\":\"5933\",\"type\":\"SaveTool\"},{\"id\":\"5934\",\"type\":\"ResetTool\"},{\"id\":\"5935\",\"type\":\"HelpTool\"},{\"id\":\"5950\",\"type\":\"HoverTool\"}]},\"id\":\"5936\",\"type\":\"Toolbar\"},{\"attributes\":{},\"id\":\"6184\",\"type\":\"Selection\"},{\"attributes\":{},\"id\":\"5935\",\"type\":\"HelpTool\"},{\"attributes\":{\"callback\":null},\"id\":\"5912\",\"type\":\"DataRange1d\"},{\"attributes\":{},\"id\":\"5921\",\"type\":\"BasicTicker\"},{\"attributes\":{},\"id\":\"6186\",\"type\":\"Selection\"},{\"attributes\":{},\"id\":\"5931\",\"type\":\"WheelZoomTool\"},{\"attributes\":{\"formatter\":{\"id\":\"6178\",\"type\":\"BasicTickFormatter\"},\"plot\":{\"id\":\"5910\",\"subtype\":\"Figure\",\"type\":\"Plot\"},\"ticker\":{\"id\":\"5926\",\"type\":\"BasicTicker\"}},\"id\":\"5925\",\"type\":\"LinearAxis\"},{\"attributes\":{\"plot\":null,\"text\":\"17:40:41.7735, -53:40:21.6137, 50\"},\"id\":\"5909\",\"type\":\"Title\"},{\"attributes\":{},\"id\":\"6180\",\"type\":\"BasicTickFormatter\"},{\"attributes\":{},\"id\":\"5930\",\"type\":\"PanTool\"},{\"attributes\":{\"line_alpha\":0.1,\"line_color\":\"#1f77b4\",\"x\":{\"field\":\"x\"},\"y\":{\"field\":\"y\"}},\"id\":\"5954\",\"type\":\"Line\"},{\"attributes\":{\"source\":{\"id\":\"5945\",\"type\":\"ColumnDataSource\"}},\"id\":\"5949\",\"type\":\"CDSView\"},{\"attributes\":{\"formatter\":{\"id\":\"6180\",\"type\":\"BasicTickFormatter\"},\"plot\":{\"id\":\"5910\",\"subtype\":\"Figure\",\"type\":\"Plot\"},\"ticker\":{\"id\":\"5921\",\"type\":\"BasicTicker\"}},\"id\":\"5920\",\"type\":\"LinearAxis\"},{\"attributes\":{},\"id\":\"5933\",\"type\":\"SaveTool\"},{\"attributes\":{},\"id\":\"5916\",\"type\":\"LinearScale\"},{\"attributes\":{\"plot\":{\"id\":\"5910\",\"subtype\":\"Figure\",\"type\":\"Plot\"},\"ticker\":{\"id\":\"5921\",\"type\":\"BasicTicker\"}},\"id\":\"5924\",\"type\":\"Grid\"},{\"attributes\":{},\"id\":\"5918\",\"type\":\"LinearScale\"},{\"attributes\":{\"overlay\":{\"id\":\"5938\",\"type\":\"BoxAnnotation\"}},\"id\":\"5932\",\"type\":\"BoxZoomTool\"},{\"attributes\":{},\"id\":\"6183\",\"type\":\"UnionRenderers\"},{\"attributes\":{},\"id\":\"6178\",\"type\":\"BasicTickFormatter\"},{\"attributes\":{\"callback\":null,\"data\":{\"x\":{\"__ndarray__\":\"////P9liuUD///8/2Zm5QP///z8Zm7lA////P9meuUD///8/WaG5QP///z+ZorlA////P5mnuUD///8/mbG5QA==\",\"dtype\":\"float64\",\"shape\":[8]},\"y\":[267.6335144042969,379.7845153808594,275.57623291015625,248.15406799316406,321.9083557128906,322.09796142578125,270.26104736328125,247.6996307373047]},\"selected\":{\"id\":\"6186\",\"type\":\"Selection\"},\"selection_policy\":{\"id\":\"6185\",\"type\":\"UnionRenderers\"}},\"id\":\"5952\",\"type\":\"ColumnDataSource\"},{\"attributes\":{\"source\":{\"id\":\"5952\",\"type\":\"ColumnDataSource\"}},\"id\":\"5956\",\"type\":\"CDSView\"},{\"attributes\":{\"line_alpha\":0.1,\"line_color\":\"#1f77b4\",\"x\":{\"field\":\"x\"},\"y\":{\"field\":\"y\"}},\"id\":\"5947\",\"type\":\"Line\"},{\"attributes\":{\"line_color\":\"#1f77b4\",\"x\":{\"field\":\"x\"},\"y\":{\"field\":\"y\"}},\"id\":\"5946\",\"type\":\"Line\"},{\"attributes\":{\"dimension\":1,\"plot\":{\"id\":\"5910\",\"subtype\":\"Figure\",\"type\":\"Plot\"},\"ticker\":{\"id\":\"5926\",\"type\":\"BasicTicker\"}},\"id\":\"5929\",\"type\":\"Grid\"},{\"attributes\":{\"callback\":null,\"tooltips\":[[\"(x,y)\",\"($x{1}, $y)\"]]},\"id\":\"5950\",\"type\":\"HoverTool\"},{\"attributes\":{\"data_source\":{\"id\":\"5945\",\"type\":\"ColumnDataSource\"},\"glyph\":{\"id\":\"5946\",\"type\":\"Line\"},\"hover_glyph\":null,\"muted_glyph\":null,\"nonselection_glyph\":{\"id\":\"5947\",\"type\":\"Line\"},\"selection_glyph\":null,\"view\":{\"id\":\"5949\",\"type\":\"CDSView\"}},\"id\":\"5948\",\"type\":\"GlyphRenderer\"},{\"attributes\":{\"bottom_units\":\"screen\",\"fill_alpha\":{\"value\":0.5},\"fill_color\":{\"value\":\"lightgrey\"},\"left_units\":\"screen\",\"level\":\"overlay\",\"line_alpha\":{\"value\":1.0},\"line_color\":{\"value\":\"black\"},\"line_dash\":[4,4],\"line_width\":{\"value\":2},\"plot\":null,\"render_mode\":\"css\",\"right_units\":\"screen\",\"top_units\":\"screen\"},\"id\":\"5938\",\"type\":\"BoxAnnotation\"},{\"attributes\":{},\"id\":\"6185\",\"type\":\"UnionRenderers\"},{\"attributes\":{\"callback\":null,\"data\":{\"x\":{\"__ndarray__\":\"////PxkAuUD///8/WQG5QP///z+ZArlA////P9kDuUD///8/GQW5QP///z9ZBrlA////P5kHuUD///8/2Qi5QP///z8ZCrlA////P1kLuUD///8/mQy5QP///z/ZDblA////PxkPuUD///8/WRC5QP///z+ZEblA////P9kSuUD///8/GRS5QP///z9ZFblA////P5kWuUD///8/2Re5QP///z8ZGblA////P1kauUD///8/mRu5QP///z/ZHLlA////PxkeuUD///8/WR+5QP///z+ZILlA////P9khuUD///8/GSO5QP///z9ZJLlA////P5kluUD///8/2Sa5QP///z8ZKLlA////P1kpuUD///8/mSq5QP///z/ZK7lA////PxktuUD///8/WS65QP///z+ZL7lA////P9kwuUD///8/GTK5QP///z9ZM7lA////P5k0uUD///8/2TW5QP///z8ZN7lA////P1k4uUD///8/mTm5QP///z/ZOrlA////Pxk8uUD///8/WT25QP///z+ZPrlA////P9k/uUD///8/GUG5QP///z9ZQrlA////P5lDuUD///8/2US5QP///z8ZRrlA////P1lHuUD///8/mUi5QP///z/ZSblA////PxlLuUD///8/WUy5QP///z+ZTblA////P9lOuUD///8/GVC5QP///z9ZUblA////P5lSuUD///8/2VO5QP///z8ZVblA////P1lWuUD///8/mVe5QP///z/ZWLlA////PxlauUD///8/WVu5QP///z+ZXLlA////P9lduUD///8/GV+5QP///z9ZYLlA////P5lhuUD///8/2WK5QP///z8ZZLlA////P1lluUD///8/mWa5QP///z/ZZ7lA////PxlpuUD///8/WWq5QP///z+Za7lA////P9lsuUD///8/GW65QP///z9Zb7lA////P5lwuUD///8/2XG5QP///z8Zc7lA////P1l0uUD///8/mXW5QP///z/ZdrlA////Pxl4uUD///8/WXm5QP///z+ZerlA////P9l7uUD///8/GX25QP///z9ZfrlA////P5l/uUD///8/2YC5QP///z8ZgrlA////P1mDuUD///8/mYS5QP///z/ZhblA////PxmHuUD///8/WYi5QP///z+ZiblA////P9mKuUD///8/GYy5QP///z9ZjblA////P5mOuUD///8/2Y+5QP///z8ZkblA////P1mSuUD///8/mZO5QP///z/ZlLlA////PxmWuUD///8/WZe5QP///z+ZmLlA////P9mZuUD///8/GZu5QP///z9ZnLlA////P5mduUD///8/2Z65QP///z8ZoLlA////P1mhuUD///8/maK5QP///z/Zo7lA////PxmluUD///8/Waa5QP///z+Zp7lA////P9mouUD///8/Gaq5QP///z9Zq7lA////P5msuUD///8/2a25QP///z8Zr7lA////P1mwuUD///8/mbG5QP///z/ZsrlA////Pxm0uUD///8/WbW5QP///z+ZtrlA////P9m3uUD///8/Gbm5QP///z9ZurlA////P5m7uUD///8/2by5QP///z8ZvrlA////P1m/uUD///8/mcC5QP///z/ZwblA////PxnDuUD///8/WcS5QP///z+ZxblA////P9nGuUD///8/Gci5QP///z9ZyblA////P5nKuUD///8/2cu5QP///z8ZzblA////P1nOuUD///8/mc+5QP///z/Z0LlA////PxnSuUD///8/WdO5QP///z+Z1LlA////P9nVuUD///8/Gde5QP///z9Z2LlA////P5nZuUD///8/2dq5QP///z8Z3LlA////P1nduUD///8/md65QP///z/Z37lA////PxnhuUD///8/WeK5QP///z+Z47lA////P9nkuUD///8/Gea5QP///z9Z57lA////P5nouUD///8/2em5QP///z8Z67lA////P1nsuUD///8/me25QP///z/Z7rlA////PxnwuUD///8/WfG5QP///z+Z8rlA////P9nzuUD///8/GfW5QP///z9Z9rlA////P5n3uUD///8/2fi5QA==\",\"dtype\":\"float64\",\"shape\":[200]},\"y\":[12.539956092834473,30.0924129486084,13.534594535827637,40.87736511230469,46.055904388427734,9.355493545532227,7.195685863494873,16.552310943603516,2.6377735137939453,-19.377517700195312,1.6791658401489258,22.141565322875977,37.621864318847656,-10.139337539672852,-13.598705291748047,17.41697883605957,-5.025391578674316,8.387906074523926,-36.2309455871582,-25.751821517944336,-5.2937397956848145,-45.0626335144043,0.8279760479927063,2.188875436782837,-43.89949035644531,-34.39085388183594,-22.748109817504883,3.8350183963775635,15.48853588104248,22.31900978088379,-31.008766174316406,-13.616494178771973,7.335424423217773,-0.11370369046926498,-65.26465606689453,-30.886730194091797,0.029360173270106316,-38.668121337890625,-47.47831726074219,4.357193470001221,-39.624481201171875,-11.570679664611816,-24.696123123168945,-44.15522766113281,-11.085451126098633,-33.22385025024414,-2.1421988010406494,17.85774040222168,-23.559968948364258,-14.748353958129883,20.191144943237305,43.07676315307617,116.94036865234375,91.27279663085938,-0.7030500173568726,-39.86827087402344,42.716461181640625,110.790771484375,46.38090515136719,-30.36530876159668,-45.159786224365234,-16.063566207885742,57.95204544067383,37.66426467895508,5.700658321380615,-27.33355140686035,-62.47132110595703,-19.4221248626709,-54.97575759887695,-13.797382354736328,4.439419746398926,-18.919038772583008,-30.154739379882812,-90.23435974121094,-57.378719329833984,-27.256771087646484,-42.609352111816406,-51.27667999267578,108.43302154541016,267.6335144042969,146.16943359375,14.142304420471191,-34.15732955932617,9.121724128723145,67.2085952758789,19.272958755493164,19.719966888427734,10.873717308044434,-30.502729415893555,-32.70136642456055,-32.815574645996094,-12.771506309509277,-9.461246490478516,-37.090850830078125,-45.07829284667969,-22.412334442138672,-62.686485290527344,18.242565155029297,39.82318115234375,40.92779541015625,16.752948760986328,-28.21088409423828,-16.613239288330078,-33.19752502441406,-5.511105537414551,39.016090393066406,203.72512817382812,191.99807739257812,27.13194465637207,21.98622703552246,-12.880727767944336,-53.27836990356445,48.01926040649414,-18.73162269592285,14.474847793579102,97.77783203125,54.34993362426758,51.49730682373047,13.727397918701172,12.176316261291504,26.94952964782715,56.97086715698242,235.43624877929688,379.7845153808594,275.57623291015625,161.55783081054688,153.1525421142578,248.15406799316406,219.8301239013672,321.9083557128906,322.09796142578125,217.5070343017578,173.34121704101562,235.50994873046875,270.26104736328125,227.154052734375,132.67703247070312,116.868408203125,129.6545867919922,112.06194305419922,49.76271057128906,175.7176971435547,247.6996307373047,122.14781188964844,37.61499786376953,31.030012130737305,106.40750885009766,74.32730865478516,14.989259719848633,3.1985247135162354,28.817289352416992,-40.59304428100586,-27.868534088134766,-33.28054428100586,-28.078466415405273,-23.269989013671875,13.587638854980469,1.2189013957977295,-7.476785659790039,-20.854402542114258,-27.642101287841797,7.675624370574951,11.170550346374512,28.675806045532227,69.83128356933594,-24.564672470092773,-34.09898376464844,-15.76846981048584,22.767929077148438,22.807212829589844,-14.729843139648438,-28.284645080566406,4.930160999298096,-9.760353088378906,-21.642440795898438,20.156211853027344,5.426987648010254,-26.356115341186523,-51.35581970214844,-18.246068954467773,-8.900036811828613,-3.031223773956299,4.780170440673828,34.14400863647461,-17.189096450805664,-32.862701416015625,-30.935890197753906,53.453399658203125,53.86803436279297,11.970248222351074,2.3961446285247803,28.169042587280273,14.074094772338867,6.585182189941406,3.8484203815460205,-24.36055564880371,-10.735713958740234,-7.840166091918945,-27.753990173339844,-6.622206211090088]},\"selected\":{\"id\":\"6184\",\"type\":\"Selection\"},\"selection_policy\":{\"id\":\"6183\",\"type\":\"UnionRenderers\"}},\"id\":\"5945\",\"type\":\"ColumnDataSource\"},{\"attributes\":{\"callback\":null},\"id\":\"5914\",\"type\":\"DataRange1d\"},{\"attributes\":{\"line_color\":\"red\",\"x\":{\"field\":\"x\"},\"y\":{\"field\":\"y\"}},\"id\":\"5953\",\"type\":\"Line\"},{\"attributes\":{},\"id\":\"5926\",\"type\":\"BasicTicker\"},{\"attributes\":{\"data_source\":{\"id\":\"5952\",\"type\":\"ColumnDataSource\"},\"glyph\":{\"id\":\"5953\",\"type\":\"Line\"},\"hover_glyph\":null,\"muted_glyph\":null,\"nonselection_glyph\":{\"id\":\"5954\",\"type\":\"Line\"},\"selection_glyph\":null,\"view\":{\"id\":\"5956\",\"type\":\"CDSView\"}},\"id\":\"5955\",\"type\":\"GlyphRenderer\"}],\"root_ids\":[\"5910\"]},\"title\":\"Bokeh Application\",\"version\":\"1.0.4\"}};\n",
       "  var render_items = [{\"docid\":\"0119717a-cdfb-430e-86bd-ea8813f08e46\",\"roots\":{\"5910\":\"591bc13c-6512-4ce0-97e4-d376e25e0d7d\"}}];\n",
       "  root.Bokeh.embed.embed_items_notebook(docs_json, render_items);\n",
       "\n",
       "  }\n",
       "  if (root.Bokeh !== undefined) {\n",
       "    embed_document(root);\n",
       "  } else {\n",
       "    var attempts = 0;\n",
       "    var timer = setInterval(function(root) {\n",
       "      if (root.Bokeh !== undefined) {\n",
       "        embed_document(root);\n",
       "        clearInterval(timer);\n",
       "      }\n",
       "      attempts++;\n",
       "      if (attempts > 100) {\n",
       "        console.log(\"Bokeh: ERROR: Unable to run BokehJS code because BokehJS library is missing\");\n",
       "        clearInterval(timer);\n",
       "      }\n",
       "    }, 10, root)\n",
       "  }\n",
       "})(window);"
      ],
      "application/vnd.bokehjs_exec.v0+json": ""
     },
     "metadata": {
      "application/vnd.bokehjs_exec.v0+json": {
       "id": "5910"
      }
     },
     "output_type": "display_data"
    },
    {
     "data": {
      "text/html": [
       "\n",
       "\n",
       "\n",
       "\n",
       "\n",
       "\n",
       "  <div class=\"bk-root\" id=\"3dd8fd79-2cae-4fc9-a2f9-32e6be03ea0b\" data-root-id=\"6248\"></div>\n"
      ]
     },
     "metadata": {},
     "output_type": "display_data"
    },
    {
     "data": {
      "application/javascript": [
       "(function(root) {\n",
       "  function embed_document(root) {\n",
       "    \n",
       "  var docs_json = {\"4e9ae052-2358-42f3-b545-125d3073ac64\":{\"roots\":{\"references\":[{\"attributes\":{\"below\":[{\"id\":\"6258\",\"type\":\"LinearAxis\"}],\"left\":[{\"id\":\"6263\",\"type\":\"LinearAxis\"}],\"plot_height\":500,\"plot_width\":900,\"renderers\":[{\"id\":\"6258\",\"type\":\"LinearAxis\"},{\"id\":\"6262\",\"type\":\"Grid\"},{\"id\":\"6263\",\"type\":\"LinearAxis\"},{\"id\":\"6267\",\"type\":\"Grid\"},{\"id\":\"6276\",\"type\":\"BoxAnnotation\"},{\"id\":\"6286\",\"type\":\"GlyphRenderer\"},{\"id\":\"6293\",\"type\":\"GlyphRenderer\"}],\"title\":{\"id\":\"6247\",\"type\":\"Title\"},\"toolbar\":{\"id\":\"6274\",\"type\":\"Toolbar\"},\"x_range\":{\"id\":\"6250\",\"type\":\"DataRange1d\"},\"x_scale\":{\"id\":\"6254\",\"type\":\"LinearScale\"},\"y_range\":{\"id\":\"6252\",\"type\":\"DataRange1d\"},\"y_scale\":{\"id\":\"6256\",\"type\":\"LinearScale\"}},\"id\":\"6248\",\"subtype\":\"Figure\",\"type\":\"Plot\"},{\"attributes\":{},\"id\":\"6526\",\"type\":\"BasicTickFormatter\"},{\"attributes\":{\"dimension\":1,\"plot\":{\"id\":\"6248\",\"subtype\":\"Figure\",\"type\":\"Plot\"},\"ticker\":{\"id\":\"6264\",\"type\":\"BasicTicker\"}},\"id\":\"6267\",\"type\":\"Grid\"},{\"attributes\":{\"line_alpha\":0.1,\"line_color\":\"#1f77b4\",\"x\":{\"field\":\"x\"},\"y\":{\"field\":\"y\"}},\"id\":\"6285\",\"type\":\"Line\"},{\"attributes\":{\"formatter\":{\"id\":\"6528\",\"type\":\"BasicTickFormatter\"},\"plot\":{\"id\":\"6248\",\"subtype\":\"Figure\",\"type\":\"Plot\"},\"ticker\":{\"id\":\"6259\",\"type\":\"BasicTicker\"}},\"id\":\"6258\",\"type\":\"LinearAxis\"},{\"attributes\":{\"data_source\":{\"id\":\"6290\",\"type\":\"ColumnDataSource\"},\"glyph\":{\"id\":\"6291\",\"type\":\"Line\"},\"hover_glyph\":null,\"muted_glyph\":null,\"nonselection_glyph\":{\"id\":\"6292\",\"type\":\"Line\"},\"selection_glyph\":null,\"view\":{\"id\":\"6294\",\"type\":\"CDSView\"}},\"id\":\"6293\",\"type\":\"GlyphRenderer\"},{\"attributes\":{},\"id\":\"6259\",\"type\":\"BasicTicker\"},{\"attributes\":{\"plot\":null,\"text\":\"17:40:41.8068, -53:40:21.6137, 51\"},\"id\":\"6247\",\"type\":\"Title\"},{\"attributes\":{},\"id\":\"6273\",\"type\":\"HelpTool\"},{\"attributes\":{},\"id\":\"6254\",\"type\":\"LinearScale\"},{\"attributes\":{\"overlay\":{\"id\":\"6276\",\"type\":\"BoxAnnotation\"}},\"id\":\"6270\",\"type\":\"BoxZoomTool\"},{\"attributes\":{},\"id\":\"6528\",\"type\":\"BasicTickFormatter\"},{\"attributes\":{},\"id\":\"6531\",\"type\":\"UnionRenderers\"},{\"attributes\":{\"bottom_units\":\"screen\",\"fill_alpha\":{\"value\":0.5},\"fill_color\":{\"value\":\"lightgrey\"},\"left_units\":\"screen\",\"level\":\"overlay\",\"line_alpha\":{\"value\":1.0},\"line_color\":{\"value\":\"black\"},\"line_dash\":[4,4],\"line_width\":{\"value\":2},\"plot\":null,\"render_mode\":\"css\",\"right_units\":\"screen\",\"top_units\":\"screen\"},\"id\":\"6276\",\"type\":\"BoxAnnotation\"},{\"attributes\":{\"plot\":{\"id\":\"6248\",\"subtype\":\"Figure\",\"type\":\"Plot\"},\"ticker\":{\"id\":\"6259\",\"type\":\"BasicTicker\"}},\"id\":\"6262\",\"type\":\"Grid\"},{\"attributes\":{\"line_color\":\"#1f77b4\",\"x\":{\"field\":\"x\"},\"y\":{\"field\":\"y\"}},\"id\":\"6284\",\"type\":\"Line\"},{\"attributes\":{\"line_color\":\"red\",\"x\":{\"field\":\"x\"},\"y\":{\"field\":\"y\"}},\"id\":\"6291\",\"type\":\"Line\"},{\"attributes\":{\"callback\":null,\"tooltips\":[[\"(x,y)\",\"($x{1}, $y)\"]]},\"id\":\"6288\",\"type\":\"HoverTool\"},{\"attributes\":{\"data_source\":{\"id\":\"6283\",\"type\":\"ColumnDataSource\"},\"glyph\":{\"id\":\"6284\",\"type\":\"Line\"},\"hover_glyph\":null,\"muted_glyph\":null,\"nonselection_glyph\":{\"id\":\"6285\",\"type\":\"Line\"},\"selection_glyph\":null,\"view\":{\"id\":\"6287\",\"type\":\"CDSView\"}},\"id\":\"6286\",\"type\":\"GlyphRenderer\"},{\"attributes\":{\"callback\":null},\"id\":\"6252\",\"type\":\"DataRange1d\"},{\"attributes\":{\"callback\":null,\"data\":{\"x\":{\"__ndarray__\":\"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\",\"dtype\":\"float64\",\"shape\":[200]},\"y\":[-22.457077026367188,-19.934595108032227,2.2294652462005615,9.76667308807373,11.429835319519043,14.186115264892578,-44.56470489501953,24.591798782348633,-4.6589460372924805,-3.5464305877685547,20.372581481933594,41.19513702392578,48.42452621459961,-53.843048095703125,28.12885284423828,46.370018005371094,65.95320892333984,-10.146735191345215,-11.330926895141602,-33.611820220947266,24.65194320678711,68.83181762695312,17.075763702392578,32.85337448120117,42.29002380371094,38.92354965209961,-39.05867004394531,-58.06789016723633,3.38478422164917,-0.46835070848464966,-64.4853286743164,-26.110477447509766,-49.927425384521484,-14.830084800720215,-9.344219207763672,-22.314428329467773,10.474005699157715,-17.289339065551758,-43.76962661743164,-14.533869743347168,-44.301673889160156,3.1798863410949707,32.54887771606445,-37.40380859375,-10.49860668182373,0.3046441376209259,53.991294860839844,-36.31645965576172,-33.733978271484375,-34.12649154663086,15.63441276550293,46.495147705078125,66.82363891601562,95.0225830078125,11.423905372619629,2.5797195434570312,77.67984771728516,86.79020690917969,-49.14754867553711,-106.198974609375,-53.80731201171875,-67.77540588378906,20.190555572509766,-17.113889694213867,8.349465370178223,13.286065101623535,-58.3899040222168,-20.467021942138672,15.173492431640625,-7.23118257522583,-46.96156311035156,-22.492746353149414,-55.44204330444336,-69.84375,-84.9876708984375,-79.7407455444336,-65.49616241455078,-112.85315704345703,108.1726303100586,282.5951232910156,186.76321411132812,-27.5030574798584,-50.845272064208984,28.880237579345703,67.03285217285156,23.953262329101562,-4.806034564971924,-55.56791687011719,-12.19297981262207,7.206348419189453,-12.1608247756958,32.517269134521484,-81.35482788085938,22.779394149780273,-9.412694931030273,-10.15717601776123,-8.046819686889648,48.085731506347656,89.1243896484375,72.20416259765625,-11.980615615844727,-28.62354278564453,-36.3415641784668,42.72822952270508,57.880401611328125,84.78194427490234,274.3521728515625,235.2789306640625,58.48752975463867,61.312442779541016,53.891483306884766,28.744064331054688,124.12274169921875,102.06060791015625,132.51773071289062,293.1597900390625,273.4197082519531,275.69879150390625,306.9826354980469,385.12762451171875,516.8716430664062,591.2015380859375,945.2254638671875,1337.5196533203125,1371.8028564453125,1488.2757568359375,1712.5013427734375,1894.62890625,2350.788330078125,2384.2314453125,2567.07373046875,2448.902587890625,2262.6064453125,2088.26904296875,1766.1156005859375,1578.9185791015625,1386.3543701171875,1090.6263427734375,842.265380859375,693.9796752929688,531.3091430664062,550.6676635742188,573.7481079101562,387.6386413574219,250.04129028320312,222.5613250732422,250.9913787841797,196.68826293945312,142.20115661621094,134.5016326904297,137.52511596679688,88.8113784790039,68.02658081054688,49.454898834228516,-14.943591117858887,60.69952392578125,5.274136066436768,83.27328491210938,60.38313293457031,31.961706161499023,24.066503524780273,48.8764762878418,1.1417535543441772,137.09329223632812,112.7098388671875,-9.370413780212402,-4.766602993011475,6.021145343780518,29.95328140258789,23.230243682861328,11.979473114013672,-30.506914138793945,-15.37259578704834,-46.15016555786133,-34.675682067871094,-5.537644863128662,-10.050509452819824,-21.611125946044922,-48.7727165222168,6.266354560852051,-7.119644641876221,6.824533462524414,-16.10569953918457,35.133480072021484,24.136795043945312,15.126906394958496,20.570974349975586,64.85474395751953,18.38946533203125,1.7164030075073242,-52.01344299316406,-17.601835250854492,-85.30133056640625,-35.340938568115234,-8.526195526123047,-59.55498123168945,-27.131885528564453,27.310964584350586,26.291391372680664,-6.575618267059326]},\"selected\":{\"id\":\"6532\",\"type\":\"Selection\"},\"selection_policy\":{\"id\":\"6531\",\"type\":\"UnionRenderers\"}},\"id\":\"6283\",\"type\":\"ColumnDataSource\"},{\"attributes\":{},\"id\":\"6268\",\"type\":\"PanTool\"},{\"attributes\":{\"active_drag\":{\"id\":\"6270\",\"type\":\"BoxZoomTool\"},\"active_inspect\":\"auto\",\"active_multi\":null,\"active_scroll\":{\"id\":\"6269\",\"type\":\"WheelZoomTool\"},\"active_tap\":\"auto\",\"tools\":[{\"id\":\"6268\",\"type\":\"PanTool\"},{\"id\":\"6269\",\"type\":\"WheelZoomTool\"},{\"id\":\"6270\",\"type\":\"BoxZoomTool\"},{\"id\":\"6271\",\"type\":\"SaveTool\"},{\"id\":\"6272\",\"type\":\"ResetTool\"},{\"id\":\"6273\",\"type\":\"HelpTool\"},{\"id\":\"6288\",\"type\":\"HoverTool\"}]},\"id\":\"6274\",\"type\":\"Toolbar\"},{\"attributes\":{\"callback\":null,\"data\":{\"x\":{\"__ndarray__\":\"////P9liuUD///8/2Y+5QP///z+Zk7lA////P9mUuUD///8/GZa5QP///z9Zl7lA////P5mYuUD///8/2Zm5QP///z8Zm7lA////P1mcuUD///8/mZ25QP///z/ZnrlA////PxmguUD///8/WaG5QP///z+ZorlA////P9mjuUD///8/GaW5QP///z9ZprlA////P5mnuUD///8/2ai5QP///z8ZqrlA////P1mruUD///8/may5QP///z/ZrblA////PxmvuUD///8/WbC5QP///z+ZsblA////P9myuUA=\",\"dtype\":\"float64\",\"shape\":[28]},\"y\":[282.5951232910156,293.1597900390625,306.9826354980469,385.12762451171875,516.8716430664062,591.2015380859375,945.2254638671875,1337.5196533203125,1371.8028564453125,1488.2757568359375,1712.5013427734375,1894.62890625,2350.788330078125,2384.2314453125,2567.07373046875,2448.902587890625,2262.6064453125,2088.26904296875,1766.1156005859375,1578.9185791015625,1386.3543701171875,1090.6263427734375,842.265380859375,693.9796752929688,531.3091430664062,550.6676635742188,573.7481079101562,387.6386413574219]},\"selected\":{\"id\":\"6534\",\"type\":\"Selection\"},\"selection_policy\":{\"id\":\"6533\",\"type\":\"UnionRenderers\"}},\"id\":\"6290\",\"type\":\"ColumnDataSource\"},{\"attributes\":{},\"id\":\"6271\",\"type\":\"SaveTool\"},{\"attributes\":{\"source\":{\"id\":\"6283\",\"type\":\"ColumnDataSource\"}},\"id\":\"6287\",\"type\":\"CDSView\"},{\"attributes\":{},\"id\":\"6264\",\"type\":\"BasicTicker\"},{\"attributes\":{\"source\":{\"id\":\"6290\",\"type\":\"ColumnDataSource\"}},\"id\":\"6294\",\"type\":\"CDSView\"},{\"attributes\":{},\"id\":\"6532\",\"type\":\"Selection\"},{\"attributes\":{},\"id\":\"6533\",\"type\":\"UnionRenderers\"},{\"attributes\":{},\"id\":\"6269\",\"type\":\"WheelZoomTool\"},{\"attributes\":{},\"id\":\"6272\",\"type\":\"ResetTool\"},{\"attributes\":{},\"id\":\"6256\",\"type\":\"LinearScale\"},{\"attributes\":{\"callback\":null},\"id\":\"6250\",\"type\":\"DataRange1d\"},{\"attributes\":{},\"id\":\"6534\",\"type\":\"Selection\"},{\"attributes\":{\"formatter\":{\"id\":\"6526\",\"type\":\"BasicTickFormatter\"},\"plot\":{\"id\":\"6248\",\"subtype\":\"Figure\",\"type\":\"Plot\"},\"ticker\":{\"id\":\"6264\",\"type\":\"BasicTicker\"}},\"id\":\"6263\",\"type\":\"LinearAxis\"},{\"attributes\":{\"line_alpha\":0.1,\"line_color\":\"#1f77b4\",\"x\":{\"field\":\"x\"},\"y\":{\"field\":\"y\"}},\"id\":\"6292\",\"type\":\"Line\"}],\"root_ids\":[\"6248\"]},\"title\":\"Bokeh Application\",\"version\":\"1.0.4\"}};\n",
       "  var render_items = [{\"docid\":\"4e9ae052-2358-42f3-b545-125d3073ac64\",\"roots\":{\"6248\":\"3dd8fd79-2cae-4fc9-a2f9-32e6be03ea0b\"}}];\n",
       "  root.Bokeh.embed.embed_items_notebook(docs_json, render_items);\n",
       "\n",
       "  }\n",
       "  if (root.Bokeh !== undefined) {\n",
       "    embed_document(root);\n",
       "  } else {\n",
       "    var attempts = 0;\n",
       "    var timer = setInterval(function(root) {\n",
       "      if (root.Bokeh !== undefined) {\n",
       "        embed_document(root);\n",
       "        clearInterval(timer);\n",
       "      }\n",
       "      attempts++;\n",
       "      if (attempts > 100) {\n",
       "        console.log(\"Bokeh: ERROR: Unable to run BokehJS code because BokehJS library is missing\");\n",
       "        clearInterval(timer);\n",
       "      }\n",
       "    }, 10, root)\n",
       "  }\n",
       "})(window);"
      ],
      "application/vnd.bokehjs_exec.v0+json": ""
     },
     "metadata": {
      "application/vnd.bokehjs_exec.v0+json": {
       "id": "6248"
      }
     },
     "output_type": "display_data"
    },
    {
     "data": {
      "text/html": [
       "\n",
       "\n",
       "\n",
       "\n",
       "\n",
       "\n",
       "  <div class=\"bk-root\" id=\"f74b1504-ad28-4f88-abe7-c2ee9b47bac0\" data-root-id=\"6596\"></div>\n"
      ]
     },
     "metadata": {},
     "output_type": "display_data"
    },
    {
     "data": {
      "application/javascript": [
       "(function(root) {\n",
       "  function embed_document(root) {\n",
       "    \n",
       "  var docs_json = {\"2fff5dd7-2390-4ca3-ba7e-45063d86a9ae\":{\"roots\":{\"references\":[{\"attributes\":{\"below\":[{\"id\":\"6606\",\"type\":\"LinearAxis\"}],\"left\":[{\"id\":\"6611\",\"type\":\"LinearAxis\"}],\"plot_height\":500,\"plot_width\":900,\"renderers\":[{\"id\":\"6606\",\"type\":\"LinearAxis\"},{\"id\":\"6610\",\"type\":\"Grid\"},{\"id\":\"6611\",\"type\":\"LinearAxis\"},{\"id\":\"6615\",\"type\":\"Grid\"},{\"id\":\"6624\",\"type\":\"BoxAnnotation\"},{\"id\":\"6634\",\"type\":\"GlyphRenderer\"},{\"id\":\"6641\",\"type\":\"GlyphRenderer\"}],\"title\":{\"id\":\"6595\",\"type\":\"Title\"},\"toolbar\":{\"id\":\"6622\",\"type\":\"Toolbar\"},\"x_range\":{\"id\":\"6598\",\"type\":\"DataRange1d\"},\"x_scale\":{\"id\":\"6602\",\"type\":\"LinearScale\"},\"y_range\":{\"id\":\"6600\",\"type\":\"DataRange1d\"},\"y_scale\":{\"id\":\"6604\",\"type\":\"LinearScale\"}},\"id\":\"6596\",\"subtype\":\"Figure\",\"type\":\"Plot\"},{\"attributes\":{},\"id\":\"6892\",\"type\":\"Selection\"},{\"attributes\":{\"formatter\":{\"id\":\"6884\",\"type\":\"BasicTickFormatter\"},\"plot\":{\"id\":\"6596\",\"subtype\":\"Figure\",\"type\":\"Plot\"},\"ticker\":{\"id\":\"6612\",\"type\":\"BasicTicker\"}},\"id\":\"6611\",\"type\":\"LinearAxis\"},{\"attributes\":{},\"id\":\"6604\",\"type\":\"LinearScale\"},{\"attributes\":{},\"id\":\"6890\",\"type\":\"Selection\"},{\"attributes\":{},\"id\":\"6619\",\"type\":\"SaveTool\"},{\"attributes\":{\"callback\":null},\"id\":\"6600\",\"type\":\"DataRange1d\"},{\"attributes\":{\"callback\":null,\"data\":{\"x\":{\"__ndarray__\":\"////P9mPuUD///8/GZG5QP///z9ZkrlA////P5mTuUD///8/2ZS5QP///z8ZlrlA////P1mXuUD///8/mZi5QP///z/ZmblA////PxmbuUD///8/WZy5QP///z+ZnblA////P9meuUD///8/GaC5QP///z9ZoblA////P5miuUD///8/2aO5QP///z8ZpblA////P1mmuUD///8/mae5QP///z/ZqLlA////PxmquUD///8/Wau5QP///z+ZrLlA////P9mtuUD///8/Ga+5QP///z9ZsLlA////P5mxuUD///8/2bK5QP///z8ZtLlA////P1m1uUD///8/mba5QP///z/Zt7lA\",\"dtype\":\"float64\",\"shape\":[33]},\"y\":[356.114990234375,413.38433837890625,415.12689208984375,568.2442626953125,673.8860473632812,895.2476196289062,1125.2825927734375,1552.214111328125,2064.397705078125,2285.368408203125,2629.759521484375,3078.040283203125,3511.5712890625,3948.11474609375,4213.51611328125,4342.43310546875,4219.6484375,3996.193603515625,3587.522216796875,3154.848388671875,2796.872314453125,2366.67626953125,1868.65869140625,1457.779052734375,1094.570556640625,869.021728515625,867.6356201171875,833.9345703125,666.103271484375,440.49267578125,374.59405517578125,390.7154846191406,353.50665283203125]},\"selected\":{\"id\":\"6892\",\"type\":\"Selection\"},\"selection_policy\":{\"id\":\"6891\",\"type\":\"UnionRenderers\"}},\"id\":\"6638\",\"type\":\"ColumnDataSource\"},{\"attributes\":{\"callback\":null},\"id\":\"6598\",\"type\":\"DataRange1d\"},{\"attributes\":{\"line_alpha\":0.1,\"line_color\":\"#1f77b4\",\"x\":{\"field\":\"x\"},\"y\":{\"field\":\"y\"}},\"id\":\"6640\",\"type\":\"Line\"},{\"attributes\":{\"data_source\":{\"id\":\"6631\",\"type\":\"ColumnDataSource\"},\"glyph\":{\"id\":\"6632\",\"type\":\"Line\"},\"hover_glyph\":null,\"muted_glyph\":null,\"nonselection_glyph\":{\"id\":\"6633\",\"type\":\"Line\"},\"selection_glyph\":null,\"view\":{\"id\":\"6635\",\"type\":\"CDSView\"}},\"id\":\"6634\",\"type\":\"GlyphRenderer\"},{\"attributes\":{\"callback\":null,\"tooltips\":[[\"(x,y)\",\"($x{1}, $y)\"]]},\"id\":\"6636\",\"type\":\"HoverTool\"},{\"attributes\":{\"bottom_units\":\"screen\",\"fill_alpha\":{\"value\":0.5},\"fill_color\":{\"value\":\"lightgrey\"},\"left_units\":\"screen\",\"level\":\"overlay\",\"line_alpha\":{\"value\":1.0},\"line_color\":{\"value\":\"black\"},\"line_dash\":[4,4],\"line_width\":{\"value\":2},\"plot\":null,\"render_mode\":\"css\",\"right_units\":\"screen\",\"top_units\":\"screen\"},\"id\":\"6624\",\"type\":\"BoxAnnotation\"},{\"attributes\":{},\"id\":\"6612\",\"type\":\"BasicTicker\"},{\"attributes\":{},\"id\":\"6886\",\"type\":\"BasicTickFormatter\"},{\"attributes\":{\"line_color\":\"red\",\"x\":{\"field\":\"x\"},\"y\":{\"field\":\"y\"}},\"id\":\"6639\",\"type\":\"Line\"},{\"attributes\":{},\"id\":\"6621\",\"type\":\"HelpTool\"},{\"attributes\":{},\"id\":\"6602\",\"type\":\"LinearScale\"},{\"attributes\":{\"formatter\":{\"id\":\"6886\",\"type\":\"BasicTickFormatter\"},\"plot\":{\"id\":\"6596\",\"subtype\":\"Figure\",\"type\":\"Plot\"},\"ticker\":{\"id\":\"6607\",\"type\":\"BasicTicker\"}},\"id\":\"6606\",\"type\":\"LinearAxis\"},{\"attributes\":{},\"id\":\"6884\",\"type\":\"BasicTickFormatter\"},{\"attributes\":{},\"id\":\"6620\",\"type\":\"ResetTool\"},{\"attributes\":{\"active_drag\":{\"id\":\"6618\",\"type\":\"BoxZoomTool\"},\"active_inspect\":\"auto\",\"active_multi\":null,\"active_scroll\":{\"id\":\"6617\",\"type\":\"WheelZoomTool\"},\"active_tap\":\"auto\",\"tools\":[{\"id\":\"6616\",\"type\":\"PanTool\"},{\"id\":\"6617\",\"type\":\"WheelZoomTool\"},{\"id\":\"6618\",\"type\":\"BoxZoomTool\"},{\"id\":\"6619\",\"type\":\"SaveTool\"},{\"id\":\"6620\",\"type\":\"ResetTool\"},{\"id\":\"6621\",\"type\":\"HelpTool\"},{\"id\":\"6636\",\"type\":\"HoverTool\"}]},\"id\":\"6622\",\"type\":\"Toolbar\"},{\"attributes\":{\"callback\":null,\"data\":{\"x\":{\"__ndarray__\":\"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\",\"dtype\":\"float64\",\"shape\":[200]},\"y\":[67.44071960449219,-16.483976364135742,-20.320119857788086,76.09549713134766,48.771541595458984,8.812379837036133,-14.569336891174316,19.643478393554688,18.63881492614746,-5.69416618347168,47.846683502197266,30.85926055908203,20.536439895629883,-77.91914367675781,12.245199203491211,20.986249923706055,31.294734954833984,-18.0775146484375,-1.1750564575195312,-0.32931047677993774,-4.718865394592285,18.088895797729492,23.61570167541504,46.86057662963867,40.354278564453125,-0.4542134702205658,-34.67012405395508,-73.716552734375,-9.075187683105469,-43.42229461669922,-61.509708404541016,-24.890531539916992,-63.99798583984375,-19.076093673706055,-12.93833065032959,0.7634483575820923,-61.45842742919922,-38.43465042114258,-10.451713562011719,25.061058044433594,-24.75400161743164,-26.67008399963379,24.01227378845215,-22.52992820739746,-44.65264892578125,-49.72062683105469,5.5534844398498535,-2.332266092300415,-29.462594985961914,-5.425148010253906,-7.556840419769287,-0.9274962544441223,121.24071502685547,46.74174499511719,9.760644912719727,26.69243621826172,79.66944885253906,137.64332580566406,38.98225784301758,-41.01714324951172,-87.35292053222656,-69.64226531982422,22.800382614135742,11.360264778137207,3.156280755996704,-43.39482116699219,-76.05133819580078,-1.291304349899292,31.915313720703125,-55.49105453491211,-75.25967407226562,-109.28996276855469,-36.47840881347656,-125.39360809326172,-86.30728912353516,-62.409645080566406,-31.315658569335938,-196.37078857421875,104.04214477539062,310.12603759765625,147.299560546875,3.135983943939209,7.9299798011779785,45.37075424194336,106.15898895263672,68.50660705566406,4.7243876457214355,-7.1424970626831055,2.140326976776123,37.69566345214844,-30.461353302001953,-7.608553886413574,-75.23568725585938,-20.535371780395508,4.236769676208496,24.189380645751953,-8.54594612121582,42.13967514038086,61.631011962890625,44.61434555053711,23.55133819580078,-72.1424789428711,34.163761138916016,72.80671691894531,44.46192932128906,88.91016387939453,272.56207275390625,310.7679748535156,99.39579010009766,60.4296760559082,137.81077575683594,86.54373931884766,210.76698303222656,233.7285614013672,279.367431640625,356.114990234375,413.38433837890625,415.12689208984375,568.2442626953125,673.8860473632812,895.2476196289062,1125.2825927734375,1552.214111328125,2064.397705078125,2285.368408203125,2629.759521484375,3078.040283203125,3511.5712890625,3948.11474609375,4213.51611328125,4342.43310546875,4219.6484375,3996.193603515625,3587.522216796875,3154.848388671875,2796.872314453125,2366.67626953125,1868.65869140625,1457.779052734375,1094.570556640625,869.021728515625,867.6356201171875,833.9345703125,666.103271484375,440.49267578125,374.59405517578125,390.7154846191406,353.50665283203125,294.0444641113281,179.7217254638672,173.1156005859375,160.74485778808594,113.10099029541016,100.91150665283203,26.46377944946289,65.08396911621094,13.25743579864502,119.17289733886719,79.1909408569336,45.133846282958984,27.289936065673828,67.00540161132812,58.039764404296875,112.32173919677734,117.86767578125,20.217864990234375,37.9992561340332,-5.419251441955566,-29.078554153442383,-16.08253288269043,7.154626846313477,-34.65784454345703,14.012887954711914,-3.155073881149292,-13.14280891418457,-3.1700448989868164,-35.02328109741211,0.17895543575286865,-57.24900817871094,-16.57694435119629,-24.041549682617188,-3.7794201374053955,7.325533390045166,40.275508880615234,26.043405532836914,-8.751392364501953,-34.107418060302734,39.59104919433594,12.208269119262695,-17.659568786621094,-28.858898162841797,-15.39533519744873,-28.60359764099121,-18.067180633544922,9.335498809814453,-57.52056121826172,-60.30833435058594,5.0616607666015625,18.473575592041016,-7.8586015701293945]},\"selected\":{\"id\":\"6890\",\"type\":\"Selection\"},\"selection_policy\":{\"id\":\"6889\",\"type\":\"UnionRenderers\"}},\"id\":\"6631\",\"type\":\"ColumnDataSource\"},{\"attributes\":{\"source\":{\"id\":\"6631\",\"type\":\"ColumnDataSource\"}},\"id\":\"6635\",\"type\":\"CDSView\"},{\"attributes\":{\"plot\":null,\"text\":\"17:40:41.8401, -53:40:21.6137, 52\"},\"id\":\"6595\",\"type\":\"Title\"},{\"attributes\":{\"overlay\":{\"id\":\"6624\",\"type\":\"BoxAnnotation\"}},\"id\":\"6618\",\"type\":\"BoxZoomTool\"},{\"attributes\":{},\"id\":\"6617\",\"type\":\"WheelZoomTool\"},{\"attributes\":{\"data_source\":{\"id\":\"6638\",\"type\":\"ColumnDataSource\"},\"glyph\":{\"id\":\"6639\",\"type\":\"Line\"},\"hover_glyph\":null,\"muted_glyph\":null,\"nonselection_glyph\":{\"id\":\"6640\",\"type\":\"Line\"},\"selection_glyph\":null,\"view\":{\"id\":\"6642\",\"type\":\"CDSView\"}},\"id\":\"6641\",\"type\":\"GlyphRenderer\"},{\"attributes\":{},\"id\":\"6616\",\"type\":\"PanTool\"},{\"attributes\":{\"source\":{\"id\":\"6638\",\"type\":\"ColumnDataSource\"}},\"id\":\"6642\",\"type\":\"CDSView\"},{\"attributes\":{\"line_alpha\":0.1,\"line_color\":\"#1f77b4\",\"x\":{\"field\":\"x\"},\"y\":{\"field\":\"y\"}},\"id\":\"6633\",\"type\":\"Line\"},{\"attributes\":{\"plot\":{\"id\":\"6596\",\"subtype\":\"Figure\",\"type\":\"Plot\"},\"ticker\":{\"id\":\"6607\",\"type\":\"BasicTicker\"}},\"id\":\"6610\",\"type\":\"Grid\"},{\"attributes\":{\"line_color\":\"#1f77b4\",\"x\":{\"field\":\"x\"},\"y\":{\"field\":\"y\"}},\"id\":\"6632\",\"type\":\"Line\"},{\"attributes\":{\"dimension\":1,\"plot\":{\"id\":\"6596\",\"subtype\":\"Figure\",\"type\":\"Plot\"},\"ticker\":{\"id\":\"6612\",\"type\":\"BasicTicker\"}},\"id\":\"6615\",\"type\":\"Grid\"},{\"attributes\":{},\"id\":\"6607\",\"type\":\"BasicTicker\"},{\"attributes\":{},\"id\":\"6891\",\"type\":\"UnionRenderers\"},{\"attributes\":{},\"id\":\"6889\",\"type\":\"UnionRenderers\"}],\"root_ids\":[\"6596\"]},\"title\":\"Bokeh Application\",\"version\":\"1.0.4\"}};\n",
       "  var render_items = [{\"docid\":\"2fff5dd7-2390-4ca3-ba7e-45063d86a9ae\",\"roots\":{\"6596\":\"f74b1504-ad28-4f88-abe7-c2ee9b47bac0\"}}];\n",
       "  root.Bokeh.embed.embed_items_notebook(docs_json, render_items);\n",
       "\n",
       "  }\n",
       "  if (root.Bokeh !== undefined) {\n",
       "    embed_document(root);\n",
       "  } else {\n",
       "    var attempts = 0;\n",
       "    var timer = setInterval(function(root) {\n",
       "      if (root.Bokeh !== undefined) {\n",
       "        embed_document(root);\n",
       "        clearInterval(timer);\n",
       "      }\n",
       "      attempts++;\n",
       "      if (attempts > 100) {\n",
       "        console.log(\"Bokeh: ERROR: Unable to run BokehJS code because BokehJS library is missing\");\n",
       "        clearInterval(timer);\n",
       "      }\n",
       "    }, 10, root)\n",
       "  }\n",
       "})(window);"
      ],
      "application/vnd.bokehjs_exec.v0+json": ""
     },
     "metadata": {
      "application/vnd.bokehjs_exec.v0+json": {
       "id": "6596"
      }
     },
     "output_type": "display_data"
    },
    {
     "data": {
      "text/html": [
       "\n",
       "\n",
       "\n",
       "\n",
       "\n",
       "\n",
       "  <div class=\"bk-root\" id=\"5373c499-9eb4-42db-aa68-149546111eb7\" data-root-id=\"6954\"></div>\n"
      ]
     },
     "metadata": {},
     "output_type": "display_data"
    },
    {
     "data": {
      "application/javascript": [
       "(function(root) {\n",
       "  function embed_document(root) {\n",
       "    \n",
       "  var docs_json = {\"669d17c9-242f-4c40-abfe-5be17dea4727\":{\"roots\":{\"references\":[{\"attributes\":{\"below\":[{\"id\":\"6964\",\"type\":\"LinearAxis\"}],\"left\":[{\"id\":\"6969\",\"type\":\"LinearAxis\"}],\"plot_height\":500,\"plot_width\":900,\"renderers\":[{\"id\":\"6964\",\"type\":\"LinearAxis\"},{\"id\":\"6968\",\"type\":\"Grid\"},{\"id\":\"6969\",\"type\":\"LinearAxis\"},{\"id\":\"6973\",\"type\":\"Grid\"},{\"id\":\"6982\",\"type\":\"BoxAnnotation\"},{\"id\":\"6992\",\"type\":\"GlyphRenderer\"},{\"id\":\"6999\",\"type\":\"GlyphRenderer\"}],\"title\":{\"id\":\"6953\",\"type\":\"Title\"},\"toolbar\":{\"id\":\"6980\",\"type\":\"Toolbar\"},\"x_range\":{\"id\":\"6956\",\"type\":\"DataRange1d\"},\"x_scale\":{\"id\":\"6960\",\"type\":\"LinearScale\"},\"y_range\":{\"id\":\"6958\",\"type\":\"DataRange1d\"},\"y_scale\":{\"id\":\"6962\",\"type\":\"LinearScale\"}},\"id\":\"6954\",\"subtype\":\"Figure\",\"type\":\"Plot\"},{\"attributes\":{\"dimension\":1,\"plot\":{\"id\":\"6954\",\"subtype\":\"Figure\",\"type\":\"Plot\"},\"ticker\":{\"id\":\"6970\",\"type\":\"BasicTicker\"}},\"id\":\"6973\",\"type\":\"Grid\"},{\"attributes\":{},\"id\":\"7259\",\"type\":\"UnionRenderers\"},{\"attributes\":{\"source\":{\"id\":\"6996\",\"type\":\"ColumnDataSource\"}},\"id\":\"7000\",\"type\":\"CDSView\"},{\"attributes\":{},\"id\":\"7254\",\"type\":\"BasicTickFormatter\"},{\"attributes\":{\"callback\":null},\"id\":\"6956\",\"type\":\"DataRange1d\"},{\"attributes\":{\"source\":{\"id\":\"6989\",\"type\":\"ColumnDataSource\"}},\"id\":\"6993\",\"type\":\"CDSView\"},{\"attributes\":{},\"id\":\"7252\",\"type\":\"BasicTickFormatter\"},{\"attributes\":{\"callback\":null,\"tooltips\":[[\"(x,y)\",\"($x{1}, $y)\"]]},\"id\":\"6994\",\"type\":\"HoverTool\"},{\"attributes\":{},\"id\":\"6979\",\"type\":\"HelpTool\"},{\"attributes\":{\"plot\":{\"id\":\"6954\",\"subtype\":\"Figure\",\"type\":\"Plot\"},\"ticker\":{\"id\":\"6965\",\"type\":\"BasicTicker\"}},\"id\":\"6968\",\"type\":\"Grid\"},{\"attributes\":{\"overlay\":{\"id\":\"6982\",\"type\":\"BoxAnnotation\"}},\"id\":\"6976\",\"type\":\"BoxZoomTool\"},{\"attributes\":{},\"id\":\"6965\",\"type\":\"BasicTicker\"},{\"attributes\":{},\"id\":\"6977\",\"type\":\"SaveTool\"},{\"attributes\":{},\"id\":\"7260\",\"type\":\"Selection\"},{\"attributes\":{\"formatter\":{\"id\":\"7254\",\"type\":\"BasicTickFormatter\"},\"plot\":{\"id\":\"6954\",\"subtype\":\"Figure\",\"type\":\"Plot\"},\"ticker\":{\"id\":\"6965\",\"type\":\"BasicTicker\"}},\"id\":\"6964\",\"type\":\"LinearAxis\"},{\"attributes\":{\"line_color\":\"red\",\"x\":{\"field\":\"x\"},\"y\":{\"field\":\"y\"}},\"id\":\"6997\",\"type\":\"Line\"},{\"attributes\":{},\"id\":\"6960\",\"type\":\"LinearScale\"},{\"attributes\":{},\"id\":\"7257\",\"type\":\"UnionRenderers\"},{\"attributes\":{},\"id\":\"6962\",\"type\":\"LinearScale\"},{\"attributes\":{\"formatter\":{\"id\":\"7252\",\"type\":\"BasicTickFormatter\"},\"plot\":{\"id\":\"6954\",\"subtype\":\"Figure\",\"type\":\"Plot\"},\"ticker\":{\"id\":\"6970\",\"type\":\"BasicTicker\"}},\"id\":\"6969\",\"type\":\"LinearAxis\"},{\"attributes\":{},\"id\":\"6974\",\"type\":\"PanTool\"},{\"attributes\":{},\"id\":\"6978\",\"type\":\"ResetTool\"},{\"attributes\":{\"data_source\":{\"id\":\"6989\",\"type\":\"ColumnDataSource\"},\"glyph\":{\"id\":\"6990\",\"type\":\"Line\"},\"hover_glyph\":null,\"muted_glyph\":null,\"nonselection_glyph\":{\"id\":\"6991\",\"type\":\"Line\"},\"selection_glyph\":null,\"view\":{\"id\":\"6993\",\"type\":\"CDSView\"}},\"id\":\"6992\",\"type\":\"GlyphRenderer\"},{\"attributes\":{},\"id\":\"6975\",\"type\":\"WheelZoomTool\"},{\"attributes\":{\"line_color\":\"#1f77b4\",\"x\":{\"field\":\"x\"},\"y\":{\"field\":\"y\"}},\"id\":\"6990\",\"type\":\"Line\"},{\"attributes\":{\"bottom_units\":\"screen\",\"fill_alpha\":{\"value\":0.5},\"fill_color\":{\"value\":\"lightgrey\"},\"left_units\":\"screen\",\"level\":\"overlay\",\"line_alpha\":{\"value\":1.0},\"line_color\":{\"value\":\"black\"},\"line_dash\":[4,4],\"line_width\":{\"value\":2},\"plot\":null,\"render_mode\":\"css\",\"right_units\":\"screen\",\"top_units\":\"screen\"},\"id\":\"6982\",\"type\":\"BoxAnnotation\"},{\"attributes\":{},\"id\":\"6970\",\"type\":\"BasicTicker\"},{\"attributes\":{},\"id\":\"7258\",\"type\":\"Selection\"},{\"attributes\":{\"callback\":null},\"id\":\"6958\",\"type\":\"DataRange1d\"},{\"attributes\":{\"data_source\":{\"id\":\"6996\",\"type\":\"ColumnDataSource\"},\"glyph\":{\"id\":\"6997\",\"type\":\"Line\"},\"hover_glyph\":null,\"muted_glyph\":null,\"nonselection_glyph\":{\"id\":\"6998\",\"type\":\"Line\"},\"selection_glyph\":null,\"view\":{\"id\":\"7000\",\"type\":\"CDSView\"}},\"id\":\"6999\",\"type\":\"GlyphRenderer\"},{\"attributes\":{\"callback\":null,\"data\":{\"x\":{\"__ndarray__\":\"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\",\"dtype\":\"float64\",\"shape\":[200]},\"y\":[22.571704864501953,-17.385278701782227,24.280282974243164,-5.041232109069824,67.70425415039062,5.619405269622803,20.7210636138916,-33.55216979980469,-13.611673355102539,-38.54912185668945,12.729480743408203,40.0069694519043,21.430927276611328,-8.732776641845703,5.9096574783325195,2.422926664352417,50.695213317871094,-42.37589645385742,-53.1424560546875,-17.116186141967773,3.6482291221618652,19.076692581176758,22.24610710144043,-49.90272903442383,-56.17914581298828,-0.30176520347595215,-14.58846378326416,-2.3014464378356934,49.788658142089844,-9.053262710571289,-7.294121265411377,-26.237998962402344,-15.560308456420898,-44.682315826416016,14.382552146911621,-9.878644943237305,11.994054794311523,-37.17366409301758,56.941436767578125,39.289310455322266,15.333826065063477,-26.932586669921875,-30.57328224182129,-2.431398868560791,-35.59910202026367,-42.10849380493164,-7.838479995727539,-27.042848587036133,1.2589954137802124,-26.915983200073242,-24.09732437133789,32.75440216064453,64.95681762695312,98.10514831542969,21.620403289794922,1.5682607889175415,78.11827850341797,129.05609130859375,-9.548215866088867,-10.004714012145996,-11.533003807067871,-23.119171142578125,67.84408569335938,12.801347732543945,-27.28486442565918,-13.796259880065918,-25.61760902404785,-44.44202423095703,-87.56149291992188,-0.26216065883636475,-25.270336151123047,-62.032676696777344,-17.41478157043457,-54.93947982788086,-1.0291341543197632,-28.752714157104492,-38.84008026123047,-67.90988159179688,148.1722869873047,208.32815551757812,125.56592559814453,-5.395168781280518,-66.93598937988281,23.431983947753906,82.91310119628906,3.692793369293213,10.046319961547852,11.175589561462402,-71.37741088867188,-8.400633811950684,-51.35002136230469,15.65394401550293,-46.477481842041016,-96.57571411132812,-93.4555892944336,-45.30385208129883,-2.009432554244995,32.65057373046875,51.76869201660156,-7.1951117515563965,5.44470739364624,-13.928305625915527,16.760677337646484,-33.92681884765625,23.929616928100586,103.2378158569336,200.93968200683594,243.4300994873047,68.46800231933594,41.08070755004883,30.352092742919922,56.63274002075195,94.40458679199219,88.6582260131836,94.47496032714844,159.71405029296875,183.87974548339844,196.50015258789062,176.27325439453125,257.37335205078125,303.83612060546875,399.61883544921875,679.64892578125,875.0675659179688,868.396728515625,953.3244018554688,1073.234375,1262.1427001953125,1434.0396728515625,1446.195068359375,1418.177490234375,1283.9755859375,1335.02099609375,1203.454345703125,1173.2327880859375,1086.55126953125,893.9863891601562,734.8941040039062,555.7804565429688,395.1046142578125,362.63397216796875,355.0750732421875,378.5404357910156,323.07843017578125,170.17510986328125,152.59222412109375,195.06362915039062,166.389892578125,89.02997589111328,87.0921630859375,18.092695236206055,20.17646026611328,-11.711833000183105,34.46150207519531,22.631772994995117,9.38784408569336,19.00144386291504,74.11856842041016,27.391563415527344,39.42809295654297,-15.315178871154785,-32.04113006591797,26.83177947998047,166.02755737304688,123.23941802978516,13.541120529174805,27.643587112426758,3.336735248565674,-22.376747131347656,44.64620590209961,4.124101161956787,-55.09650421142578,-16.589099884033203,-9.439373970031738,-41.99779510498047,-25.163772583007812,22.43659210205078,0.7032020688056946,29.065011978149414,-52.43598556518555,-11.558948516845703,23.92659568786621,37.83375549316406,-2.9948153495788574,-0.47110745310783386,-51.08645248413086,-21.375396728515625,49.64680099487305,18.760417938232422,11.239617347717285,-26.11164093017578,28.301368713378906,-18.3621768951416,-23.59409523010254,26.926048278808594,-15.517814636230469,-58.764549255371094,-38.621646881103516,-17.656740188598633,-15.539748191833496]},\"selected\":{\"id\":\"7258\",\"type\":\"Selection\"},\"selection_policy\":{\"id\":\"7257\",\"type\":\"UnionRenderers\"}},\"id\":\"6989\",\"type\":\"ColumnDataSource\"},{\"attributes\":{\"line_alpha\":0.1,\"line_color\":\"#1f77b4\",\"x\":{\"field\":\"x\"},\"y\":{\"field\":\"y\"}},\"id\":\"6998\",\"type\":\"Line\"},{\"attributes\":{\"line_alpha\":0.1,\"line_color\":\"#1f77b4\",\"x\":{\"field\":\"x\"},\"y\":{\"field\":\"y\"}},\"id\":\"6991\",\"type\":\"Line\"},{\"attributes\":{\"callback\":null,\"data\":{\"x\":{\"__ndarray__\":\"////P9mFuUD///8/2ZS5QP///z8ZlrlA////P1mXuUD///8/mZi5QP///z/ZmblA////PxmbuUD///8/WZy5QP///z+ZnblA////P9meuUD///8/GaC5QP///z9ZoblA////P5miuUD///8/2aO5QP///z8ZpblA////P1mmuUD///8/mae5QP///z/ZqLlA////PxmquUD///8/Wau5QP///z+ZrLlA////P9mtuUD///8/Ga+5QP///z9ZsLlA////P5mxuUD///8/2bK5QA==\",\"dtype\":\"float64\",\"shape\":[26]},\"y\":[243.4300994873047,257.37335205078125,303.83612060546875,399.61883544921875,679.64892578125,875.0675659179688,868.396728515625,953.3244018554688,1073.234375,1262.1427001953125,1434.0396728515625,1446.195068359375,1418.177490234375,1283.9755859375,1335.02099609375,1203.454345703125,1173.2327880859375,1086.55126953125,893.9863891601562,734.8941040039062,555.7804565429688,395.1046142578125,362.63397216796875,355.0750732421875,378.5404357910156,323.07843017578125]},\"selected\":{\"id\":\"7260\",\"type\":\"Selection\"},\"selection_policy\":{\"id\":\"7259\",\"type\":\"UnionRenderers\"}},\"id\":\"6996\",\"type\":\"ColumnDataSource\"},{\"attributes\":{\"active_drag\":{\"id\":\"6976\",\"type\":\"BoxZoomTool\"},\"active_inspect\":\"auto\",\"active_multi\":null,\"active_scroll\":{\"id\":\"6975\",\"type\":\"WheelZoomTool\"},\"active_tap\":\"auto\",\"tools\":[{\"id\":\"6974\",\"type\":\"PanTool\"},{\"id\":\"6975\",\"type\":\"WheelZoomTool\"},{\"id\":\"6976\",\"type\":\"BoxZoomTool\"},{\"id\":\"6977\",\"type\":\"SaveTool\"},{\"id\":\"6978\",\"type\":\"ResetTool\"},{\"id\":\"6979\",\"type\":\"HelpTool\"},{\"id\":\"6994\",\"type\":\"HoverTool\"}]},\"id\":\"6980\",\"type\":\"Toolbar\"},{\"attributes\":{\"plot\":null,\"text\":\"17:40:41.8735, -53:40:21.6137, 53\"},\"id\":\"6953\",\"type\":\"Title\"}],\"root_ids\":[\"6954\"]},\"title\":\"Bokeh Application\",\"version\":\"1.0.4\"}};\n",
       "  var render_items = [{\"docid\":\"669d17c9-242f-4c40-abfe-5be17dea4727\",\"roots\":{\"6954\":\"5373c499-9eb4-42db-aa68-149546111eb7\"}}];\n",
       "  root.Bokeh.embed.embed_items_notebook(docs_json, render_items);\n",
       "\n",
       "  }\n",
       "  if (root.Bokeh !== undefined) {\n",
       "    embed_document(root);\n",
       "  } else {\n",
       "    var attempts = 0;\n",
       "    var timer = setInterval(function(root) {\n",
       "      if (root.Bokeh !== undefined) {\n",
       "        embed_document(root);\n",
       "        clearInterval(timer);\n",
       "      }\n",
       "      attempts++;\n",
       "      if (attempts > 100) {\n",
       "        console.log(\"Bokeh: ERROR: Unable to run BokehJS code because BokehJS library is missing\");\n",
       "        clearInterval(timer);\n",
       "      }\n",
       "    }, 10, root)\n",
       "  }\n",
       "})(window);"
      ],
      "application/vnd.bokehjs_exec.v0+json": ""
     },
     "metadata": {
      "application/vnd.bokehjs_exec.v0+json": {
       "id": "6954"
      }
     },
     "output_type": "display_data"
    },
    {
     "data": {
      "text/html": [
       "\n",
       "\n",
       "\n",
       "\n",
       "\n",
       "\n",
       "  <div class=\"bk-root\" id=\"c9ad76b7-212d-47da-b0b6-10d5314dd39d\" data-root-id=\"7322\"></div>\n"
      ]
     },
     "metadata": {},
     "output_type": "display_data"
    },
    {
     "data": {
      "application/javascript": [
       "(function(root) {\n",
       "  function embed_document(root) {\n",
       "    \n",
       "  var docs_json = {\"ad32ef34-bb94-4224-8ccc-227e8f519ddc\":{\"roots\":{\"references\":[{\"attributes\":{\"below\":[{\"id\":\"7332\",\"type\":\"LinearAxis\"}],\"left\":[{\"id\":\"7337\",\"type\":\"LinearAxis\"}],\"plot_height\":500,\"plot_width\":900,\"renderers\":[{\"id\":\"7332\",\"type\":\"LinearAxis\"},{\"id\":\"7336\",\"type\":\"Grid\"},{\"id\":\"7337\",\"type\":\"LinearAxis\"},{\"id\":\"7341\",\"type\":\"Grid\"},{\"id\":\"7350\",\"type\":\"BoxAnnotation\"},{\"id\":\"7360\",\"type\":\"GlyphRenderer\"},{\"id\":\"7367\",\"type\":\"GlyphRenderer\"}],\"title\":{\"id\":\"7321\",\"type\":\"Title\"},\"toolbar\":{\"id\":\"7348\",\"type\":\"Toolbar\"},\"x_range\":{\"id\":\"7324\",\"type\":\"DataRange1d\"},\"x_scale\":{\"id\":\"7328\",\"type\":\"LinearScale\"},\"y_range\":{\"id\":\"7326\",\"type\":\"DataRange1d\"},\"y_scale\":{\"id\":\"7330\",\"type\":\"LinearScale\"}},\"id\":\"7322\",\"subtype\":\"Figure\",\"type\":\"Plot\"},{\"attributes\":{\"callback\":null},\"id\":\"7324\",\"type\":\"DataRange1d\"},{\"attributes\":{},\"id\":\"7328\",\"type\":\"LinearScale\"},{\"attributes\":{\"plot\":{\"id\":\"7322\",\"subtype\":\"Figure\",\"type\":\"Plot\"},\"ticker\":{\"id\":\"7333\",\"type\":\"BasicTicker\"}},\"id\":\"7336\",\"type\":\"Grid\"},{\"attributes\":{\"callback\":null,\"tooltips\":[[\"(x,y)\",\"($x{1}, $y)\"]]},\"id\":\"7362\",\"type\":\"HoverTool\"},{\"attributes\":{},\"id\":\"7632\",\"type\":\"BasicTickFormatter\"},{\"attributes\":{\"data_source\":{\"id\":\"7364\",\"type\":\"ColumnDataSource\"},\"glyph\":{\"id\":\"7365\",\"type\":\"Line\"},\"hover_glyph\":null,\"muted_glyph\":null,\"nonselection_glyph\":{\"id\":\"7366\",\"type\":\"Line\"},\"selection_glyph\":null,\"view\":{\"id\":\"7368\",\"type\":\"CDSView\"}},\"id\":\"7367\",\"type\":\"GlyphRenderer\"},{\"attributes\":{\"plot\":null,\"text\":\"17:40:41.8068, -53:40:21.1137, 71\"},\"id\":\"7321\",\"type\":\"Title\"},{\"attributes\":{},\"id\":\"7330\",\"type\":\"LinearScale\"},{\"attributes\":{\"callback\":null,\"data\":{\"x\":{\"__ndarray__\":\"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\",\"dtype\":\"float64\",\"shape\":[200]},\"y\":[50.652896881103516,37.61326217651367,23.02569580078125,-9.641301155090332,-36.702911376953125,116.87735748291016,21.391021728515625,-11.9989652633667,-0.697628378868103,-35.1967887878418,-13.850332260131836,25.554758071899414,44.61015701293945,-55.215267181396484,3.0491929054260254,24.665010452270508,77.90391540527344,24.913848876953125,-34.265872955322266,-12.034299850463867,-36.72419738769531,-38.28466033935547,-32.031490325927734,-10.470538139343262,-45.146244049072266,-16.608530044555664,-36.719215393066406,2.117647171020508,-11.161784172058105,-30.082778930664062,-4.307933807373047,11.472809791564941,-18.842355728149414,-10.913707733154297,-20.254552841186523,-47.720237731933594,-29.429044723510742,-14.267210006713867,-34.7933235168457,-26.883974075317383,-23.482032775878906,-1.6467033624649048,-1.8444156646728516,-29.337499618530273,-44.565162658691406,7.323788166046143,19.374887466430664,22.063478469848633,17.321685791015625,41.357521057128906,16.725427627563477,45.5303840637207,100.05205535888672,103.01614379882812,83.97819519042969,10.577741622924805,24.891923904418945,122.48324584960938,17.35939598083496,-45.3183708190918,-87.62805938720703,-22.90498924255371,18.624147415161133,-20.551267623901367,1.5985528230667114,-2.2943131923675537,-47.21533966064453,-76.34188842773438,-36.989158630371094,-21.62027359008789,-59.97913360595703,-85.94342041015625,-56.30305862426758,-19.00689125061035,-28.269649505615234,-70.56654357910156,-78.7347412109375,-84.31916046142578,61.208641052246094,258.0043029785156,219.70187377929688,18.623584747314453,-11.944525718688965,35.800514221191406,32.034603118896484,74.18755340576172,-26.092069625854492,-41.46821594238281,-4.592977046966553,-53.01079177856445,-13.388895988464355,-44.61876678466797,28.037508010864258,-25.730493545532227,-47.85783004760742,-41.365501403808594,-20.60299301147461,-0.42320743203163147,52.864768981933594,13.273392677307129,-31.175857543945312,-22.15997886657715,-37.34230422973633,-38.340511322021484,-55.13042449951172,-45.8519401550293,226.29718017578125,176.39849853515625,1.9836193323135376,-32.84431076049805,-37.69697952270508,-26.205007553100586,-54.73289108276367,12.863527297973633,28.21194076538086,97.77731323242188,63.58002471923828,73.95040130615234,11.150897979736328,139.8487548828125,55.200321197509766,97.91497039794922,280.8232727050781,483.6827697753906,272.46319580078125,215.64639282226562,292.1722717285156,250.2520294189453,302.9078674316406,375.6904602050781,251.02398681640625,124.04480743408203,252.4180908203125,237.45840454101562,285.3100280761719,291.56927490234375,260.9113464355469,186.06973266601562,104.82703399658203,57.26162338256836,79.52095794677734,201.3693084716797,276.65252685546875,119.47007751464844,42.87043762207031,1.2641172409057617,133.8135986328125,161.3312530517578,83.09822082519531,-22.1460018157959,-37.55278778076172,9.971132278442383,17.067354202270508,-65.77584075927734,-54.95029067993164,-57.92743682861328,2.793818712234497,21.041725158691406,64.52098846435547,13.302300453186035,-41.123870849609375,53.84940719604492,31.42294692993164,177.49359130859375,66.61005401611328,-4.153568267822266,-21.49381446838379,-2.8071675300598145,-33.261592864990234,47.37703323364258,7.355058193206787,-50.7976188659668,-24.295955657958984,0.31926825642585754,8.539023399353027,0.37808090448379517,-19.11412239074707,-48.491783142089844,-29.092552185058594,-22.152753829956055,2.7758517265319824,48.010528564453125,19.535280227661133,-33.0738410949707,-8.0407075881958,-12.496673583984375,-32.62337875366211,18.445880889892578,27.647258758544922,47.80118942260742,17.929523468017578,-9.387782096862793,-1.3800973892211914,-3.4491562843322754,-37.4849739074707,-7.552490234375,-29.38888931274414,-59.782867431640625,0.2844989597797394,-50.47439193725586]},\"selected\":{\"id\":\"7636\",\"type\":\"Selection\"},\"selection_policy\":{\"id\":\"7635\",\"type\":\"UnionRenderers\"}},\"id\":\"7357\",\"type\":\"ColumnDataSource\"},{\"attributes\":{\"overlay\":{\"id\":\"7350\",\"type\":\"BoxAnnotation\"}},\"id\":\"7344\",\"type\":\"BoxZoomTool\"},{\"attributes\":{\"source\":{\"id\":\"7364\",\"type\":\"ColumnDataSource\"}},\"id\":\"7368\",\"type\":\"CDSView\"},{\"attributes\":{\"dimension\":1,\"plot\":{\"id\":\"7322\",\"subtype\":\"Figure\",\"type\":\"Plot\"},\"ticker\":{\"id\":\"7338\",\"type\":\"BasicTicker\"}},\"id\":\"7341\",\"type\":\"Grid\"},{\"attributes\":{},\"id\":\"7346\",\"type\":\"ResetTool\"},{\"attributes\":{},\"id\":\"7630\",\"type\":\"BasicTickFormatter\"},{\"attributes\":{\"line_color\":\"#1f77b4\",\"x\":{\"field\":\"x\"},\"y\":{\"field\":\"y\"}},\"id\":\"7358\",\"type\":\"Line\"},{\"attributes\":{},\"id\":\"7636\",\"type\":\"Selection\"},{\"attributes\":{\"active_drag\":{\"id\":\"7344\",\"type\":\"BoxZoomTool\"},\"active_inspect\":\"auto\",\"active_multi\":null,\"active_scroll\":{\"id\":\"7343\",\"type\":\"WheelZoomTool\"},\"active_tap\":\"auto\",\"tools\":[{\"id\":\"7342\",\"type\":\"PanTool\"},{\"id\":\"7343\",\"type\":\"WheelZoomTool\"},{\"id\":\"7344\",\"type\":\"BoxZoomTool\"},{\"id\":\"7345\",\"type\":\"SaveTool\"},{\"id\":\"7346\",\"type\":\"ResetTool\"},{\"id\":\"7347\",\"type\":\"HelpTool\"},{\"id\":\"7362\",\"type\":\"HoverTool\"}]},\"id\":\"7348\",\"type\":\"Toolbar\"},{\"attributes\":{},\"id\":\"7343\",\"type\":\"WheelZoomTool\"},{\"attributes\":{},\"id\":\"7338\",\"type\":\"BasicTicker\"},{\"attributes\":{\"callback\":null,\"data\":{\"x\":{\"__ndarray__\":\"////P5mYuUD///8/2Zm5QP///z8Zm7lA////P5mduUD///8/GaC5QP///z9ZoblA////P5mnuUD///8/2ai5QP///z+ZsblA\",\"dtype\":\"float64\",\"shape\":[9]},\"y\":[280.8232727050781,483.6827697753906,272.46319580078125,292.1722717285156,302.9078674316406,375.6904602050781,285.3100280761719,291.56927490234375,276.65252685546875]},\"selected\":{\"id\":\"7638\",\"type\":\"Selection\"},\"selection_policy\":{\"id\":\"7637\",\"type\":\"UnionRenderers\"}},\"id\":\"7364\",\"type\":\"ColumnDataSource\"},{\"attributes\":{},\"id\":\"7333\",\"type\":\"BasicTicker\"},{\"attributes\":{},\"id\":\"7342\",\"type\":\"PanTool\"},{\"attributes\":{\"source\":{\"id\":\"7357\",\"type\":\"ColumnDataSource\"}},\"id\":\"7361\",\"type\":\"CDSView\"},{\"attributes\":{\"data_source\":{\"id\":\"7357\",\"type\":\"ColumnDataSource\"},\"glyph\":{\"id\":\"7358\",\"type\":\"Line\"},\"hover_glyph\":null,\"muted_glyph\":null,\"nonselection_glyph\":{\"id\":\"7359\",\"type\":\"Line\"},\"selection_glyph\":null,\"view\":{\"id\":\"7361\",\"type\":\"CDSView\"}},\"id\":\"7360\",\"type\":\"GlyphRenderer\"},{\"attributes\":{\"formatter\":{\"id\":\"7632\",\"type\":\"BasicTickFormatter\"},\"plot\":{\"id\":\"7322\",\"subtype\":\"Figure\",\"type\":\"Plot\"},\"ticker\":{\"id\":\"7333\",\"type\":\"BasicTicker\"}},\"id\":\"7332\",\"type\":\"LinearAxis\"},{\"attributes\":{},\"id\":\"7637\",\"type\":\"UnionRenderers\"},{\"attributes\":{\"callback\":null},\"id\":\"7326\",\"type\":\"DataRange1d\"},{\"attributes\":{\"bottom_units\":\"screen\",\"fill_alpha\":{\"value\":0.5},\"fill_color\":{\"value\":\"lightgrey\"},\"left_units\":\"screen\",\"level\":\"overlay\",\"line_alpha\":{\"value\":1.0},\"line_color\":{\"value\":\"black\"},\"line_dash\":[4,4],\"line_width\":{\"value\":2},\"plot\":null,\"render_mode\":\"css\",\"right_units\":\"screen\",\"top_units\":\"screen\"},\"id\":\"7350\",\"type\":\"BoxAnnotation\"},{\"attributes\":{},\"id\":\"7635\",\"type\":\"UnionRenderers\"},{\"attributes\":{\"line_alpha\":0.1,\"line_color\":\"#1f77b4\",\"x\":{\"field\":\"x\"},\"y\":{\"field\":\"y\"}},\"id\":\"7359\",\"type\":\"Line\"},{\"attributes\":{},\"id\":\"7347\",\"type\":\"HelpTool\"},{\"attributes\":{\"line_color\":\"red\",\"x\":{\"field\":\"x\"},\"y\":{\"field\":\"y\"}},\"id\":\"7365\",\"type\":\"Line\"},{\"attributes\":{\"formatter\":{\"id\":\"7630\",\"type\":\"BasicTickFormatter\"},\"plot\":{\"id\":\"7322\",\"subtype\":\"Figure\",\"type\":\"Plot\"},\"ticker\":{\"id\":\"7338\",\"type\":\"BasicTicker\"}},\"id\":\"7337\",\"type\":\"LinearAxis\"},{\"attributes\":{\"line_alpha\":0.1,\"line_color\":\"#1f77b4\",\"x\":{\"field\":\"x\"},\"y\":{\"field\":\"y\"}},\"id\":\"7366\",\"type\":\"Line\"},{\"attributes\":{},\"id\":\"7638\",\"type\":\"Selection\"},{\"attributes\":{},\"id\":\"7345\",\"type\":\"SaveTool\"}],\"root_ids\":[\"7322\"]},\"title\":\"Bokeh Application\",\"version\":\"1.0.4\"}};\n",
       "  var render_items = [{\"docid\":\"ad32ef34-bb94-4224-8ccc-227e8f519ddc\",\"roots\":{\"7322\":\"c9ad76b7-212d-47da-b0b6-10d5314dd39d\"}}];\n",
       "  root.Bokeh.embed.embed_items_notebook(docs_json, render_items);\n",
       "\n",
       "  }\n",
       "  if (root.Bokeh !== undefined) {\n",
       "    embed_document(root);\n",
       "  } else {\n",
       "    var attempts = 0;\n",
       "    var timer = setInterval(function(root) {\n",
       "      if (root.Bokeh !== undefined) {\n",
       "        embed_document(root);\n",
       "        clearInterval(timer);\n",
       "      }\n",
       "      attempts++;\n",
       "      if (attempts > 100) {\n",
       "        console.log(\"Bokeh: ERROR: Unable to run BokehJS code because BokehJS library is missing\");\n",
       "        clearInterval(timer);\n",
       "      }\n",
       "    }, 10, root)\n",
       "  }\n",
       "})(window);"
      ],
      "application/vnd.bokehjs_exec.v0+json": ""
     },
     "metadata": {
      "application/vnd.bokehjs_exec.v0+json": {
       "id": "7322"
      }
     },
     "output_type": "display_data"
    },
    {
     "data": {
      "text/html": [
       "\n",
       "\n",
       "\n",
       "\n",
       "\n",
       "\n",
       "  <div class=\"bk-root\" id=\"4db02da3-f481-40d4-ae3c-284f0f4520de\" data-root-id=\"7700\"></div>\n"
      ]
     },
     "metadata": {},
     "output_type": "display_data"
    },
    {
     "data": {
      "application/javascript": [
       "(function(root) {\n",
       "  function embed_document(root) {\n",
       "    \n",
       "  var docs_json = {\"8b803f1b-a657-438b-ade7-2200d5a5068f\":{\"roots\":{\"references\":[{\"attributes\":{\"below\":[{\"id\":\"7710\",\"type\":\"LinearAxis\"}],\"left\":[{\"id\":\"7715\",\"type\":\"LinearAxis\"}],\"plot_height\":500,\"plot_width\":900,\"renderers\":[{\"id\":\"7710\",\"type\":\"LinearAxis\"},{\"id\":\"7714\",\"type\":\"Grid\"},{\"id\":\"7715\",\"type\":\"LinearAxis\"},{\"id\":\"7719\",\"type\":\"Grid\"},{\"id\":\"7728\",\"type\":\"BoxAnnotation\"},{\"id\":\"7738\",\"type\":\"GlyphRenderer\"},{\"id\":\"7745\",\"type\":\"GlyphRenderer\"}],\"title\":{\"id\":\"7699\",\"type\":\"Title\"},\"toolbar\":{\"id\":\"7726\",\"type\":\"Toolbar\"},\"x_range\":{\"id\":\"7702\",\"type\":\"DataRange1d\"},\"x_scale\":{\"id\":\"7706\",\"type\":\"LinearScale\"},\"y_range\":{\"id\":\"7704\",\"type\":\"DataRange1d\"},\"y_scale\":{\"id\":\"7708\",\"type\":\"LinearScale\"}},\"id\":\"7700\",\"subtype\":\"Figure\",\"type\":\"Plot\"},{\"attributes\":{\"source\":{\"id\":\"7742\",\"type\":\"ColumnDataSource\"}},\"id\":\"7746\",\"type\":\"CDSView\"},{\"attributes\":{},\"id\":\"7711\",\"type\":\"BasicTicker\"},{\"attributes\":{\"line_alpha\":0.1,\"line_color\":\"#1f77b4\",\"x\":{\"field\":\"x\"},\"y\":{\"field\":\"y\"}},\"id\":\"7737\",\"type\":\"Line\"},{\"attributes\":{\"plot\":null,\"text\":\"17:40:41.8401, -53:40:21.1137, 72\"},\"id\":\"7699\",\"type\":\"Title\"},{\"attributes\":{\"source\":{\"id\":\"7735\",\"type\":\"ColumnDataSource\"}},\"id\":\"7739\",\"type\":\"CDSView\"},{\"attributes\":{\"callback\":null},\"id\":\"7702\",\"type\":\"DataRange1d\"},{\"attributes\":{},\"id\":\"8026\",\"type\":\"Selection\"},{\"attributes\":{\"callback\":null,\"data\":{\"x\":{\"__ndarray__\":\"////P9liuUD///8/mZi5QP///z/ZmblA\",\"dtype\":\"float64\",\"shape\":[3]},\"y\":[358.06134033203125,394.7723388671875,602.263916015625]},\"selected\":{\"id\":\"8026\",\"type\":\"Selection\"},\"selection_policy\":{\"id\":\"8025\",\"type\":\"UnionRenderers\"}},\"id\":\"7742\",\"type\":\"ColumnDataSource\"},{\"attributes\":{},\"id\":\"8025\",\"type\":\"UnionRenderers\"},{\"attributes\":{},\"id\":\"7720\",\"type\":\"PanTool\"},{\"attributes\":{},\"id\":\"7706\",\"type\":\"LinearScale\"},{\"attributes\":{\"plot\":{\"id\":\"7700\",\"subtype\":\"Figure\",\"type\":\"Plot\"},\"ticker\":{\"id\":\"7711\",\"type\":\"BasicTicker\"}},\"id\":\"7714\",\"type\":\"Grid\"},{\"attributes\":{},\"id\":\"8024\",\"type\":\"Selection\"},{\"attributes\":{},\"id\":\"7721\",\"type\":\"WheelZoomTool\"},{\"attributes\":{\"data_source\":{\"id\":\"7735\",\"type\":\"ColumnDataSource\"},\"glyph\":{\"id\":\"7736\",\"type\":\"Line\"},\"hover_glyph\":null,\"muted_glyph\":null,\"nonselection_glyph\":{\"id\":\"7737\",\"type\":\"Line\"},\"selection_glyph\":null,\"view\":{\"id\":\"7739\",\"type\":\"CDSView\"}},\"id\":\"7738\",\"type\":\"GlyphRenderer\"},{\"attributes\":{},\"id\":\"8018\",\"type\":\"BasicTickFormatter\"},{\"attributes\":{},\"id\":\"7723\",\"type\":\"SaveTool\"},{\"attributes\":{},\"id\":\"8020\",\"type\":\"BasicTickFormatter\"},{\"attributes\":{\"active_drag\":{\"id\":\"7722\",\"type\":\"BoxZoomTool\"},\"active_inspect\":\"auto\",\"active_multi\":null,\"active_scroll\":{\"id\":\"7721\",\"type\":\"WheelZoomTool\"},\"active_tap\":\"auto\",\"tools\":[{\"id\":\"7720\",\"type\":\"PanTool\"},{\"id\":\"7721\",\"type\":\"WheelZoomTool\"},{\"id\":\"7722\",\"type\":\"BoxZoomTool\"},{\"id\":\"7723\",\"type\":\"SaveTool\"},{\"id\":\"7724\",\"type\":\"ResetTool\"},{\"id\":\"7725\",\"type\":\"HelpTool\"},{\"id\":\"7740\",\"type\":\"HoverTool\"}]},\"id\":\"7726\",\"type\":\"Toolbar\"},{\"attributes\":{\"bottom_units\":\"screen\",\"fill_alpha\":{\"value\":0.5},\"fill_color\":{\"value\":\"lightgrey\"},\"left_units\":\"screen\",\"level\":\"overlay\",\"line_alpha\":{\"value\":1.0},\"line_color\":{\"value\":\"black\"},\"line_dash\":[4,4],\"line_width\":{\"value\":2},\"plot\":null,\"render_mode\":\"css\",\"right_units\":\"screen\",\"top_units\":\"screen\"},\"id\":\"7728\",\"type\":\"BoxAnnotation\"},{\"attributes\":{\"line_color\":\"red\",\"x\":{\"field\":\"x\"},\"y\":{\"field\":\"y\"}},\"id\":\"7743\",\"type\":\"Line\"},{\"attributes\":{\"data_source\":{\"id\":\"7742\",\"type\":\"ColumnDataSource\"},\"glyph\":{\"id\":\"7743\",\"type\":\"Line\"},\"hover_glyph\":null,\"muted_glyph\":null,\"nonselection_glyph\":{\"id\":\"7744\",\"type\":\"Line\"},\"selection_glyph\":null,\"view\":{\"id\":\"7746\",\"type\":\"CDSView\"}},\"id\":\"7745\",\"type\":\"GlyphRenderer\"},{\"attributes\":{\"line_color\":\"#1f77b4\",\"x\":{\"field\":\"x\"},\"y\":{\"field\":\"y\"}},\"id\":\"7736\",\"type\":\"Line\"},{\"attributes\":{},\"id\":\"7724\",\"type\":\"ResetTool\"},{\"attributes\":{\"formatter\":{\"id\":\"8020\",\"type\":\"BasicTickFormatter\"},\"plot\":{\"id\":\"7700\",\"subtype\":\"Figure\",\"type\":\"Plot\"},\"ticker\":{\"id\":\"7711\",\"type\":\"BasicTicker\"}},\"id\":\"7710\",\"type\":\"LinearAxis\"},{\"attributes\":{\"callback\":null,\"data\":{\"x\":{\"__ndarray__\":\"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\",\"dtype\":\"float64\",\"shape\":[200]},\"y\":[27.18517303466797,53.61146926879883,37.70882034301758,21.43670654296875,-6.5679144859313965,80.88246154785156,43.9814338684082,-1.1135246753692627,14.344656944274902,-9.652079582214355,2.1587188243865967,71.67085266113281,63.26980972290039,-5.04952335357666,24.045610427856445,12.62845230102539,26.854278564453125,-14.2664155960083,-16.154769897460938,0.6215870976448059,-91.57479858398438,-55.50807571411133,0.9643186926841736,-71.06776428222656,-35.12165451049805,-1.2701153755187988,43.29984664916992,64.3128433227539,25.898754119873047,-6.8420796394348145,-37.5112190246582,30.92698097229004,-49.06483459472656,-9.289888381958008,-57.2794303894043,-42.8740348815918,-101.27560424804688,-89.91554260253906,-57.129051208496094,-68.85313415527344,-54.210365295410156,5.556102752685547,-0.23561792075634003,-23.766191482543945,-23.85666275024414,-50.65620040893555,23.47044563293457,13.405847549438477,-72.5802230834961,-42.68331527709961,32.40808868408203,7.075089454650879,88.24005889892578,160.02310180664062,16.19913101196289,8.460771560668945,117.45230865478516,146.09536743164062,-2.537767171859741,-62.512542724609375,-147.18614196777344,-33.82465362548828,-78.3746337890625,-72.24573516845703,2.0066072940826416,33.14485549926758,-76.71209716796875,-101.66532135009766,6.046406269073486,-7.689702033996582,-20.102651596069336,-101.75860595703125,-33.58504867553711,28.707073211669922,5.1609787940979,-96.33246612548828,-22.388248443603516,-159.95802307128906,84.77362060546875,358.06134033203125,246.78768920898438,6.467329978942871,23.497228622436523,49.42572784423828,115.81947326660156,93.91259765625,2.2204837799072266,-43.12088394165039,-112.39299774169922,-28.29458999633789,-7.535132884979248,-6.177370071411133,4.493785858154297,7.298647403717041,-13.177579879760742,-79.54378509521484,-60.34756851196289,16.399585723876953,73.82122039794922,5.686127185821533,-14.051342010498047,-29.574539184570312,-23.082927703857422,-7.4998459815979,-103.7164077758789,-43.27509307861328,339.7239990234375,306.5381774902344,-29.3718204498291,-40.77873992919922,38.23979187011719,-62.387264251708984,15.393309593200684,68.90963745117188,39.55943298339844,64.22940826416016,103.9095458984375,102.82080841064453,0.28154852986335754,68.83473205566406,41.90248107910156,143.39593505859375,394.7723388671875,602.263916015625,309.4844055175781,249.97508239746094,275.6285095214844,282.8465576171875,268.77252197265625,239.63494873046875,-34.24247360229492,-163.98912048339844,76.153564453125,280.738525390625,245.1862335205078,344.4482727050781,281.90802001953125,250.38084411621094,101.83234405517578,101.61701202392578,55.35814666748047,316.9270935058594,336.74298095703125,119.31566619873047,72.34870147705078,43.13970947265625,157.58273315429688,144.8296356201172,69.98684692382812,-9.3203763961792,36.729248046875,-85.73780822753906,18.133426666259766,-27.938289642333984,-60.91853713989258,-35.325870513916016,80.73594665527344,103.24788665771484,80.54562377929688,18.593521118164062,-24.767597198486328,-14.599990844726562,34.17885971069336,217.50401306152344,124.72337341308594,9.642843246459961,-27.642602920532227,-24.022859573364258,-26.530397415161133,19.32453155517578,-30.05866050720215,-25.146770477294922,-25.620460510253906,-10.60619831085205,41.645042419433594,-55.89213180541992,1.6477609872817993,14.618233680725098,22.019287109375,-13.951568603515625,23.888771057128906,-10.106176376342773,38.4000129699707,-29.301889419555664,-41.440399169921875,0.6649071574211121,-68.32118225097656,27.593528747558594,46.97226333618164,28.39437484741211,23.261226654052734,6.924624443054199,25.413379669189453,37.26215744018555,-41.91844177246094,-77.70532989501953,-67.80699157714844,-99.97100067138672,17.036052703857422,-32.110050201416016]},\"selected\":{\"id\":\"8024\",\"type\":\"Selection\"},\"selection_policy\":{\"id\":\"8023\",\"type\":\"UnionRenderers\"}},\"id\":\"7735\",\"type\":\"ColumnDataSource\"},{\"attributes\":{\"overlay\":{\"id\":\"7728\",\"type\":\"BoxAnnotation\"}},\"id\":\"7722\",\"type\":\"BoxZoomTool\"},{\"attributes\":{\"callback\":null},\"id\":\"7704\",\"type\":\"DataRange1d\"},{\"attributes\":{\"dimension\":1,\"plot\":{\"id\":\"7700\",\"subtype\":\"Figure\",\"type\":\"Plot\"},\"ticker\":{\"id\":\"7716\",\"type\":\"BasicTicker\"}},\"id\":\"7719\",\"type\":\"Grid\"},{\"attributes\":{\"formatter\":{\"id\":\"8018\",\"type\":\"BasicTickFormatter\"},\"plot\":{\"id\":\"7700\",\"subtype\":\"Figure\",\"type\":\"Plot\"},\"ticker\":{\"id\":\"7716\",\"type\":\"BasicTicker\"}},\"id\":\"7715\",\"type\":\"LinearAxis\"},{\"attributes\":{},\"id\":\"7716\",\"type\":\"BasicTicker\"},{\"attributes\":{\"callback\":null,\"tooltips\":[[\"(x,y)\",\"($x{1}, $y)\"]]},\"id\":\"7740\",\"type\":\"HoverTool\"},{\"attributes\":{},\"id\":\"7708\",\"type\":\"LinearScale\"},{\"attributes\":{},\"id\":\"8023\",\"type\":\"UnionRenderers\"},{\"attributes\":{\"line_alpha\":0.1,\"line_color\":\"#1f77b4\",\"x\":{\"field\":\"x\"},\"y\":{\"field\":\"y\"}},\"id\":\"7744\",\"type\":\"Line\"},{\"attributes\":{},\"id\":\"7725\",\"type\":\"HelpTool\"}],\"root_ids\":[\"7700\"]},\"title\":\"Bokeh Application\",\"version\":\"1.0.4\"}};\n",
       "  var render_items = [{\"docid\":\"8b803f1b-a657-438b-ade7-2200d5a5068f\",\"roots\":{\"7700\":\"4db02da3-f481-40d4-ae3c-284f0f4520de\"}}];\n",
       "  root.Bokeh.embed.embed_items_notebook(docs_json, render_items);\n",
       "\n",
       "  }\n",
       "  if (root.Bokeh !== undefined) {\n",
       "    embed_document(root);\n",
       "  } else {\n",
       "    var attempts = 0;\n",
       "    var timer = setInterval(function(root) {\n",
       "      if (root.Bokeh !== undefined) {\n",
       "        embed_document(root);\n",
       "        clearInterval(timer);\n",
       "      }\n",
       "      attempts++;\n",
       "      if (attempts > 100) {\n",
       "        console.log(\"Bokeh: ERROR: Unable to run BokehJS code because BokehJS library is missing\");\n",
       "        clearInterval(timer);\n",
       "      }\n",
       "    }, 10, root)\n",
       "  }\n",
       "})(window);"
      ],
      "application/vnd.bokehjs_exec.v0+json": ""
     },
     "metadata": {
      "application/vnd.bokehjs_exec.v0+json": {
       "id": "7700"
      }
     },
     "output_type": "display_data"
    },
    {
     "data": {
      "text/html": [
       "\n",
       "\n",
       "\n",
       "\n",
       "\n",
       "\n",
       "  <div class=\"bk-root\" id=\"66b71ade-1ba5-454c-bf20-b09ae6c8918b\" data-root-id=\"8088\"></div>\n"
      ]
     },
     "metadata": {},
     "output_type": "display_data"
    },
    {
     "data": {
      "application/javascript": [
       "(function(root) {\n",
       "  function embed_document(root) {\n",
       "    \n",
       "  var docs_json = {\"ca4b7b7c-82f5-4659-850d-93e90015023c\":{\"roots\":{\"references\":[{\"attributes\":{\"below\":[{\"id\":\"8098\",\"type\":\"LinearAxis\"}],\"left\":[{\"id\":\"8103\",\"type\":\"LinearAxis\"}],\"plot_height\":500,\"plot_width\":900,\"renderers\":[{\"id\":\"8098\",\"type\":\"LinearAxis\"},{\"id\":\"8102\",\"type\":\"Grid\"},{\"id\":\"8103\",\"type\":\"LinearAxis\"},{\"id\":\"8107\",\"type\":\"Grid\"},{\"id\":\"8116\",\"type\":\"BoxAnnotation\"},{\"id\":\"8126\",\"type\":\"GlyphRenderer\"},{\"id\":\"8133\",\"type\":\"GlyphRenderer\"}],\"title\":{\"id\":\"8087\",\"type\":\"Title\"},\"toolbar\":{\"id\":\"8114\",\"type\":\"Toolbar\"},\"x_range\":{\"id\":\"8090\",\"type\":\"DataRange1d\"},\"x_scale\":{\"id\":\"8094\",\"type\":\"LinearScale\"},\"y_range\":{\"id\":\"8092\",\"type\":\"DataRange1d\"},\"y_scale\":{\"id\":\"8096\",\"type\":\"LinearScale\"}},\"id\":\"8088\",\"subtype\":\"Figure\",\"type\":\"Plot\"},{\"attributes\":{\"line_alpha\":0.1,\"line_color\":\"#1f77b4\",\"x\":{\"field\":\"x\"},\"y\":{\"field\":\"y\"}},\"id\":\"8132\",\"type\":\"Line\"},{\"attributes\":{},\"id\":\"8111\",\"type\":\"SaveTool\"},{\"attributes\":{},\"id\":\"8113\",\"type\":\"HelpTool\"},{\"attributes\":{\"formatter\":{\"id\":\"8418\",\"type\":\"BasicTickFormatter\"},\"plot\":{\"id\":\"8088\",\"subtype\":\"Figure\",\"type\":\"Plot\"},\"ticker\":{\"id\":\"8099\",\"type\":\"BasicTicker\"}},\"id\":\"8098\",\"type\":\"LinearAxis\"},{\"attributes\":{},\"id\":\"8104\",\"type\":\"BasicTicker\"},{\"attributes\":{},\"id\":\"8424\",\"type\":\"Selection\"},{\"attributes\":{\"plot\":{\"id\":\"8088\",\"subtype\":\"Figure\",\"type\":\"Plot\"},\"ticker\":{\"id\":\"8099\",\"type\":\"BasicTicker\"}},\"id\":\"8102\",\"type\":\"Grid\"},{\"attributes\":{},\"id\":\"8109\",\"type\":\"WheelZoomTool\"},{\"attributes\":{\"data_source\":{\"id\":\"8123\",\"type\":\"ColumnDataSource\"},\"glyph\":{\"id\":\"8124\",\"type\":\"Line\"},\"hover_glyph\":null,\"muted_glyph\":null,\"nonselection_glyph\":{\"id\":\"8125\",\"type\":\"Line\"},\"selection_glyph\":null,\"view\":{\"id\":\"8127\",\"type\":\"CDSView\"}},\"id\":\"8126\",\"type\":\"GlyphRenderer\"},{\"attributes\":{},\"id\":\"8096\",\"type\":\"LinearScale\"},{\"attributes\":{},\"id\":\"8099\",\"type\":\"BasicTicker\"},{\"attributes\":{},\"id\":\"8112\",\"type\":\"ResetTool\"},{\"attributes\":{\"callback\":null,\"data\":{\"x\":{\"__ndarray__\":\"////P5mYuUD///8/2Zm5QP///z8Zm7lA\",\"dtype\":\"float64\",\"shape\":[3]},\"y\":[875.9524536132812,1119.6077880859375,1134.2884521484375]},\"selected\":{\"id\":\"8424\",\"type\":\"Selection\"},\"selection_policy\":{\"id\":\"8423\",\"type\":\"UnionRenderers\"}},\"id\":\"8130\",\"type\":\"ColumnDataSource\"},{\"attributes\":{\"formatter\":{\"id\":\"8416\",\"type\":\"BasicTickFormatter\"},\"plot\":{\"id\":\"8088\",\"subtype\":\"Figure\",\"type\":\"Plot\"},\"ticker\":{\"id\":\"8104\",\"type\":\"BasicTicker\"}},\"id\":\"8103\",\"type\":\"LinearAxis\"},{\"attributes\":{},\"id\":\"8421\",\"type\":\"UnionRenderers\"},{\"attributes\":{\"active_drag\":{\"id\":\"8110\",\"type\":\"BoxZoomTool\"},\"active_inspect\":\"auto\",\"active_multi\":null,\"active_scroll\":{\"id\":\"8109\",\"type\":\"WheelZoomTool\"},\"active_tap\":\"auto\",\"tools\":[{\"id\":\"8108\",\"type\":\"PanTool\"},{\"id\":\"8109\",\"type\":\"WheelZoomTool\"},{\"id\":\"8110\",\"type\":\"BoxZoomTool\"},{\"id\":\"8111\",\"type\":\"SaveTool\"},{\"id\":\"8112\",\"type\":\"ResetTool\"},{\"id\":\"8113\",\"type\":\"HelpTool\"},{\"id\":\"8128\",\"type\":\"HoverTool\"}]},\"id\":\"8114\",\"type\":\"Toolbar\"},{\"attributes\":{\"callback\":null},\"id\":\"8090\",\"type\":\"DataRange1d\"},{\"attributes\":{},\"id\":\"8423\",\"type\":\"UnionRenderers\"},{\"attributes\":{\"bottom_units\":\"screen\",\"fill_alpha\":{\"value\":0.5},\"fill_color\":{\"value\":\"lightgrey\"},\"left_units\":\"screen\",\"level\":\"overlay\",\"line_alpha\":{\"value\":1.0},\"line_color\":{\"value\":\"black\"},\"line_dash\":[4,4],\"line_width\":{\"value\":2},\"plot\":null,\"render_mode\":\"css\",\"right_units\":\"screen\",\"top_units\":\"screen\"},\"id\":\"8116\",\"type\":\"BoxAnnotation\"},{\"attributes\":{\"line_alpha\":0.1,\"line_color\":\"#1f77b4\",\"x\":{\"field\":\"x\"},\"y\":{\"field\":\"y\"}},\"id\":\"8125\",\"type\":\"Line\"},{\"attributes\":{\"source\":{\"id\":\"8123\",\"type\":\"ColumnDataSource\"}},\"id\":\"8127\",\"type\":\"CDSView\"},{\"attributes\":{\"line_color\":\"#1f77b4\",\"x\":{\"field\":\"x\"},\"y\":{\"field\":\"y\"}},\"id\":\"8124\",\"type\":\"Line\"},{\"attributes\":{\"dimension\":1,\"plot\":{\"id\":\"8088\",\"subtype\":\"Figure\",\"type\":\"Plot\"},\"ticker\":{\"id\":\"8104\",\"type\":\"BasicTicker\"}},\"id\":\"8107\",\"type\":\"Grid\"},{\"attributes\":{},\"id\":\"8418\",\"type\":\"BasicTickFormatter\"},{\"attributes\":{},\"id\":\"8416\",\"type\":\"BasicTickFormatter\"},{\"attributes\":{\"overlay\":{\"id\":\"8116\",\"type\":\"BoxAnnotation\"}},\"id\":\"8110\",\"type\":\"BoxZoomTool\"},{\"attributes\":{},\"id\":\"8108\",\"type\":\"PanTool\"},{\"attributes\":{\"callback\":null,\"tooltips\":[[\"(x,y)\",\"($x{1}, $y)\"]]},\"id\":\"8128\",\"type\":\"HoverTool\"},{\"attributes\":{\"callback\":null},\"id\":\"8092\",\"type\":\"DataRange1d\"},{\"attributes\":{\"callback\":null,\"data\":{\"x\":{\"__ndarray__\":\"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\",\"dtype\":\"float64\",\"shape\":[200]},\"y\":[-218.32278442382812,115.51302337646484,200.60374450683594,194.01870727539062,198.5723876953125,14.114380836486816,141.35562133789062,29.923070907592773,-105.10124206542969,29.487754821777344,-50.059932708740234,50.02132034301758,87.82721710205078,118.71713256835938,-56.580421447753906,85.68064880371094,14.45933723449707,-79.8302993774414,108.86251068115234,205.75262451171875,373.56072998046875,108.31420135498047,30.48957061767578,93.35637664794922,-97.02482604980469,-143.45872497558594,-213.57229614257812,-24.44167709350586,-43.89305877685547,-44.83464431762695,-230.7967071533203,-389.56927490234375,-294.6865539550781,18.95208168029785,-91.48152160644531,-75.68853759765625,-74.7490234375,-124.31729888916016,21.100791931152344,121.41930389404297,-209.78363037109375,-212.15060424804688,-40.77143859863281,-33.73599624633789,-117.88996887207031,-47.534149169921875,-169.1382598876953,-59.34584045410156,-19.027027130126953,-226.0714569091797,-444.7994689941406,-166.7559356689453,114.3833236694336,153.62026977539062,123.73420715332031,131.62747192382812,196.67115783691406,272.7773742675781,-144.68472290039062,-44.05499267578125,-65.72796630859375,77.47604370117188,91.44181060791016,28.093151092529297,229.72108459472656,98.43695831298828,-73.7475357055664,-26.39488983154297,148.63357543945312,36.449180603027344,131.0245819091797,139.9183807373047,94.33174896240234,41.770530700683594,-112.5093994140625,-247.88890075683594,-438.94415283203125,-364.5501708984375,-98.0115966796875,240.05824279785156,249.8097686767578,-146.17697143554688,23.840246200561523,179.4707794189453,127.62867736816406,47.7553596496582,115.102783203125,178.0283660888672,140.5145263671875,66.00071716308594,-59.04430389404297,220.58453369140625,-84.29440307617188,-56.85300064086914,-53.747501373291016,27.613893508911133,148.91868591308594,246.05943298339844,146.11819458007812,33.8879280090332,-41.391136169433594,-4.467043876647949,-40.22064971923828,17.107805252075195,109.19020080566406,-18.992992401123047,272.2164306640625,285.3145446777344,21.73887062072754,39.411277770996094,11.845437049865723,142.48471069335938,303.4013671875,126.77897644042969,151.97303771972656,227.1553955078125,427.7381896972656,197.59642028808594,245.9663848876953,318.7387390136719,443.8118896484375,433.3753356933594,875.9524536132812,1119.6077880859375,1134.2884521484375,812.41650390625,677.5328369140625,360.1745910644531,-73.5781478881836,-1775.337646484375,-4638.81689453125,-5267.65234375,-2521.84375,-651.8892211914062,-210.98648071289062,20.046167373657227,257.752685546875,183.06858825683594,4.687277793884277,251.81576538085938,242.88568115234375,476.07867431640625,564.734619140625,426.93548583984375,189.73602294921875,366.4194030761719,423.3293762207031,195.55772399902344,477.8954772949219,161.60047912597656,150.6570587158203,225.32891845703125,120.82111358642578,141.34458923339844,-51.911190032958984,-189.41107177734375,206.0578155517578,281.3743896484375,90.6070327758789,81.3045425415039,10.336065292358398,146.5902862548828,-97.06367492675781,193.80194091796875,127.96641540527344,86.17779541015625,34.30326843261719,143.23736572265625,-132.6409912109375,42.30880355834961,-13.46988296508789,-160.67041015625,-164.53106689453125,-101.98348236083984,-1.2034389972686768,84.3793716430664,-41.36591720581055,6.240395545959473,58.16705322265625,108.74803924560547,-0.1865636557340622,50.17573928833008,69.46190643310547,91.26959228515625,-151.33285522460938,-159.9879913330078,-38.45560073852539,196.5807342529297,13.704988479614258,-31.07306671142578,87.67625427246094,66.50569152832031,-44.99882507324219,-1.3568260669708252,-67.03119659423828,-101.98287963867188,-145.9208526611328,-76.01309967041016,-42.603355407714844,-195.62521362304688]},\"selected\":{\"id\":\"8422\",\"type\":\"Selection\"},\"selection_policy\":{\"id\":\"8421\",\"type\":\"UnionRenderers\"}},\"id\":\"8123\",\"type\":\"ColumnDataSource\"},{\"attributes\":{\"data_source\":{\"id\":\"8130\",\"type\":\"ColumnDataSource\"},\"glyph\":{\"id\":\"8131\",\"type\":\"Line\"},\"hover_glyph\":null,\"muted_glyph\":null,\"nonselection_glyph\":{\"id\":\"8132\",\"type\":\"Line\"},\"selection_glyph\":null,\"view\":{\"id\":\"8134\",\"type\":\"CDSView\"}},\"id\":\"8133\",\"type\":\"GlyphRenderer\"},{\"attributes\":{\"plot\":null,\"text\":\"17:40:41.6068, -53:40:20.1137, 105\"},\"id\":\"8087\",\"type\":\"Title\"},{\"attributes\":{},\"id\":\"8094\",\"type\":\"LinearScale\"},{\"attributes\":{},\"id\":\"8422\",\"type\":\"Selection\"},{\"attributes\":{\"source\":{\"id\":\"8130\",\"type\":\"ColumnDataSource\"}},\"id\":\"8134\",\"type\":\"CDSView\"},{\"attributes\":{\"line_color\":\"red\",\"x\":{\"field\":\"x\"},\"y\":{\"field\":\"y\"}},\"id\":\"8131\",\"type\":\"Line\"}],\"root_ids\":[\"8088\"]},\"title\":\"Bokeh Application\",\"version\":\"1.0.4\"}};\n",
       "  var render_items = [{\"docid\":\"ca4b7b7c-82f5-4659-850d-93e90015023c\",\"roots\":{\"8088\":\"66b71ade-1ba5-454c-bf20-b09ae6c8918b\"}}];\n",
       "  root.Bokeh.embed.embed_items_notebook(docs_json, render_items);\n",
       "\n",
       "  }\n",
       "  if (root.Bokeh !== undefined) {\n",
       "    embed_document(root);\n",
       "  } else {\n",
       "    var attempts = 0;\n",
       "    var timer = setInterval(function(root) {\n",
       "      if (root.Bokeh !== undefined) {\n",
       "        embed_document(root);\n",
       "        clearInterval(timer);\n",
       "      }\n",
       "      attempts++;\n",
       "      if (attempts > 100) {\n",
       "        console.log(\"Bokeh: ERROR: Unable to run BokehJS code because BokehJS library is missing\");\n",
       "        clearInterval(timer);\n",
       "      }\n",
       "    }, 10, root)\n",
       "  }\n",
       "})(window);"
      ],
      "application/vnd.bokehjs_exec.v0+json": ""
     },
     "metadata": {
      "application/vnd.bokehjs_exec.v0+json": {
       "id": "8088"
      }
     },
     "output_type": "display_data"
    },
    {
     "data": {
      "text/html": [
       "\n",
       "\n",
       "\n",
       "\n",
       "\n",
       "\n",
       "  <div class=\"bk-root\" id=\"5444a6ae-123c-4133-8458-346b0188d171\" data-root-id=\"8486\"></div>\n"
      ]
     },
     "metadata": {},
     "output_type": "display_data"
    },
    {
     "data": {
      "application/javascript": [
       "(function(root) {\n",
       "  function embed_document(root) {\n",
       "    \n",
       "  var docs_json = {\"7fb4a08c-c4fd-41b3-a8a1-68d801266508\":{\"roots\":{\"references\":[{\"attributes\":{\"below\":[{\"id\":\"8496\",\"type\":\"LinearAxis\"}],\"left\":[{\"id\":\"8501\",\"type\":\"LinearAxis\"}],\"plot_height\":500,\"plot_width\":900,\"renderers\":[{\"id\":\"8496\",\"type\":\"LinearAxis\"},{\"id\":\"8500\",\"type\":\"Grid\"},{\"id\":\"8501\",\"type\":\"LinearAxis\"},{\"id\":\"8505\",\"type\":\"Grid\"},{\"id\":\"8514\",\"type\":\"BoxAnnotation\"},{\"id\":\"8524\",\"type\":\"GlyphRenderer\"},{\"id\":\"8531\",\"type\":\"GlyphRenderer\"}],\"title\":{\"id\":\"8485\",\"type\":\"Title\"},\"toolbar\":{\"id\":\"8512\",\"type\":\"Toolbar\"},\"x_range\":{\"id\":\"8488\",\"type\":\"DataRange1d\"},\"x_scale\":{\"id\":\"8492\",\"type\":\"LinearScale\"},\"y_range\":{\"id\":\"8490\",\"type\":\"DataRange1d\"},\"y_scale\":{\"id\":\"8494\",\"type\":\"LinearScale\"}},\"id\":\"8486\",\"subtype\":\"Figure\",\"type\":\"Plot\"},{\"attributes\":{\"callback\":null,\"data\":{\"x\":{\"__ndarray__\":\"////P9liuUD///8/mZi5QP///z/ZmblA////PxmbuUD///8/WZy5QP///z+ZnblA////P9meuUD///8/mbG5QA==\",\"dtype\":\"float64\",\"shape\":[8]},\"y\":[308.1099548339844,388.25128173828125,549.3506469726562,426.8338928222656,315.4855651855469,371.22589111328125,303.24041748046875,297.13751220703125]},\"selected\":{\"id\":\"8832\",\"type\":\"Selection\"},\"selection_policy\":{\"id\":\"8831\",\"type\":\"UnionRenderers\"}},\"id\":\"8528\",\"type\":\"ColumnDataSource\"},{\"attributes\":{\"data_source\":{\"id\":\"8521\",\"type\":\"ColumnDataSource\"},\"glyph\":{\"id\":\"8522\",\"type\":\"Line\"},\"hover_glyph\":null,\"muted_glyph\":null,\"nonselection_glyph\":{\"id\":\"8523\",\"type\":\"Line\"},\"selection_glyph\":null,\"view\":{\"id\":\"8525\",\"type\":\"CDSView\"}},\"id\":\"8524\",\"type\":\"GlyphRenderer\"},{\"attributes\":{\"source\":{\"id\":\"8528\",\"type\":\"ColumnDataSource\"}},\"id\":\"8532\",\"type\":\"CDSView\"},{\"attributes\":{\"callback\":null},\"id\":\"8488\",\"type\":\"DataRange1d\"},{\"attributes\":{},\"id\":\"8506\",\"type\":\"PanTool\"},{\"attributes\":{},\"id\":\"8492\",\"type\":\"LinearScale\"},{\"attributes\":{\"active_drag\":{\"id\":\"8508\",\"type\":\"BoxZoomTool\"},\"active_inspect\":\"auto\",\"active_multi\":null,\"active_scroll\":{\"id\":\"8507\",\"type\":\"WheelZoomTool\"},\"active_tap\":\"auto\",\"tools\":[{\"id\":\"8506\",\"type\":\"PanTool\"},{\"id\":\"8507\",\"type\":\"WheelZoomTool\"},{\"id\":\"8508\",\"type\":\"BoxZoomTool\"},{\"id\":\"8509\",\"type\":\"SaveTool\"},{\"id\":\"8510\",\"type\":\"ResetTool\"},{\"id\":\"8511\",\"type\":\"HelpTool\"},{\"id\":\"8526\",\"type\":\"HoverTool\"}]},\"id\":\"8512\",\"type\":\"Toolbar\"},{\"attributes\":{\"formatter\":{\"id\":\"8824\",\"type\":\"BasicTickFormatter\"},\"plot\":{\"id\":\"8486\",\"subtype\":\"Figure\",\"type\":\"Plot\"},\"ticker\":{\"id\":\"8502\",\"type\":\"BasicTicker\"}},\"id\":\"8501\",\"type\":\"LinearAxis\"},{\"attributes\":{},\"id\":\"8826\",\"type\":\"BasicTickFormatter\"},{\"attributes\":{\"data_source\":{\"id\":\"8528\",\"type\":\"ColumnDataSource\"},\"glyph\":{\"id\":\"8529\",\"type\":\"Line\"},\"hover_glyph\":null,\"muted_glyph\":null,\"nonselection_glyph\":{\"id\":\"8530\",\"type\":\"Line\"},\"selection_glyph\":null,\"view\":{\"id\":\"8532\",\"type\":\"CDSView\"}},\"id\":\"8531\",\"type\":\"GlyphRenderer\"},{\"attributes\":{},\"id\":\"8511\",\"type\":\"HelpTool\"},{\"attributes\":{\"plot\":{\"id\":\"8486\",\"subtype\":\"Figure\",\"type\":\"Plot\"},\"ticker\":{\"id\":\"8497\",\"type\":\"BasicTicker\"}},\"id\":\"8500\",\"type\":\"Grid\"},{\"attributes\":{},\"id\":\"8509\",\"type\":\"SaveTool\"},{\"attributes\":{},\"id\":\"8510\",\"type\":\"ResetTool\"},{\"attributes\":{},\"id\":\"8824\",\"type\":\"BasicTickFormatter\"},{\"attributes\":{\"formatter\":{\"id\":\"8826\",\"type\":\"BasicTickFormatter\"},\"plot\":{\"id\":\"8486\",\"subtype\":\"Figure\",\"type\":\"Plot\"},\"ticker\":{\"id\":\"8497\",\"type\":\"BasicTicker\"}},\"id\":\"8496\",\"type\":\"LinearAxis\"},{\"attributes\":{},\"id\":\"8832\",\"type\":\"Selection\"},{\"attributes\":{\"line_alpha\":0.1,\"line_color\":\"#1f77b4\",\"x\":{\"field\":\"x\"},\"y\":{\"field\":\"y\"}},\"id\":\"8530\",\"type\":\"Line\"},{\"attributes\":{\"line_alpha\":0.1,\"line_color\":\"#1f77b4\",\"x\":{\"field\":\"x\"},\"y\":{\"field\":\"y\"}},\"id\":\"8523\",\"type\":\"Line\"},{\"attributes\":{},\"id\":\"8830\",\"type\":\"Selection\"},{\"attributes\":{\"plot\":null,\"text\":\"17:40:41.5401, -53:40:19.6137, 123\"},\"id\":\"8485\",\"type\":\"Title\"},{\"attributes\":{\"dimension\":1,\"plot\":{\"id\":\"8486\",\"subtype\":\"Figure\",\"type\":\"Plot\"},\"ticker\":{\"id\":\"8502\",\"type\":\"BasicTicker\"}},\"id\":\"8505\",\"type\":\"Grid\"},{\"attributes\":{},\"id\":\"8829\",\"type\":\"UnionRenderers\"},{\"attributes\":{\"callback\":null},\"id\":\"8490\",\"type\":\"DataRange1d\"},{\"attributes\":{\"line_color\":\"red\",\"x\":{\"field\":\"x\"},\"y\":{\"field\":\"y\"}},\"id\":\"8529\",\"type\":\"Line\"},{\"attributes\":{},\"id\":\"8831\",\"type\":\"UnionRenderers\"},{\"attributes\":{\"overlay\":{\"id\":\"8514\",\"type\":\"BoxAnnotation\"}},\"id\":\"8508\",\"type\":\"BoxZoomTool\"},{\"attributes\":{\"line_color\":\"#1f77b4\",\"x\":{\"field\":\"x\"},\"y\":{\"field\":\"y\"}},\"id\":\"8522\",\"type\":\"Line\"},{\"attributes\":{\"bottom_units\":\"screen\",\"fill_alpha\":{\"value\":0.5},\"fill_color\":{\"value\":\"lightgrey\"},\"left_units\":\"screen\",\"level\":\"overlay\",\"line_alpha\":{\"value\":1.0},\"line_color\":{\"value\":\"black\"},\"line_dash\":[4,4],\"line_width\":{\"value\":2},\"plot\":null,\"render_mode\":\"css\",\"right_units\":\"screen\",\"top_units\":\"screen\"},\"id\":\"8514\",\"type\":\"BoxAnnotation\"},{\"attributes\":{},\"id\":\"8497\",\"type\":\"BasicTicker\"},{\"attributes\":{},\"id\":\"8507\",\"type\":\"WheelZoomTool\"},{\"attributes\":{},\"id\":\"8502\",\"type\":\"BasicTicker\"},{\"attributes\":{\"source\":{\"id\":\"8521\",\"type\":\"ColumnDataSource\"}},\"id\":\"8525\",\"type\":\"CDSView\"},{\"attributes\":{\"callback\":null,\"tooltips\":[[\"(x,y)\",\"($x{1}, $y)\"]]},\"id\":\"8526\",\"type\":\"HoverTool\"},{\"attributes\":{\"callback\":null,\"data\":{\"x\":{\"__ndarray__\":\"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\",\"dtype\":\"float64\",\"shape\":[200]},\"y\":[0.3214665353298187,-12.464423179626465,23.293411254882812,-32.821659088134766,11.5794038772583,41.75368118286133,-24.937252044677734,17.218515396118164,-13.257044792175293,48.556724548339844,-26.771211624145508,40.273189544677734,65.54942321777344,-0.8992952704429626,30.625883102416992,8.568562507629395,48.11307144165039,34.84009552001953,-0.35095077753067017,-6.309186935424805,-30.64899253845215,-1.968026876449585,17.102121353149414,-14.187694549560547,-20.652904510498047,-11.703542709350586,-44.06958770751953,-9.223211288452148,42.28407669067383,-34.696651458740234,-0.2078772485256195,-71.58809661865234,6.6742777824401855,-41.594329833984375,-18.9483642578125,-33.3564567565918,0.41589412093162537,-15.133023262023926,-30.204381942749023,-43.370689392089844,-80.87388610839844,47.64295196533203,-35.83127212524414,-21.754697799682617,-32.03857421875,-52.05216598510742,28.41156005859375,-57.83062744140625,-5.087074279785156,5.49548864364624,2.6552212238311768,53.49783706665039,78.99317932128906,52.92605209350586,42.66313934326172,35.92026901245117,145.5741424560547,117.1113510131836,-0.7963765859603882,-5.760231971740723,-33.77716827392578,-65.13990783691406,10.972963333129883,0.837440550327301,-28.22848129272461,4.309011936187744,-1.382233738899231,-38.64926528930664,-59.4790153503418,-76.96536254882812,-19.507232666015625,-57.15735626220703,-57.767784118652344,-3.2639360427856445,-44.266170501708984,-94.31037139892578,-120.17095947265625,-4.524203777313232,106.92506408691406,308.1099548339844,164.04754638671875,18.55546760559082,-49.07720947265625,66.06234741210938,80.09524536132812,59.42234420776367,-14.123088836669922,-41.19096374511719,-24.43301010131836,-54.4388313293457,-25.68791389465332,-21.22103500366211,13.224623680114746,-65.48582458496094,-71.16597747802734,-66.01126861572266,-26.437103271484375,-28.0376033782959,57.77231979370117,-18.464975357055664,21.807147979736328,-53.46233367919922,-49.95493698120117,-46.9962272644043,-17.948259353637695,-7.780399799346924,228.60037231445312,196.65011596679688,17.371990203857422,-38.51084518432617,-20.973251342773438,-5.092250347137451,-24.47197151184082,24.87647819519043,56.24521255493164,118.93574523925781,124.99324798583984,7.479110240936279,7.087676525115967,32.18283462524414,105.31915283203125,213.3069305419922,388.25128173828125,549.3506469726562,426.8338928222656,315.4855651855469,371.22589111328125,303.24041748046875,232.5000762939453,142.57371520996094,-44.711265563964844,-157.3206787109375,-52.06289291381836,7.236055374145508,67.08629608154297,147.37075805664062,142.90231323242188,111.20439910888672,72.31851959228516,26.563518524169922,5.719672203063965,209.62095642089844,297.13751220703125,175.54641723632812,17.550308227539062,-12.851171493530273,82.40752410888672,51.34910583496094,18.135190963745117,-21.739471435546875,-27.313451766967773,-6.594564914703369,-39.57279968261719,-24.515003204345703,-40.833526611328125,-29.92595672607422,-25.70171546936035,34.36068344116211,35.15003204345703,-4.645681381225586,-48.32784652709961,17.880508422851562,44.42482376098633,78.16398620605469,85.43075561523438,11.231363296508789,-22.07103729248047,54.077266693115234,-23.88085174560547,-8.365927696228027,40.044525146484375,13.507490158081055,-85.08677673339844,-3.9655649662017822,35.27505111694336,38.531681060791016,-2.486816167831421,-57.29752731323242,-64.10833740234375,-44.016422271728516,-10.412639617919922,15.5826416015625,23.478458404541016,-11.05075454711914,70.60242462158203,12.467911720275879,-23.678422927856445,21.222991943359375,24.474647521972656,-19.72167205810547,10.86388874053955,3.9300615787506104,-5.132528305053711,28.555269241333008,6.455978870391846,-14.148051261901855,-53.68785095214844,-34.586151123046875,-64.31328582763672,-9.054680824279785]},\"selected\":{\"id\":\"8830\",\"type\":\"Selection\"},\"selection_policy\":{\"id\":\"8829\",\"type\":\"UnionRenderers\"}},\"id\":\"8521\",\"type\":\"ColumnDataSource\"},{\"attributes\":{},\"id\":\"8494\",\"type\":\"LinearScale\"}],\"root_ids\":[\"8486\"]},\"title\":\"Bokeh Application\",\"version\":\"1.0.4\"}};\n",
       "  var render_items = [{\"docid\":\"7fb4a08c-c4fd-41b3-a8a1-68d801266508\",\"roots\":{\"8486\":\"5444a6ae-123c-4133-8458-346b0188d171\"}}];\n",
       "  root.Bokeh.embed.embed_items_notebook(docs_json, render_items);\n",
       "\n",
       "  }\n",
       "  if (root.Bokeh !== undefined) {\n",
       "    embed_document(root);\n",
       "  } else {\n",
       "    var attempts = 0;\n",
       "    var timer = setInterval(function(root) {\n",
       "      if (root.Bokeh !== undefined) {\n",
       "        embed_document(root);\n",
       "        clearInterval(timer);\n",
       "      }\n",
       "      attempts++;\n",
       "      if (attempts > 100) {\n",
       "        console.log(\"Bokeh: ERROR: Unable to run BokehJS code because BokehJS library is missing\");\n",
       "        clearInterval(timer);\n",
       "      }\n",
       "    }, 10, root)\n",
       "  }\n",
       "})(window);"
      ],
      "application/vnd.bokehjs_exec.v0+json": ""
     },
     "metadata": {
      "application/vnd.bokehjs_exec.v0+json": {
       "id": "8486"
      }
     },
     "output_type": "display_data"
    },
    {
     "data": {
      "text/html": [
       "\n",
       "\n",
       "\n",
       "\n",
       "\n",
       "\n",
       "  <div class=\"bk-root\" id=\"3e1b8a6e-f0f2-4884-82d1-7f2989929580\" data-root-id=\"8894\"></div>\n"
      ]
     },
     "metadata": {},
     "output_type": "display_data"
    },
    {
     "data": {
      "application/javascript": [
       "(function(root) {\n",
       "  function embed_document(root) {\n",
       "    \n",
       "  var docs_json = {\"a87d5f85-9ca2-4448-bea2-8565c863a447\":{\"roots\":{\"references\":[{\"attributes\":{\"below\":[{\"id\":\"8904\",\"type\":\"LinearAxis\"}],\"left\":[{\"id\":\"8909\",\"type\":\"LinearAxis\"}],\"plot_height\":500,\"plot_width\":900,\"renderers\":[{\"id\":\"8904\",\"type\":\"LinearAxis\"},{\"id\":\"8908\",\"type\":\"Grid\"},{\"id\":\"8909\",\"type\":\"LinearAxis\"},{\"id\":\"8913\",\"type\":\"Grid\"},{\"id\":\"8922\",\"type\":\"BoxAnnotation\"},{\"id\":\"8932\",\"type\":\"GlyphRenderer\"},{\"id\":\"8939\",\"type\":\"GlyphRenderer\"}],\"title\":{\"id\":\"8893\",\"type\":\"Title\"},\"toolbar\":{\"id\":\"8920\",\"type\":\"Toolbar\"},\"x_range\":{\"id\":\"8896\",\"type\":\"DataRange1d\"},\"x_scale\":{\"id\":\"8900\",\"type\":\"LinearScale\"},\"y_range\":{\"id\":\"8898\",\"type\":\"DataRange1d\"},\"y_scale\":{\"id\":\"8902\",\"type\":\"LinearScale\"}},\"id\":\"8894\",\"subtype\":\"Figure\",\"type\":\"Plot\"},{\"attributes\":{},\"id\":\"8902\",\"type\":\"LinearScale\"},{\"attributes\":{\"line_alpha\":0.1,\"line_color\":\"#1f77b4\",\"x\":{\"field\":\"x\"},\"y\":{\"field\":\"y\"}},\"id\":\"8931\",\"type\":\"Line\"},{\"attributes\":{},\"id\":\"9247\",\"type\":\"UnionRenderers\"},{\"attributes\":{\"plot\":null,\"text\":\"17:40:41.5735, -53:40:19.6137, 124\"},\"id\":\"8893\",\"type\":\"Title\"},{\"attributes\":{\"formatter\":{\"id\":\"9242\",\"type\":\"BasicTickFormatter\"},\"plot\":{\"id\":\"8894\",\"subtype\":\"Figure\",\"type\":\"Plot\"},\"ticker\":{\"id\":\"8910\",\"type\":\"BasicTicker\"}},\"id\":\"8909\",\"type\":\"LinearAxis\"},{\"attributes\":{},\"id\":\"9242\",\"type\":\"BasicTickFormatter\"},{\"attributes\":{},\"id\":\"9248\",\"type\":\"Selection\"},{\"attributes\":{},\"id\":\"9250\",\"type\":\"Selection\"},{\"attributes\":{},\"id\":\"8917\",\"type\":\"SaveTool\"},{\"attributes\":{},\"id\":\"9249\",\"type\":\"UnionRenderers\"},{\"attributes\":{},\"id\":\"8915\",\"type\":\"WheelZoomTool\"},{\"attributes\":{},\"id\":\"8905\",\"type\":\"BasicTicker\"},{\"attributes\":{\"dimension\":1,\"plot\":{\"id\":\"8894\",\"subtype\":\"Figure\",\"type\":\"Plot\"},\"ticker\":{\"id\":\"8910\",\"type\":\"BasicTicker\"}},\"id\":\"8913\",\"type\":\"Grid\"},{\"attributes\":{\"callback\":null,\"data\":{\"x\":{\"__ndarray__\":\"////PxmWuUD///8/WZe5QP///z+ZmLlA////P9mZuUD///8/GZu5QP///z9ZnLlA////P5mduUD///8/2Z65QP///z8ZoLlA////P1mhuUD///8/maK5QP///z8ZpblA////P1mmuUD///8/mae5QP///z/ZqLlA////PxmquUD///8/Wau5QP///z+ZrLlA////P9mtuUD///8/WbC5QP///z+ZsblA\",\"dtype\":\"float64\",\"shape\":[21]},\"y\":[460.9521789550781,666.1303100585938,1041.1248779296875,1373.57470703125,1510.462158203125,1579.0821533203125,1639.6910400390625,1488.607177734375,1256.20556640625,999.8264770507812,496.527099609375,445.0605773925781,539.9954223632812,687.061279296875,671.7898559570312,617.50439453125,462.5510559082031,353.10418701171875,337.0944519042969,419.0245361328125,380.59228515625]},\"selected\":{\"id\":\"9250\",\"type\":\"Selection\"},\"selection_policy\":{\"id\":\"9249\",\"type\":\"UnionRenderers\"}},\"id\":\"8936\",\"type\":\"ColumnDataSource\"},{\"attributes\":{},\"id\":\"8918\",\"type\":\"ResetTool\"},{\"attributes\":{\"callback\":null,\"tooltips\":[[\"(x,y)\",\"($x{1}, $y)\"]]},\"id\":\"8934\",\"type\":\"HoverTool\"},{\"attributes\":{\"plot\":{\"id\":\"8894\",\"subtype\":\"Figure\",\"type\":\"Plot\"},\"ticker\":{\"id\":\"8905\",\"type\":\"BasicTicker\"}},\"id\":\"8908\",\"type\":\"Grid\"},{\"attributes\":{\"data_source\":{\"id\":\"8936\",\"type\":\"ColumnDataSource\"},\"glyph\":{\"id\":\"8937\",\"type\":\"Line\"},\"hover_glyph\":null,\"muted_glyph\":null,\"nonselection_glyph\":{\"id\":\"8938\",\"type\":\"Line\"},\"selection_glyph\":null,\"view\":{\"id\":\"8940\",\"type\":\"CDSView\"}},\"id\":\"8939\",\"type\":\"GlyphRenderer\"},{\"attributes\":{\"overlay\":{\"id\":\"8922\",\"type\":\"BoxAnnotation\"}},\"id\":\"8916\",\"type\":\"BoxZoomTool\"},{\"attributes\":{\"line_color\":\"red\",\"x\":{\"field\":\"x\"},\"y\":{\"field\":\"y\"}},\"id\":\"8937\",\"type\":\"Line\"},{\"attributes\":{\"active_drag\":{\"id\":\"8916\",\"type\":\"BoxZoomTool\"},\"active_inspect\":\"auto\",\"active_multi\":null,\"active_scroll\":{\"id\":\"8915\",\"type\":\"WheelZoomTool\"},\"active_tap\":\"auto\",\"tools\":[{\"id\":\"8914\",\"type\":\"PanTool\"},{\"id\":\"8915\",\"type\":\"WheelZoomTool\"},{\"id\":\"8916\",\"type\":\"BoxZoomTool\"},{\"id\":\"8917\",\"type\":\"SaveTool\"},{\"id\":\"8918\",\"type\":\"ResetTool\"},{\"id\":\"8919\",\"type\":\"HelpTool\"},{\"id\":\"8934\",\"type\":\"HoverTool\"}]},\"id\":\"8920\",\"type\":\"Toolbar\"},{\"attributes\":{\"line_alpha\":0.1,\"line_color\":\"#1f77b4\",\"x\":{\"field\":\"x\"},\"y\":{\"field\":\"y\"}},\"id\":\"8938\",\"type\":\"Line\"},{\"attributes\":{\"source\":{\"id\":\"8936\",\"type\":\"ColumnDataSource\"}},\"id\":\"8940\",\"type\":\"CDSView\"},{\"attributes\":{\"data_source\":{\"id\":\"8929\",\"type\":\"ColumnDataSource\"},\"glyph\":{\"id\":\"8930\",\"type\":\"Line\"},\"hover_glyph\":null,\"muted_glyph\":null,\"nonselection_glyph\":{\"id\":\"8931\",\"type\":\"Line\"},\"selection_glyph\":null,\"view\":{\"id\":\"8933\",\"type\":\"CDSView\"}},\"id\":\"8932\",\"type\":\"GlyphRenderer\"},{\"attributes\":{},\"id\":\"8910\",\"type\":\"BasicTicker\"},{\"attributes\":{\"source\":{\"id\":\"8929\",\"type\":\"ColumnDataSource\"}},\"id\":\"8933\",\"type\":\"CDSView\"},{\"attributes\":{\"line_color\":\"#1f77b4\",\"x\":{\"field\":\"x\"},\"y\":{\"field\":\"y\"}},\"id\":\"8930\",\"type\":\"Line\"},{\"attributes\":{\"callback\":null,\"data\":{\"x\":{\"__ndarray__\":\"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\",\"dtype\":\"float64\",\"shape\":[200]},\"y\":[-17.916500091552734,17.77067756652832,55.233360290527344,2.9305355548858643,8.652239799499512,25.332555770874023,-0.8136725425720215,20.87029266357422,-25.11408233642578,12.374313354492188,-35.382293701171875,95.27381896972656,175.63951110839844,4.893508434295654,59.942054748535156,-30.84424591064453,38.57366943359375,29.651859283447266,49.66864013671875,-56.94922637939453,31.110754013061523,3.0204617977142334,-35.65003967285156,-17.90001106262207,-44.34029769897461,-35.29560852050781,-64.31818389892578,78.18230438232422,53.73344802856445,33.851112365722656,-26.302837371826172,-97.06140899658203,-72.32694244384766,-90.26155090332031,-56.116451263427734,3.0990757942199707,-35.29368209838867,55.01143264770508,-60.8452033996582,50.381771087646484,-16.261985778808594,-26.381702423095703,-52.317710876464844,-84.44622802734375,-92.70573425292969,-171.71243286132812,-53.70364761352539,-2.7189114093780518,-1.4581793546676636,39.289241790771484,-14.269375801086426,62.216556549072266,48.921356201171875,105.06913757324219,16.7060546875,-11.168145179748535,124.21436309814453,15.536438941955566,13.958728790283203,-22.809295654296875,-66.33403778076172,9.971653938293457,55.286251068115234,-23.62901496887207,-6.449194431304932,-3.200654983520508,48.91543197631836,-36.38950729370117,-123.988525390625,-59.64381790161133,-14.426193237304688,-47.48140335083008,-34.004512786865234,36.02424621582031,-48.24814224243164,-146.87857055664062,-122.1302261352539,-53.07902908325195,81.32384490966797,246.45901489257812,156.11236572265625,58.44015121459961,20.498031616210938,63.070674896240234,83.2225341796875,60.33056640625,27.0842227935791,-39.10512161254883,-53.336097717285156,-10.2402982711792,-9.626317024230957,74.41722106933594,-4.097469806671143,-103.87132263183594,-115.48100280761719,-40.77171325683594,36.332706451416016,-16.125743865966797,41.70180892944336,99.27801513671875,30.18709945678711,-38.56141662597656,-2.3798837661743164,-73.25048065185547,-21.91173553466797,-1.8502172231674194,256.15234375,112.28097534179688,33.24518966674805,53.19193649291992,1.6737093925476074,111.60970306396484,98.21694946289062,77.8995132446289,158.78237915039062,214.72738647460938,272.4273681640625,191.97369384765625,245.31600952148438,315.590576171875,460.9521789550781,666.1303100585938,1041.1248779296875,1373.57470703125,1510.462158203125,1579.0821533203125,1639.6910400390625,1488.607177734375,1256.20556640625,999.8264770507812,496.527099609375,199.1057891845703,445.0605773925781,539.9954223632812,687.061279296875,671.7898559570312,617.50439453125,462.5510559082031,353.10418701171875,337.0944519042969,300.7434997558594,419.0245361328125,380.59228515625,208.83396911621094,145.14268493652344,50.347015380859375,125.44843292236328,137.3502655029297,71.19068145751953,68.80221557617188,21.259565353393555,21.52294158935547,44.14727020263672,-8.21338939666748,-77.16866302490234,-4.926307678222656,-0.4738774299621582,70.34170532226562,92.61370086669922,97.13288879394531,-55.86172866821289,71.81002807617188,54.522186279296875,121.94564056396484,88.37971496582031,78.84612274169922,-42.635101318359375,84.577392578125,0.41890373826026917,-6.950159549713135,19.647689819335938,5.393360137939453,9.528794288635254,-1.3349227905273438,-4.145301818847656,20.348878860473633,6.327548980712891,23.87860107421875,-93.34586334228516,-72.2330551147461,29.657207489013672,39.08396530151367,110.1561050415039,43.08358383178711,-18.061330795288086,-4.718337059020996,-61.13084411621094,-22.248310089111328,36.765682220458984,-42.9389533996582,-26.206466674804688,-36.72264099121094,-26.26433563232422,-32.14112091064453,-32.52462387084961,-19.42412567138672,-75.7175521850586,-29.132936477661133,-33.6631965637207,-16.303932189941406]},\"selected\":{\"id\":\"9248\",\"type\":\"Selection\"},\"selection_policy\":{\"id\":\"9247\",\"type\":\"UnionRenderers\"}},\"id\":\"8929\",\"type\":\"ColumnDataSource\"},{\"attributes\":{\"callback\":null},\"id\":\"8896\",\"type\":\"DataRange1d\"},{\"attributes\":{},\"id\":\"9244\",\"type\":\"BasicTickFormatter\"},{\"attributes\":{\"formatter\":{\"id\":\"9244\",\"type\":\"BasicTickFormatter\"},\"plot\":{\"id\":\"8894\",\"subtype\":\"Figure\",\"type\":\"Plot\"},\"ticker\":{\"id\":\"8905\",\"type\":\"BasicTicker\"}},\"id\":\"8904\",\"type\":\"LinearAxis\"},{\"attributes\":{\"callback\":null},\"id\":\"8898\",\"type\":\"DataRange1d\"},{\"attributes\":{},\"id\":\"8919\",\"type\":\"HelpTool\"},{\"attributes\":{},\"id\":\"8914\",\"type\":\"PanTool\"},{\"attributes\":{},\"id\":\"8900\",\"type\":\"LinearScale\"},{\"attributes\":{\"bottom_units\":\"screen\",\"fill_alpha\":{\"value\":0.5},\"fill_color\":{\"value\":\"lightgrey\"},\"left_units\":\"screen\",\"level\":\"overlay\",\"line_alpha\":{\"value\":1.0},\"line_color\":{\"value\":\"black\"},\"line_dash\":[4,4],\"line_width\":{\"value\":2},\"plot\":null,\"render_mode\":\"css\",\"right_units\":\"screen\",\"top_units\":\"screen\"},\"id\":\"8922\",\"type\":\"BoxAnnotation\"}],\"root_ids\":[\"8894\"]},\"title\":\"Bokeh Application\",\"version\":\"1.0.4\"}};\n",
       "  var render_items = [{\"docid\":\"a87d5f85-9ca2-4448-bea2-8565c863a447\",\"roots\":{\"8894\":\"3e1b8a6e-f0f2-4884-82d1-7f2989929580\"}}];\n",
       "  root.Bokeh.embed.embed_items_notebook(docs_json, render_items);\n",
       "\n",
       "  }\n",
       "  if (root.Bokeh !== undefined) {\n",
       "    embed_document(root);\n",
       "  } else {\n",
       "    var attempts = 0;\n",
       "    var timer = setInterval(function(root) {\n",
       "      if (root.Bokeh !== undefined) {\n",
       "        embed_document(root);\n",
       "        clearInterval(timer);\n",
       "      }\n",
       "      attempts++;\n",
       "      if (attempts > 100) {\n",
       "        console.log(\"Bokeh: ERROR: Unable to run BokehJS code because BokehJS library is missing\");\n",
       "        clearInterval(timer);\n",
       "      }\n",
       "    }, 10, root)\n",
       "  }\n",
       "})(window);"
      ],
      "application/vnd.bokehjs_exec.v0+json": ""
     },
     "metadata": {
      "application/vnd.bokehjs_exec.v0+json": {
       "id": "8894"
      }
     },
     "output_type": "display_data"
    },
    {
     "data": {
      "text/html": [
       "\n",
       "\n",
       "\n",
       "\n",
       "\n",
       "\n",
       "  <div class=\"bk-root\" id=\"00b6a772-18b0-4835-a469-cf87a30e1962\" data-root-id=\"9312\"></div>\n"
      ]
     },
     "metadata": {},
     "output_type": "display_data"
    },
    {
     "data": {
      "application/javascript": [
       "(function(root) {\n",
       "  function embed_document(root) {\n",
       "    \n",
       "  var docs_json = {\"2310b027-4352-425c-bab6-d9e358b6ba4e\":{\"roots\":{\"references\":[{\"attributes\":{\"below\":[{\"id\":\"9322\",\"type\":\"LinearAxis\"}],\"left\":[{\"id\":\"9327\",\"type\":\"LinearAxis\"}],\"plot_height\":500,\"plot_width\":900,\"renderers\":[{\"id\":\"9322\",\"type\":\"LinearAxis\"},{\"id\":\"9326\",\"type\":\"Grid\"},{\"id\":\"9327\",\"type\":\"LinearAxis\"},{\"id\":\"9331\",\"type\":\"Grid\"},{\"id\":\"9340\",\"type\":\"BoxAnnotation\"},{\"id\":\"9350\",\"type\":\"GlyphRenderer\"},{\"id\":\"9357\",\"type\":\"GlyphRenderer\"}],\"title\":{\"id\":\"9311\",\"type\":\"Title\"},\"toolbar\":{\"id\":\"9338\",\"type\":\"Toolbar\"},\"x_range\":{\"id\":\"9314\",\"type\":\"DataRange1d\"},\"x_scale\":{\"id\":\"9318\",\"type\":\"LinearScale\"},\"y_range\":{\"id\":\"9316\",\"type\":\"DataRange1d\"},\"y_scale\":{\"id\":\"9320\",\"type\":\"LinearScale\"}},\"id\":\"9312\",\"subtype\":\"Figure\",\"type\":\"Plot\"},{\"attributes\":{\"overlay\":{\"id\":\"9340\",\"type\":\"BoxAnnotation\"}},\"id\":\"9334\",\"type\":\"BoxZoomTool\"},{\"attributes\":{\"plot\":{\"id\":\"9312\",\"subtype\":\"Figure\",\"type\":\"Plot\"},\"ticker\":{\"id\":\"9323\",\"type\":\"BasicTicker\"}},\"id\":\"9326\",\"type\":\"Grid\"},{\"attributes\":{\"line_alpha\":0.1,\"line_color\":\"#1f77b4\",\"x\":{\"field\":\"x\"},\"y\":{\"field\":\"y\"}},\"id\":\"9356\",\"type\":\"Line\"},{\"attributes\":{\"source\":{\"id\":\"9347\",\"type\":\"ColumnDataSource\"}},\"id\":\"9351\",\"type\":\"CDSView\"},{\"attributes\":{\"line_color\":\"#1f77b4\",\"x\":{\"field\":\"x\"},\"y\":{\"field\":\"y\"}},\"id\":\"9348\",\"type\":\"Line\"},{\"attributes\":{},\"id\":\"9320\",\"type\":\"LinearScale\"},{\"attributes\":{},\"id\":\"9676\",\"type\":\"Selection\"},{\"attributes\":{},\"id\":\"9670\",\"type\":\"BasicTickFormatter\"},{\"attributes\":{},\"id\":\"9332\",\"type\":\"PanTool\"},{\"attributes\":{\"active_drag\":{\"id\":\"9334\",\"type\":\"BoxZoomTool\"},\"active_inspect\":\"auto\",\"active_multi\":null,\"active_scroll\":{\"id\":\"9333\",\"type\":\"WheelZoomTool\"},\"active_tap\":\"auto\",\"tools\":[{\"id\":\"9332\",\"type\":\"PanTool\"},{\"id\":\"9333\",\"type\":\"WheelZoomTool\"},{\"id\":\"9334\",\"type\":\"BoxZoomTool\"},{\"id\":\"9335\",\"type\":\"SaveTool\"},{\"id\":\"9336\",\"type\":\"ResetTool\"},{\"id\":\"9337\",\"type\":\"HelpTool\"},{\"id\":\"9352\",\"type\":\"HoverTool\"}]},\"id\":\"9338\",\"type\":\"Toolbar\"},{\"attributes\":{\"dimension\":1,\"plot\":{\"id\":\"9312\",\"subtype\":\"Figure\",\"type\":\"Plot\"},\"ticker\":{\"id\":\"9328\",\"type\":\"BasicTicker\"}},\"id\":\"9331\",\"type\":\"Grid\"},{\"attributes\":{},\"id\":\"9333\",\"type\":\"WheelZoomTool\"},{\"attributes\":{\"source\":{\"id\":\"9354\",\"type\":\"ColumnDataSource\"}},\"id\":\"9358\",\"type\":\"CDSView\"},{\"attributes\":{\"formatter\":{\"id\":\"9670\",\"type\":\"BasicTickFormatter\"},\"plot\":{\"id\":\"9312\",\"subtype\":\"Figure\",\"type\":\"Plot\"},\"ticker\":{\"id\":\"9328\",\"type\":\"BasicTicker\"}},\"id\":\"9327\",\"type\":\"LinearAxis\"},{\"attributes\":{\"plot\":null,\"text\":\"17:40:41.6068, -53:40:19.6137, 125\"},\"id\":\"9311\",\"type\":\"Title\"},{\"attributes\":{\"callback\":null},\"id\":\"9314\",\"type\":\"DataRange1d\"},{\"attributes\":{\"callback\":null,\"tooltips\":[[\"(x,y)\",\"($x{1}, $y)\"]]},\"id\":\"9352\",\"type\":\"HoverTool\"},{\"attributes\":{},\"id\":\"9678\",\"type\":\"Selection\"},{\"attributes\":{\"bottom_units\":\"screen\",\"fill_alpha\":{\"value\":0.5},\"fill_color\":{\"value\":\"lightgrey\"},\"left_units\":\"screen\",\"level\":\"overlay\",\"line_alpha\":{\"value\":1.0},\"line_color\":{\"value\":\"black\"},\"line_dash\":[4,4],\"line_width\":{\"value\":2},\"plot\":null,\"render_mode\":\"css\",\"right_units\":\"screen\",\"top_units\":\"screen\"},\"id\":\"9340\",\"type\":\"BoxAnnotation\"},{\"attributes\":{},\"id\":\"9335\",\"type\":\"SaveTool\"},{\"attributes\":{\"formatter\":{\"id\":\"9672\",\"type\":\"BasicTickFormatter\"},\"plot\":{\"id\":\"9312\",\"subtype\":\"Figure\",\"type\":\"Plot\"},\"ticker\":{\"id\":\"9323\",\"type\":\"BasicTicker\"}},\"id\":\"9322\",\"type\":\"LinearAxis\"},{\"attributes\":{\"callback\":null,\"data\":{\"x\":{\"__ndarray__\":\"////PxkAuUD///8/WQG5QP///z+ZArlA////P9kDuUD///8/GQW5QP///z9ZBrlA////P5kHuUD///8/2Qi5QP///z8ZCrlA////P1kLuUD///8/mQy5QP///z/ZDblA////PxkPuUD///8/WRC5QP///z+ZEblA////P9kSuUD///8/GRS5QP///z9ZFblA////P5kWuUD///8/2Re5QP///z8ZGblA////P1kauUD///8/mRu5QP///z/ZHLlA////PxkeuUD///8/WR+5QP///z+ZILlA////P9khuUD///8/GSO5QP///z9ZJLlA////P5kluUD///8/2Sa5QP///z8ZKLlA////P1kpuUD///8/mSq5QP///z/ZK7lA////PxktuUD///8/WS65QP///z+ZL7lA////P9kwuUD///8/GTK5QP///z9ZM7lA////P5k0uUD///8/2TW5QP///z8ZN7lA////P1k4uUD///8/mTm5QP///z/ZOrlA////Pxk8uUD///8/WT25QP///z+ZPrlA////P9k/uUD///8/GUG5QP///z9ZQrlA////P5lDuUD///8/2US5QP///z8ZRrlA////P1lHuUD///8/mUi5QP///z/ZSblA////PxlLuUD///8/WUy5QP///z+ZTblA////P9lOuUD///8/GVC5QP///z9ZUblA////P5lSuUD///8/2VO5QP///z8ZVblA////P1lWuUD///8/mVe5QP///z/ZWLlA////PxlauUD///8/WVu5QP///z+ZXLlA////P9lduUD///8/GV+5QP///z9ZYLlA////P5lhuUD///8/2WK5QP///z8ZZLlA////P1lluUD///8/mWa5QP///z/ZZ7lA////PxlpuUD///8/WWq5QP///z+Za7lA////P9lsuUD///8/GW65QP///z9Zb7lA////P5lwuUD///8/2XG5QP///z8Zc7lA////P1l0uUD///8/mXW5QP///z/ZdrlA////Pxl4uUD///8/WXm5QP///z+ZerlA////P9l7uUD///8/GX25QP///z9ZfrlA////P5l/uUD///8/2YC5QP///z8ZgrlA////P1mDuUD///8/mYS5QP///z/ZhblA////PxmHuUD///8/WYi5QP///z+ZiblA////P9mKuUD///8/GYy5QP///z9ZjblA////P5mOuUD///8/2Y+5QP///z8ZkblA////P1mSuUD///8/mZO5QP///z/ZlLlA////PxmWuUD///8/WZe5QP///z+ZmLlA////P9mZuUD///8/GZu5QP///z9ZnLlA////P5mduUD///8/2Z65QP///z8ZoLlA////P1mhuUD///8/maK5QP///z/Zo7lA////PxmluUD///8/Waa5QP///z+Zp7lA////P9mouUD///8/Gaq5QP///z9Zq7lA////P5msuUD///8/2a25QP///z8Zr7lA////P1mwuUD///8/mbG5QP///z/ZsrlA////Pxm0uUD///8/WbW5QP///z+ZtrlA////P9m3uUD///8/Gbm5QP///z9ZurlA////P5m7uUD///8/2by5QP///z8ZvrlA////P1m/uUD///8/mcC5QP///z/ZwblA////PxnDuUD///8/WcS5QP///z+ZxblA////P9nGuUD///8/Gci5QP///z9ZyblA////P5nKuUD///8/2cu5QP///z8ZzblA////P1nOuUD///8/mc+5QP///z/Z0LlA////PxnSuUD///8/WdO5QP///z+Z1LlA////P9nVuUD///8/Gde5QP///z9Z2LlA////P5nZuUD///8/2dq5QP///z8Z3LlA////P1nduUD///8/md65QP///z/Z37lA////PxnhuUD///8/WeK5QP///z+Z47lA////P9nkuUD///8/Gea5QP///z9Z57lA////P5nouUD///8/2em5QP///z8Z67lA////P1nsuUD///8/me25QP///z/Z7rlA////PxnwuUD///8/WfG5QP///z+Z8rlA////P9nzuUD///8/GfW5QP///z9Z9rlA////P5n3uUD///8/2fi5QA==\",\"dtype\":\"float64\",\"shape\":[200]},\"y\":[73.1694107055664,-39.029354095458984,37.09799575805664,15.581733703613281,124.38328552246094,110.60128784179688,-38.674415588378906,-87.7182388305664,-52.573158264160156,106.76571655273438,67.79936218261719,-0.650940477848053,62.564231872558594,-56.98969268798828,35.93923568725586,69.51215362548828,56.19585037231445,58.48838424682617,63.22763442993164,-85.33882904052734,-52.54158401489258,37.909908294677734,-46.2524299621582,45.89328384399414,7.764039993286133,35.03659439086914,-3.801743507385254,-6.269533157348633,70.04875183105469,-46.40401077270508,19.671491622924805,-112.66078186035156,-79.53070068359375,5.473832130432129,30.571083068847656,-31.19548988342285,-63.052940368652344,94.69355773925781,14.410216331481934,-3.0352907180786133,18.483989715576172,-56.73115921020508,5.469651699066162,-144.68896484375,-104.99656677246094,-180.43899536132812,-97.8946533203125,-80.39089965820312,-12.805654525756836,-51.80103302001953,-102.94637298583984,-22.34518051147461,9.576266288757324,94.3462905883789,-70.71772766113281,-57.20123291015625,81.8899154663086,38.51616287231445,-51.63254928588867,-32.438053131103516,-43.038536071777344,-119.64200592041016,-8.953534126281738,-1.5961748361587524,-15.281840324401855,-7.596955299377441,129.59861755371094,2.9577057361602783,17.673673629760742,-6.754456996917725,26.43503189086914,81.53120422363281,-8.01476764678955,-56.586673736572266,-24.07660675048828,-111.32782745361328,-181.45947265625,-207.31724548339844,147.11300659179688,136.482177734375,-37.463653564453125,80.83850860595703,-61.77491760253906,92.06082153320312,111.6743392944336,97.25215911865234,80.27816009521484,-14.563079833984375,-7.993242263793945,79.7034912109375,9.101344108581543,71.51476287841797,79.83975219726562,-91.64000701904297,-43.18183135986328,41.31047058105469,7.986308574676514,41.65232467651367,16.623950958251953,88.93194580078125,55.54555130004883,-2.363848924636841,-1.17613685131073,-0.7052772641181946,68.7669906616211,160.7421417236328,350.94915771484375,235.9666748046875,216.611572265625,203.81207275390625,220.8050079345703,201.77200317382812,176.6105194091797,258.7834777832031,371.15216064453125,467.3240051269531,644.5216674804688,749.7647094726562,982.6351318359375,1135.0045166015625,1487.0531005859375,2029.7890625,2834.9287109375,3621.80029296875,4188.66552734375,4620.646484375,4831.400390625,4723.0234375,4207.0439453125,3422.4365234375,2533.62939453125,2089.243896484375,2070.432861328125,2158.577392578125,1993.31396484375,1977.4095458984375,1787.4078369140625,1483.6751708984375,1302.9654541015625,1113.5303955078125,862.472412109375,839.362060546875,776.2467651367188,458.67877197265625,381.1883544921875,339.8565979003906,377.2996826171875,408.7129211425781,255.8941650390625,151.3082733154297,199.25552368164062,84.61434936523438,150.83639526367188,163.29617309570312,24.079627990722656,78.34349822998047,-10.957630157470703,31.569799423217773,143.765625,151.94090270996094,64.4598617553711,78.55493927001953,32.777408599853516,110.71270751953125,192.62548828125,33.5113639831543,38.033409118652344,82.30979919433594,19.24970245361328,19.307226181030273,66.97065734863281,-56.01685333251953,-19.085960388183594,-40.166351318359375,-70.4889907836914,140.50033569335938,-34.12563705444336,63.53691482543945,-4.002252578735352,-57.502899169921875,-47.687686920166016,-65.77780151367188,5.853222846984863,72.95098876953125,-47.3067741394043,35.01304626464844,-22.570999145507812,-40.52130889892578,54.375980377197266,-46.417213439941406,-17.585954666137695,1.6539430618286133,-88.09059143066406,-48.63791275024414,38.50220489501953,-103.65753173828125,-67.71820831298828,32.213741302490234,-96.7288818359375,-2.6788816452026367]},\"selected\":{\"id\":\"9676\",\"type\":\"Selection\"},\"selection_policy\":{\"id\":\"9675\",\"type\":\"UnionRenderers\"}},\"id\":\"9347\",\"type\":\"ColumnDataSource\"},{\"attributes\":{\"data_source\":{\"id\":\"9347\",\"type\":\"ColumnDataSource\"},\"glyph\":{\"id\":\"9348\",\"type\":\"Line\"},\"hover_glyph\":null,\"muted_glyph\":null,\"nonselection_glyph\":{\"id\":\"9349\",\"type\":\"Line\"},\"selection_glyph\":null,\"view\":{\"id\":\"9351\",\"type\":\"CDSView\"}},\"id\":\"9350\",\"type\":\"GlyphRenderer\"},{\"attributes\":{\"callback\":null,\"data\":{\"x\":{\"__ndarray__\":\"////P9mPuUD///8/GZG5QP///z9ZkrlA////P5mTuUD///8/2ZS5QP///z8ZlrlA////P1mXuUD///8/mZi5QP///z/ZmblA////PxmbuUD///8/WZy5QP///z+ZnblA////P9meuUD///8/GaC5QP///z9ZoblA////P5miuUD///8/2aO5QP///z8ZpblA////P1mmuUD///8/mae5QP///z/ZqLlA////PxmquUD///8/Wau5QP///z+ZrLlA////P9mtuUD///8/Ga+5QP///z9ZsLlA////P5mxuUD///8/2bK5QP///z8ZtLlA////P5m2uUD///8/2be5QA==\",\"dtype\":\"float64\",\"shape\":[32]},\"y\":[467.3240051269531,644.5216674804688,749.7647094726562,982.6351318359375,1135.0045166015625,1487.0531005859375,2029.7890625,2834.9287109375,3621.80029296875,4188.66552734375,4620.646484375,4831.400390625,4723.0234375,4207.0439453125,3422.4365234375,2533.62939453125,2089.243896484375,2070.432861328125,2158.577392578125,1993.31396484375,1977.4095458984375,1787.4078369140625,1483.6751708984375,1302.9654541015625,1113.5303955078125,862.472412109375,839.362060546875,776.2467651367188,458.67877197265625,381.1883544921875,377.2996826171875,408.7129211425781]},\"selected\":{\"id\":\"9678\",\"type\":\"Selection\"},\"selection_policy\":{\"id\":\"9677\",\"type\":\"UnionRenderers\"}},\"id\":\"9354\",\"type\":\"ColumnDataSource\"},{\"attributes\":{},\"id\":\"9328\",\"type\":\"BasicTicker\"},{\"attributes\":{},\"id\":\"9318\",\"type\":\"LinearScale\"},{\"attributes\":{},\"id\":\"9337\",\"type\":\"HelpTool\"},{\"attributes\":{},\"id\":\"9677\",\"type\":\"UnionRenderers\"},{\"attributes\":{},\"id\":\"9672\",\"type\":\"BasicTickFormatter\"},{\"attributes\":{},\"id\":\"9675\",\"type\":\"UnionRenderers\"},{\"attributes\":{},\"id\":\"9323\",\"type\":\"BasicTicker\"},{\"attributes\":{},\"id\":\"9336\",\"type\":\"ResetTool\"},{\"attributes\":{\"line_alpha\":0.1,\"line_color\":\"#1f77b4\",\"x\":{\"field\":\"x\"},\"y\":{\"field\":\"y\"}},\"id\":\"9349\",\"type\":\"Line\"},{\"attributes\":{\"line_color\":\"red\",\"x\":{\"field\":\"x\"},\"y\":{\"field\":\"y\"}},\"id\":\"9355\",\"type\":\"Line\"},{\"attributes\":{\"callback\":null},\"id\":\"9316\",\"type\":\"DataRange1d\"},{\"attributes\":{\"data_source\":{\"id\":\"9354\",\"type\":\"ColumnDataSource\"},\"glyph\":{\"id\":\"9355\",\"type\":\"Line\"},\"hover_glyph\":null,\"muted_glyph\":null,\"nonselection_glyph\":{\"id\":\"9356\",\"type\":\"Line\"},\"selection_glyph\":null,\"view\":{\"id\":\"9358\",\"type\":\"CDSView\"}},\"id\":\"9357\",\"type\":\"GlyphRenderer\"}],\"root_ids\":[\"9312\"]},\"title\":\"Bokeh Application\",\"version\":\"1.0.4\"}};\n",
       "  var render_items = [{\"docid\":\"2310b027-4352-425c-bab6-d9e358b6ba4e\",\"roots\":{\"9312\":\"00b6a772-18b0-4835-a469-cf87a30e1962\"}}];\n",
       "  root.Bokeh.embed.embed_items_notebook(docs_json, render_items);\n",
       "\n",
       "  }\n",
       "  if (root.Bokeh !== undefined) {\n",
       "    embed_document(root);\n",
       "  } else {\n",
       "    var attempts = 0;\n",
       "    var timer = setInterval(function(root) {\n",
       "      if (root.Bokeh !== undefined) {\n",
       "        embed_document(root);\n",
       "        clearInterval(timer);\n",
       "      }\n",
       "      attempts++;\n",
       "      if (attempts > 100) {\n",
       "        console.log(\"Bokeh: ERROR: Unable to run BokehJS code because BokehJS library is missing\");\n",
       "        clearInterval(timer);\n",
       "      }\n",
       "    }, 10, root)\n",
       "  }\n",
       "})(window);"
      ],
      "application/vnd.bokehjs_exec.v0+json": ""
     },
     "metadata": {
      "application/vnd.bokehjs_exec.v0+json": {
       "id": "9312"
      }
     },
     "output_type": "display_data"
    },
    {
     "data": {
      "text/html": [
       "\n",
       "\n",
       "\n",
       "\n",
       "\n",
       "\n",
       "  <div class=\"bk-root\" id=\"6843c5f3-1a99-404d-8e63-5c31ec7495f1\" data-root-id=\"9740\"></div>\n"
      ]
     },
     "metadata": {},
     "output_type": "display_data"
    },
    {
     "data": {
      "application/javascript": [
       "(function(root) {\n",
       "  function embed_document(root) {\n",
       "    \n",
       "  var docs_json = {\"66c6d25f-dc5f-42db-8908-c67087813b86\":{\"roots\":{\"references\":[{\"attributes\":{\"below\":[{\"id\":\"9750\",\"type\":\"LinearAxis\"}],\"left\":[{\"id\":\"9755\",\"type\":\"LinearAxis\"}],\"plot_height\":500,\"plot_width\":900,\"renderers\":[{\"id\":\"9750\",\"type\":\"LinearAxis\"},{\"id\":\"9754\",\"type\":\"Grid\"},{\"id\":\"9755\",\"type\":\"LinearAxis\"},{\"id\":\"9759\",\"type\":\"Grid\"},{\"id\":\"9768\",\"type\":\"BoxAnnotation\"},{\"id\":\"9778\",\"type\":\"GlyphRenderer\"},{\"id\":\"9785\",\"type\":\"GlyphRenderer\"}],\"title\":{\"id\":\"9739\",\"type\":\"Title\"},\"toolbar\":{\"id\":\"9766\",\"type\":\"Toolbar\"},\"x_range\":{\"id\":\"9742\",\"type\":\"DataRange1d\"},\"x_scale\":{\"id\":\"9746\",\"type\":\"LinearScale\"},\"y_range\":{\"id\":\"9744\",\"type\":\"DataRange1d\"},\"y_scale\":{\"id\":\"9748\",\"type\":\"LinearScale\"}},\"id\":\"9740\",\"subtype\":\"Figure\",\"type\":\"Plot\"},{\"attributes\":{},\"id\":\"10113\",\"type\":\"UnionRenderers\"},{\"attributes\":{\"line_alpha\":0.1,\"line_color\":\"#1f77b4\",\"x\":{\"field\":\"x\"},\"y\":{\"field\":\"y\"}},\"id\":\"9784\",\"type\":\"Line\"},{\"attributes\":{},\"id\":\"9751\",\"type\":\"BasicTicker\"},{\"attributes\":{\"active_drag\":{\"id\":\"9762\",\"type\":\"BoxZoomTool\"},\"active_inspect\":\"auto\",\"active_multi\":null,\"active_scroll\":{\"id\":\"9761\",\"type\":\"WheelZoomTool\"},\"active_tap\":\"auto\",\"tools\":[{\"id\":\"9760\",\"type\":\"PanTool\"},{\"id\":\"9761\",\"type\":\"WheelZoomTool\"},{\"id\":\"9762\",\"type\":\"BoxZoomTool\"},{\"id\":\"9763\",\"type\":\"SaveTool\"},{\"id\":\"9764\",\"type\":\"ResetTool\"},{\"id\":\"9765\",\"type\":\"HelpTool\"},{\"id\":\"9780\",\"type\":\"HoverTool\"}]},\"id\":\"9766\",\"type\":\"Toolbar\"},{\"attributes\":{},\"id\":\"10110\",\"type\":\"BasicTickFormatter\"},{\"attributes\":{\"callback\":null,\"data\":{\"x\":{\"__ndarray__\":\"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\",\"dtype\":\"float64\",\"shape\":[200]},\"y\":[3.11991810798645,66.36515045166016,-38.914424896240234,-1.1333720684051514,35.939762115478516,-10.559283256530762,18.81871223449707,-75.52928161621094,-77.66673278808594,62.72372817993164,76.2407455444336,73.23147583007812,29.309701919555664,-25.17253303527832,32.63389205932617,38.221656799316406,44.32708740234375,76.29881286621094,6.241329193115234,23.16928482055664,-37.770835876464844,43.470767974853516,35.09429931640625,-16.543315887451172,3.057926893234253,-39.98039245605469,-22.62165069580078,-14.100225448608398,59.754295349121094,-18.531723022460938,-13.350855827331543,-42.88181686401367,-60.296966552734375,-0.3550962805747986,0.33344295620918274,53.94540786743164,-10.631013870239258,51.24284362792969,-0.7645565271377563,-87.1029281616211,-9.363571166992188,17.892473220825195,43.54557418823242,-24.658655166625977,-58.66846466064453,-134.93307495117188,-56.35285949707031,17.40614891052246,-61.39774703979492,-90.02088928222656,-84.7015609741211,-43.810855865478516,60.592628479003906,118.92002868652344,8.626423835754395,-53.17979049682617,52.89884948730469,-25.207483291625977,107.76634979248047,11.56253433227539,19.949626922607422,-100.10704040527344,-8.25053596496582,-12.023826599121094,-11.345857620239258,-44.70002746582031,-2.191807985305786,-61.16250228881836,19.098331451416016,-36.259395599365234,-25.21811294555664,22.585954666137695,-89.21780395507812,12.772473335266113,-7.00718355178833,-50.9996452331543,-148.0115509033203,-214.7509002685547,154.27496337890625,217.59388732910156,69.37871551513672,14.87359619140625,-23.375579833984375,26.270353317260742,110.18199920654297,67.9672622680664,-2.3660359382629395,-29.112333297729492,-16.926416397094727,55.65900421142578,-21.375606536865234,-34.95553970336914,-9.525622367858887,-64.78067779541016,14.335453033447266,-26.74266815185547,65.8794937133789,44.41336441040039,102.43169403076172,26.524822235107422,2.8236019611358643,0.8011795878410339,47.40677261352539,10.903080940246582,-36.16156005859375,136.2846221923828,291.36175537109375,242.40480041503906,142.99090576171875,97.16400146484375,160.07254028320312,52.57588577270508,189.11155700683594,299.0379333496094,300.3559875488281,386.72491455078125,475.2736511230469,458.3126525878906,531.558349609375,659.0042724609375,996.0372314453125,1322.6805419921875,1823.5316162109375,2492.244873046875,2757.95556640625,2829.2314453125,2970.55224609375,3014.830810546875,2581.818115234375,2020.947998046875,1481.5955810546875,1144.2755126953125,1264.2679443359375,1304.201904296875,1261.064697265625,1258.5184326171875,1131.01025390625,987.627685546875,835.7647094726562,678.708984375,517.603515625,559.5059814453125,502.67413330078125,375.0201110839844,216.49851989746094,235.28704833984375,286.7021484375,286.9010009765625,180.99595642089844,170.69549560546875,124.57040405273438,15.840425491333008,18.976741790771484,2.944688081741333,42.384403228759766,20.930646896362305,9.91154956817627,18.773399353027344,6.981039047241211,83.68095397949219,78.8946304321289,100.04296112060547,74.76901245117188,111.14261627197266,90.23065948486328,7.78363561630249,14.068632125854492,34.06319046020508,39.595916748046875,16.409008026123047,3.508805990219116,3.6541013717651367,1.3121792078018188,37.28870391845703,-6.860661506652832,23.115549087524414,67.51078796386719,85.79625701904297,-22.685768127441406,-25.089580535888672,-7.650531768798828,-70.42428588867188,15.139934539794922,-1.9910684823989868,8.222742080688477,22.1348819732666,-4.4519147872924805,-27.269580841064453,29.640378952026367,8.995248794555664,6.0543084144592285,-56.70197296142578,-95.71598052978516,-80.49113464355469,-20.668542861938477,-4.642251491546631,-48.06313705444336,-83.61479949951172,-45.2425422668457,-70.70320129394531]},\"selected\":{\"id\":\"10114\",\"type\":\"Selection\"},\"selection_policy\":{\"id\":\"10113\",\"type\":\"UnionRenderers\"}},\"id\":\"9775\",\"type\":\"ColumnDataSource\"},{\"attributes\":{\"callback\":null},\"id\":\"9742\",\"type\":\"DataRange1d\"},{\"attributes\":{\"source\":{\"id\":\"9775\",\"type\":\"ColumnDataSource\"}},\"id\":\"9779\",\"type\":\"CDSView\"},{\"attributes\":{\"data_source\":{\"id\":\"9775\",\"type\":\"ColumnDataSource\"},\"glyph\":{\"id\":\"9776\",\"type\":\"Line\"},\"hover_glyph\":null,\"muted_glyph\":null,\"nonselection_glyph\":{\"id\":\"9777\",\"type\":\"Line\"},\"selection_glyph\":null,\"view\":{\"id\":\"9779\",\"type\":\"CDSView\"}},\"id\":\"9778\",\"type\":\"GlyphRenderer\"},{\"attributes\":{},\"id\":\"9764\",\"type\":\"ResetTool\"},{\"attributes\":{\"formatter\":{\"id\":\"10110\",\"type\":\"BasicTickFormatter\"},\"plot\":{\"id\":\"9740\",\"subtype\":\"Figure\",\"type\":\"Plot\"},\"ticker\":{\"id\":\"9751\",\"type\":\"BasicTicker\"}},\"id\":\"9750\",\"type\":\"LinearAxis\"},{\"attributes\":{\"line_color\":\"#1f77b4\",\"x\":{\"field\":\"x\"},\"y\":{\"field\":\"y\"}},\"id\":\"9776\",\"type\":\"Line\"},{\"attributes\":{\"formatter\":{\"id\":\"10108\",\"type\":\"BasicTickFormatter\"},\"plot\":{\"id\":\"9740\",\"subtype\":\"Figure\",\"type\":\"Plot\"},\"ticker\":{\"id\":\"9756\",\"type\":\"BasicTicker\"}},\"id\":\"9755\",\"type\":\"LinearAxis\"},{\"attributes\":{\"callback\":null,\"tooltips\":[[\"(x,y)\",\"($x{1}, $y)\"]]},\"id\":\"9780\",\"type\":\"HoverTool\"},{\"attributes\":{},\"id\":\"9748\",\"type\":\"LinearScale\"},{\"attributes\":{\"line_color\":\"red\",\"x\":{\"field\":\"x\"},\"y\":{\"field\":\"y\"}},\"id\":\"9783\",\"type\":\"Line\"},{\"attributes\":{\"plot\":null,\"text\":\"17:40:41.6401, -53:40:19.6137, 126\"},\"id\":\"9739\",\"type\":\"Title\"},{\"attributes\":{\"data_source\":{\"id\":\"9782\",\"type\":\"ColumnDataSource\"},\"glyph\":{\"id\":\"9783\",\"type\":\"Line\"},\"hover_glyph\":null,\"muted_glyph\":null,\"nonselection_glyph\":{\"id\":\"9784\",\"type\":\"Line\"},\"selection_glyph\":null,\"view\":{\"id\":\"9786\",\"type\":\"CDSView\"}},\"id\":\"9785\",\"type\":\"GlyphRenderer\"},{\"attributes\":{},\"id\":\"10115\",\"type\":\"UnionRenderers\"},{\"attributes\":{\"line_alpha\":0.1,\"line_color\":\"#1f77b4\",\"x\":{\"field\":\"x\"},\"y\":{\"field\":\"y\"}},\"id\":\"9777\",\"type\":\"Line\"},{\"attributes\":{},\"id\":\"9763\",\"type\":\"SaveTool\"},{\"attributes\":{\"bottom_units\":\"screen\",\"fill_alpha\":{\"value\":0.5},\"fill_color\":{\"value\":\"lightgrey\"},\"left_units\":\"screen\",\"level\":\"overlay\",\"line_alpha\":{\"value\":1.0},\"line_color\":{\"value\":\"black\"},\"line_dash\":[4,4],\"line_width\":{\"value\":2},\"plot\":null,\"render_mode\":\"css\",\"right_units\":\"screen\",\"top_units\":\"screen\"},\"id\":\"9768\",\"type\":\"BoxAnnotation\"},{\"attributes\":{},\"id\":\"10116\",\"type\":\"Selection\"},{\"attributes\":{},\"id\":\"9760\",\"type\":\"PanTool\"},{\"attributes\":{},\"id\":\"9746\",\"type\":\"LinearScale\"},{\"attributes\":{},\"id\":\"10114\",\"type\":\"Selection\"},{\"attributes\":{},\"id\":\"10108\",\"type\":\"BasicTickFormatter\"},{\"attributes\":{\"plot\":{\"id\":\"9740\",\"subtype\":\"Figure\",\"type\":\"Plot\"},\"ticker\":{\"id\":\"9751\",\"type\":\"BasicTicker\"}},\"id\":\"9754\",\"type\":\"Grid\"},{\"attributes\":{\"overlay\":{\"id\":\"9768\",\"type\":\"BoxAnnotation\"}},\"id\":\"9762\",\"type\":\"BoxZoomTool\"},{\"attributes\":{},\"id\":\"9761\",\"type\":\"WheelZoomTool\"},{\"attributes\":{\"source\":{\"id\":\"9782\",\"type\":\"ColumnDataSource\"}},\"id\":\"9786\",\"type\":\"CDSView\"},{\"attributes\":{},\"id\":\"9765\",\"type\":\"HelpTool\"},{\"attributes\":{},\"id\":\"9756\",\"type\":\"BasicTicker\"},{\"attributes\":{\"callback\":null},\"id\":\"9744\",\"type\":\"DataRange1d\"},{\"attributes\":{\"callback\":null,\"data\":{\"x\":{\"__ndarray__\":\"////P9mPuUD///8/GZG5QP///z9ZkrlA////P5mTuUD///8/2ZS5QP///z8ZlrlA////P1mXuUD///8/mZi5QP///z/ZmblA////PxmbuUD///8/WZy5QP///z+ZnblA////P9meuUD///8/GaC5QP///z9ZoblA////P5miuUD///8/2aO5QP///z8ZpblA////P1mmuUD///8/mae5QP///z/ZqLlA////PxmquUD///8/Wau5QP///z+ZrLlA////P9mtuUD///8/Ga+5QP///z9ZsLlA////P5mxuUD///8/2bK5QA==\",\"dtype\":\"float64\",\"shape\":[29]},\"y\":[386.72491455078125,475.2736511230469,458.3126525878906,531.558349609375,659.0042724609375,996.0372314453125,1322.6805419921875,1823.5316162109375,2492.244873046875,2757.95556640625,2829.2314453125,2970.55224609375,3014.830810546875,2581.818115234375,2020.947998046875,1481.5955810546875,1144.2755126953125,1264.2679443359375,1304.201904296875,1261.064697265625,1258.5184326171875,1131.01025390625,987.627685546875,835.7647094726562,678.708984375,517.603515625,559.5059814453125,502.67413330078125,375.0201110839844]},\"selected\":{\"id\":\"10116\",\"type\":\"Selection\"},\"selection_policy\":{\"id\":\"10115\",\"type\":\"UnionRenderers\"}},\"id\":\"9782\",\"type\":\"ColumnDataSource\"},{\"attributes\":{\"dimension\":1,\"plot\":{\"id\":\"9740\",\"subtype\":\"Figure\",\"type\":\"Plot\"},\"ticker\":{\"id\":\"9756\",\"type\":\"BasicTicker\"}},\"id\":\"9759\",\"type\":\"Grid\"}],\"root_ids\":[\"9740\"]},\"title\":\"Bokeh Application\",\"version\":\"1.0.4\"}};\n",
       "  var render_items = [{\"docid\":\"66c6d25f-dc5f-42db-8908-c67087813b86\",\"roots\":{\"9740\":\"6843c5f3-1a99-404d-8e63-5c31ec7495f1\"}}];\n",
       "  root.Bokeh.embed.embed_items_notebook(docs_json, render_items);\n",
       "\n",
       "  }\n",
       "  if (root.Bokeh !== undefined) {\n",
       "    embed_document(root);\n",
       "  } else {\n",
       "    var attempts = 0;\n",
       "    var timer = setInterval(function(root) {\n",
       "      if (root.Bokeh !== undefined) {\n",
       "        embed_document(root);\n",
       "        clearInterval(timer);\n",
       "      }\n",
       "      attempts++;\n",
       "      if (attempts > 100) {\n",
       "        console.log(\"Bokeh: ERROR: Unable to run BokehJS code because BokehJS library is missing\");\n",
       "        clearInterval(timer);\n",
       "      }\n",
       "    }, 10, root)\n",
       "  }\n",
       "})(window);"
      ],
      "application/vnd.bokehjs_exec.v0+json": ""
     },
     "metadata": {
      "application/vnd.bokehjs_exec.v0+json": {
       "id": "9740"
      }
     },
     "output_type": "display_data"
    },
    {
     "data": {
      "text/html": [
       "\n",
       "\n",
       "\n",
       "\n",
       "\n",
       "\n",
       "  <div class=\"bk-root\" id=\"2ee09ab4-b0ab-465d-9584-f56fcb51425e\" data-root-id=\"10178\"></div>\n"
      ]
     },
     "metadata": {},
     "output_type": "display_data"
    },
    {
     "data": {
      "application/javascript": [
       "(function(root) {\n",
       "  function embed_document(root) {\n",
       "    \n",
       "  var docs_json = {\"ab83495c-5426-4e84-9449-f7a3bec7bd00\":{\"roots\":{\"references\":[{\"attributes\":{\"below\":[{\"id\":\"10188\",\"type\":\"LinearAxis\"}],\"left\":[{\"id\":\"10193\",\"type\":\"LinearAxis\"}],\"plot_height\":500,\"plot_width\":900,\"renderers\":[{\"id\":\"10188\",\"type\":\"LinearAxis\"},{\"id\":\"10192\",\"type\":\"Grid\"},{\"id\":\"10193\",\"type\":\"LinearAxis\"},{\"id\":\"10197\",\"type\":\"Grid\"},{\"id\":\"10206\",\"type\":\"BoxAnnotation\"},{\"id\":\"10216\",\"type\":\"GlyphRenderer\"},{\"id\":\"10223\",\"type\":\"GlyphRenderer\"}],\"title\":{\"id\":\"10177\",\"type\":\"Title\"},\"toolbar\":{\"id\":\"10204\",\"type\":\"Toolbar\"},\"x_range\":{\"id\":\"10180\",\"type\":\"DataRange1d\"},\"x_scale\":{\"id\":\"10184\",\"type\":\"LinearScale\"},\"y_range\":{\"id\":\"10182\",\"type\":\"DataRange1d\"},\"y_scale\":{\"id\":\"10186\",\"type\":\"LinearScale\"}},\"id\":\"10178\",\"subtype\":\"Figure\",\"type\":\"Plot\"},{\"attributes\":{\"dimension\":1,\"plot\":{\"id\":\"10178\",\"subtype\":\"Figure\",\"type\":\"Plot\"},\"ticker\":{\"id\":\"10194\",\"type\":\"BasicTicker\"}},\"id\":\"10197\",\"type\":\"Grid\"},{\"attributes\":{\"formatter\":{\"id\":\"10558\",\"type\":\"BasicTickFormatter\"},\"plot\":{\"id\":\"10178\",\"subtype\":\"Figure\",\"type\":\"Plot\"},\"ticker\":{\"id\":\"10189\",\"type\":\"BasicTicker\"}},\"id\":\"10188\",\"type\":\"LinearAxis\"},{\"attributes\":{\"bottom_units\":\"screen\",\"fill_alpha\":{\"value\":0.5},\"fill_color\":{\"value\":\"lightgrey\"},\"left_units\":\"screen\",\"level\":\"overlay\",\"line_alpha\":{\"value\":1.0},\"line_color\":{\"value\":\"black\"},\"line_dash\":[4,4],\"line_width\":{\"value\":2},\"plot\":null,\"render_mode\":\"css\",\"right_units\":\"screen\",\"top_units\":\"screen\"},\"id\":\"10206\",\"type\":\"BoxAnnotation\"},{\"attributes\":{\"line_alpha\":0.1,\"line_color\":\"#1f77b4\",\"x\":{\"field\":\"x\"},\"y\":{\"field\":\"y\"}},\"id\":\"10215\",\"type\":\"Line\"},{\"attributes\":{},\"id\":\"10203\",\"type\":\"HelpTool\"},{\"attributes\":{},\"id\":\"10556\",\"type\":\"BasicTickFormatter\"},{\"attributes\":{\"line_alpha\":0.1,\"line_color\":\"#1f77b4\",\"x\":{\"field\":\"x\"},\"y\":{\"field\":\"y\"}},\"id\":\"10222\",\"type\":\"Line\"},{\"attributes\":{\"plot\":{\"id\":\"10178\",\"subtype\":\"Figure\",\"type\":\"Plot\"},\"ticker\":{\"id\":\"10189\",\"type\":\"BasicTicker\"}},\"id\":\"10192\",\"type\":\"Grid\"},{\"attributes\":{\"line_color\":\"#1f77b4\",\"x\":{\"field\":\"x\"},\"y\":{\"field\":\"y\"}},\"id\":\"10214\",\"type\":\"Line\"},{\"attributes\":{},\"id\":\"10561\",\"type\":\"UnionRenderers\"},{\"attributes\":{},\"id\":\"10558\",\"type\":\"BasicTickFormatter\"},{\"attributes\":{\"data_source\":{\"id\":\"10213\",\"type\":\"ColumnDataSource\"},\"glyph\":{\"id\":\"10214\",\"type\":\"Line\"},\"hover_glyph\":null,\"muted_glyph\":null,\"nonselection_glyph\":{\"id\":\"10215\",\"type\":\"Line\"},\"selection_glyph\":null,\"view\":{\"id\":\"10217\",\"type\":\"CDSView\"}},\"id\":\"10216\",\"type\":\"GlyphRenderer\"},{\"attributes\":{\"callback\":null},\"id\":\"10182\",\"type\":\"DataRange1d\"},{\"attributes\":{},\"id\":\"10202\",\"type\":\"ResetTool\"},{\"attributes\":{\"plot\":null,\"text\":\"17:40:41.6735, -53:40:19.6137, 127\"},\"id\":\"10177\",\"type\":\"Title\"},{\"attributes\":{\"callback\":null,\"data\":{\"x\":{\"__ndarray__\":\"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\",\"dtype\":\"float64\",\"shape\":[200]},\"y\":[-45.65175247192383,-45.88550567626953,-4.043706893920898,33.4051399230957,33.43272018432617,46.185997009277344,49.99749755859375,7.29006814956665,7.8671793937683105,60.95709991455078,3.5544626712799072,5.553062915802002,7.830098628997803,-2.8737072944641113,11.514155387878418,53.84109878540039,12.707706451416016,38.620330810546875,16.75596809387207,4.473021030426025,37.868900299072266,-7.043698787689209,28.4029483795166,-16.31191062927246,9.380818367004395,-44.11652374267578,-42.03977584838867,-3.6101303100585938,30.888479232788086,-41.740726470947266,-15.3634672164917,-41.4138298034668,-68.68331146240234,-30.334270477294922,-25.77051544189453,-26.537456512451172,-13.139729499816895,-11.873235702514648,11.7183256149292,-67.08208465576172,-61.63360595703125,-17.43012809753418,42.211456298828125,-28.677608489990234,-51.49062728881836,-10.834538459777832,-2.031848669052124,23.39302635192871,-42.612648010253906,-73.38187408447266,-27.298940658569336,13.698661804199219,152.85482788085938,45.3887939453125,-0.9489508271217346,-13.659138679504395,129.1425018310547,93.06560516357422,2.427055835723877,-57.53242492675781,-41.559417724609375,-83.63243865966797,-26.815940856933594,-14.953182220458984,-21.072486877441406,-52.14016342163086,-42.65767288208008,-12.351340293884277,-60.295867919921875,-13.752973556518555,28.791744232177734,-50.951263427734375,-43.648258209228516,-43.94499206542969,-81.03408813476562,32.053443908691406,-118.0759506225586,-69.41836547851562,65.56990051269531,342.27044677734375,190.69985961914062,2.689453601837158,-12.008828163146973,51.705116271972656,151.37815856933594,-5.455763339996338,-36.33253860473633,-21.073699951171875,-79.33110046386719,6.482654094696045,42.65346145629883,24.48111915588379,21.037654876708984,-49.50920867919922,-51.57183074951172,-35.19683074951172,-15.127140045166016,-40.25166702270508,51.62220764160156,27.16197395324707,-38.99370193481445,-3.5791945457458496,-34.92311477661133,-27.566970825195312,-12.828387260437012,25.38125991821289,190.5226593017578,153.2376708984375,-1.262055516242981,23.57451820373535,-13.34782600402832,-14.824742317199707,-10.307645797729492,7.311127662658691,26.955896377563477,106.73554229736328,117.76970672607422,34.788352966308594,110.02391815185547,144.3301544189453,87.5678939819336,204.24447631835938,406.8755187988281,597.2456665039062,521.142333984375,472.73370361328125,445.4889831542969,424.989501953125,280.6852111816406,170.04507446289062,-33.92158508300781,-97.76289367675781,-31.936359405517578,104.76260375976562,141.82228088378906,188.61033630371094,184.6385040283203,127.97611236572266,145.9425048828125,56.25617218017578,105.47791290283203,205.8990020751953,267.1387939453125,128.8567352294922,65.20345306396484,35.53685760498047,109.85401916503906,82.24551391601562,53.51774597167969,1.3765149116516113,39.06767654418945,27.52945899963379,-38.83212661743164,-22.607662200927734,3.8073484897613525,-20.852720260620117,14.196554183959961,30.96860122680664,8.845010757446289,-5.009908676147461,20.606477737426758,2.0142409801483154,-10.775390625,103.60671997070312,81.44232177734375,-23.81498146057129,36.03549575805664,19.529645919799805,12.941878318786621,-1.130637288093567,10.13094711303711,-23.95403289794922,-10.916337966918945,21.243297576904297,-0.7483180165290833,-14.462230682373047,-38.738773345947266,-44.74639892578125,-25.413333892822266,-54.21711730957031,-4.1296706199646,-9.697627067565918,47.33145523071289,29.890928268432617,10.326004028320312,-45.58841323852539,26.266326904296875,26.04842758178711,48.60066604614258,-13.386289596557617,-34.37508010864258,61.8515739440918,1.8908442258834839,-29.47186851501465,-60.417354583740234,-57.09636306762695,-23.259023666381836,21.702699661254883,-0.922376275062561,-2.9123265743255615]},\"selected\":{\"id\":\"10562\",\"type\":\"Selection\"},\"selection_policy\":{\"id\":\"10561\",\"type\":\"UnionRenderers\"}},\"id\":\"10213\",\"type\":\"ColumnDataSource\"},{\"attributes\":{\"source\":{\"id\":\"10213\",\"type\":\"ColumnDataSource\"}},\"id\":\"10217\",\"type\":\"CDSView\"},{\"attributes\":{\"formatter\":{\"id\":\"10556\",\"type\":\"BasicTickFormatter\"},\"plot\":{\"id\":\"10178\",\"subtype\":\"Figure\",\"type\":\"Plot\"},\"ticker\":{\"id\":\"10194\",\"type\":\"BasicTicker\"}},\"id\":\"10193\",\"type\":\"LinearAxis\"},{\"attributes\":{\"callback\":null},\"id\":\"10180\",\"type\":\"DataRange1d\"},{\"attributes\":{},\"id\":\"10562\",\"type\":\"Selection\"},{\"attributes\":{\"overlay\":{\"id\":\"10206\",\"type\":\"BoxAnnotation\"}},\"id\":\"10200\",\"type\":\"BoxZoomTool\"},{\"attributes\":{},\"id\":\"10186\",\"type\":\"LinearScale\"},{\"attributes\":{\"callback\":null,\"tooltips\":[[\"(x,y)\",\"($x{1}, $y)\"]]},\"id\":\"10218\",\"type\":\"HoverTool\"},{\"attributes\":{},\"id\":\"10184\",\"type\":\"LinearScale\"},{\"attributes\":{},\"id\":\"10564\",\"type\":\"Selection\"},{\"attributes\":{},\"id\":\"10563\",\"type\":\"UnionRenderers\"},{\"attributes\":{\"callback\":null,\"data\":{\"x\":{\"__ndarray__\":\"////P9liuUD///8/mZi5QP///z/ZmblA////PxmbuUD///8/WZy5QP///z+ZnblA////P9meuUA=\",\"dtype\":\"float64\",\"shape\":[7]},\"y\":[342.27044677734375,406.8755187988281,597.2456665039062,521.142333984375,472.73370361328125,445.4889831542969,424.989501953125]},\"selected\":{\"id\":\"10564\",\"type\":\"Selection\"},\"selection_policy\":{\"id\":\"10563\",\"type\":\"UnionRenderers\"}},\"id\":\"10220\",\"type\":\"ColumnDataSource\"},{\"attributes\":{},\"id\":\"10194\",\"type\":\"BasicTicker\"},{\"attributes\":{\"line_color\":\"red\",\"x\":{\"field\":\"x\"},\"y\":{\"field\":\"y\"}},\"id\":\"10221\",\"type\":\"Line\"},{\"attributes\":{\"source\":{\"id\":\"10220\",\"type\":\"ColumnDataSource\"}},\"id\":\"10224\",\"type\":\"CDSView\"},{\"attributes\":{\"active_drag\":{\"id\":\"10200\",\"type\":\"BoxZoomTool\"},\"active_inspect\":\"auto\",\"active_multi\":null,\"active_scroll\":{\"id\":\"10199\",\"type\":\"WheelZoomTool\"},\"active_tap\":\"auto\",\"tools\":[{\"id\":\"10198\",\"type\":\"PanTool\"},{\"id\":\"10199\",\"type\":\"WheelZoomTool\"},{\"id\":\"10200\",\"type\":\"BoxZoomTool\"},{\"id\":\"10201\",\"type\":\"SaveTool\"},{\"id\":\"10202\",\"type\":\"ResetTool\"},{\"id\":\"10203\",\"type\":\"HelpTool\"},{\"id\":\"10218\",\"type\":\"HoverTool\"}]},\"id\":\"10204\",\"type\":\"Toolbar\"},{\"attributes\":{},\"id\":\"10199\",\"type\":\"WheelZoomTool\"},{\"attributes\":{},\"id\":\"10189\",\"type\":\"BasicTicker\"},{\"attributes\":{},\"id\":\"10201\",\"type\":\"SaveTool\"},{\"attributes\":{},\"id\":\"10198\",\"type\":\"PanTool\"},{\"attributes\":{\"data_source\":{\"id\":\"10220\",\"type\":\"ColumnDataSource\"},\"glyph\":{\"id\":\"10221\",\"type\":\"Line\"},\"hover_glyph\":null,\"muted_glyph\":null,\"nonselection_glyph\":{\"id\":\"10222\",\"type\":\"Line\"},\"selection_glyph\":null,\"view\":{\"id\":\"10224\",\"type\":\"CDSView\"}},\"id\":\"10223\",\"type\":\"GlyphRenderer\"}],\"root_ids\":[\"10178\"]},\"title\":\"Bokeh Application\",\"version\":\"1.0.4\"}};\n",
       "  var render_items = [{\"docid\":\"ab83495c-5426-4e84-9449-f7a3bec7bd00\",\"roots\":{\"10178\":\"2ee09ab4-b0ab-465d-9584-f56fcb51425e\"}}];\n",
       "  root.Bokeh.embed.embed_items_notebook(docs_json, render_items);\n",
       "\n",
       "  }\n",
       "  if (root.Bokeh !== undefined) {\n",
       "    embed_document(root);\n",
       "  } else {\n",
       "    var attempts = 0;\n",
       "    var timer = setInterval(function(root) {\n",
       "      if (root.Bokeh !== undefined) {\n",
       "        embed_document(root);\n",
       "        clearInterval(timer);\n",
       "      }\n",
       "      attempts++;\n",
       "      if (attempts > 100) {\n",
       "        console.log(\"Bokeh: ERROR: Unable to run BokehJS code because BokehJS library is missing\");\n",
       "        clearInterval(timer);\n",
       "      }\n",
       "    }, 10, root)\n",
       "  }\n",
       "})(window);"
      ],
      "application/vnd.bokehjs_exec.v0+json": ""
     },
     "metadata": {
      "application/vnd.bokehjs_exec.v0+json": {
       "id": "10178"
      }
     },
     "output_type": "display_data"
    },
    {
     "data": {
      "text/html": [
       "\n",
       "\n",
       "\n",
       "\n",
       "\n",
       "\n",
       "  <div class=\"bk-root\" id=\"01146fbe-62e3-4769-b7ba-c9afaccb7f6b\" data-root-id=\"10626\"></div>\n"
      ]
     },
     "metadata": {},
     "output_type": "display_data"
    },
    {
     "data": {
      "application/javascript": [
       "(function(root) {\n",
       "  function embed_document(root) {\n",
       "    \n",
       "  var docs_json = {\"c00c430b-830c-4726-bfec-6bd0da70c8e3\":{\"roots\":{\"references\":[{\"attributes\":{\"below\":[{\"id\":\"10636\",\"type\":\"LinearAxis\"}],\"left\":[{\"id\":\"10641\",\"type\":\"LinearAxis\"}],\"plot_height\":500,\"plot_width\":900,\"renderers\":[{\"id\":\"10636\",\"type\":\"LinearAxis\"},{\"id\":\"10640\",\"type\":\"Grid\"},{\"id\":\"10641\",\"type\":\"LinearAxis\"},{\"id\":\"10645\",\"type\":\"Grid\"},{\"id\":\"10654\",\"type\":\"BoxAnnotation\"},{\"id\":\"10664\",\"type\":\"GlyphRenderer\"},{\"id\":\"10671\",\"type\":\"GlyphRenderer\"}],\"title\":{\"id\":\"10625\",\"type\":\"Title\"},\"toolbar\":{\"id\":\"10652\",\"type\":\"Toolbar\"},\"x_range\":{\"id\":\"10628\",\"type\":\"DataRange1d\"},\"x_scale\":{\"id\":\"10632\",\"type\":\"LinearScale\"},\"y_range\":{\"id\":\"10630\",\"type\":\"DataRange1d\"},\"y_scale\":{\"id\":\"10634\",\"type\":\"LinearScale\"}},\"id\":\"10626\",\"subtype\":\"Figure\",\"type\":\"Plot\"},{\"attributes\":{},\"id\":\"11019\",\"type\":\"UnionRenderers\"},{\"attributes\":{\"plot\":null,\"text\":\"17:40:41.5401, -53:40:19.1137, 143\"},\"id\":\"10625\",\"type\":\"Title\"},{\"attributes\":{\"callback\":null},\"id\":\"10630\",\"type\":\"DataRange1d\"},{\"attributes\":{\"data_source\":{\"id\":\"10668\",\"type\":\"ColumnDataSource\"},\"glyph\":{\"id\":\"10669\",\"type\":\"Line\"},\"hover_glyph\":null,\"muted_glyph\":null,\"nonselection_glyph\":{\"id\":\"10670\",\"type\":\"Line\"},\"selection_glyph\":null,\"view\":{\"id\":\"10672\",\"type\":\"CDSView\"}},\"id\":\"10671\",\"type\":\"GlyphRenderer\"},{\"attributes\":{},\"id\":\"11022\",\"type\":\"Selection\"},{\"attributes\":{},\"id\":\"11021\",\"type\":\"UnionRenderers\"},{\"attributes\":{\"active_drag\":{\"id\":\"10648\",\"type\":\"BoxZoomTool\"},\"active_inspect\":\"auto\",\"active_multi\":null,\"active_scroll\":{\"id\":\"10647\",\"type\":\"WheelZoomTool\"},\"active_tap\":\"auto\",\"tools\":[{\"id\":\"10646\",\"type\":\"PanTool\"},{\"id\":\"10647\",\"type\":\"WheelZoomTool\"},{\"id\":\"10648\",\"type\":\"BoxZoomTool\"},{\"id\":\"10649\",\"type\":\"SaveTool\"},{\"id\":\"10650\",\"type\":\"ResetTool\"},{\"id\":\"10651\",\"type\":\"HelpTool\"},{\"id\":\"10666\",\"type\":\"HoverTool\"}]},\"id\":\"10652\",\"type\":\"Toolbar\"},{\"attributes\":{\"source\":{\"id\":\"10668\",\"type\":\"ColumnDataSource\"}},\"id\":\"10672\",\"type\":\"CDSView\"},{\"attributes\":{},\"id\":\"11016\",\"type\":\"BasicTickFormatter\"},{\"attributes\":{},\"id\":\"10651\",\"type\":\"HelpTool\"},{\"attributes\":{},\"id\":\"10634\",\"type\":\"LinearScale\"},{\"attributes\":{},\"id\":\"10632\",\"type\":\"LinearScale\"},{\"attributes\":{},\"id\":\"10637\",\"type\":\"BasicTicker\"},{\"attributes\":{\"overlay\":{\"id\":\"10654\",\"type\":\"BoxAnnotation\"}},\"id\":\"10648\",\"type\":\"BoxZoomTool\"},{\"attributes\":{\"dimension\":1,\"plot\":{\"id\":\"10626\",\"subtype\":\"Figure\",\"type\":\"Plot\"},\"ticker\":{\"id\":\"10642\",\"type\":\"BasicTicker\"}},\"id\":\"10645\",\"type\":\"Grid\"},{\"attributes\":{},\"id\":\"10650\",\"type\":\"ResetTool\"},{\"attributes\":{},\"id\":\"10649\",\"type\":\"SaveTool\"},{\"attributes\":{\"line_alpha\":0.1,\"line_color\":\"#1f77b4\",\"x\":{\"field\":\"x\"},\"y\":{\"field\":\"y\"}},\"id\":\"10663\",\"type\":\"Line\"},{\"attributes\":{\"callback\":null},\"id\":\"10628\",\"type\":\"DataRange1d\"},{\"attributes\":{\"callback\":null,\"data\":{\"x\":{\"__ndarray__\":\"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\",\"dtype\":\"float64\",\"shape\":[200]},\"y\":[-3.7544562816619873,-10.63926887512207,10.783163070678711,68.3598861694336,20.020706176757812,22.825199127197266,35.75028991699219,-32.91801071166992,8.191271781921387,-7.386709213256836,-31.586645126342773,81.56069946289062,14.419346809387207,-4.138275623321533,42.20998001098633,14.117676734924316,71.2593765258789,34.636051177978516,-16.907808303833008,-40.83741760253906,-3.108710527420044,-46.911624908447266,22.24748992919922,21.468486785888672,-13.414402961730957,-45.264949798583984,-12.122709274291992,18.120357513427734,-12.900134086608887,13.004417419433594,-83.18270874023438,-59.092018127441406,-77.70921325683594,6.025633811950684,-26.318628311157227,-21.72246551513672,-33.07015609741211,-27.996835708618164,-48.86529541015625,-4.897943019866943,-41.306453704833984,-6.962894439697266,-16.795490264892578,6.788289546966553,-47.83484649658203,-30.039777755737305,-31.137292861938477,44.78349685668945,-74.04486846923828,-44.16474151611328,-63.15547180175781,55.49954605102539,162.10572814941406,175.52171325683594,35.41547775268555,9.181062698364258,104.49461364746094,166.8817596435547,-19.04993438720703,-87.22248840332031,-40.16884994506836,-27.78892707824707,86.61027526855469,18.763015747070312,-67.2296371459961,-55.0039176940918,-14.316652297973633,-24.3680419921875,-59.39600372314453,-47.12038040161133,-75.05631256103516,-41.77093505859375,-30.120088577270508,-66.95447540283203,-59.997371673583984,-89.10130310058594,-72.77543640136719,-40.7237434387207,113.04852294921875,394.7635192871094,175.15150451660156,-12.068309783935547,-24.175464630126953,24.016569137573242,103.4855728149414,45.33774948120117,-62.218162536621094,-37.83438491821289,-59.88945388793945,-15.872509956359863,-8.044536590576172,-2.8875908851623535,8.06353759765625,-39.8410530090332,-68.78617858886719,-30.52354621887207,-26.521785736083984,45.4050178527832,50.40969467163086,-9.990663528442383,-46.019813537597656,-38.56227493286133,-21.60047149658203,-1.506227731704712,-57.281620025634766,33.8731575012207,241.02218627929688,178.2914581298828,57.54985046386719,-73.87510681152344,-40.868072509765625,-33.30793762207031,19.915515899658203,39.37248611450195,25.375104904174805,162.86697387695312,124.81305694580078,62.49973678588867,73.09095001220703,109.18264770507812,82.11576843261719,157.5034637451172,356.76812744140625,591.0615844726562,372.0682678222656,262.0054931640625,256.149169921875,277.8693542480469,186.40481567382812,236.90721130371094,184.11151123046875,-27.606931686401367,-13.2391996383667,67.71910095214844,136.45901489257812,154.53680419921875,155.84274291992188,85.84972381591797,76.74207305908203,10.076313018798828,48.447288513183594,157.28089904785156,275.9788818359375,149.27488708496094,31.53475570678711,-0.6024820804595947,128.18678283691406,159.50155639648438,-8.995680809020996,-28.068857192993164,41.16972351074219,2.080177068710327,-25.02292823791504,33.92022705078125,-18.635040283203125,-60.05579376220703,-34.7684211730957,55.116600036621094,44.24270248413086,-3.604344367980957,-16.234479904174805,-19.637815475463867,44.77891159057617,116.23713684082031,130.13894653320312,-16.472415924072266,-24.34136199951172,29.62684440612793,-37.71306228637695,-29.8911075592041,3.526174783706665,-7.943755626678467,-23.385494232177734,25.550689697265625,-19.681713104248047,-7.915463924407959,-49.47112274169922,4.960275173187256,-13.761655807495117,-21.886180877685547,27.267120361328125,36.077030181884766,32.560150146484375,25.421804428100586,-20.9711856842041,-0.4412100613117218,-7.548935890197754,80.34638214111328,22.082637786865234,3.3028945922851562,-43.44243240356445,-25.900897979736328,-10.218137741088867,15.851336479187012,-53.09775161743164,-51.69467544555664,-44.460426330566406,-14.163805961608887,11.894159317016602,-19.839874267578125]},\"selected\":{\"id\":\"11020\",\"type\":\"Selection\"},\"selection_policy\":{\"id\":\"11019\",\"type\":\"UnionRenderers\"}},\"id\":\"10661\",\"type\":\"ColumnDataSource\"},{\"attributes\":{},\"id\":\"11014\",\"type\":\"BasicTickFormatter\"},{\"attributes\":{},\"id\":\"10646\",\"type\":\"PanTool\"},{\"attributes\":{\"formatter\":{\"id\":\"11016\",\"type\":\"BasicTickFormatter\"},\"plot\":{\"id\":\"10626\",\"subtype\":\"Figure\",\"type\":\"Plot\"},\"ticker\":{\"id\":\"10637\",\"type\":\"BasicTicker\"}},\"id\":\"10636\",\"type\":\"LinearAxis\"},{\"attributes\":{},\"id\":\"11020\",\"type\":\"Selection\"},{\"attributes\":{},\"id\":\"10642\",\"type\":\"BasicTicker\"},{\"attributes\":{},\"id\":\"10647\",\"type\":\"WheelZoomTool\"},{\"attributes\":{\"bottom_units\":\"screen\",\"fill_alpha\":{\"value\":0.5},\"fill_color\":{\"value\":\"lightgrey\"},\"left_units\":\"screen\",\"level\":\"overlay\",\"line_alpha\":{\"value\":1.0},\"line_color\":{\"value\":\"black\"},\"line_dash\":[4,4],\"line_width\":{\"value\":2},\"plot\":null,\"render_mode\":\"css\",\"right_units\":\"screen\",\"top_units\":\"screen\"},\"id\":\"10654\",\"type\":\"BoxAnnotation\"},{\"attributes\":{\"callback\":null,\"data\":{\"x\":{\"__ndarray__\":\"////P9liuUD///8/mZi5QP///z/ZmblA////PxmbuUA=\",\"dtype\":\"float64\",\"shape\":[4]},\"y\":[394.7635192871094,356.76812744140625,591.0615844726562,372.0682678222656]},\"selected\":{\"id\":\"11022\",\"type\":\"Selection\"},\"selection_policy\":{\"id\":\"11021\",\"type\":\"UnionRenderers\"}},\"id\":\"10668\",\"type\":\"ColumnDataSource\"},{\"attributes\":{\"source\":{\"id\":\"10661\",\"type\":\"ColumnDataSource\"}},\"id\":\"10665\",\"type\":\"CDSView\"},{\"attributes\":{\"plot\":{\"id\":\"10626\",\"subtype\":\"Figure\",\"type\":\"Plot\"},\"ticker\":{\"id\":\"10637\",\"type\":\"BasicTicker\"}},\"id\":\"10640\",\"type\":\"Grid\"},{\"attributes\":{\"data_source\":{\"id\":\"10661\",\"type\":\"ColumnDataSource\"},\"glyph\":{\"id\":\"10662\",\"type\":\"Line\"},\"hover_glyph\":null,\"muted_glyph\":null,\"nonselection_glyph\":{\"id\":\"10663\",\"type\":\"Line\"},\"selection_glyph\":null,\"view\":{\"id\":\"10665\",\"type\":\"CDSView\"}},\"id\":\"10664\",\"type\":\"GlyphRenderer\"},{\"attributes\":{\"callback\":null,\"tooltips\":[[\"(x,y)\",\"($x{1}, $y)\"]]},\"id\":\"10666\",\"type\":\"HoverTool\"},{\"attributes\":{\"line_alpha\":0.1,\"line_color\":\"#1f77b4\",\"x\":{\"field\":\"x\"},\"y\":{\"field\":\"y\"}},\"id\":\"10670\",\"type\":\"Line\"},{\"attributes\":{\"formatter\":{\"id\":\"11014\",\"type\":\"BasicTickFormatter\"},\"plot\":{\"id\":\"10626\",\"subtype\":\"Figure\",\"type\":\"Plot\"},\"ticker\":{\"id\":\"10642\",\"type\":\"BasicTicker\"}},\"id\":\"10641\",\"type\":\"LinearAxis\"},{\"attributes\":{\"line_color\":\"red\",\"x\":{\"field\":\"x\"},\"y\":{\"field\":\"y\"}},\"id\":\"10669\",\"type\":\"Line\"},{\"attributes\":{\"line_color\":\"#1f77b4\",\"x\":{\"field\":\"x\"},\"y\":{\"field\":\"y\"}},\"id\":\"10662\",\"type\":\"Line\"}],\"root_ids\":[\"10626\"]},\"title\":\"Bokeh Application\",\"version\":\"1.0.4\"}};\n",
       "  var render_items = [{\"docid\":\"c00c430b-830c-4726-bfec-6bd0da70c8e3\",\"roots\":{\"10626\":\"01146fbe-62e3-4769-b7ba-c9afaccb7f6b\"}}];\n",
       "  root.Bokeh.embed.embed_items_notebook(docs_json, render_items);\n",
       "\n",
       "  }\n",
       "  if (root.Bokeh !== undefined) {\n",
       "    embed_document(root);\n",
       "  } else {\n",
       "    var attempts = 0;\n",
       "    var timer = setInterval(function(root) {\n",
       "      if (root.Bokeh !== undefined) {\n",
       "        embed_document(root);\n",
       "        clearInterval(timer);\n",
       "      }\n",
       "      attempts++;\n",
       "      if (attempts > 100) {\n",
       "        console.log(\"Bokeh: ERROR: Unable to run BokehJS code because BokehJS library is missing\");\n",
       "        clearInterval(timer);\n",
       "      }\n",
       "    }, 10, root)\n",
       "  }\n",
       "})(window);"
      ],
      "application/vnd.bokehjs_exec.v0+json": ""
     },
     "metadata": {
      "application/vnd.bokehjs_exec.v0+json": {
       "id": "10626"
      }
     },
     "output_type": "display_data"
    },
    {
     "data": {
      "text/html": [
       "\n",
       "\n",
       "\n",
       "\n",
       "\n",
       "\n",
       "  <div class=\"bk-root\" id=\"42b0a953-3084-4b07-a901-2c0a22162efc\" data-root-id=\"11084\"></div>\n"
      ]
     },
     "metadata": {},
     "output_type": "display_data"
    },
    {
     "data": {
      "application/javascript": [
       "(function(root) {\n",
       "  function embed_document(root) {\n",
       "    \n",
       "  var docs_json = {\"d72625b7-949e-45bb-a50a-4d0f723c5329\":{\"roots\":{\"references\":[{\"attributes\":{\"below\":[{\"id\":\"11094\",\"type\":\"LinearAxis\"}],\"left\":[{\"id\":\"11099\",\"type\":\"LinearAxis\"}],\"plot_height\":500,\"plot_width\":900,\"renderers\":[{\"id\":\"11094\",\"type\":\"LinearAxis\"},{\"id\":\"11098\",\"type\":\"Grid\"},{\"id\":\"11099\",\"type\":\"LinearAxis\"},{\"id\":\"11103\",\"type\":\"Grid\"},{\"id\":\"11112\",\"type\":\"BoxAnnotation\"},{\"id\":\"11122\",\"type\":\"GlyphRenderer\"},{\"id\":\"11129\",\"type\":\"GlyphRenderer\"}],\"title\":{\"id\":\"11083\",\"type\":\"Title\"},\"toolbar\":{\"id\":\"11110\",\"type\":\"Toolbar\"},\"x_range\":{\"id\":\"11086\",\"type\":\"DataRange1d\"},\"x_scale\":{\"id\":\"11090\",\"type\":\"LinearScale\"},\"y_range\":{\"id\":\"11088\",\"type\":\"DataRange1d\"},\"y_scale\":{\"id\":\"11092\",\"type\":\"LinearScale\"}},\"id\":\"11084\",\"subtype\":\"Figure\",\"type\":\"Plot\"},{\"attributes\":{},\"id\":\"11105\",\"type\":\"WheelZoomTool\"},{\"attributes\":{\"active_drag\":{\"id\":\"11106\",\"type\":\"BoxZoomTool\"},\"active_inspect\":\"auto\",\"active_multi\":null,\"active_scroll\":{\"id\":\"11105\",\"type\":\"WheelZoomTool\"},\"active_tap\":\"auto\",\"tools\":[{\"id\":\"11104\",\"type\":\"PanTool\"},{\"id\":\"11105\",\"type\":\"WheelZoomTool\"},{\"id\":\"11106\",\"type\":\"BoxZoomTool\"},{\"id\":\"11107\",\"type\":\"SaveTool\"},{\"id\":\"11108\",\"type\":\"ResetTool\"},{\"id\":\"11109\",\"type\":\"HelpTool\"},{\"id\":\"11124\",\"type\":\"HoverTool\"}]},\"id\":\"11110\",\"type\":\"Toolbar\"},{\"attributes\":{},\"id\":\"11482\",\"type\":\"BasicTickFormatter\"},{\"attributes\":{},\"id\":\"11484\",\"type\":\"BasicTickFormatter\"},{\"attributes\":{},\"id\":\"11095\",\"type\":\"BasicTicker\"},{\"attributes\":{},\"id\":\"11092\",\"type\":\"LinearScale\"},{\"attributes\":{},\"id\":\"11488\",\"type\":\"Selection\"},{\"attributes\":{\"callback\":null,\"tooltips\":[[\"(x,y)\",\"($x{1}, $y)\"]]},\"id\":\"11124\",\"type\":\"HoverTool\"},{\"attributes\":{\"callback\":null},\"id\":\"11088\",\"type\":\"DataRange1d\"},{\"attributes\":{\"data_source\":{\"id\":\"11126\",\"type\":\"ColumnDataSource\"},\"glyph\":{\"id\":\"11127\",\"type\":\"Line\"},\"hover_glyph\":null,\"muted_glyph\":null,\"nonselection_glyph\":{\"id\":\"11128\",\"type\":\"Line\"},\"selection_glyph\":null,\"view\":{\"id\":\"11130\",\"type\":\"CDSView\"}},\"id\":\"11129\",\"type\":\"GlyphRenderer\"},{\"attributes\":{\"formatter\":{\"id\":\"11482\",\"type\":\"BasicTickFormatter\"},\"plot\":{\"id\":\"11084\",\"subtype\":\"Figure\",\"type\":\"Plot\"},\"ticker\":{\"id\":\"11100\",\"type\":\"BasicTicker\"}},\"id\":\"11099\",\"type\":\"LinearAxis\"},{\"attributes\":{\"source\":{\"id\":\"11126\",\"type\":\"ColumnDataSource\"}},\"id\":\"11130\",\"type\":\"CDSView\"},{\"attributes\":{\"overlay\":{\"id\":\"11112\",\"type\":\"BoxAnnotation\"}},\"id\":\"11106\",\"type\":\"BoxZoomTool\"},{\"attributes\":{},\"id\":\"11104\",\"type\":\"PanTool\"},{\"attributes\":{\"plot\":{\"id\":\"11084\",\"subtype\":\"Figure\",\"type\":\"Plot\"},\"ticker\":{\"id\":\"11095\",\"type\":\"BasicTicker\"}},\"id\":\"11098\",\"type\":\"Grid\"},{\"attributes\":{\"callback\":null},\"id\":\"11086\",\"type\":\"DataRange1d\"},{\"attributes\":{},\"id\":\"11109\",\"type\":\"HelpTool\"},{\"attributes\":{\"formatter\":{\"id\":\"11484\",\"type\":\"BasicTickFormatter\"},\"plot\":{\"id\":\"11084\",\"subtype\":\"Figure\",\"type\":\"Plot\"},\"ticker\":{\"id\":\"11095\",\"type\":\"BasicTicker\"}},\"id\":\"11094\",\"type\":\"LinearAxis\"},{\"attributes\":{\"callback\":null,\"data\":{\"x\":{\"__ndarray__\":\"////P9liuUD///8/WZe5QP///z+ZmLlA////P9mZuUD///8/GZu5QP///z9ZnLlA////P5mduUD///8/2Z65QP///z8ZoLlA////P1mhuUD///8/maK5QP///z/Zo7lA////PxmluUD///8/Waa5QP///z+Zp7lA////P9mouUA=\",\"dtype\":\"float64\",\"shape\":[16]},\"y\":[317.0716247558594,316.20013427734375,577.0532836914062,791.3718872070312,758.5458374023438,652.1434326171875,711.85986328125,747.765380859375,641.8164672851562,549.7796020507812,496.2322998046875,326.3892517089844,288.61761474609375,302.2679443359375,320.3405456542969,317.3819885253906]},\"selected\":{\"id\":\"11490\",\"type\":\"Selection\"},\"selection_policy\":{\"id\":\"11489\",\"type\":\"UnionRenderers\"}},\"id\":\"11126\",\"type\":\"ColumnDataSource\"},{\"attributes\":{\"data_source\":{\"id\":\"11119\",\"type\":\"ColumnDataSource\"},\"glyph\":{\"id\":\"11120\",\"type\":\"Line\"},\"hover_glyph\":null,\"muted_glyph\":null,\"nonselection_glyph\":{\"id\":\"11121\",\"type\":\"Line\"},\"selection_glyph\":null,\"view\":{\"id\":\"11123\",\"type\":\"CDSView\"}},\"id\":\"11122\",\"type\":\"GlyphRenderer\"},{\"attributes\":{\"line_color\":\"red\",\"x\":{\"field\":\"x\"},\"y\":{\"field\":\"y\"}},\"id\":\"11127\",\"type\":\"Line\"},{\"attributes\":{\"callback\":null,\"data\":{\"x\":{\"__ndarray__\":\"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\",\"dtype\":\"float64\",\"shape\":[200]},\"y\":[9.615155220031738,41.110107421875,-59.94548416137695,34.99025344848633,52.036338806152344,-8.037939071655273,-4.908851623535156,11.807145118713379,14.122260093688965,17.40282440185547,15.79422664642334,83.92573547363281,0.6635652184486389,-5.33542537689209,48.36577606201172,18.491655349731445,61.241310119628906,39.399654388427734,-36.60472869873047,-6.855937480926514,7.353175640106201,-24.449312210083008,54.35427474975586,26.897851943969727,-60.80992126464844,-40.378902435302734,-30.873912811279297,-22.024200439453125,-31.65361785888672,6.746135711669922,-64.69834899902344,-69.2086410522461,-26.17486572265625,-29.87351417541504,-40.044212341308594,-7.361889839172363,-28.278324127197266,-38.55548095703125,-11.155027389526367,-11.224793434143066,-39.69849395751953,-26.653520584106445,-21.871124267578125,-50.7703742980957,-34.61981964111328,-22.624055862426758,6.880004405975342,-7.246431827545166,-51.36737823486328,-32.44804382324219,-51.548614501953125,89.43138122558594,102.99230194091797,112.539794921875,7.191654205322266,28.446292877197266,89.938720703125,88.92980194091797,-44.546897888183594,-73.19925689697266,-41.958919525146484,-32.64229202270508,60.79627990722656,39.52622985839844,-13.111376762390137,-11.739832878112793,-31.3125057220459,-31.508352279663086,-41.280860900878906,-1.0481268167495728,-59.16402816772461,-24.048852920532227,-43.61715316772461,-60.50857925415039,-27.135236740112305,-57.293270111083984,-40.13771057128906,-66.3997573852539,48.56781005859375,317.0716247558594,118.0682373046875,9.482812881469727,-2.8036649227142334,9.9811429977417,87.36885070800781,86.83113861083984,-42.03921127319336,0.5253653526306152,-31.89992904663086,9.553314208984375,-3.4278957843780518,1.8898413181304932,7.297784328460693,31.577672958374023,-76.60838317871094,-59.38685607910156,-52.60502624511719,57.26237106323242,87.74475860595703,-22.413854598999023,31.23600196838379,-57.04834747314453,-36.19903564453125,50.964603424072266,16.572940826416016,14.873048782348633,190.02032470703125,169.08872985839844,70.39285278320312,-58.57182312011719,12.414787292480469,-0.32602113485336304,13.60858154296875,30.842863082885742,69.26268768310547,110.99855041503906,84.82620239257812,157.9233856201172,160.87237548828125,235.55181884765625,238.88153076171875,316.20013427734375,577.0532836914062,791.3718872070312,758.5458374023438,652.1434326171875,711.85986328125,747.765380859375,641.8164672851562,549.7796020507812,496.2322998046875,326.3892517089844,288.61761474609375,302.2679443359375,320.3405456542969,317.3819885253906,283.1396179199219,222.48379516601562,233.39303588867188,154.41297912597656,107.69147491455078,164.8614501953125,225.1517791748047,150.4585723876953,73.75719451904297,41.461326599121094,86.44585418701172,142.8551788330078,36.176124572753906,6.515008926391602,24.37329864501953,-28.856916427612305,-51.574073791503906,-18.50656509399414,10.041651725769043,-47.66794967651367,-37.7874641418457,32.6497802734375,35.92918395996094,-11.721227645874023,-15.001157760620117,21.077184677124023,37.580570220947266,68.87680053710938,76.43511199951172,-12.604113578796387,9.319180488586426,19.64176368713379,-19.78236198425293,-39.84577178955078,-9.843758583068848,-43.60505294799805,-39.66981887817383,-1.9556567668914795,-36.44291305541992,-42.69140625,-0.16939453780651093,-25.41594123840332,-16.304946899414062,4.7823615074157715,15.75211238861084,11.3378267288208,35.95466613769531,49.26815414428711,-0.7772446274757385,23.320417404174805,38.44529724121094,56.56260681152344,13.110330581665039,0.5661326050758362,-39.74613571166992,-30.351375579833984,-25.183916091918945,-35.90098190307617,-9.650153160095215,-2.301795244216919,2.4160656929016113,-18.432849884033203,-18.856353759765625,-25.363357543945312]},\"selected\":{\"id\":\"11488\",\"type\":\"Selection\"},\"selection_policy\":{\"id\":\"11487\",\"type\":\"UnionRenderers\"}},\"id\":\"11119\",\"type\":\"ColumnDataSource\"},{\"attributes\":{\"line_color\":\"#1f77b4\",\"x\":{\"field\":\"x\"},\"y\":{\"field\":\"y\"}},\"id\":\"11120\",\"type\":\"Line\"},{\"attributes\":{\"line_alpha\":0.1,\"line_color\":\"#1f77b4\",\"x\":{\"field\":\"x\"},\"y\":{\"field\":\"y\"}},\"id\":\"11121\",\"type\":\"Line\"},{\"attributes\":{\"source\":{\"id\":\"11119\",\"type\":\"ColumnDataSource\"}},\"id\":\"11123\",\"type\":\"CDSView\"},{\"attributes\":{},\"id\":\"11489\",\"type\":\"UnionRenderers\"},{\"attributes\":{\"plot\":null,\"text\":\"17:40:41.5735, -53:40:19.1137, 144\"},\"id\":\"11083\",\"type\":\"Title\"},{\"attributes\":{\"dimension\":1,\"plot\":{\"id\":\"11084\",\"subtype\":\"Figure\",\"type\":\"Plot\"},\"ticker\":{\"id\":\"11100\",\"type\":\"BasicTicker\"}},\"id\":\"11103\",\"type\":\"Grid\"},{\"attributes\":{\"line_alpha\":0.1,\"line_color\":\"#1f77b4\",\"x\":{\"field\":\"x\"},\"y\":{\"field\":\"y\"}},\"id\":\"11128\",\"type\":\"Line\"},{\"attributes\":{},\"id\":\"11090\",\"type\":\"LinearScale\"},{\"attributes\":{},\"id\":\"11107\",\"type\":\"SaveTool\"},{\"attributes\":{\"bottom_units\":\"screen\",\"fill_alpha\":{\"value\":0.5},\"fill_color\":{\"value\":\"lightgrey\"},\"left_units\":\"screen\",\"level\":\"overlay\",\"line_alpha\":{\"value\":1.0},\"line_color\":{\"value\":\"black\"},\"line_dash\":[4,4],\"line_width\":{\"value\":2},\"plot\":null,\"render_mode\":\"css\",\"right_units\":\"screen\",\"top_units\":\"screen\"},\"id\":\"11112\",\"type\":\"BoxAnnotation\"},{\"attributes\":{},\"id\":\"11490\",\"type\":\"Selection\"},{\"attributes\":{},\"id\":\"11100\",\"type\":\"BasicTicker\"},{\"attributes\":{},\"id\":\"11487\",\"type\":\"UnionRenderers\"},{\"attributes\":{},\"id\":\"11108\",\"type\":\"ResetTool\"}],\"root_ids\":[\"11084\"]},\"title\":\"Bokeh Application\",\"version\":\"1.0.4\"}};\n",
       "  var render_items = [{\"docid\":\"d72625b7-949e-45bb-a50a-4d0f723c5329\",\"roots\":{\"11084\":\"42b0a953-3084-4b07-a901-2c0a22162efc\"}}];\n",
       "  root.Bokeh.embed.embed_items_notebook(docs_json, render_items);\n",
       "\n",
       "  }\n",
       "  if (root.Bokeh !== undefined) {\n",
       "    embed_document(root);\n",
       "  } else {\n",
       "    var attempts = 0;\n",
       "    var timer = setInterval(function(root) {\n",
       "      if (root.Bokeh !== undefined) {\n",
       "        embed_document(root);\n",
       "        clearInterval(timer);\n",
       "      }\n",
       "      attempts++;\n",
       "      if (attempts > 100) {\n",
       "        console.log(\"Bokeh: ERROR: Unable to run BokehJS code because BokehJS library is missing\");\n",
       "        clearInterval(timer);\n",
       "      }\n",
       "    }, 10, root)\n",
       "  }\n",
       "})(window);"
      ],
      "application/vnd.bokehjs_exec.v0+json": ""
     },
     "metadata": {
      "application/vnd.bokehjs_exec.v0+json": {
       "id": "11084"
      }
     },
     "output_type": "display_data"
    },
    {
     "data": {
      "text/html": [
       "\n",
       "\n",
       "\n",
       "\n",
       "\n",
       "\n",
       "  <div class=\"bk-root\" id=\"84136a71-f86a-4840-95b0-6f22c7578224\" data-root-id=\"11552\"></div>\n"
      ]
     },
     "metadata": {},
     "output_type": "display_data"
    },
    {
     "data": {
      "application/javascript": [
       "(function(root) {\n",
       "  function embed_document(root) {\n",
       "    \n",
       "  var docs_json = {\"94aa0a67-84c3-4fd0-a545-d3998843462b\":{\"roots\":{\"references\":[{\"attributes\":{\"below\":[{\"id\":\"11562\",\"type\":\"LinearAxis\"}],\"left\":[{\"id\":\"11567\",\"type\":\"LinearAxis\"}],\"plot_height\":500,\"plot_width\":900,\"renderers\":[{\"id\":\"11562\",\"type\":\"LinearAxis\"},{\"id\":\"11566\",\"type\":\"Grid\"},{\"id\":\"11567\",\"type\":\"LinearAxis\"},{\"id\":\"11571\",\"type\":\"Grid\"},{\"id\":\"11580\",\"type\":\"BoxAnnotation\"},{\"id\":\"11590\",\"type\":\"GlyphRenderer\"},{\"id\":\"11597\",\"type\":\"GlyphRenderer\"}],\"title\":{\"id\":\"11551\",\"type\":\"Title\"},\"toolbar\":{\"id\":\"11578\",\"type\":\"Toolbar\"},\"x_range\":{\"id\":\"11554\",\"type\":\"DataRange1d\"},\"x_scale\":{\"id\":\"11558\",\"type\":\"LinearScale\"},\"y_range\":{\"id\":\"11556\",\"type\":\"DataRange1d\"},\"y_scale\":{\"id\":\"11560\",\"type\":\"LinearScale\"}},\"id\":\"11552\",\"subtype\":\"Figure\",\"type\":\"Plot\"},{\"attributes\":{},\"id\":\"11576\",\"type\":\"ResetTool\"},{\"attributes\":{\"callback\":null,\"data\":{\"x\":{\"__ndarray__\":\"////P9liuUD///8/2ZS5QP///z8ZlrlA////P1mXuUD///8/mZi5QP///z/ZmblA////PxmbuUD///8/WZy5QP///z+ZnblA////P9meuUD///8/GaC5QP///z9ZoblA////P5miuUD///8/2aO5QP///z8ZpblA////P1mmuUD///8/mae5QP///z/ZqLlA////PxmquUD///8/Wau5QP///z+ZrLlA////P1mwuUD///8/mbG5QA==\",\"dtype\":\"float64\",\"shape\":[23]},\"y\":[375.6184387207031,357.77252197265625,449.9658508300781,667.8318481445312,1096.099365234375,1523.6380615234375,1584.5565185546875,1560.1510009765625,1683.619873046875,1602.044921875,1482.762939453125,1316.8441162109375,1213.352783203125,911.8524780273438,770.0397338867188,698.173828125,700.2081909179688,716.4403076171875,614.4445190429688,496.4773254394531,400.76605224609375,346.37799072265625,452.0290222167969]},\"selected\":{\"id\":\"11968\",\"type\":\"Selection\"},\"selection_policy\":{\"id\":\"11967\",\"type\":\"UnionRenderers\"}},\"id\":\"11594\",\"type\":\"ColumnDataSource\"},{\"attributes\":{\"line_color\":\"red\",\"x\":{\"field\":\"x\"},\"y\":{\"field\":\"y\"}},\"id\":\"11595\",\"type\":\"Line\"},{\"attributes\":{\"formatter\":{\"id\":\"11960\",\"type\":\"BasicTickFormatter\"},\"plot\":{\"id\":\"11552\",\"subtype\":\"Figure\",\"type\":\"Plot\"},\"ticker\":{\"id\":\"11568\",\"type\":\"BasicTicker\"}},\"id\":\"11567\",\"type\":\"LinearAxis\"},{\"attributes\":{\"plot\":null,\"text\":\"17:40:41.6068, -53:40:19.1137, 145\"},\"id\":\"11551\",\"type\":\"Title\"},{\"attributes\":{\"callback\":null,\"tooltips\":[[\"(x,y)\",\"($x{1}, $y)\"]]},\"id\":\"11592\",\"type\":\"HoverTool\"},{\"attributes\":{},\"id\":\"11573\",\"type\":\"WheelZoomTool\"},{\"attributes\":{\"source\":{\"id\":\"11587\",\"type\":\"ColumnDataSource\"}},\"id\":\"11591\",\"type\":\"CDSView\"},{\"attributes\":{\"formatter\":{\"id\":\"11962\",\"type\":\"BasicTickFormatter\"},\"plot\":{\"id\":\"11552\",\"subtype\":\"Figure\",\"type\":\"Plot\"},\"ticker\":{\"id\":\"11563\",\"type\":\"BasicTicker\"}},\"id\":\"11562\",\"type\":\"LinearAxis\"},{\"attributes\":{\"callback\":null},\"id\":\"11554\",\"type\":\"DataRange1d\"},{\"attributes\":{},\"id\":\"11572\",\"type\":\"PanTool\"},{\"attributes\":{\"overlay\":{\"id\":\"11580\",\"type\":\"BoxAnnotation\"}},\"id\":\"11574\",\"type\":\"BoxZoomTool\"},{\"attributes\":{\"callback\":null,\"data\":{\"x\":{\"__ndarray__\":\"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\",\"dtype\":\"float64\",\"shape\":[200]},\"y\":[-4.924457550048828,-1.3146631717681885,22.944608688354492,5.164638996124268,-20.421663284301758,52.091461181640625,51.529457092285156,-0.24903561174869537,5.772583961486816,-8.312421798706055,9.083348274230957,72.28582763671875,-1.3656400442123413,32.18828201293945,-19.126628875732422,32.77629852294922,56.254974365234375,36.51056671142578,-3.1790871620178223,6.926732540130615,81.9422836303711,-21.641708374023438,22.629343032836914,4.05402135848999,30.2419490814209,-81.91478729248047,27.88850212097168,-25.554481506347656,-47.18832015991211,-43.22614669799805,-39.11254119873047,-36.94662857055664,-45.7030143737793,17.014055252075195,-44.31398010253906,-99.84043884277344,-118.43421173095703,-19.352140426635742,-28.33836555480957,4.123715400695801,-52.62043762207031,-1.9211688041687012,-15.765780448913574,-96.2299575805664,-31.095436096191406,7.406579494476318,-31.021028518676758,-13.804040908813477,-62.95393371582031,7.014648914337158,-7.310163497924805,39.387062072753906,98.0482177734375,101.33492279052734,12.451774597167969,-27.998205184936523,110.0391845703125,137.82394409179688,-3.5577239990234375,-44.826297760009766,-51.78865051269531,-25.42135238647461,-38.81570816040039,24.136920928955078,35.56300735473633,-20.591167449951172,10.251547813415527,-48.350006103515625,-27.708335876464844,-30.446237564086914,30.7155818939209,-43.31296157836914,-16.351699829101562,-88.97997283935547,-109.7336654663086,-97.02342987060547,-79.0079574584961,-66.27122497558594,150.10302734375,375.6184387207031,215.61611938476562,12.71589183807373,-13.911803245544434,63.432979583740234,126.47118377685547,-11.099678993225098,-39.49933624267578,-24.3359375,-39.68981170654297,-49.72330856323242,-35.04677963256836,29.718923568725586,-60.92399978637695,12.108922004699707,-77.94403076171875,-17.225677490234375,-32.111507415771484,-45.375694274902344,45.53572082519531,31.997493743896484,48.62632369995117,-8.285555839538574,-18.641218185424805,0.9167577624320984,-72.76103973388672,42.753360748291016,254.62353515625,272.4053955078125,36.82356643676758,-65.42398071289062,65.11930084228516,14.0181245803833,44.20826721191406,143.9211883544922,120.62561798095703,228.76516723632812,278.5478515625,218.73098754882812,282.2418212890625,357.77252197265625,449.9658508300781,667.8318481445312,1096.099365234375,1523.6380615234375,1584.5565185546875,1560.1510009765625,1683.619873046875,1602.044921875,1482.762939453125,1316.8441162109375,1213.352783203125,911.8524780273438,770.0397338867188,698.173828125,700.2081909179688,716.4403076171875,614.4445190429688,496.4773254394531,400.76605224609375,312.7115783691406,260.35614013671875,346.37799072265625,452.0290222167969,268.8383483886719,139.18240356445312,123.7765121459961,224.63241577148438,178.60043334960938,37.75308609008789,49.66483688354492,-54.44361114501953,6.052984714508057,-0.9689095616340637,-91.88453674316406,0.704291045665741,-55.38161849975586,-23.935972213745117,15.754855155944824,54.46137237548828,-8.181410789489746,-3.1815528869628906,-2.6684467792510986,74.013671875,159.7932586669922,59.396400451660156,9.69662857055664,-61.05361557006836,-18.69393539428711,4.7226948738098145,14.421371459960938,5.171137809753418,-76.94646453857422,-19.909704208374023,-36.09553527832031,-14.170221328735352,-23.527557373046875,18.380796432495117,-9.692963600158691,-23.021053314208984,-12.418416976928711,26.226276397705078,-30.947568893432617,40.0414924621582,43.017189025878906,33.94655990600586,14.011252403259277,8.308430671691895,25.897418975830078,41.037010192871094,-19.755220413208008,-54.562034606933594,-25.713754653930664,-31.98308753967285,4.774986743927002,-81.38313293457031,-18.21257781982422,-3.411097526550293,10.532048225402832,12.163490295410156,-54.44035720825195]},\"selected\":{\"id\":\"11966\",\"type\":\"Selection\"},\"selection_policy\":{\"id\":\"11965\",\"type\":\"UnionRenderers\"}},\"id\":\"11587\",\"type\":\"ColumnDataSource\"},{\"attributes\":{\"source\":{\"id\":\"11594\",\"type\":\"ColumnDataSource\"}},\"id\":\"11598\",\"type\":\"CDSView\"},{\"attributes\":{},\"id\":\"11577\",\"type\":\"HelpTool\"},{\"attributes\":{},\"id\":\"11960\",\"type\":\"BasicTickFormatter\"},{\"attributes\":{},\"id\":\"11967\",\"type\":\"UnionRenderers\"},{\"attributes\":{},\"id\":\"11563\",\"type\":\"BasicTicker\"},{\"attributes\":{},\"id\":\"11968\",\"type\":\"Selection\"},{\"attributes\":{\"line_color\":\"#1f77b4\",\"x\":{\"field\":\"x\"},\"y\":{\"field\":\"y\"}},\"id\":\"11588\",\"type\":\"Line\"},{\"attributes\":{},\"id\":\"11966\",\"type\":\"Selection\"},{\"attributes\":{\"active_drag\":{\"id\":\"11574\",\"type\":\"BoxZoomTool\"},\"active_inspect\":\"auto\",\"active_multi\":null,\"active_scroll\":{\"id\":\"11573\",\"type\":\"WheelZoomTool\"},\"active_tap\":\"auto\",\"tools\":[{\"id\":\"11572\",\"type\":\"PanTool\"},{\"id\":\"11573\",\"type\":\"WheelZoomTool\"},{\"id\":\"11574\",\"type\":\"BoxZoomTool\"},{\"id\":\"11575\",\"type\":\"SaveTool\"},{\"id\":\"11576\",\"type\":\"ResetTool\"},{\"id\":\"11577\",\"type\":\"HelpTool\"},{\"id\":\"11592\",\"type\":\"HoverTool\"}]},\"id\":\"11578\",\"type\":\"Toolbar\"},{\"attributes\":{},\"id\":\"11560\",\"type\":\"LinearScale\"},{\"attributes\":{},\"id\":\"11965\",\"type\":\"UnionRenderers\"},{\"attributes\":{\"data_source\":{\"id\":\"11594\",\"type\":\"ColumnDataSource\"},\"glyph\":{\"id\":\"11595\",\"type\":\"Line\"},\"hover_glyph\":null,\"muted_glyph\":null,\"nonselection_glyph\":{\"id\":\"11596\",\"type\":\"Line\"},\"selection_glyph\":null,\"view\":{\"id\":\"11598\",\"type\":\"CDSView\"}},\"id\":\"11597\",\"type\":\"GlyphRenderer\"},{\"attributes\":{\"plot\":{\"id\":\"11552\",\"subtype\":\"Figure\",\"type\":\"Plot\"},\"ticker\":{\"id\":\"11563\",\"type\":\"BasicTicker\"}},\"id\":\"11566\",\"type\":\"Grid\"},{\"attributes\":{\"callback\":null},\"id\":\"11556\",\"type\":\"DataRange1d\"},{\"attributes\":{},\"id\":\"11962\",\"type\":\"BasicTickFormatter\"},{\"attributes\":{},\"id\":\"11568\",\"type\":\"BasicTicker\"},{\"attributes\":{\"data_source\":{\"id\":\"11587\",\"type\":\"ColumnDataSource\"},\"glyph\":{\"id\":\"11588\",\"type\":\"Line\"},\"hover_glyph\":null,\"muted_glyph\":null,\"nonselection_glyph\":{\"id\":\"11589\",\"type\":\"Line\"},\"selection_glyph\":null,\"view\":{\"id\":\"11591\",\"type\":\"CDSView\"}},\"id\":\"11590\",\"type\":\"GlyphRenderer\"},{\"attributes\":{\"line_alpha\":0.1,\"line_color\":\"#1f77b4\",\"x\":{\"field\":\"x\"},\"y\":{\"field\":\"y\"}},\"id\":\"11589\",\"type\":\"Line\"},{\"attributes\":{\"dimension\":1,\"plot\":{\"id\":\"11552\",\"subtype\":\"Figure\",\"type\":\"Plot\"},\"ticker\":{\"id\":\"11568\",\"type\":\"BasicTicker\"}},\"id\":\"11571\",\"type\":\"Grid\"},{\"attributes\":{\"line_alpha\":0.1,\"line_color\":\"#1f77b4\",\"x\":{\"field\":\"x\"},\"y\":{\"field\":\"y\"}},\"id\":\"11596\",\"type\":\"Line\"},{\"attributes\":{},\"id\":\"11575\",\"type\":\"SaveTool\"},{\"attributes\":{},\"id\":\"11558\",\"type\":\"LinearScale\"},{\"attributes\":{\"bottom_units\":\"screen\",\"fill_alpha\":{\"value\":0.5},\"fill_color\":{\"value\":\"lightgrey\"},\"left_units\":\"screen\",\"level\":\"overlay\",\"line_alpha\":{\"value\":1.0},\"line_color\":{\"value\":\"black\"},\"line_dash\":[4,4],\"line_width\":{\"value\":2},\"plot\":null,\"render_mode\":\"css\",\"right_units\":\"screen\",\"top_units\":\"screen\"},\"id\":\"11580\",\"type\":\"BoxAnnotation\"}],\"root_ids\":[\"11552\"]},\"title\":\"Bokeh Application\",\"version\":\"1.0.4\"}};\n",
       "  var render_items = [{\"docid\":\"94aa0a67-84c3-4fd0-a545-d3998843462b\",\"roots\":{\"11552\":\"84136a71-f86a-4840-95b0-6f22c7578224\"}}];\n",
       "  root.Bokeh.embed.embed_items_notebook(docs_json, render_items);\n",
       "\n",
       "  }\n",
       "  if (root.Bokeh !== undefined) {\n",
       "    embed_document(root);\n",
       "  } else {\n",
       "    var attempts = 0;\n",
       "    var timer = setInterval(function(root) {\n",
       "      if (root.Bokeh !== undefined) {\n",
       "        embed_document(root);\n",
       "        clearInterval(timer);\n",
       "      }\n",
       "      attempts++;\n",
       "      if (attempts > 100) {\n",
       "        console.log(\"Bokeh: ERROR: Unable to run BokehJS code because BokehJS library is missing\");\n",
       "        clearInterval(timer);\n",
       "      }\n",
       "    }, 10, root)\n",
       "  }\n",
       "})(window);"
      ],
      "application/vnd.bokehjs_exec.v0+json": ""
     },
     "metadata": {
      "application/vnd.bokehjs_exec.v0+json": {
       "id": "11552"
      }
     },
     "output_type": "display_data"
    },
    {
     "data": {
      "text/html": [
       "\n",
       "\n",
       "\n",
       "\n",
       "\n",
       "\n",
       "  <div class=\"bk-root\" id=\"8d4316f3-a80e-4758-9904-f1f2ea3aa9c0\" data-root-id=\"12030\"></div>\n"
      ]
     },
     "metadata": {},
     "output_type": "display_data"
    },
    {
     "data": {
      "application/javascript": [
       "(function(root) {\n",
       "  function embed_document(root) {\n",
       "    \n",
       "  var docs_json = {\"522aec75-968e-4288-a3d6-19f5ecf11eb7\":{\"roots\":{\"references\":[{\"attributes\":{\"below\":[{\"id\":\"12040\",\"type\":\"LinearAxis\"}],\"left\":[{\"id\":\"12045\",\"type\":\"LinearAxis\"}],\"plot_height\":500,\"plot_width\":900,\"renderers\":[{\"id\":\"12040\",\"type\":\"LinearAxis\"},{\"id\":\"12044\",\"type\":\"Grid\"},{\"id\":\"12045\",\"type\":\"LinearAxis\"},{\"id\":\"12049\",\"type\":\"Grid\"},{\"id\":\"12058\",\"type\":\"BoxAnnotation\"},{\"id\":\"12068\",\"type\":\"GlyphRenderer\"},{\"id\":\"12075\",\"type\":\"GlyphRenderer\"}],\"title\":{\"id\":\"12029\",\"type\":\"Title\"},\"toolbar\":{\"id\":\"12056\",\"type\":\"Toolbar\"},\"x_range\":{\"id\":\"12032\",\"type\":\"DataRange1d\"},\"x_scale\":{\"id\":\"12036\",\"type\":\"LinearScale\"},\"y_range\":{\"id\":\"12034\",\"type\":\"DataRange1d\"},\"y_scale\":{\"id\":\"12038\",\"type\":\"LinearScale\"}},\"id\":\"12030\",\"subtype\":\"Figure\",\"type\":\"Plot\"},{\"attributes\":{\"callback\":null},\"id\":\"12032\",\"type\":\"DataRange1d\"},{\"attributes\":{},\"id\":\"12453\",\"type\":\"UnionRenderers\"},{\"attributes\":{\"callback\":null,\"data\":{\"x\":{\"__ndarray__\":\"////P9liuUD///8/WZe5QP///z+ZmLlA////P9mZuUD///8/GZu5QP///z9ZnLlA////P5mduUD///8/2Z65QP///z8ZoLlA////P1mhuUD///8/maK5QP///z/Zo7lA////PxmluUD///8/Waa5QP///z+Zp7lA////P9mouUD///8/Gaq5QA==\",\"dtype\":\"float64\",\"shape\":[17]},\"y\":[375.1044616699219,478.4531555175781,876.4158935546875,1257.154052734375,1198.4156494140625,1086.517333984375,1281.9385986328125,1176.7493896484375,1140.1815185546875,981.2564086914062,976.1714477539062,695.2637329101562,598.8358154296875,534.1264038085938,512.995361328125,502.1871337890625,415.620849609375]},\"selected\":{\"id\":\"12456\",\"type\":\"Selection\"},\"selection_policy\":{\"id\":\"12455\",\"type\":\"UnionRenderers\"}},\"id\":\"12072\",\"type\":\"ColumnDataSource\"},{\"attributes\":{\"callback\":null},\"id\":\"12034\",\"type\":\"DataRange1d\"},{\"attributes\":{},\"id\":\"12055\",\"type\":\"HelpTool\"},{\"attributes\":{\"bottom_units\":\"screen\",\"fill_alpha\":{\"value\":0.5},\"fill_color\":{\"value\":\"lightgrey\"},\"left_units\":\"screen\",\"level\":\"overlay\",\"line_alpha\":{\"value\":1.0},\"line_color\":{\"value\":\"black\"},\"line_dash\":[4,4],\"line_width\":{\"value\":2},\"plot\":null,\"render_mode\":\"css\",\"right_units\":\"screen\",\"top_units\":\"screen\"},\"id\":\"12058\",\"type\":\"BoxAnnotation\"},{\"attributes\":{},\"id\":\"12038\",\"type\":\"LinearScale\"},{\"attributes\":{},\"id\":\"12053\",\"type\":\"SaveTool\"},{\"attributes\":{\"overlay\":{\"id\":\"12058\",\"type\":\"BoxAnnotation\"}},\"id\":\"12052\",\"type\":\"BoxZoomTool\"},{\"attributes\":{\"plot\":{\"id\":\"12030\",\"subtype\":\"Figure\",\"type\":\"Plot\"},\"ticker\":{\"id\":\"12041\",\"type\":\"BasicTicker\"}},\"id\":\"12044\",\"type\":\"Grid\"},{\"attributes\":{},\"id\":\"12041\",\"type\":\"BasicTicker\"},{\"attributes\":{\"active_drag\":{\"id\":\"12052\",\"type\":\"BoxZoomTool\"},\"active_inspect\":\"auto\",\"active_multi\":null,\"active_scroll\":{\"id\":\"12051\",\"type\":\"WheelZoomTool\"},\"active_tap\":\"auto\",\"tools\":[{\"id\":\"12050\",\"type\":\"PanTool\"},{\"id\":\"12051\",\"type\":\"WheelZoomTool\"},{\"id\":\"12052\",\"type\":\"BoxZoomTool\"},{\"id\":\"12053\",\"type\":\"SaveTool\"},{\"id\":\"12054\",\"type\":\"ResetTool\"},{\"id\":\"12055\",\"type\":\"HelpTool\"},{\"id\":\"12070\",\"type\":\"HoverTool\"}]},\"id\":\"12056\",\"type\":\"Toolbar\"},{\"attributes\":{\"source\":{\"id\":\"12072\",\"type\":\"ColumnDataSource\"}},\"id\":\"12076\",\"type\":\"CDSView\"},{\"attributes\":{\"data_source\":{\"id\":\"12065\",\"type\":\"ColumnDataSource\"},\"glyph\":{\"id\":\"12066\",\"type\":\"Line\"},\"hover_glyph\":null,\"muted_glyph\":null,\"nonselection_glyph\":{\"id\":\"12067\",\"type\":\"Line\"},\"selection_glyph\":null,\"view\":{\"id\":\"12069\",\"type\":\"CDSView\"}},\"id\":\"12068\",\"type\":\"GlyphRenderer\"},{\"attributes\":{\"callback\":null,\"tooltips\":[[\"(x,y)\",\"($x{1}, $y)\"]]},\"id\":\"12070\",\"type\":\"HoverTool\"},{\"attributes\":{},\"id\":\"12036\",\"type\":\"LinearScale\"},{\"attributes\":{},\"id\":\"12050\",\"type\":\"PanTool\"},{\"attributes\":{},\"id\":\"12051\",\"type\":\"WheelZoomTool\"},{\"attributes\":{\"source\":{\"id\":\"12065\",\"type\":\"ColumnDataSource\"}},\"id\":\"12069\",\"type\":\"CDSView\"},{\"attributes\":{\"line_alpha\":0.1,\"line_color\":\"#1f77b4\",\"x\":{\"field\":\"x\"},\"y\":{\"field\":\"y\"}},\"id\":\"12074\",\"type\":\"Line\"},{\"attributes\":{\"plot\":null,\"text\":\"17:40:41.6401, -53:40:19.1137, 146\"},\"id\":\"12029\",\"type\":\"Title\"},{\"attributes\":{\"line_alpha\":0.1,\"line_color\":\"#1f77b4\",\"x\":{\"field\":\"x\"},\"y\":{\"field\":\"y\"}},\"id\":\"12067\",\"type\":\"Line\"},{\"attributes\":{\"formatter\":{\"id\":\"12450\",\"type\":\"BasicTickFormatter\"},\"plot\":{\"id\":\"12030\",\"subtype\":\"Figure\",\"type\":\"Plot\"},\"ticker\":{\"id\":\"12041\",\"type\":\"BasicTicker\"}},\"id\":\"12040\",\"type\":\"LinearAxis\"},{\"attributes\":{},\"id\":\"12046\",\"type\":\"BasicTicker\"},{\"attributes\":{\"dimension\":1,\"plot\":{\"id\":\"12030\",\"subtype\":\"Figure\",\"type\":\"Plot\"},\"ticker\":{\"id\":\"12046\",\"type\":\"BasicTicker\"}},\"id\":\"12049\",\"type\":\"Grid\"},{\"attributes\":{},\"id\":\"12454\",\"type\":\"Selection\"},{\"attributes\":{},\"id\":\"12456\",\"type\":\"Selection\"},{\"attributes\":{},\"id\":\"12448\",\"type\":\"BasicTickFormatter\"},{\"attributes\":{\"formatter\":{\"id\":\"12448\",\"type\":\"BasicTickFormatter\"},\"plot\":{\"id\":\"12030\",\"subtype\":\"Figure\",\"type\":\"Plot\"},\"ticker\":{\"id\":\"12046\",\"type\":\"BasicTicker\"}},\"id\":\"12045\",\"type\":\"LinearAxis\"},{\"attributes\":{},\"id\":\"12450\",\"type\":\"BasicTickFormatter\"},{\"attributes\":{},\"id\":\"12054\",\"type\":\"ResetTool\"},{\"attributes\":{\"data_source\":{\"id\":\"12072\",\"type\":\"ColumnDataSource\"},\"glyph\":{\"id\":\"12073\",\"type\":\"Line\"},\"hover_glyph\":null,\"muted_glyph\":null,\"nonselection_glyph\":{\"id\":\"12074\",\"type\":\"Line\"},\"selection_glyph\":null,\"view\":{\"id\":\"12076\",\"type\":\"CDSView\"}},\"id\":\"12075\",\"type\":\"GlyphRenderer\"},{\"attributes\":{\"line_color\":\"#1f77b4\",\"x\":{\"field\":\"x\"},\"y\":{\"field\":\"y\"}},\"id\":\"12066\",\"type\":\"Line\"},{\"attributes\":{},\"id\":\"12455\",\"type\":\"UnionRenderers\"},{\"attributes\":{\"line_color\":\"red\",\"x\":{\"field\":\"x\"},\"y\":{\"field\":\"y\"}},\"id\":\"12073\",\"type\":\"Line\"},{\"attributes\":{\"callback\":null,\"data\":{\"x\":{\"__ndarray__\":\"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\",\"dtype\":\"float64\",\"shape\":[200]},\"y\":[-18.03489875793457,24.715412139892578,38.89872360229492,-30.012300491333008,-59.100311279296875,23.867610931396484,35.87485885620117,-31.725418090820312,-9.587148666381836,-12.479009628295898,31.443601608276367,78.9994125366211,29.54877471923828,25.680797576904297,-48.724266052246094,37.51460647583008,23.302942276000977,13.449207305908203,25.37186050415039,-28.750633239746094,7.206972122192383,-12.636061668395996,6.204641342163086,-5.971848011016846,7.919554710388184,-64.52166748046875,41.88039779663086,-3.999866485595703,-1.0735926628112793,-20.91512107849121,-6.961340427398682,-15.534029006958008,-87.06690216064453,34.754737854003906,-36.05739212036133,-75.09044647216797,-38.59809494018555,-44.48963165283203,-7.576460838317871,32.95733642578125,-38.908748626708984,19.116788864135742,77.38209533691406,-28.576339721679688,-45.38704299926758,-40.389503479003906,-27.395723342895508,-19.986886978149414,-26.055444717407227,-28.61495018005371,9.79407024383545,90.93455505371094,101.09410858154297,163.23854064941406,52.245174407958984,-41.5146484375,149.09042358398438,159.6231231689453,28.75373649597168,-90.6985092163086,-61.81016159057617,-31.481727600097656,2.7982654571533203,10.761994361877441,0.07828182727098465,-24.751649856567383,-40.91212844848633,-86.53437805175781,-59.51000213623047,-42.79834747314453,-10.919804573059082,-67.9609146118164,-57.732112884521484,-103.39611053466797,-116.20864868164062,-110.66227722167969,-92.77519226074219,-34.742576599121094,138.30276489257812,375.1044616699219,227.0858612060547,-36.14620590209961,8.046056747436523,34.08856201171875,65.70921325683594,41.90824890136719,-55.38561248779297,-48.44373321533203,-49.901248931884766,-41.93894577026367,-11.025205612182617,-5.55285120010376,-57.96731948852539,-13.814380645751953,-40.29020690917969,14.278297424316406,-65.7774429321289,-14.73624324798584,0.9718492031097412,37.714752197265625,66.93630981445312,3.061580181121826,2.2713406085968018,-54.17000198364258,-73.82103729248047,80.99290466308594,257.677001953125,280.5400390625,-0.4583168029785156,-43.328125,18.413169860839844,9.344182014465332,30.56855010986328,100.42709350585938,116.52052307128906,186.1603546142578,207.4789276123047,122.8255844116211,141.74575805664062,261.91497802734375,315.7563171386719,478.4531555175781,876.4158935546875,1257.154052734375,1198.4156494140625,1086.517333984375,1281.9385986328125,1176.7493896484375,1140.1815185546875,981.2564086914062,976.1714477539062,695.2637329101562,598.8358154296875,534.1264038085938,512.995361328125,502.1871337890625,415.620849609375,332.0780334472656,280.4788513183594,159.80885314941406,171.62303161621094,275.1930847167969,355.1244812011719,167.49949645996094,86.03640747070312,111.92489624023438,192.59222412109375,141.84255981445312,22.97867774963379,-15.359678268432617,-32.71473693847656,-23.65217399597168,18.11951446533203,-51.2194938659668,-30.15345001220703,-38.99449157714844,-5.194888591766357,-3.1674814224243164,-0.9901518225669861,-28.444149017333984,-4.86223840713501,-2.017611265182495,74.54163360595703,171.9925079345703,72.80032348632812,-25.236801147460938,-29.690900802612305,-47.98872756958008,-29.14982032775879,31.431663513183594,14.096298217773438,-47.58157730102539,-18.136138916015625,-4.502572536468506,-19.93392562866211,-30.371850967407227,-4.032413005828857,-15.483115196228027,-38.88472366333008,1.6137105226516724,39.88450622558594,37.12736511230469,27.58850860595703,25.365711212158203,-4.360239028930664,-59.6546516418457,-7.775701999664307,46.396480560302734,12.187701225280762,-15.843811988830566,-47.27264404296875,1.5197370052337646,0.8275185823440552,-5.561944961547852,-30.10007095336914,-32.46178436279297,-31.940420150756836,22.212312698364258,28.46540641784668,-13.625717163085938]},\"selected\":{\"id\":\"12454\",\"type\":\"Selection\"},\"selection_policy\":{\"id\":\"12453\",\"type\":\"UnionRenderers\"}},\"id\":\"12065\",\"type\":\"ColumnDataSource\"}],\"root_ids\":[\"12030\"]},\"title\":\"Bokeh Application\",\"version\":\"1.0.4\"}};\n",
       "  var render_items = [{\"docid\":\"522aec75-968e-4288-a3d6-19f5ecf11eb7\",\"roots\":{\"12030\":\"8d4316f3-a80e-4758-9904-f1f2ea3aa9c0\"}}];\n",
       "  root.Bokeh.embed.embed_items_notebook(docs_json, render_items);\n",
       "\n",
       "  }\n",
       "  if (root.Bokeh !== undefined) {\n",
       "    embed_document(root);\n",
       "  } else {\n",
       "    var attempts = 0;\n",
       "    var timer = setInterval(function(root) {\n",
       "      if (root.Bokeh !== undefined) {\n",
       "        embed_document(root);\n",
       "        clearInterval(timer);\n",
       "      }\n",
       "      attempts++;\n",
       "      if (attempts > 100) {\n",
       "        console.log(\"Bokeh: ERROR: Unable to run BokehJS code because BokehJS library is missing\");\n",
       "        clearInterval(timer);\n",
       "      }\n",
       "    }, 10, root)\n",
       "  }\n",
       "})(window);"
      ],
      "application/vnd.bokehjs_exec.v0+json": ""
     },
     "metadata": {
      "application/vnd.bokehjs_exec.v0+json": {
       "id": "12030"
      }
     },
     "output_type": "display_data"
    },
    {
     "data": {
      "text/html": [
       "\n",
       "\n",
       "\n",
       "\n",
       "\n",
       "\n",
       "  <div class=\"bk-root\" id=\"25ad87b2-d2d4-4078-a3b1-02f15b6e361b\" data-root-id=\"12518\"></div>\n"
      ]
     },
     "metadata": {},
     "output_type": "display_data"
    },
    {
     "data": {
      "application/javascript": [
       "(function(root) {\n",
       "  function embed_document(root) {\n",
       "    \n",
       "  var docs_json = {\"a005839d-49cb-45df-84ac-8bebf2d0c1f1\":{\"roots\":{\"references\":[{\"attributes\":{\"below\":[{\"id\":\"12528\",\"type\":\"LinearAxis\"}],\"left\":[{\"id\":\"12533\",\"type\":\"LinearAxis\"}],\"plot_height\":500,\"plot_width\":900,\"renderers\":[{\"id\":\"12528\",\"type\":\"LinearAxis\"},{\"id\":\"12532\",\"type\":\"Grid\"},{\"id\":\"12533\",\"type\":\"LinearAxis\"},{\"id\":\"12537\",\"type\":\"Grid\"},{\"id\":\"12546\",\"type\":\"BoxAnnotation\"},{\"id\":\"12556\",\"type\":\"GlyphRenderer\"},{\"id\":\"12563\",\"type\":\"GlyphRenderer\"}],\"title\":{\"id\":\"12517\",\"type\":\"Title\"},\"toolbar\":{\"id\":\"12544\",\"type\":\"Toolbar\"},\"x_range\":{\"id\":\"12520\",\"type\":\"DataRange1d\"},\"x_scale\":{\"id\":\"12524\",\"type\":\"LinearScale\"},\"y_range\":{\"id\":\"12522\",\"type\":\"DataRange1d\"},\"y_scale\":{\"id\":\"12526\",\"type\":\"LinearScale\"}},\"id\":\"12518\",\"subtype\":\"Figure\",\"type\":\"Plot\"},{\"attributes\":{\"callback\":null,\"data\":{\"x\":{\"__ndarray__\":\"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\",\"dtype\":\"float64\",\"shape\":[200]},\"y\":[-0.89566570520401,-32.37432098388672,50.4184684753418,33.237831115722656,42.733917236328125,27.547225952148438,-23.422582626342773,-18.85177993774414,39.79491424560547,-18.998859405517578,-14.540106773376465,-4.293670654296875,4.798430442810059,-40.32654571533203,5.284523963928223,56.04802322387695,93.78438568115234,39.68867874145508,29.51944923400879,7.937950134277344,-13.458404541015625,-10.102721214294434,-7.78503942489624,-23.23814582824707,-46.16480255126953,-60.713443756103516,32.32784652709961,5.466387748718262,-28.075040817260742,-28.668506622314453,-38.02653884887695,-59.727745056152344,-16.555086135864258,-21.51198387145996,-27.123825073242188,-22.406356811523438,-25.808555603027344,-20.504125595092773,-51.45461654663086,-46.36937713623047,-30.704708099365234,19.807579040527344,19.88855743408203,-20.14512825012207,-43.15687561035156,-70.13362884521484,-14.428653717041016,-4.79061222076416,-84.0038070678711,-64.73412322998047,4.653564929962158,87.50483703613281,123.47997283935547,160.431640625,49.51778030395508,55.28174591064453,147.05921936035156,147.0087890625,15.476131439208984,-44.93387985229492,-62.584651947021484,-32.04722595214844,13.55510139465332,22.171918869018555,9.528690338134766,-52.61091613769531,-38.46833038330078,-68.3346939086914,-17.880292892456055,-24.588891983032227,-60.54557800292969,7.642842769622803,-60.70869064331055,-74.51253509521484,-57.23426055908203,-42.720550537109375,-94.09518432617188,-34.941410064697266,166.5077362060547,330.66314697265625,190.68557739257812,-24.11452865600586,-37.033695220947266,40.07786178588867,77.32964324951172,3.745934247970581,2.8159987926483154,-27.50362205505371,-56.825843811035156,-59.663360595703125,3.6903679370880127,-34.40076446533203,9.03907299041748,-102.02576446533203,-66.27619171142578,0.9825053811073303,-8.24223518371582,-11.082125663757324,25.50079917907715,26.38324737548828,-18.379606246948242,-22.99344825744629,-38.895416259765625,-57.28130340576172,-50.87084197998047,-16.021944046020508,253.59828186035156,264.1864929199219,22.647212982177734,-66.24048614501953,-55.58208084106445,-44.37866973876953,-29.9193115234375,-8.286163330078125,52.504905700683594,138.8502655029297,56.021995544433594,19.926233291625977,59.62499237060547,48.16526412963867,80.27703857421875,125.7260513305664,366.8661804199219,599.5379028320312,365.5152587890625,245.4744873046875,283.8011169433594,237.22024536132812,270.19415283203125,282.4692687988281,330.7021484375,219.83999633789062,106.8906478881836,89.6315689086914,129.47132873535156,146.78335571289062,124.240478515625,78.99993133544922,33.87934112548828,44.94902420043945,31.032705307006836,175.62525939941406,233.16371154785156,142.58749389648438,34.0181884765625,8.687013626098633,117.67476654052734,115.74085998535156,5.149439811706543,-20.74853515625,12.708678245544434,-35.11381149291992,-29.55474281311035,-8.842147827148438,-10.20100212097168,-10.906939506530762,21.239503860473633,4.306563854217529,9.583059310913086,-7.607523441314697,-11.53740119934082,-39.376251220703125,27.094797134399414,95.91725158691406,97.24710845947266,-4.787932872772217,-18.166763305664062,-37.055152893066406,-5.287208557128906,-12.43397331237793,-33.09359359741211,1.390549659729004,0.40968891978263855,-28.510662078857422,-38.58742141723633,-1.707798719406128,9.44766616821289,4.371283054351807,-2.2399275302886963,13.463766098022461,21.572696685791016,-13.714284896850586,43.703285217285156,-12.604642868041992,13.218615531921387,-40.33780288696289,3.3940744400024414,48.148860931396484,26.312915802001953,29.915773391723633,-44.557823181152344,-10.561727523803711,7.798099517822266,-9.992257118225098,-3.234311819076538,-28.460533142089844,-5.207423210144043,1.5467489957809448,-24.623676300048828,-31.044628143310547]},\"selected\":{\"id\":\"12952\",\"type\":\"Selection\"},\"selection_policy\":{\"id\":\"12951\",\"type\":\"UnionRenderers\"}},\"id\":\"12553\",\"type\":\"ColumnDataSource\"},{\"attributes\":{},\"id\":\"12953\",\"type\":\"UnionRenderers\"},{\"attributes\":{},\"id\":\"12524\",\"type\":\"LinearScale\"},{\"attributes\":{\"overlay\":{\"id\":\"12546\",\"type\":\"BoxAnnotation\"}},\"id\":\"12540\",\"type\":\"BoxZoomTool\"},{\"attributes\":{},\"id\":\"12529\",\"type\":\"BasicTicker\"},{\"attributes\":{\"formatter\":{\"id\":\"12948\",\"type\":\"BasicTickFormatter\"},\"plot\":{\"id\":\"12518\",\"subtype\":\"Figure\",\"type\":\"Plot\"},\"ticker\":{\"id\":\"12529\",\"type\":\"BasicTicker\"}},\"id\":\"12528\",\"type\":\"LinearAxis\"},{\"attributes\":{},\"id\":\"12946\",\"type\":\"BasicTickFormatter\"},{\"attributes\":{\"line_color\":\"#1f77b4\",\"x\":{\"field\":\"x\"},\"y\":{\"field\":\"y\"}},\"id\":\"12554\",\"type\":\"Line\"},{\"attributes\":{},\"id\":\"12542\",\"type\":\"ResetTool\"},{\"attributes\":{\"bottom_units\":\"screen\",\"fill_alpha\":{\"value\":0.5},\"fill_color\":{\"value\":\"lightgrey\"},\"left_units\":\"screen\",\"level\":\"overlay\",\"line_alpha\":{\"value\":1.0},\"line_color\":{\"value\":\"black\"},\"line_dash\":[4,4],\"line_width\":{\"value\":2},\"plot\":null,\"render_mode\":\"css\",\"right_units\":\"screen\",\"top_units\":\"screen\"},\"id\":\"12546\",\"type\":\"BoxAnnotation\"},{\"attributes\":{\"plot\":null,\"text\":\"17:40:41.6735, -53:40:19.1137, 147\"},\"id\":\"12517\",\"type\":\"Title\"},{\"attributes\":{\"source\":{\"id\":\"12560\",\"type\":\"ColumnDataSource\"}},\"id\":\"12564\",\"type\":\"CDSView\"},{\"attributes\":{\"plot\":{\"id\":\"12518\",\"subtype\":\"Figure\",\"type\":\"Plot\"},\"ticker\":{\"id\":\"12529\",\"type\":\"BasicTicker\"}},\"id\":\"12532\",\"type\":\"Grid\"},{\"attributes\":{\"line_alpha\":0.1,\"line_color\":\"#1f77b4\",\"x\":{\"field\":\"x\"},\"y\":{\"field\":\"y\"}},\"id\":\"12555\",\"type\":\"Line\"},{\"attributes\":{},\"id\":\"12539\",\"type\":\"WheelZoomTool\"},{\"attributes\":{\"callback\":null},\"id\":\"12520\",\"type\":\"DataRange1d\"},{\"attributes\":{\"callback\":null,\"data\":{\"x\":{\"__ndarray__\":\"////P9liuUD///8/mZi5QP///z/ZmblA////PxmbuUD///8/maK5QA==\",\"dtype\":\"float64\",\"shape\":[5]},\"y\":[330.66314697265625,366.8661804199219,599.5379028320312,365.5152587890625,330.7021484375]},\"selected\":{\"id\":\"12954\",\"type\":\"Selection\"},\"selection_policy\":{\"id\":\"12953\",\"type\":\"UnionRenderers\"}},\"id\":\"12560\",\"type\":\"ColumnDataSource\"},{\"attributes\":{},\"id\":\"12954\",\"type\":\"Selection\"},{\"attributes\":{\"dimension\":1,\"plot\":{\"id\":\"12518\",\"subtype\":\"Figure\",\"type\":\"Plot\"},\"ticker\":{\"id\":\"12534\",\"type\":\"BasicTicker\"}},\"id\":\"12537\",\"type\":\"Grid\"},{\"attributes\":{\"formatter\":{\"id\":\"12946\",\"type\":\"BasicTickFormatter\"},\"plot\":{\"id\":\"12518\",\"subtype\":\"Figure\",\"type\":\"Plot\"},\"ticker\":{\"id\":\"12534\",\"type\":\"BasicTicker\"}},\"id\":\"12533\",\"type\":\"LinearAxis\"},{\"attributes\":{\"callback\":null},\"id\":\"12522\",\"type\":\"DataRange1d\"},{\"attributes\":{\"callback\":null,\"tooltips\":[[\"(x,y)\",\"($x{1}, $y)\"]]},\"id\":\"12558\",\"type\":\"HoverTool\"},{\"attributes\":{\"data_source\":{\"id\":\"12560\",\"type\":\"ColumnDataSource\"},\"glyph\":{\"id\":\"12561\",\"type\":\"Line\"},\"hover_glyph\":null,\"muted_glyph\":null,\"nonselection_glyph\":{\"id\":\"12562\",\"type\":\"Line\"},\"selection_glyph\":null,\"view\":{\"id\":\"12564\",\"type\":\"CDSView\"}},\"id\":\"12563\",\"type\":\"GlyphRenderer\"},{\"attributes\":{\"active_drag\":{\"id\":\"12540\",\"type\":\"BoxZoomTool\"},\"active_inspect\":\"auto\",\"active_multi\":null,\"active_scroll\":{\"id\":\"12539\",\"type\":\"WheelZoomTool\"},\"active_tap\":\"auto\",\"tools\":[{\"id\":\"12538\",\"type\":\"PanTool\"},{\"id\":\"12539\",\"type\":\"WheelZoomTool\"},{\"id\":\"12540\",\"type\":\"BoxZoomTool\"},{\"id\":\"12541\",\"type\":\"SaveTool\"},{\"id\":\"12542\",\"type\":\"ResetTool\"},{\"id\":\"12543\",\"type\":\"HelpTool\"},{\"id\":\"12558\",\"type\":\"HoverTool\"}]},\"id\":\"12544\",\"type\":\"Toolbar\"},{\"attributes\":{},\"id\":\"12948\",\"type\":\"BasicTickFormatter\"},{\"attributes\":{\"source\":{\"id\":\"12553\",\"type\":\"ColumnDataSource\"}},\"id\":\"12557\",\"type\":\"CDSView\"},{\"attributes\":{},\"id\":\"12526\",\"type\":\"LinearScale\"},{\"attributes\":{},\"id\":\"12538\",\"type\":\"PanTool\"},{\"attributes\":{},\"id\":\"12951\",\"type\":\"UnionRenderers\"},{\"attributes\":{},\"id\":\"12543\",\"type\":\"HelpTool\"},{\"attributes\":{\"data_source\":{\"id\":\"12553\",\"type\":\"ColumnDataSource\"},\"glyph\":{\"id\":\"12554\",\"type\":\"Line\"},\"hover_glyph\":null,\"muted_glyph\":null,\"nonselection_glyph\":{\"id\":\"12555\",\"type\":\"Line\"},\"selection_glyph\":null,\"view\":{\"id\":\"12557\",\"type\":\"CDSView\"}},\"id\":\"12556\",\"type\":\"GlyphRenderer\"},{\"attributes\":{\"line_color\":\"red\",\"x\":{\"field\":\"x\"},\"y\":{\"field\":\"y\"}},\"id\":\"12561\",\"type\":\"Line\"},{\"attributes\":{},\"id\":\"12534\",\"type\":\"BasicTicker\"},{\"attributes\":{},\"id\":\"12952\",\"type\":\"Selection\"},{\"attributes\":{},\"id\":\"12541\",\"type\":\"SaveTool\"},{\"attributes\":{\"line_alpha\":0.1,\"line_color\":\"#1f77b4\",\"x\":{\"field\":\"x\"},\"y\":{\"field\":\"y\"}},\"id\":\"12562\",\"type\":\"Line\"}],\"root_ids\":[\"12518\"]},\"title\":\"Bokeh Application\",\"version\":\"1.0.4\"}};\n",
       "  var render_items = [{\"docid\":\"a005839d-49cb-45df-84ac-8bebf2d0c1f1\",\"roots\":{\"12518\":\"25ad87b2-d2d4-4078-a3b1-02f15b6e361b\"}}];\n",
       "  root.Bokeh.embed.embed_items_notebook(docs_json, render_items);\n",
       "\n",
       "  }\n",
       "  if (root.Bokeh !== undefined) {\n",
       "    embed_document(root);\n",
       "  } else {\n",
       "    var attempts = 0;\n",
       "    var timer = setInterval(function(root) {\n",
       "      if (root.Bokeh !== undefined) {\n",
       "        embed_document(root);\n",
       "        clearInterval(timer);\n",
       "      }\n",
       "      attempts++;\n",
       "      if (attempts > 100) {\n",
       "        console.log(\"Bokeh: ERROR: Unable to run BokehJS code because BokehJS library is missing\");\n",
       "        clearInterval(timer);\n",
       "      }\n",
       "    }, 10, root)\n",
       "  }\n",
       "})(window);"
      ],
      "application/vnd.bokehjs_exec.v0+json": ""
     },
     "metadata": {
      "application/vnd.bokehjs_exec.v0+json": {
       "id": "12518"
      }
     },
     "output_type": "display_data"
    }
   ],
   "source": [
    "listcoord = []\n",
    "\n",
    "for number,vaina in enumerate(listlatlog):\n",
    "    ra = vaina[0]\n",
    "    dec = vaina[1]\n",
    "    tryspec = getspectrafromregion(spectralcube,dec, ra, 0.200,xmin=6400.,xmax=6650.)\n",
    "    findlines(tryspec,minwave=6400,maxwave=6500,toleranceinsigma=5.)\n",
    "    if tryspec.line:\n",
    "        tryspec.plotline(title='{}, {}, {}'.format(tryspec.ra,tryspec.dec,number))\n",
    "        listcoord.append([tryspec.ra,tryspec.dec,tryspec.apperture,'{'+str(number)+'}'])\n"
   ]
  },
  {
   "cell_type": "code",
   "execution_count": 8,
   "metadata": {},
   "outputs": [],
   "source": [
    "makeregionfromlist(listcoord,'try.reg')"
   ]
  },
  {
   "cell_type": "code",
   "execution_count": null,
   "metadata": {},
   "outputs": [],
   "source": []
  },
  {
   "cell_type": "code",
   "execution_count": null,
   "metadata": {},
   "outputs": [],
   "source": []
  }
 ],
 "metadata": {
  "kernelspec": {
   "display_name": "Python 3",
   "language": "python",
   "name": "python3"
  },
  "language_info": {
   "codemirror_mode": {
    "name": "ipython",
    "version": 3
   },
   "file_extension": ".py",
   "mimetype": "text/x-python",
   "name": "python",
   "nbconvert_exporter": "python",
   "pygments_lexer": "ipython3",
   "version": "3.7.2"
  }
 },
 "nbformat": 4,
 "nbformat_minor": 2
}
