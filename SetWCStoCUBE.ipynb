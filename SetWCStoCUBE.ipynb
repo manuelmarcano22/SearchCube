{
 "cells": [
  {
   "cell_type": "code",
   "execution_count": 2,
   "metadata": {},
   "outputs": [],
   "source": [
    "from astropy.io import fits"
   ]
  },
  {
   "cell_type": "code",
   "execution_count": 3,
   "metadata": {},
   "outputs": [],
   "source": [
    "fixedfov = fits.open('FixedAstrometryDATACUBE_FINAL.fits')"
   ]
  },
  {
   "cell_type": "code",
   "execution_count": 6,
   "metadata": {},
   "outputs": [],
   "source": [
    "#musecube[1].setval('CRVAL1',value=fixedfov[1].header['CRVAL1'])\n",
    "valuestocopy = ['CRVAL1','CRVAL2','CRPIX1','CRPIX2','CSYER1','CSYER2','CD1_1','CD1_2','CD2_1','CD2_2']\n",
    "\n",
    "for val in valuestocopy:\n",
    "    fits.setval('IMAGE_FOV_0004.fits',val,extname='DATA',value=fixedfov[1].header[val])\n",
    "\n",
    "#musecubefixed = fits.open('../Observation1/data/CopyDATACUBE_FINAL.fits')\n",
    "#musecubeorg = fits.open('../Observation1/data/DATACUBE_FINAL.fits')\n",
    "\n",
    "\n",
    "#for val in valuestocopy:\n",
    "#    print('{}, MUSEFixied: {} Fixed: {}. MUSEOriginal: {} Same: {}'.format(val,musecubefixed[1].header[val],\n",
    "#                                                                       fixedfov[1].header[val],\n",
    "#                                                                       musecubeorg[1].header[val],musecubefixed[1].header[val]==fixedfov[1].header[val]))\n",
    "    "
   ]
  },
  {
   "cell_type": "code",
   "execution_count": 21,
   "metadata": {},
   "outputs": [
    {
     "data": {
      "text/plain": [
       "XTENSION= 'IMAGE   '           / Image extension                                \n",
       "BITPIX  =                  -32 / array data type                                \n",
       "NAXIS   =                    2 / number of array dimensions                     \n",
       "NAXIS1  =                  319                                                  \n",
       "NAXIS2  =                  326                                                  \n",
       "PCOUNT  =                    0 / number of parameters                           \n",
       "GCOUNT  =                    1 / number of groups                               \n",
       "WCSAXES =                    2 / Number of coordinate axes                      \n",
       "CRPIX1  =      184.28074350035 / Pixel coordinate of reference point            \n",
       "CRPIX2  =      179.70865152344 / Pixel coordinate of reference point            \n",
       "CUNIT1  = 'deg'                / Units of coordinate increment and value        \n",
       "CUNIT2  = 'deg'                / Units of coordinate increment and value        \n",
       "CTYPE1  = 'RA---TAN'           / Right ascension, gnomonic projection           \n",
       "CTYPE2  = 'DEC--TAN'           / Declination, gnomonic projection               \n",
       "CRVAL1  =           265.176017 / [deg] Coordinate value at reference point      \n",
       "CRVAL2  =            -53.67052 / [deg] Coordinate value at reference point      \n",
       "LONPOLE =                180.0 / [deg] Native longitude of celestial pole       \n",
       "LATPOLE =            -53.67052 / [deg] Native latitude of celestial pole        \n",
       "CSYER1  =    8.28238685892E-06 / [deg] Systematic error in coordinate           \n",
       "CSYER2  =    5.72199765209E-06 / [deg] Systematic error in coordinate           \n",
       "RADESYS = 'FK5'                / Equatorial coordinate system                   \n",
       "EQUINOX =               2000.0 / [yr] Equinox of equatorial coordinates         \n",
       "CD1_1   = -5.5555555555556E-05                                                  \n",
       "CD1_2   =                  0.0                                                  \n",
       "CD2_1   =                  0.0                                                  \n",
       "CD2_2   =  5.5555555555556E-05                                                  \n",
       "EXTNAME = 'DATA    '           / This extension contains data values            \n",
       "HDUCLASS= 'ESO     '           / class name (ESO format)                        \n",
       "HDUDOC  = 'DICD    '           / document with class description                \n",
       "HDUVERS = 'DICD version 6'     / version number (according to spec v2.5.1)      \n",
       "HDUCLAS1= 'IMAGE   '           / Image data format                              \n",
       "HDUCLAS2= 'DATA    '           / this extension contains the data itself        \n",
       "ERRDATA = 'STAT    '           / pointer to the variance extension              \n",
       "OBJECT  = 'NGC6397_core (DATA)'                                                 \n",
       "BUNIT   = '10**-20 Angstrom-1 cm-2 erg s-1' / data unit type                    "
      ]
     },
     "execution_count": 21,
     "metadata": {},
     "output_type": "execute_result"
    }
   ],
   "source": [
    "fixedfov[1].header"
   ]
  },
  {
   "cell_type": "code",
   "execution_count": 23,
   "metadata": {},
   "outputs": [
    {
     "data": {
      "text/plain": [
       "XTENSION= 'IMAGE   '           / IMAGE extension                                \n",
       "BITPIX  =                  -32 / number of bits per data pixel                  \n",
       "NAXIS   =                    3 / number of data axes                            \n",
       "NAXIS1  =                  319 / length of data axis 1                          \n",
       "NAXIS2  =                  326 / length of data axis 2                          \n",
       "NAXIS3  =                 3682 / length of data axis 3                          \n",
       "PCOUNT  =                    0 / required keyword; must = 0                     \n",
       "GCOUNT  =                    1 / required keyword; must = 1                     \n",
       "EXTNAME = 'DATA    '           / This extension contains data values            \n",
       "HDUCLASS= 'ESO     '           / class name (ESO format)                        \n",
       "HDUDOC  = 'DICD    '           / document with class description                \n",
       "HDUVERS = 'DICD version 6'     / version number (according to spec v2.5.1)      \n",
       "HDUCLAS1= 'IMAGE   '           / Image data format                              \n",
       "HDUCLAS2= 'DATA    '           / this extension contains the data itself        \n",
       "ERRDATA = 'STAT    '           / pointer to the variance extension              \n",
       "OBJECT  = 'NGC6397_core (DATA)'                                                 \n",
       "BUNIT   = '10**(-20)*erg/s/cm**2/Angstrom'                                      \n",
       "CRPIX1  =       167.9895870354 / Pixel coordinate of reference point            \n",
       "CRPIX2  =      165.00397040701 / Pixel coordinate of reference point            \n",
       "CD1_1   = -5.5555555555556E-05 / Coordinate transformation matrix element       \n",
       "CD1_2   =                  0.0 / Coordinate transformation matrix element       \n",
       "CD2_1   =                  0.0 / Coordinate transformation matrix element       \n",
       "CD2_2   =  5.5555555555556E-05 / Coordinate transformation matrix element       \n",
       "CUNIT1  = 'deg     '           / Units of coordinate increment and value        \n",
       "CUNIT2  = 'deg     '           / Units of coordinate increment and value        \n",
       "CTYPE1  = 'RA---TAN'           / Right ascension, gnomonic projection           \n",
       "CTYPE2  = 'DEC--TAN'           / Declination, gnomonic projection               \n",
       "CSYER1  =     1.3680091695E-05 / [deg] Systematic error in coordinate           \n",
       "CSYER2  =    7.77995869722E-06 / [deg] Systematic error in coordinate           \n",
       "CRVAL1  =           265.176224                                                  \n",
       "CRVAL2  =            -53.67065                                                  \n",
       "CTYPE3  = 'AWAV    '                                                            \n",
       "CUNIT3  = 'Angstrom'                                                            \n",
       "CD3_3   =                 1.25                                                  \n",
       "CRPIX3  =                   1.                                                  \n",
       "CRVAL3  =      4750.0986328125                                                  \n",
       "CD1_3   =                   0.                                                  \n",
       "CD2_3   =                   0.                                                  \n",
       "CD3_1   =                   0.                                                  \n",
       "CD3_2   =                   0.                                                  "
      ]
     },
     "execution_count": 23,
     "metadata": {},
     "output_type": "execute_result"
    }
   ],
   "source": [
    "musecube[1].header"
   ]
  },
  {
   "cell_type": "code",
   "execution_count": null,
   "metadata": {},
   "outputs": [],
   "source": []
  }
 ],
 "metadata": {
  "kernelspec": {
   "display_name": "Python 3",
   "language": "python",
   "name": "python3"
  },
  "language_info": {
   "codemirror_mode": {
    "name": "ipython",
    "version": 3
   },
   "file_extension": ".py",
   "mimetype": "text/x-python",
   "name": "python",
   "nbconvert_exporter": "python",
   "pygments_lexer": "ipython3",
   "version": "3.7.3"
  }
 },
 "nbformat": 4,
 "nbformat_minor": 2
}
