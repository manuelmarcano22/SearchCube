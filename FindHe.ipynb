{
 "cells": [
  {
   "cell_type": "code",
   "execution_count": 6,
   "metadata": {},
   "outputs": [
    {
     "data": {
      "text/html": [
       "\n",
       "    <div class=\"bk-root\">\n",
       "        <a href=\"https://bokeh.pydata.org\" target=\"_blank\" class=\"bk-logo bk-logo-small bk-logo-notebook\"></a>\n",
       "        <span id=\"8086\">Loading BokehJS ...</span>\n",
       "    </div>"
      ]
     },
     "metadata": {},
     "output_type": "display_data"
    },
    {
     "data": {
      "application/javascript": [
       "\n",
       "(function(root) {\n",
       "  function now() {\n",
       "    return new Date();\n",
       "  }\n",
       "\n",
       "  var force = true;\n",
       "\n",
       "  if (typeof (root._bokeh_onload_callbacks) === \"undefined\" || force === true) {\n",
       "    root._bokeh_onload_callbacks = [];\n",
       "    root._bokeh_is_loading = undefined;\n",
       "  }\n",
       "\n",
       "  var JS_MIME_TYPE = 'application/javascript';\n",
       "  var HTML_MIME_TYPE = 'text/html';\n",
       "  var EXEC_MIME_TYPE = 'application/vnd.bokehjs_exec.v0+json';\n",
       "  var CLASS_NAME = 'output_bokeh rendered_html';\n",
       "\n",
       "  /**\n",
       "   * Render data to the DOM node\n",
       "   */\n",
       "  function render(props, node) {\n",
       "    var script = document.createElement(\"script\");\n",
       "    node.appendChild(script);\n",
       "  }\n",
       "\n",
       "  /**\n",
       "   * Handle when an output is cleared or removed\n",
       "   */\n",
       "  function handleClearOutput(event, handle) {\n",
       "    var cell = handle.cell;\n",
       "\n",
       "    var id = cell.output_area._bokeh_element_id;\n",
       "    var server_id = cell.output_area._bokeh_server_id;\n",
       "    // Clean up Bokeh references\n",
       "    if (id != null && id in Bokeh.index) {\n",
       "      Bokeh.index[id].model.document.clear();\n",
       "      delete Bokeh.index[id];\n",
       "    }\n",
       "\n",
       "    if (server_id !== undefined) {\n",
       "      // Clean up Bokeh references\n",
       "      var cmd = \"from bokeh.io.state import curstate; print(curstate().uuid_to_server['\" + server_id + \"'].get_sessions()[0].document.roots[0]._id)\";\n",
       "      cell.notebook.kernel.execute(cmd, {\n",
       "        iopub: {\n",
       "          output: function(msg) {\n",
       "            var id = msg.content.text.trim();\n",
       "            if (id in Bokeh.index) {\n",
       "              Bokeh.index[id].model.document.clear();\n",
       "              delete Bokeh.index[id];\n",
       "            }\n",
       "          }\n",
       "        }\n",
       "      });\n",
       "      // Destroy server and session\n",
       "      var cmd = \"import bokeh.io.notebook as ion; ion.destroy_server('\" + server_id + \"')\";\n",
       "      cell.notebook.kernel.execute(cmd);\n",
       "    }\n",
       "  }\n",
       "\n",
       "  /**\n",
       "   * Handle when a new output is added\n",
       "   */\n",
       "  function handleAddOutput(event, handle) {\n",
       "    var output_area = handle.output_area;\n",
       "    var output = handle.output;\n",
       "\n",
       "    // limit handleAddOutput to display_data with EXEC_MIME_TYPE content only\n",
       "    if ((output.output_type != \"display_data\") || (!output.data.hasOwnProperty(EXEC_MIME_TYPE))) {\n",
       "      return\n",
       "    }\n",
       "\n",
       "    var toinsert = output_area.element.find(\".\" + CLASS_NAME.split(' ')[0]);\n",
       "\n",
       "    if (output.metadata[EXEC_MIME_TYPE][\"id\"] !== undefined) {\n",
       "      toinsert[toinsert.length - 1].firstChild.textContent = output.data[JS_MIME_TYPE];\n",
       "      // store reference to embed id on output_area\n",
       "      output_area._bokeh_element_id = output.metadata[EXEC_MIME_TYPE][\"id\"];\n",
       "    }\n",
       "    if (output.metadata[EXEC_MIME_TYPE][\"server_id\"] !== undefined) {\n",
       "      var bk_div = document.createElement(\"div\");\n",
       "      bk_div.innerHTML = output.data[HTML_MIME_TYPE];\n",
       "      var script_attrs = bk_div.children[0].attributes;\n",
       "      for (var i = 0; i < script_attrs.length; i++) {\n",
       "        toinsert[toinsert.length - 1].firstChild.setAttribute(script_attrs[i].name, script_attrs[i].value);\n",
       "      }\n",
       "      // store reference to server id on output_area\n",
       "      output_area._bokeh_server_id = output.metadata[EXEC_MIME_TYPE][\"server_id\"];\n",
       "    }\n",
       "  }\n",
       "\n",
       "  function register_renderer(events, OutputArea) {\n",
       "\n",
       "    function append_mime(data, metadata, element) {\n",
       "      // create a DOM node to render to\n",
       "      var toinsert = this.create_output_subarea(\n",
       "        metadata,\n",
       "        CLASS_NAME,\n",
       "        EXEC_MIME_TYPE\n",
       "      );\n",
       "      this.keyboard_manager.register_events(toinsert);\n",
       "      // Render to node\n",
       "      var props = {data: data, metadata: metadata[EXEC_MIME_TYPE]};\n",
       "      render(props, toinsert[toinsert.length - 1]);\n",
       "      element.append(toinsert);\n",
       "      return toinsert\n",
       "    }\n",
       "\n",
       "    /* Handle when an output is cleared or removed */\n",
       "    events.on('clear_output.CodeCell', handleClearOutput);\n",
       "    events.on('delete.Cell', handleClearOutput);\n",
       "\n",
       "    /* Handle when a new output is added */\n",
       "    events.on('output_added.OutputArea', handleAddOutput);\n",
       "\n",
       "    /**\n",
       "     * Register the mime type and append_mime function with output_area\n",
       "     */\n",
       "    OutputArea.prototype.register_mime_type(EXEC_MIME_TYPE, append_mime, {\n",
       "      /* Is output safe? */\n",
       "      safe: true,\n",
       "      /* Index of renderer in `output_area.display_order` */\n",
       "      index: 0\n",
       "    });\n",
       "  }\n",
       "\n",
       "  // register the mime type if in Jupyter Notebook environment and previously unregistered\n",
       "  if (root.Jupyter !== undefined) {\n",
       "    var events = require('base/js/events');\n",
       "    var OutputArea = require('notebook/js/outputarea').OutputArea;\n",
       "\n",
       "    if (OutputArea.prototype.mime_types().indexOf(EXEC_MIME_TYPE) == -1) {\n",
       "      register_renderer(events, OutputArea);\n",
       "    }\n",
       "  }\n",
       "\n",
       "  \n",
       "  if (typeof (root._bokeh_timeout) === \"undefined\" || force === true) {\n",
       "    root._bokeh_timeout = Date.now() + 5000;\n",
       "    root._bokeh_failed_load = false;\n",
       "  }\n",
       "\n",
       "  var NB_LOAD_WARNING = {'data': {'text/html':\n",
       "     \"<div style='background-color: #fdd'>\\n\"+\n",
       "     \"<p>\\n\"+\n",
       "     \"BokehJS does not appear to have successfully loaded. If loading BokehJS from CDN, this \\n\"+\n",
       "     \"may be due to a slow or bad network connection. Possible fixes:\\n\"+\n",
       "     \"</p>\\n\"+\n",
       "     \"<ul>\\n\"+\n",
       "     \"<li>re-rerun `output_notebook()` to attempt to load from CDN again, or</li>\\n\"+\n",
       "     \"<li>use INLINE resources instead, as so:</li>\\n\"+\n",
       "     \"</ul>\\n\"+\n",
       "     \"<code>\\n\"+\n",
       "     \"from bokeh.resources import INLINE\\n\"+\n",
       "     \"output_notebook(resources=INLINE)\\n\"+\n",
       "     \"</code>\\n\"+\n",
       "     \"</div>\"}};\n",
       "\n",
       "  function display_loaded() {\n",
       "    var el = document.getElementById(\"8086\");\n",
       "    if (el != null) {\n",
       "      el.textContent = \"BokehJS is loading...\";\n",
       "    }\n",
       "    if (root.Bokeh !== undefined) {\n",
       "      if (el != null) {\n",
       "        el.textContent = \"BokehJS \" + root.Bokeh.version + \" successfully loaded.\";\n",
       "      }\n",
       "    } else if (Date.now() < root._bokeh_timeout) {\n",
       "      setTimeout(display_loaded, 100)\n",
       "    }\n",
       "  }\n",
       "\n",
       "\n",
       "  function run_callbacks() {\n",
       "    try {\n",
       "      root._bokeh_onload_callbacks.forEach(function(callback) { callback() });\n",
       "    }\n",
       "    finally {\n",
       "      delete root._bokeh_onload_callbacks\n",
       "    }\n",
       "    console.info(\"Bokeh: all callbacks have finished\");\n",
       "  }\n",
       "\n",
       "  function load_libs(js_urls, callback) {\n",
       "    root._bokeh_onload_callbacks.push(callback);\n",
       "    if (root._bokeh_is_loading > 0) {\n",
       "      console.log(\"Bokeh: BokehJS is being loaded, scheduling callback at\", now());\n",
       "      return null;\n",
       "    }\n",
       "    if (js_urls == null || js_urls.length === 0) {\n",
       "      run_callbacks();\n",
       "      return null;\n",
       "    }\n",
       "    console.log(\"Bokeh: BokehJS not loaded, scheduling load and callback at\", now());\n",
       "    root._bokeh_is_loading = js_urls.length;\n",
       "    for (var i = 0; i < js_urls.length; i++) {\n",
       "      var url = js_urls[i];\n",
       "      var s = document.createElement('script');\n",
       "      s.src = url;\n",
       "      s.async = false;\n",
       "      s.onreadystatechange = s.onload = function() {\n",
       "        root._bokeh_is_loading--;\n",
       "        if (root._bokeh_is_loading === 0) {\n",
       "          console.log(\"Bokeh: all BokehJS libraries loaded\");\n",
       "          run_callbacks()\n",
       "        }\n",
       "      };\n",
       "      s.onerror = function() {\n",
       "        console.warn(\"failed to load library \" + url);\n",
       "      };\n",
       "      console.log(\"Bokeh: injecting script tag for BokehJS library: \", url);\n",
       "      document.getElementsByTagName(\"head\")[0].appendChild(s);\n",
       "    }\n",
       "  };var element = document.getElementById(\"8086\");\n",
       "  if (element == null) {\n",
       "    console.log(\"Bokeh: ERROR: autoload.js configured with elementid '8086' but no matching script tag was found. \")\n",
       "    return false;\n",
       "  }\n",
       "\n",
       "  var js_urls = [\"https://cdn.pydata.org/bokeh/release/bokeh-1.0.4.min.js\", \"https://cdn.pydata.org/bokeh/release/bokeh-widgets-1.0.4.min.js\", \"https://cdn.pydata.org/bokeh/release/bokeh-tables-1.0.4.min.js\", \"https://cdn.pydata.org/bokeh/release/bokeh-gl-1.0.4.min.js\"];\n",
       "\n",
       "  var inline_js = [\n",
       "    function(Bokeh) {\n",
       "      Bokeh.set_log_level(\"info\");\n",
       "    },\n",
       "    \n",
       "    function(Bokeh) {\n",
       "      \n",
       "    },\n",
       "    function(Bokeh) {\n",
       "      console.log(\"Bokeh: injecting CSS: https://cdn.pydata.org/bokeh/release/bokeh-1.0.4.min.css\");\n",
       "      Bokeh.embed.inject_css(\"https://cdn.pydata.org/bokeh/release/bokeh-1.0.4.min.css\");\n",
       "      console.log(\"Bokeh: injecting CSS: https://cdn.pydata.org/bokeh/release/bokeh-widgets-1.0.4.min.css\");\n",
       "      Bokeh.embed.inject_css(\"https://cdn.pydata.org/bokeh/release/bokeh-widgets-1.0.4.min.css\");\n",
       "      console.log(\"Bokeh: injecting CSS: https://cdn.pydata.org/bokeh/release/bokeh-tables-1.0.4.min.css\");\n",
       "      Bokeh.embed.inject_css(\"https://cdn.pydata.org/bokeh/release/bokeh-tables-1.0.4.min.css\");\n",
       "    }\n",
       "  ];\n",
       "\n",
       "  function run_inline_js() {\n",
       "    \n",
       "    if ((root.Bokeh !== undefined) || (force === true)) {\n",
       "      for (var i = 0; i < inline_js.length; i++) {\n",
       "        inline_js[i].call(root, root.Bokeh);\n",
       "      }if (force === true) {\n",
       "        display_loaded();\n",
       "      }} else if (Date.now() < root._bokeh_timeout) {\n",
       "      setTimeout(run_inline_js, 100);\n",
       "    } else if (!root._bokeh_failed_load) {\n",
       "      console.log(\"Bokeh: BokehJS failed to load within specified timeout.\");\n",
       "      root._bokeh_failed_load = true;\n",
       "    } else if (force !== true) {\n",
       "      var cell = $(document.getElementById(\"8086\")).parents('.cell').data().cell;\n",
       "      cell.output_area.append_execute_result(NB_LOAD_WARNING)\n",
       "    }\n",
       "\n",
       "  }\n",
       "\n",
       "  if (root._bokeh_is_loading === 0) {\n",
       "    console.log(\"Bokeh: BokehJS loaded, going straight to plotting\");\n",
       "    run_inline_js();\n",
       "  } else {\n",
       "    load_libs(js_urls, function() {\n",
       "      console.log(\"Bokeh: BokehJS plotting callback run at\", now());\n",
       "      run_inline_js();\n",
       "    });\n",
       "  }\n",
       "}(window));"
      ],
      "application/vnd.bokehjs_load.v0+json": "\n(function(root) {\n  function now() {\n    return new Date();\n  }\n\n  var force = true;\n\n  if (typeof (root._bokeh_onload_callbacks) === \"undefined\" || force === true) {\n    root._bokeh_onload_callbacks = [];\n    root._bokeh_is_loading = undefined;\n  }\n\n  \n\n  \n  if (typeof (root._bokeh_timeout) === \"undefined\" || force === true) {\n    root._bokeh_timeout = Date.now() + 5000;\n    root._bokeh_failed_load = false;\n  }\n\n  var NB_LOAD_WARNING = {'data': {'text/html':\n     \"<div style='background-color: #fdd'>\\n\"+\n     \"<p>\\n\"+\n     \"BokehJS does not appear to have successfully loaded. If loading BokehJS from CDN, this \\n\"+\n     \"may be due to a slow or bad network connection. Possible fixes:\\n\"+\n     \"</p>\\n\"+\n     \"<ul>\\n\"+\n     \"<li>re-rerun `output_notebook()` to attempt to load from CDN again, or</li>\\n\"+\n     \"<li>use INLINE resources instead, as so:</li>\\n\"+\n     \"</ul>\\n\"+\n     \"<code>\\n\"+\n     \"from bokeh.resources import INLINE\\n\"+\n     \"output_notebook(resources=INLINE)\\n\"+\n     \"</code>\\n\"+\n     \"</div>\"}};\n\n  function display_loaded() {\n    var el = document.getElementById(\"8086\");\n    if (el != null) {\n      el.textContent = \"BokehJS is loading...\";\n    }\n    if (root.Bokeh !== undefined) {\n      if (el != null) {\n        el.textContent = \"BokehJS \" + root.Bokeh.version + \" successfully loaded.\";\n      }\n    } else if (Date.now() < root._bokeh_timeout) {\n      setTimeout(display_loaded, 100)\n    }\n  }\n\n\n  function run_callbacks() {\n    try {\n      root._bokeh_onload_callbacks.forEach(function(callback) { callback() });\n    }\n    finally {\n      delete root._bokeh_onload_callbacks\n    }\n    console.info(\"Bokeh: all callbacks have finished\");\n  }\n\n  function load_libs(js_urls, callback) {\n    root._bokeh_onload_callbacks.push(callback);\n    if (root._bokeh_is_loading > 0) {\n      console.log(\"Bokeh: BokehJS is being loaded, scheduling callback at\", now());\n      return null;\n    }\n    if (js_urls == null || js_urls.length === 0) {\n      run_callbacks();\n      return null;\n    }\n    console.log(\"Bokeh: BokehJS not loaded, scheduling load and callback at\", now());\n    root._bokeh_is_loading = js_urls.length;\n    for (var i = 0; i < js_urls.length; i++) {\n      var url = js_urls[i];\n      var s = document.createElement('script');\n      s.src = url;\n      s.async = false;\n      s.onreadystatechange = s.onload = function() {\n        root._bokeh_is_loading--;\n        if (root._bokeh_is_loading === 0) {\n          console.log(\"Bokeh: all BokehJS libraries loaded\");\n          run_callbacks()\n        }\n      };\n      s.onerror = function() {\n        console.warn(\"failed to load library \" + url);\n      };\n      console.log(\"Bokeh: injecting script tag for BokehJS library: \", url);\n      document.getElementsByTagName(\"head\")[0].appendChild(s);\n    }\n  };var element = document.getElementById(\"8086\");\n  if (element == null) {\n    console.log(\"Bokeh: ERROR: autoload.js configured with elementid '8086' but no matching script tag was found. \")\n    return false;\n  }\n\n  var js_urls = [\"https://cdn.pydata.org/bokeh/release/bokeh-1.0.4.min.js\", \"https://cdn.pydata.org/bokeh/release/bokeh-widgets-1.0.4.min.js\", \"https://cdn.pydata.org/bokeh/release/bokeh-tables-1.0.4.min.js\", \"https://cdn.pydata.org/bokeh/release/bokeh-gl-1.0.4.min.js\"];\n\n  var inline_js = [\n    function(Bokeh) {\n      Bokeh.set_log_level(\"info\");\n    },\n    \n    function(Bokeh) {\n      \n    },\n    function(Bokeh) {\n      console.log(\"Bokeh: injecting CSS: https://cdn.pydata.org/bokeh/release/bokeh-1.0.4.min.css\");\n      Bokeh.embed.inject_css(\"https://cdn.pydata.org/bokeh/release/bokeh-1.0.4.min.css\");\n      console.log(\"Bokeh: injecting CSS: https://cdn.pydata.org/bokeh/release/bokeh-widgets-1.0.4.min.css\");\n      Bokeh.embed.inject_css(\"https://cdn.pydata.org/bokeh/release/bokeh-widgets-1.0.4.min.css\");\n      console.log(\"Bokeh: injecting CSS: https://cdn.pydata.org/bokeh/release/bokeh-tables-1.0.4.min.css\");\n      Bokeh.embed.inject_css(\"https://cdn.pydata.org/bokeh/release/bokeh-tables-1.0.4.min.css\");\n    }\n  ];\n\n  function run_inline_js() {\n    \n    if ((root.Bokeh !== undefined) || (force === true)) {\n      for (var i = 0; i < inline_js.length; i++) {\n        inline_js[i].call(root, root.Bokeh);\n      }if (force === true) {\n        display_loaded();\n      }} else if (Date.now() < root._bokeh_timeout) {\n      setTimeout(run_inline_js, 100);\n    } else if (!root._bokeh_failed_load) {\n      console.log(\"Bokeh: BokehJS failed to load within specified timeout.\");\n      root._bokeh_failed_load = true;\n    } else if (force !== true) {\n      var cell = $(document.getElementById(\"8086\")).parents('.cell').data().cell;\n      cell.output_area.append_execute_result(NB_LOAD_WARNING)\n    }\n\n  }\n\n  if (root._bokeh_is_loading === 0) {\n    console.log(\"Bokeh: BokehJS loaded, going straight to plotting\");\n    run_inline_js();\n  } else {\n    load_libs(js_urls, function() {\n      console.log(\"Bokeh: BokehJS plotting callback run at\", now());\n      run_inline_js();\n    });\n  }\n}(window));"
     },
     "metadata": {},
     "output_type": "display_data"
    }
   ],
   "source": [
    "from search import getlatloglist, getspectrafromregion, findlines, makeregionfromlist\n",
    "from spectral_cube import SpectralCube\n",
    "\n",
    "import aplpy\n",
    "\n",
    "\n",
    "\n",
    "from bokeh.plotting import output_notebook\n",
    "output_notebook()\n",
    "%matplotlib widget\n"
   ]
  },
  {
   "cell_type": "code",
   "execution_count": 7,
   "metadata": {},
   "outputs": [
    {
     "name": "stdout",
     "output_type": "stream",
     "text": [
      "200\n"
     ]
    }
   ],
   "source": [
    "cube = 'mini.fits'\n",
    "#cube = 'FixedAstrometryDATACUBE_FINAL.fits'\n",
    "#cube = 'cubenoedges.fits'\n",
    "spectralcube= SpectralCube.read(cube,hdu=1)\n",
    "#listlatlog = getlatloglist(spectralcube,latsepa=0.5,logsepa=0.5)\n",
    "listlatlog = getlatloglist(spectralcube,latsepa=0.5,logsepa=0.5)\n",
    "print(len(listlatlog))"
   ]
  },
  {
   "cell_type": "code",
   "execution_count": 8,
   "metadata": {},
   "outputs": [
    {
     "data": {
      "text/html": [
       "\n",
       "\n",
       "\n",
       "\n",
       "\n",
       "\n",
       "  <div class=\"bk-root\" id=\"14e8d790-10f3-43fb-9b3c-fb35e4a64970\" data-root-id=\"8088\"></div>\n"
      ]
     },
     "metadata": {},
     "output_type": "display_data"
    },
    {
     "data": {
      "application/javascript": [
       "(function(root) {\n",
       "  function embed_document(root) {\n",
       "    \n",
       "  var docs_json = {\"1ce3c514-915a-403d-bd44-e8fdde7e8c93\":{\"roots\":{\"references\":[{\"attributes\":{\"below\":[{\"id\":\"8098\",\"type\":\"LinearAxis\"}],\"left\":[{\"id\":\"8103\",\"type\":\"LinearAxis\"}],\"plot_height\":500,\"plot_width\":900,\"renderers\":[{\"id\":\"8098\",\"type\":\"LinearAxis\"},{\"id\":\"8102\",\"type\":\"Grid\"},{\"id\":\"8103\",\"type\":\"LinearAxis\"},{\"id\":\"8107\",\"type\":\"Grid\"},{\"id\":\"8116\",\"type\":\"BoxAnnotation\"},{\"id\":\"8126\",\"type\":\"GlyphRenderer\"},{\"id\":\"8133\",\"type\":\"GlyphRenderer\"}],\"title\":{\"id\":\"8087\",\"type\":\"Title\"},\"toolbar\":{\"id\":\"8114\",\"type\":\"Toolbar\"},\"x_range\":{\"id\":\"8090\",\"type\":\"DataRange1d\"},\"x_scale\":{\"id\":\"8094\",\"type\":\"LinearScale\"},\"y_range\":{\"id\":\"8092\",\"type\":\"DataRange1d\"},\"y_scale\":{\"id\":\"8096\",\"type\":\"LinearScale\"}},\"id\":\"8088\",\"subtype\":\"Figure\",\"type\":\"Plot\"},{\"attributes\":{},\"id\":\"8111\",\"type\":\"SaveTool\"},{\"attributes\":{\"bottom_units\":\"screen\",\"fill_alpha\":{\"value\":0.5},\"fill_color\":{\"value\":\"lightgrey\"},\"left_units\":\"screen\",\"level\":\"overlay\",\"line_alpha\":{\"value\":1.0},\"line_color\":{\"value\":\"black\"},\"line_dash\":[4,4],\"line_width\":{\"value\":2},\"plot\":null,\"render_mode\":\"css\",\"right_units\":\"screen\",\"top_units\":\"screen\"},\"id\":\"8116\",\"type\":\"BoxAnnotation\"},{\"attributes\":{\"active_drag\":{\"id\":\"8110\",\"type\":\"BoxZoomTool\"},\"active_inspect\":\"auto\",\"active_multi\":null,\"active_scroll\":{\"id\":\"8109\",\"type\":\"WheelZoomTool\"},\"active_tap\":\"auto\",\"tools\":[{\"id\":\"8108\",\"type\":\"PanTool\"},{\"id\":\"8109\",\"type\":\"WheelZoomTool\"},{\"id\":\"8110\",\"type\":\"BoxZoomTool\"},{\"id\":\"8111\",\"type\":\"SaveTool\"},{\"id\":\"8112\",\"type\":\"ResetTool\"},{\"id\":\"8113\",\"type\":\"HelpTool\"},{\"id\":\"8128\",\"type\":\"HoverTool\"}]},\"id\":\"8114\",\"type\":\"Toolbar\"},{\"attributes\":{\"callback\":null,\"tooltips\":[[\"(x,y)\",\"($x{1}, $y)\"]]},\"id\":\"8128\",\"type\":\"HoverTool\"},{\"attributes\":{\"data_source\":{\"id\":\"8130\",\"type\":\"ColumnDataSource\"},\"glyph\":{\"id\":\"8131\",\"type\":\"Line\"},\"hover_glyph\":null,\"muted_glyph\":null,\"nonselection_glyph\":{\"id\":\"8132\",\"type\":\"Line\"},\"selection_glyph\":null,\"view\":{\"id\":\"8134\",\"type\":\"CDSView\"}},\"id\":\"8133\",\"type\":\"GlyphRenderer\"},{\"attributes\":{\"callback\":null},\"id\":\"8092\",\"type\":\"DataRange1d\"},{\"attributes\":{\"callback\":null,\"data\":{\"x\":{\"__ndarray__\":\"////Pxn6uUD///8/Wfu5QP///z+Z/LlA////P9n9uUD///8/Gf+5QP///z9ZALpA////P5kBukD///8/2QK6QP///z8ZBLpA////P1kFukD///8/mQa6QP///z/ZB7pA////PxkJukD///8/WQq6QP///z+ZC7pA////P9kMukD///8/GQ66QP///z9ZD7pA////P5kQukD///8/2RG6QP///z8ZE7pA////P1kUukD///8/mRW6QP///z/ZFrpA////PxkYukD///8/WRm6QP///z+ZGrpA////P9kbukD///8/GR26QP///z9ZHrpA////P5kfukD///8/2SC6QP///z8ZIrpA////P1kjukD///8/mSS6QP///z/ZJbpA////PxknukD///8/WSi6QP///z+ZKbpA////P9kqukD///8/GSy6QP///z9ZLbpA////P5kuukD///8/2S+6QP///z8ZMbpA////P1kyukD///8/mTO6QP///z/ZNLpA////Pxk2ukD///8/WTe6QP///z+ZOLpA////P9k5ukD///8/GTu6QP///z9ZPLpA////P5k9ukD///8/2T66QP///z8ZQLpA////P1lBukD///8/mUK6QP///z/ZQ7pA////PxlFukD///8/WUa6QP///z+ZR7pA////P9lIukD///8/GUq6QP///z9ZS7pA////P5lMukD///8/2U26QP///z8ZT7pA////P1lQukD///8/mVG6QP///z/ZUrpA////PxlUukD///8/WVW6QP///z+ZVrpA////P9lXukD///8/GVm6QP///z9ZWrpA////P5lbukD///8/2Vy6QP///z8ZXrpA////P1lfukD///8/mWC6QP///z/ZYbpA////PxljukD///8/WWS6QP///z+ZZbpA////P9lmukD///8/GWi6QP///z9ZabpA////P5lqukD///8/2Wu6QP///z8ZbbpA////P1luukD///8/mW+6QP///z/ZcLpA////PxlyukD///8/WXO6QP///z+ZdLpA////P9l1ukD///8/GXe6QP///z9ZeLpA////P5l5ukD///8/2Xq6QP///z8ZfLpA////P1l9ukD///8/mX66QP///z/Zf7pA////PxmBukD///8/WYK6QP///z+Zg7pA////P9mEukD///8/GYa6QP///z9Zh7pA////P5mIukD///8/2Ym6QP///z8Zi7pA////P1mMukD///8/mY26QP///z/ZjrpA////PxmQukD///8/WZG6QP///z+ZkrpA////P9mTukD///8/GZW6QP///z9ZlrpA////P5mXukD///8/2Zi6QP///z8ZmrpA////P1mbukD///8/mZy6QP///z/ZnbpA////PxmfukD///8/WaC6QP///z+ZobpA////P9miukA=\",\"dtype\":\"float64\",\"shape\":[136]},\"y\":[-27.3944149017334,23.842660903930664,-29.99207878112793,-22.861766815185547,-22.929004669189453,3.2466416358947754,-0.8008946180343628,29.881267547607422,9.045814514160156,92.0465087890625,-13.145956993103027,29.827070236206055,43.6506462097168,42.220035552978516,135.9505157470703,165.41802978515625,157.6015625,167.85731506347656,187.69775390625,185.2913360595703,206.84678649902344,185.15538024902344,191.42120361328125,238.67430114746094,231.10264587402344,184.5678253173828,325.33837890625,180.33253479003906,120.66796112060547,147.4396209716797,142.6338653564453,122.09759521484375,20.5583553314209,47.447792053222656,-12.137174606323242,22.842029571533203,26.971588134765625,16.69266128540039,33.6072998046875,23.605884552001953,84.80902099609375,29.750160217285156,-7.334130764007568,-39.241214752197266,25.105329513549805,0.7194110751152039,-59.87784957885742,32.40864562988281,72.69082641601562,42.16950607299805,-29.96904182434082,-48.924278259277344,57.66146469116211,88.8367691040039,-32.09318542480469,-18.57029914855957,17.10879898071289,-42.26682662963867,0.05697003751993179,-21.0609188079834,14.33970832824707,-32.264583587646484,-44.30482864379883,18.557233810424805,72.68012237548828,73.106201171875,23.24927520751953,48.63474655151367,20.63150978088379,-19.694398880004883,7.64628267288208,21.573963165283203,-19.252668380737305,-16.259511947631836,-3.9292354583740234,-14.18102741241455,88.7451171875,-43.09488296508789,31.438858032226562,10.236598014831543,-23.815675735473633,-15.311711311340332,-65.39726257324219,-12.398014068603516,36.812625885009766,19.015167236328125,-52.480567932128906,10.33261775970459,-89.51451110839844,-11.226670265197754,0.732154905796051,-7.094702243804932,13.28396987915039,-11.109735488891602,-64.12445068359375,59.01912307739258,-15.009458541870117,-0.580071747303009,-13.22774887084961,1.1614018678665161,-45.689476013183594,-32.45530700683594,-46.57591247558594,40.323829650878906,-8.707496643066406,-19.538785934448242,28.617923736572266,-60.54205322265625,-6.158003807067871,6.570370197296143,-30.5408935546875,7.928128719329834,-20.636823654174805,-10.492340087890625,-20.1242618560791,-4.23229455947876,-15.098299980163574,13.622326850891113,31.43532371520996,-74.22498321533203,50.69084167480469,66.37408447265625,77.60319519042969,6.4533538818359375,41.0522575378418,40.37939453125,-37.86503982543945,16.12437629699707,-34.88832092285156,40.64899444580078,-14.661874771118164,18.692258834838867,15.448331832885742,-41.328102111816406,5.9906392097473145,-1.2828192710876465]},\"selected\":{\"id\":\"8421\",\"type\":\"Selection\"},\"selection_policy\":{\"id\":\"8420\",\"type\":\"UnionRenderers\"}},\"id\":\"8123\",\"type\":\"ColumnDataSource\"},{\"attributes\":{},\"id\":\"8417\",\"type\":\"BasicTickFormatter\"},{\"attributes\":{\"source\":{\"id\":\"8123\",\"type\":\"ColumnDataSource\"}},\"id\":\"8127\",\"type\":\"CDSView\"},{\"attributes\":{},\"id\":\"8421\",\"type\":\"Selection\"},{\"attributes\":{\"dimension\":1,\"plot\":{\"id\":\"8088\",\"subtype\":\"Figure\",\"type\":\"Plot\"},\"ticker\":{\"id\":\"8104\",\"type\":\"BasicTicker\"}},\"id\":\"8107\",\"type\":\"Grid\"},{\"attributes\":{},\"id\":\"8104\",\"type\":\"BasicTicker\"},{\"attributes\":{\"source\":{\"id\":\"8130\",\"type\":\"ColumnDataSource\"}},\"id\":\"8134\",\"type\":\"CDSView\"},{\"attributes\":{},\"id\":\"8423\",\"type\":\"Selection\"},{\"attributes\":{},\"id\":\"8096\",\"type\":\"LinearScale\"},{\"attributes\":{},\"id\":\"8419\",\"type\":\"BasicTickFormatter\"},{\"attributes\":{\"formatter\":{\"id\":\"8417\",\"type\":\"BasicTickFormatter\"},\"plot\":{\"id\":\"8088\",\"subtype\":\"Figure\",\"type\":\"Plot\"},\"ticker\":{\"id\":\"8099\",\"type\":\"BasicTicker\"}},\"id\":\"8098\",\"type\":\"LinearAxis\"},{\"attributes\":{\"line_color\":\"red\",\"x\":{\"field\":\"x\"},\"y\":{\"field\":\"y\"}},\"id\":\"8131\",\"type\":\"Line\"},{\"attributes\":{},\"id\":\"8112\",\"type\":\"ResetTool\"},{\"attributes\":{\"line_alpha\":0.1,\"line_color\":\"#1f77b4\",\"x\":{\"field\":\"x\"},\"y\":{\"field\":\"y\"}},\"id\":\"8125\",\"type\":\"Line\"},{\"attributes\":{},\"id\":\"8113\",\"type\":\"HelpTool\"},{\"attributes\":{\"callback\":null},\"id\":\"8090\",\"type\":\"DataRange1d\"},{\"attributes\":{\"line_alpha\":0.1,\"line_color\":\"#1f77b4\",\"x\":{\"field\":\"x\"},\"y\":{\"field\":\"y\"}},\"id\":\"8132\",\"type\":\"Line\"},{\"attributes\":{},\"id\":\"8420\",\"type\":\"UnionRenderers\"},{\"attributes\":{\"line_color\":\"#1f77b4\",\"x\":{\"field\":\"x\"},\"y\":{\"field\":\"y\"}},\"id\":\"8124\",\"type\":\"Line\"},{\"attributes\":{\"formatter\":{\"id\":\"8419\",\"type\":\"BasicTickFormatter\"},\"plot\":{\"id\":\"8088\",\"subtype\":\"Figure\",\"type\":\"Plot\"},\"ticker\":{\"id\":\"8104\",\"type\":\"BasicTicker\"}},\"id\":\"8103\",\"type\":\"LinearAxis\"},{\"attributes\":{},\"id\":\"8094\",\"type\":\"LinearScale\"},{\"attributes\":{\"data_source\":{\"id\":\"8123\",\"type\":\"ColumnDataSource\"},\"glyph\":{\"id\":\"8124\",\"type\":\"Line\"},\"hover_glyph\":null,\"muted_glyph\":null,\"nonselection_glyph\":{\"id\":\"8125\",\"type\":\"Line\"},\"selection_glyph\":null,\"view\":{\"id\":\"8127\",\"type\":\"CDSView\"}},\"id\":\"8126\",\"type\":\"GlyphRenderer\"},{\"attributes\":{\"plot\":null,\"text\":\"17:40:41.8401, -53:40:22.1137, 32\"},\"id\":\"8087\",\"type\":\"Title\"},{\"attributes\":{},\"id\":\"8109\",\"type\":\"WheelZoomTool\"},{\"attributes\":{},\"id\":\"8108\",\"type\":\"PanTool\"},{\"attributes\":{\"overlay\":{\"id\":\"8116\",\"type\":\"BoxAnnotation\"}},\"id\":\"8110\",\"type\":\"BoxZoomTool\"},{\"attributes\":{},\"id\":\"8422\",\"type\":\"UnionRenderers\"},{\"attributes\":{},\"id\":\"8099\",\"type\":\"BasicTicker\"},{\"attributes\":{\"callback\":null,\"data\":{\"x\":{\"__ndarray__\":\"////PxkTukD///8/2Ra6QP///z8ZGLpA////P5kaukA=\",\"dtype\":\"float64\",\"shape\":[4]},\"y\":[206.84678649902344,238.67430114746094,231.10264587402344,325.33837890625]},\"selected\":{\"id\":\"8423\",\"type\":\"Selection\"},\"selection_policy\":{\"id\":\"8422\",\"type\":\"UnionRenderers\"}},\"id\":\"8130\",\"type\":\"ColumnDataSource\"},{\"attributes\":{\"plot\":{\"id\":\"8088\",\"subtype\":\"Figure\",\"type\":\"Plot\"},\"ticker\":{\"id\":\"8099\",\"type\":\"BasicTicker\"}},\"id\":\"8102\",\"type\":\"Grid\"}],\"root_ids\":[\"8088\"]},\"title\":\"Bokeh Application\",\"version\":\"1.0.4\"}};\n",
       "  var render_items = [{\"docid\":\"1ce3c514-915a-403d-bd44-e8fdde7e8c93\",\"roots\":{\"8088\":\"14e8d790-10f3-43fb-9b3c-fb35e4a64970\"}}];\n",
       "  root.Bokeh.embed.embed_items_notebook(docs_json, render_items);\n",
       "\n",
       "  }\n",
       "  if (root.Bokeh !== undefined) {\n",
       "    embed_document(root);\n",
       "  } else {\n",
       "    var attempts = 0;\n",
       "    var timer = setInterval(function(root) {\n",
       "      if (root.Bokeh !== undefined) {\n",
       "        embed_document(root);\n",
       "        clearInterval(timer);\n",
       "      }\n",
       "      attempts++;\n",
       "      if (attempts > 100) {\n",
       "        console.log(\"Bokeh: ERROR: Unable to run BokehJS code because BokehJS library is missing\");\n",
       "        clearInterval(timer);\n",
       "      }\n",
       "    }, 10, root)\n",
       "  }\n",
       "})(window);"
      ],
      "application/vnd.bokehjs_exec.v0+json": ""
     },
     "metadata": {
      "application/vnd.bokehjs_exec.v0+json": {
       "id": "8088"
      }
     },
     "output_type": "display_data"
    },
    {
     "data": {
      "text/html": [
       "\n",
       "\n",
       "\n",
       "\n",
       "\n",
       "\n",
       "  <div class=\"bk-root\" id=\"3b49ca3f-3e5c-4fee-bed2-4854883f43fa\" data-root-id=\"8486\"></div>\n"
      ]
     },
     "metadata": {},
     "output_type": "display_data"
    },
    {
     "data": {
      "application/javascript": [
       "(function(root) {\n",
       "  function embed_document(root) {\n",
       "    \n",
       "  var docs_json = {\"7b7ffb1e-b904-4988-b0e5-0c68b891c54c\":{\"roots\":{\"references\":[{\"attributes\":{\"below\":[{\"id\":\"8496\",\"type\":\"LinearAxis\"}],\"left\":[{\"id\":\"8501\",\"type\":\"LinearAxis\"}],\"plot_height\":500,\"plot_width\":900,\"renderers\":[{\"id\":\"8496\",\"type\":\"LinearAxis\"},{\"id\":\"8500\",\"type\":\"Grid\"},{\"id\":\"8501\",\"type\":\"LinearAxis\"},{\"id\":\"8505\",\"type\":\"Grid\"},{\"id\":\"8514\",\"type\":\"BoxAnnotation\"},{\"id\":\"8524\",\"type\":\"GlyphRenderer\"},{\"id\":\"8531\",\"type\":\"GlyphRenderer\"}],\"title\":{\"id\":\"8485\",\"type\":\"Title\"},\"toolbar\":{\"id\":\"8512\",\"type\":\"Toolbar\"},\"x_range\":{\"id\":\"8488\",\"type\":\"DataRange1d\"},\"x_scale\":{\"id\":\"8492\",\"type\":\"LinearScale\"},\"y_range\":{\"id\":\"8490\",\"type\":\"DataRange1d\"},\"y_scale\":{\"id\":\"8494\",\"type\":\"LinearScale\"}},\"id\":\"8486\",\"subtype\":\"Figure\",\"type\":\"Plot\"},{\"attributes\":{},\"id\":\"8831\",\"type\":\"Selection\"},{\"attributes\":{},\"id\":\"8827\",\"type\":\"BasicTickFormatter\"},{\"attributes\":{\"bottom_units\":\"screen\",\"fill_alpha\":{\"value\":0.5},\"fill_color\":{\"value\":\"lightgrey\"},\"left_units\":\"screen\",\"level\":\"overlay\",\"line_alpha\":{\"value\":1.0},\"line_color\":{\"value\":\"black\"},\"line_dash\":[4,4],\"line_width\":{\"value\":2},\"plot\":null,\"render_mode\":\"css\",\"right_units\":\"screen\",\"top_units\":\"screen\"},\"id\":\"8514\",\"type\":\"BoxAnnotation\"},{\"attributes\":{},\"id\":\"8497\",\"type\":\"BasicTicker\"},{\"attributes\":{},\"id\":\"8829\",\"type\":\"Selection\"},{\"attributes\":{\"callback\":null,\"data\":{\"x\":{\"__ndarray__\":\"////Pxn6uUD///8/Wfu5QP///z+Z/LlA////P9n9uUD///8/Gf+5QP///z9ZALpA////P5kBukD///8/2QK6QP///z8ZBLpA////P1kFukD///8/mQa6QP///z/ZB7pA////PxkJukD///8/WQq6QP///z+ZC7pA////P9kMukD///8/GQ66QP///z9ZD7pA////P5kQukD///8/2RG6QP///z8ZE7pA////P1kUukD///8/mRW6QP///z/ZFrpA////PxkYukD///8/WRm6QP///z+ZGrpA////P9kbukD///8/GR26QP///z9ZHrpA////P5kfukD///8/2SC6QP///z8ZIrpA////P1kjukD///8/mSS6QP///z/ZJbpA////PxknukD///8/WSi6QP///z+ZKbpA////P9kqukD///8/GSy6QP///z9ZLbpA////P5kuukD///8/2S+6QP///z8ZMbpA////P1kyukD///8/mTO6QP///z/ZNLpA////Pxk2ukD///8/WTe6QP///z+ZOLpA////P9k5ukD///8/GTu6QP///z9ZPLpA////P5k9ukD///8/2T66QP///z8ZQLpA////P1lBukD///8/mUK6QP///z/ZQ7pA////PxlFukD///8/WUa6QP///z+ZR7pA////P9lIukD///8/GUq6QP///z9ZS7pA////P5lMukD///8/2U26QP///z8ZT7pA////P1lQukD///8/mVG6QP///z/ZUrpA////PxlUukD///8/WVW6QP///z+ZVrpA////P9lXukD///8/GVm6QP///z9ZWrpA////P5lbukD///8/2Vy6QP///z8ZXrpA////P1lfukD///8/mWC6QP///z/ZYbpA////PxljukD///8/WWS6QP///z+ZZbpA////P9lmukD///8/GWi6QP///z9ZabpA////P5lqukD///8/2Wu6QP///z8ZbbpA////P1luukD///8/mW+6QP///z/ZcLpA////PxlyukD///8/WXO6QP///z+ZdLpA////P9l1ukD///8/GXe6QP///z9ZeLpA////P5l5ukD///8/2Xq6QP///z8ZfLpA////P1l9ukD///8/mX66QP///z/Zf7pA////PxmBukD///8/WYK6QP///z+Zg7pA////P9mEukD///8/GYa6QP///z9Zh7pA////P5mIukD///8/2Ym6QP///z8Zi7pA////P1mMukD///8/mY26QP///z/ZjrpA////PxmQukD///8/WZG6QP///z+ZkrpA////P9mTukD///8/GZW6QP///z9ZlrpA////P5mXukD///8/2Zi6QP///z8ZmrpA////P1mbukD///8/mZy6QP///z/ZnbpA////PxmfukD///8/WaC6QP///z+ZobpA////P9miukA=\",\"dtype\":\"float64\",\"shape\":[136]},\"y\":[9.316420555114746,-18.53195571899414,-39.09130859375,-26.165958404541016,36.50373840332031,-10.6045560836792,1.3073737621307373,4.218533039093018,11.126968383789062,1.550135850906372,5.192991733551025,13.487298011779785,101.24909210205078,142.72361755371094,192.2913818359375,209.0092315673828,247.258544921875,294.42138671875,295.1278076171875,327.5440979003906,367.00714111328125,360.2020568847656,361.1209411621094,352.70361328125,366.6654968261719,322.44183349609375,388.8648376464844,320.56121826171875,313.4979553222656,274.65997314453125,192.14068603515625,122.3974838256836,149.5208282470703,141.3389434814453,48.96342086791992,71.4504165649414,45.6900520324707,49.257896423339844,-15.696269035339355,-32.51680374145508,18.517478942871094,-17.144197463989258,16.4090518951416,16.561872482299805,-7.589421272277832,7.304289817810059,0.8643447160720825,20.212324142456055,3.2384896278381348,-23.147859573364258,-5.421820163726807,-14.920673370361328,44.04882049560547,78.51973724365234,36.53224563598633,-40.517539978027344,-9.175642967224121,-2.2165961265563965,51.92478561401367,6.437100887298584,-50.075401306152344,-50.93157196044922,8.112000465393066,37.08277893066406,35.134822845458984,90.23760223388672,39.85097122192383,28.786073684692383,-40.49687576293945,-19.15364646911621,13.076874732971191,-26.920181274414062,-15.141640663146973,3.5404257774353027,24.261882781982422,-13.370946884155273,-10.015654563903809,17.531492233276367,5.018909454345703,-29.416074752807617,-43.318138122558594,-45.81106185913086,-7.978217124938965,-3.7057132720947266,-19.23207664489746,-16.22991371154785,-5.865117073059082,-0.40953922271728516,2.1141154766082764,-1.366418480873108,-12.613348007202148,35.95633316040039,-21.478660583496094,-7.094113826751709,-50.0714225769043,-50.04827880859375,20.184297561645508,-20.02286148071289,11.070234298706055,0.4162209630012512,1.793419599533081,3.1149158477783203,-27.457426071166992,10.761577606201172,2.443798542022705,-10.122187614440918,-11.014628410339355,55.459468841552734,-14.8640775680542,-1.5670579671859741,29.338321685791016,-28.817127227783203,-13.691366195678711,11.079499244689941,-11.166152954101562,28.54128074645996,-39.37717819213867,-46.21278762817383,21.100608825683594,21.037626266479492,27.543941497802734,4.523240089416504,-22.491151809692383,13.537264823913574,34.027191162109375,-4.410045623779297,-2.211822032928467,16.69253921508789,48.95404052734375,-1.3211171627044678,-13.86865234375,-26.15267562866211,-25.192476272583008,-7.075331687927246,5.113430023193359,41.471221923828125]},\"selected\":{\"id\":\"8829\",\"type\":\"Selection\"},\"selection_policy\":{\"id\":\"8828\",\"type\":\"UnionRenderers\"}},\"id\":\"8521\",\"type\":\"ColumnDataSource\"},{\"attributes\":{\"callback\":null},\"id\":\"8490\",\"type\":\"DataRange1d\"},{\"attributes\":{\"line_alpha\":0.1,\"line_color\":\"#1f77b4\",\"x\":{\"field\":\"x\"},\"y\":{\"field\":\"y\"}},\"id\":\"8523\",\"type\":\"Line\"},{\"attributes\":{},\"id\":\"8830\",\"type\":\"UnionRenderers\"},{\"attributes\":{\"data_source\":{\"id\":\"8521\",\"type\":\"ColumnDataSource\"},\"glyph\":{\"id\":\"8522\",\"type\":\"Line\"},\"hover_glyph\":null,\"muted_glyph\":null,\"nonselection_glyph\":{\"id\":\"8523\",\"type\":\"Line\"},\"selection_glyph\":null,\"view\":{\"id\":\"8525\",\"type\":\"CDSView\"}},\"id\":\"8524\",\"type\":\"GlyphRenderer\"},{\"attributes\":{\"dimension\":1,\"plot\":{\"id\":\"8486\",\"subtype\":\"Figure\",\"type\":\"Plot\"},\"ticker\":{\"id\":\"8502\",\"type\":\"BasicTicker\"}},\"id\":\"8505\",\"type\":\"Grid\"},{\"attributes\":{},\"id\":\"8828\",\"type\":\"UnionRenderers\"},{\"attributes\":{\"callback\":null,\"tooltips\":[[\"(x,y)\",\"($x{1}, $y)\"]]},\"id\":\"8526\",\"type\":\"HoverTool\"},{\"attributes\":{\"formatter\":{\"id\":\"8827\",\"type\":\"BasicTickFormatter\"},\"plot\":{\"id\":\"8486\",\"subtype\":\"Figure\",\"type\":\"Plot\"},\"ticker\":{\"id\":\"8502\",\"type\":\"BasicTicker\"}},\"id\":\"8501\",\"type\":\"LinearAxis\"},{\"attributes\":{},\"id\":\"8506\",\"type\":\"PanTool\"},{\"attributes\":{\"line_alpha\":0.1,\"line_color\":\"#1f77b4\",\"x\":{\"field\":\"x\"},\"y\":{\"field\":\"y\"}},\"id\":\"8530\",\"type\":\"Line\"},{\"attributes\":{\"formatter\":{\"id\":\"8825\",\"type\":\"BasicTickFormatter\"},\"plot\":{\"id\":\"8486\",\"subtype\":\"Figure\",\"type\":\"Plot\"},\"ticker\":{\"id\":\"8497\",\"type\":\"BasicTicker\"}},\"id\":\"8496\",\"type\":\"LinearAxis\"},{\"attributes\":{\"overlay\":{\"id\":\"8514\",\"type\":\"BoxAnnotation\"}},\"id\":\"8508\",\"type\":\"BoxZoomTool\"},{\"attributes\":{},\"id\":\"8502\",\"type\":\"BasicTicker\"},{\"attributes\":{\"callback\":null},\"id\":\"8488\",\"type\":\"DataRange1d\"},{\"attributes\":{\"callback\":null,\"data\":{\"x\":{\"__ndarray__\":\"////P1kKukD///8/mQu6QP///z/ZDLpA////PxkOukD///8/WQ+6QP///z+ZELpA////P9kRukD///8/GRO6QP///z9ZFLpA////P5kVukD///8/2Ra6QP///z8ZGLpA////P1kZukD///8/mRq6QP///z/ZG7pA////PxkdukD///8/WR66QP///z+ZH7pA////PxkiukA=\",\"dtype\":\"float64\",\"shape\":[19]},\"y\":[142.72361755371094,192.2913818359375,209.0092315673828,247.258544921875,294.42138671875,295.1278076171875,327.5440979003906,367.00714111328125,360.2020568847656,361.1209411621094,352.70361328125,366.6654968261719,322.44183349609375,388.8648376464844,320.56121826171875,313.4979553222656,274.65997314453125,192.14068603515625,149.5208282470703]},\"selected\":{\"id\":\"8831\",\"type\":\"Selection\"},\"selection_policy\":{\"id\":\"8830\",\"type\":\"UnionRenderers\"}},\"id\":\"8528\",\"type\":\"ColumnDataSource\"},{\"attributes\":{\"line_color\":\"#1f77b4\",\"x\":{\"field\":\"x\"},\"y\":{\"field\":\"y\"}},\"id\":\"8522\",\"type\":\"Line\"},{\"attributes\":{\"plot\":{\"id\":\"8486\",\"subtype\":\"Figure\",\"type\":\"Plot\"},\"ticker\":{\"id\":\"8497\",\"type\":\"BasicTicker\"}},\"id\":\"8500\",\"type\":\"Grid\"},{\"attributes\":{\"active_drag\":{\"id\":\"8508\",\"type\":\"BoxZoomTool\"},\"active_inspect\":\"auto\",\"active_multi\":null,\"active_scroll\":{\"id\":\"8507\",\"type\":\"WheelZoomTool\"},\"active_tap\":\"auto\",\"tools\":[{\"id\":\"8506\",\"type\":\"PanTool\"},{\"id\":\"8507\",\"type\":\"WheelZoomTool\"},{\"id\":\"8508\",\"type\":\"BoxZoomTool\"},{\"id\":\"8509\",\"type\":\"SaveTool\"},{\"id\":\"8510\",\"type\":\"ResetTool\"},{\"id\":\"8511\",\"type\":\"HelpTool\"},{\"id\":\"8526\",\"type\":\"HoverTool\"}]},\"id\":\"8512\",\"type\":\"Toolbar\"},{\"attributes\":{\"line_color\":\"red\",\"x\":{\"field\":\"x\"},\"y\":{\"field\":\"y\"}},\"id\":\"8529\",\"type\":\"Line\"},{\"attributes\":{},\"id\":\"8511\",\"type\":\"HelpTool\"},{\"attributes\":{},\"id\":\"8507\",\"type\":\"WheelZoomTool\"},{\"attributes\":{},\"id\":\"8509\",\"type\":\"SaveTool\"},{\"attributes\":{},\"id\":\"8492\",\"type\":\"LinearScale\"},{\"attributes\":{},\"id\":\"8494\",\"type\":\"LinearScale\"},{\"attributes\":{\"source\":{\"id\":\"8528\",\"type\":\"ColumnDataSource\"}},\"id\":\"8532\",\"type\":\"CDSView\"},{\"attributes\":{\"plot\":null,\"text\":\"17:40:41.8068, -53:40:21.6137, 51\"},\"id\":\"8485\",\"type\":\"Title\"},{\"attributes\":{\"source\":{\"id\":\"8521\",\"type\":\"ColumnDataSource\"}},\"id\":\"8525\",\"type\":\"CDSView\"},{\"attributes\":{},\"id\":\"8825\",\"type\":\"BasicTickFormatter\"},{\"attributes\":{\"data_source\":{\"id\":\"8528\",\"type\":\"ColumnDataSource\"},\"glyph\":{\"id\":\"8529\",\"type\":\"Line\"},\"hover_glyph\":null,\"muted_glyph\":null,\"nonselection_glyph\":{\"id\":\"8530\",\"type\":\"Line\"},\"selection_glyph\":null,\"view\":{\"id\":\"8532\",\"type\":\"CDSView\"}},\"id\":\"8531\",\"type\":\"GlyphRenderer\"},{\"attributes\":{},\"id\":\"8510\",\"type\":\"ResetTool\"}],\"root_ids\":[\"8486\"]},\"title\":\"Bokeh Application\",\"version\":\"1.0.4\"}};\n",
       "  var render_items = [{\"docid\":\"7b7ffb1e-b904-4988-b0e5-0c68b891c54c\",\"roots\":{\"8486\":\"3b49ca3f-3e5c-4fee-bed2-4854883f43fa\"}}];\n",
       "  root.Bokeh.embed.embed_items_notebook(docs_json, render_items);\n",
       "\n",
       "  }\n",
       "  if (root.Bokeh !== undefined) {\n",
       "    embed_document(root);\n",
       "  } else {\n",
       "    var attempts = 0;\n",
       "    var timer = setInterval(function(root) {\n",
       "      if (root.Bokeh !== undefined) {\n",
       "        embed_document(root);\n",
       "        clearInterval(timer);\n",
       "      }\n",
       "      attempts++;\n",
       "      if (attempts > 100) {\n",
       "        console.log(\"Bokeh: ERROR: Unable to run BokehJS code because BokehJS library is missing\");\n",
       "        clearInterval(timer);\n",
       "      }\n",
       "    }, 10, root)\n",
       "  }\n",
       "})(window);"
      ],
      "application/vnd.bokehjs_exec.v0+json": ""
     },
     "metadata": {
      "application/vnd.bokehjs_exec.v0+json": {
       "id": "8486"
      }
     },
     "output_type": "display_data"
    },
    {
     "data": {
      "text/html": [
       "\n",
       "\n",
       "\n",
       "\n",
       "\n",
       "\n",
       "  <div class=\"bk-root\" id=\"2c0600b3-5ce5-40f4-aeb0-49c1b6249113\" data-root-id=\"8894\"></div>\n"
      ]
     },
     "metadata": {},
     "output_type": "display_data"
    },
    {
     "data": {
      "application/javascript": [
       "(function(root) {\n",
       "  function embed_document(root) {\n",
       "    \n",
       "  var docs_json = {\"2cf4f749-7c5c-4141-9585-6c0a202d1917\":{\"roots\":{\"references\":[{\"attributes\":{\"below\":[{\"id\":\"8904\",\"type\":\"LinearAxis\"}],\"left\":[{\"id\":\"8909\",\"type\":\"LinearAxis\"}],\"plot_height\":500,\"plot_width\":900,\"renderers\":[{\"id\":\"8904\",\"type\":\"LinearAxis\"},{\"id\":\"8908\",\"type\":\"Grid\"},{\"id\":\"8909\",\"type\":\"LinearAxis\"},{\"id\":\"8913\",\"type\":\"Grid\"},{\"id\":\"8922\",\"type\":\"BoxAnnotation\"},{\"id\":\"8932\",\"type\":\"GlyphRenderer\"},{\"id\":\"8939\",\"type\":\"GlyphRenderer\"}],\"title\":{\"id\":\"8893\",\"type\":\"Title\"},\"toolbar\":{\"id\":\"8920\",\"type\":\"Toolbar\"},\"x_range\":{\"id\":\"8896\",\"type\":\"DataRange1d\"},\"x_scale\":{\"id\":\"8900\",\"type\":\"LinearScale\"},\"y_range\":{\"id\":\"8898\",\"type\":\"DataRange1d\"},\"y_scale\":{\"id\":\"8902\",\"type\":\"LinearScale\"}},\"id\":\"8894\",\"subtype\":\"Figure\",\"type\":\"Plot\"},{\"attributes\":{\"callback\":null,\"data\":{\"x\":{\"__ndarray__\":\"////P1kKukD///8/mQu6QP///z/ZDLpA////PxkOukD///8/WQ+6QP///z+ZELpA////P9kRukD///8/GRO6QP///z9ZFLpA////P5kVukD///8/2Ra6QP///z8ZGLpA////P1kZukD///8/mRq6QP///z/ZG7pA////PxkdukD///8/WR66QP///z+ZH7pA////P9kgukD///8/WSO6QA==\",\"dtype\":\"float64\",\"shape\":[20]},\"y\":[225.76158142089844,269.257080078125,354.62811279296875,424.0274658203125,491.2952575683594,600.9307861328125,575.8114013671875,575.3734741210938,622.3772583007812,639.2785034179688,578.4026489257812,593.526611328125,590.8322143554688,677.3002319335938,610.4447631835938,501.879638671875,460.41705322265625,390.6520080566406,269.2402648925781,161.66001892089844]},\"selected\":{\"id\":\"9249\",\"type\":\"Selection\"},\"selection_policy\":{\"id\":\"9248\",\"type\":\"UnionRenderers\"}},\"id\":\"8936\",\"type\":\"ColumnDataSource\"},{\"attributes\":{\"dimension\":1,\"plot\":{\"id\":\"8894\",\"subtype\":\"Figure\",\"type\":\"Plot\"},\"ticker\":{\"id\":\"8910\",\"type\":\"BasicTicker\"}},\"id\":\"8913\",\"type\":\"Grid\"},{\"attributes\":{\"plot\":null,\"text\":\"17:40:41.8401, -53:40:21.6137, 52\"},\"id\":\"8893\",\"type\":\"Title\"},{\"attributes\":{\"data_source\":{\"id\":\"8936\",\"type\":\"ColumnDataSource\"},\"glyph\":{\"id\":\"8937\",\"type\":\"Line\"},\"hover_glyph\":null,\"muted_glyph\":null,\"nonselection_glyph\":{\"id\":\"8938\",\"type\":\"Line\"},\"selection_glyph\":null,\"view\":{\"id\":\"8940\",\"type\":\"CDSView\"}},\"id\":\"8939\",\"type\":\"GlyphRenderer\"},{\"attributes\":{\"plot\":{\"id\":\"8894\",\"subtype\":\"Figure\",\"type\":\"Plot\"},\"ticker\":{\"id\":\"8905\",\"type\":\"BasicTicker\"}},\"id\":\"8908\",\"type\":\"Grid\"},{\"attributes\":{\"callback\":null},\"id\":\"8896\",\"type\":\"DataRange1d\"},{\"attributes\":{},\"id\":\"9246\",\"type\":\"UnionRenderers\"},{\"attributes\":{},\"id\":\"8917\",\"type\":\"SaveTool\"},{\"attributes\":{\"active_drag\":{\"id\":\"8916\",\"type\":\"BoxZoomTool\"},\"active_inspect\":\"auto\",\"active_multi\":null,\"active_scroll\":{\"id\":\"8915\",\"type\":\"WheelZoomTool\"},\"active_tap\":\"auto\",\"tools\":[{\"id\":\"8914\",\"type\":\"PanTool\"},{\"id\":\"8915\",\"type\":\"WheelZoomTool\"},{\"id\":\"8916\",\"type\":\"BoxZoomTool\"},{\"id\":\"8917\",\"type\":\"SaveTool\"},{\"id\":\"8918\",\"type\":\"ResetTool\"},{\"id\":\"8919\",\"type\":\"HelpTool\"},{\"id\":\"8934\",\"type\":\"HoverTool\"}]},\"id\":\"8920\",\"type\":\"Toolbar\"},{\"attributes\":{\"bottom_units\":\"screen\",\"fill_alpha\":{\"value\":0.5},\"fill_color\":{\"value\":\"lightgrey\"},\"left_units\":\"screen\",\"level\":\"overlay\",\"line_alpha\":{\"value\":1.0},\"line_color\":{\"value\":\"black\"},\"line_dash\":[4,4],\"line_width\":{\"value\":2},\"plot\":null,\"render_mode\":\"css\",\"right_units\":\"screen\",\"top_units\":\"screen\"},\"id\":\"8922\",\"type\":\"BoxAnnotation\"},{\"attributes\":{\"line_color\":\"#1f77b4\",\"x\":{\"field\":\"x\"},\"y\":{\"field\":\"y\"}},\"id\":\"8930\",\"type\":\"Line\"},{\"attributes\":{},\"id\":\"8902\",\"type\":\"LinearScale\"},{\"attributes\":{\"callback\":null,\"tooltips\":[[\"(x,y)\",\"($x{1}, $y)\"]]},\"id\":\"8934\",\"type\":\"HoverTool\"},{\"attributes\":{\"formatter\":{\"id\":\"9243\",\"type\":\"BasicTickFormatter\"},\"plot\":{\"id\":\"8894\",\"subtype\":\"Figure\",\"type\":\"Plot\"},\"ticker\":{\"id\":\"8905\",\"type\":\"BasicTicker\"}},\"id\":\"8904\",\"type\":\"LinearAxis\"},{\"attributes\":{\"data_source\":{\"id\":\"8929\",\"type\":\"ColumnDataSource\"},\"glyph\":{\"id\":\"8930\",\"type\":\"Line\"},\"hover_glyph\":null,\"muted_glyph\":null,\"nonselection_glyph\":{\"id\":\"8931\",\"type\":\"Line\"},\"selection_glyph\":null,\"view\":{\"id\":\"8933\",\"type\":\"CDSView\"}},\"id\":\"8932\",\"type\":\"GlyphRenderer\"},{\"attributes\":{},\"id\":\"9248\",\"type\":\"UnionRenderers\"},{\"attributes\":{},\"id\":\"8914\",\"type\":\"PanTool\"},{\"attributes\":{\"callback\":null,\"data\":{\"x\":{\"__ndarray__\":\"////Pxn6uUD///8/Wfu5QP///z+Z/LlA////P9n9uUD///8/Gf+5QP///z9ZALpA////P5kBukD///8/2QK6QP///z8ZBLpA////P1kFukD///8/mQa6QP///z/ZB7pA////PxkJukD///8/WQq6QP///z+ZC7pA////P9kMukD///8/GQ66QP///z9ZD7pA////P5kQukD///8/2RG6QP///z8ZE7pA////P1kUukD///8/mRW6QP///z/ZFrpA////PxkYukD///8/WRm6QP///z+ZGrpA////P9kbukD///8/GR26QP///z9ZHrpA////P5kfukD///8/2SC6QP///z8ZIrpA////P1kjukD///8/mSS6QP///z/ZJbpA////PxknukD///8/WSi6QP///z+ZKbpA////P9kqukD///8/GSy6QP///z9ZLbpA////P5kuukD///8/2S+6QP///z8ZMbpA////P1kyukD///8/mTO6QP///z/ZNLpA////Pxk2ukD///8/WTe6QP///z+ZOLpA////P9k5ukD///8/GTu6QP///z9ZPLpA////P5k9ukD///8/2T66QP///z8ZQLpA////P1lBukD///8/mUK6QP///z/ZQ7pA////PxlFukD///8/WUa6QP///z+ZR7pA////P9lIukD///8/GUq6QP///z9ZS7pA////P5lMukD///8/2U26QP///z8ZT7pA////P1lQukD///8/mVG6QP///z/ZUrpA////PxlUukD///8/WVW6QP///z+ZVrpA////P9lXukD///8/GVm6QP///z9ZWrpA////P5lbukD///8/2Vy6QP///z8ZXrpA////P1lfukD///8/mWC6QP///z/ZYbpA////PxljukD///8/WWS6QP///z+ZZbpA////P9lmukD///8/GWi6QP///z9ZabpA////P5lqukD///8/2Wu6QP///z8ZbbpA////P1luukD///8/mW+6QP///z/ZcLpA////PxlyukD///8/WXO6QP///z+ZdLpA////P9l1ukD///8/GXe6QP///z9ZeLpA////P5l5ukD///8/2Xq6QP///z8ZfLpA////P1l9ukD///8/mX66QP///z/Zf7pA////PxmBukD///8/WYK6QP///z+Zg7pA////P9mEukD///8/GYa6QP///z9Zh7pA////P5mIukD///8/2Ym6QP///z8Zi7pA////P1mMukD///8/mY26QP///z/ZjrpA////PxmQukD///8/WZG6QP///z+ZkrpA////P9mTukD///8/GZW6QP///z9ZlrpA////P5mXukD///8/2Zi6QP///z8ZmrpA////P1mbukD///8/mZy6QP///z/ZnbpA////PxmfukD///8/WaC6QP///z+ZobpA////P9miukA=\",\"dtype\":\"float64\",\"shape\":[136]},\"y\":[6.563960075378418,16.72317123413086,-49.15640640258789,-13.00348949432373,56.65189743041992,-56.79193115234375,8.015731811523438,-13.547182083129883,-14.530479431152344,13.092329025268555,59.75617980957031,75.86488342285156,106.68504333496094,225.76158142089844,269.257080078125,354.62811279296875,424.0274658203125,491.2952575683594,600.9307861328125,575.8114013671875,575.3734741210938,622.3772583007812,639.2785034179688,578.4026489257812,593.526611328125,590.8322143554688,677.3002319335938,610.4447631835938,501.879638671875,460.41705322265625,390.6520080566406,269.2402648925781,141.75579833984375,161.66001892089844,93.14069366455078,65.17656707763672,36.49225616455078,15.47398567199707,19.35308074951172,-4.096652507781982,27.989896774291992,-0.45587679743766785,-0.5127062201499939,-6.594044208526611,-33.75372314453125,5.609328269958496,-9.211185455322266,83.25251007080078,12.899333000183105,-28.945146560668945,-0.5649889707565308,19.847543716430664,-5.894314289093018,38.838829040527344,34.69553756713867,0.902247428894043,-8.26174259185791,11.371658325195312,36.04512405395508,-28.247201919555664,-53.48945236206055,17.484268188476562,17.392099380493164,10.625516891479492,57.32392883300781,79.47927856445312,44.72449493408203,8.505996704101562,-11.70246410369873,-26.652109146118164,-52.19877243041992,-12.09037971496582,14.791478157043457,12.90993595123291,22.29966163635254,-16.83793067932129,-59.355865478515625,17.41699981689453,-9.99736499786377,-28.205158233642578,6.287391662597656,4.401551723480225,-9.429206848144531,-17.502248764038086,-26.62189292907715,53.65314483642578,-36.03419494628906,-19.293527603149414,-48.631202697753906,-7.6463398933410645,-12.358471870422363,3.0246388912200928,-46.11322021484375,45.61125564575195,-46.16510009765625,-18.016374588012695,1.6803486347198486,-10.665136337280273,25.52456283569336,11.180109024047852,33.9919319152832,-46.18498611450195,15.136902809143066,-12.316572189331055,-33.9161376953125,-13.378713607788086,-15.279982566833496,30.144094467163086,24.57539939880371,9.801043510437012,8.599102973937988,-45.56057357788086,-34.64087677001953,2.645911455154419,-39.4843864440918,65.88485717773438,-15.96316146850586,-35.89647674560547,7.053045749664307,56.01285171508789,-4.205540180206299,33.64274597167969,30.64511489868164,8.284838676452637,39.029205322265625,11.897499084472656,-55.88994216918945,-10.265976905822754,23.894758224487305,-8.258444786071777,33.107421875,-29.804880142211914,-41.30162811279297,-12.449350357055664,20.521240234375,38.142494201660156]},\"selected\":{\"id\":\"9247\",\"type\":\"Selection\"},\"selection_policy\":{\"id\":\"9246\",\"type\":\"UnionRenderers\"}},\"id\":\"8929\",\"type\":\"ColumnDataSource\"},{\"attributes\":{},\"id\":\"9247\",\"type\":\"Selection\"},{\"attributes\":{\"source\":{\"id\":\"8936\",\"type\":\"ColumnDataSource\"}},\"id\":\"8940\",\"type\":\"CDSView\"},{\"attributes\":{\"line_alpha\":0.1,\"line_color\":\"#1f77b4\",\"x\":{\"field\":\"x\"},\"y\":{\"field\":\"y\"}},\"id\":\"8938\",\"type\":\"Line\"},{\"attributes\":{\"line_color\":\"red\",\"x\":{\"field\":\"x\"},\"y\":{\"field\":\"y\"}},\"id\":\"8937\",\"type\":\"Line\"},{\"attributes\":{},\"id\":\"9245\",\"type\":\"BasicTickFormatter\"},{\"attributes\":{},\"id\":\"8915\",\"type\":\"WheelZoomTool\"},{\"attributes\":{\"callback\":null},\"id\":\"8898\",\"type\":\"DataRange1d\"},{\"attributes\":{},\"id\":\"8910\",\"type\":\"BasicTicker\"},{\"attributes\":{},\"id\":\"8919\",\"type\":\"HelpTool\"},{\"attributes\":{\"formatter\":{\"id\":\"9245\",\"type\":\"BasicTickFormatter\"},\"plot\":{\"id\":\"8894\",\"subtype\":\"Figure\",\"type\":\"Plot\"},\"ticker\":{\"id\":\"8910\",\"type\":\"BasicTicker\"}},\"id\":\"8909\",\"type\":\"LinearAxis\"},{\"attributes\":{\"source\":{\"id\":\"8929\",\"type\":\"ColumnDataSource\"}},\"id\":\"8933\",\"type\":\"CDSView\"},{\"attributes\":{\"line_alpha\":0.1,\"line_color\":\"#1f77b4\",\"x\":{\"field\":\"x\"},\"y\":{\"field\":\"y\"}},\"id\":\"8931\",\"type\":\"Line\"},{\"attributes\":{},\"id\":\"9249\",\"type\":\"Selection\"},{\"attributes\":{},\"id\":\"8918\",\"type\":\"ResetTool\"},{\"attributes\":{},\"id\":\"8900\",\"type\":\"LinearScale\"},{\"attributes\":{},\"id\":\"8905\",\"type\":\"BasicTicker\"},{\"attributes\":{},\"id\":\"9243\",\"type\":\"BasicTickFormatter\"},{\"attributes\":{\"overlay\":{\"id\":\"8922\",\"type\":\"BoxAnnotation\"}},\"id\":\"8916\",\"type\":\"BoxZoomTool\"}],\"root_ids\":[\"8894\"]},\"title\":\"Bokeh Application\",\"version\":\"1.0.4\"}};\n",
       "  var render_items = [{\"docid\":\"2cf4f749-7c5c-4141-9585-6c0a202d1917\",\"roots\":{\"8894\":\"2c0600b3-5ce5-40f4-aeb0-49c1b6249113\"}}];\n",
       "  root.Bokeh.embed.embed_items_notebook(docs_json, render_items);\n",
       "\n",
       "  }\n",
       "  if (root.Bokeh !== undefined) {\n",
       "    embed_document(root);\n",
       "  } else {\n",
       "    var attempts = 0;\n",
       "    var timer = setInterval(function(root) {\n",
       "      if (root.Bokeh !== undefined) {\n",
       "        embed_document(root);\n",
       "        clearInterval(timer);\n",
       "      }\n",
       "      attempts++;\n",
       "      if (attempts > 100) {\n",
       "        console.log(\"Bokeh: ERROR: Unable to run BokehJS code because BokehJS library is missing\");\n",
       "        clearInterval(timer);\n",
       "      }\n",
       "    }, 10, root)\n",
       "  }\n",
       "})(window);"
      ],
      "application/vnd.bokehjs_exec.v0+json": ""
     },
     "metadata": {
      "application/vnd.bokehjs_exec.v0+json": {
       "id": "8894"
      }
     },
     "output_type": "display_data"
    },
    {
     "data": {
      "text/html": [
       "\n",
       "\n",
       "\n",
       "\n",
       "\n",
       "\n",
       "  <div class=\"bk-root\" id=\"403dbedb-203e-4c0c-a9dc-af38b63c507f\" data-root-id=\"9312\"></div>\n"
      ]
     },
     "metadata": {},
     "output_type": "display_data"
    },
    {
     "data": {
      "application/javascript": [
       "(function(root) {\n",
       "  function embed_document(root) {\n",
       "    \n",
       "  var docs_json = {\"e27fc26d-8260-43b7-b4df-20738af4d3d5\":{\"roots\":{\"references\":[{\"attributes\":{\"below\":[{\"id\":\"9322\",\"type\":\"LinearAxis\"}],\"left\":[{\"id\":\"9327\",\"type\":\"LinearAxis\"}],\"plot_height\":500,\"plot_width\":900,\"renderers\":[{\"id\":\"9322\",\"type\":\"LinearAxis\"},{\"id\":\"9326\",\"type\":\"Grid\"},{\"id\":\"9327\",\"type\":\"LinearAxis\"},{\"id\":\"9331\",\"type\":\"Grid\"},{\"id\":\"9340\",\"type\":\"BoxAnnotation\"},{\"id\":\"9350\",\"type\":\"GlyphRenderer\"},{\"id\":\"9357\",\"type\":\"GlyphRenderer\"}],\"title\":{\"id\":\"9311\",\"type\":\"Title\"},\"toolbar\":{\"id\":\"9338\",\"type\":\"Toolbar\"},\"x_range\":{\"id\":\"9314\",\"type\":\"DataRange1d\"},\"x_scale\":{\"id\":\"9318\",\"type\":\"LinearScale\"},\"y_range\":{\"id\":\"9316\",\"type\":\"DataRange1d\"},\"y_scale\":{\"id\":\"9320\",\"type\":\"LinearScale\"}},\"id\":\"9312\",\"subtype\":\"Figure\",\"type\":\"Plot\"},{\"attributes\":{},\"id\":\"9335\",\"type\":\"SaveTool\"},{\"attributes\":{},\"id\":\"9676\",\"type\":\"UnionRenderers\"},{\"attributes\":{\"callback\":null,\"data\":{\"x\":{\"__ndarray__\":\"////P5kLukD///8/2Qy6QP///z8ZDrpA////P1kPukD///8/mRC6QP///z/ZEbpA////PxkTukD///8/WRS6QP///z+ZFbpA////P9kWukD///8/GRi6QP///z9ZGbpA////P5kaukD///8/2Ru6QP///z8ZHbpA////P5kfukD///8/2SC6QA==\",\"dtype\":\"float64\",\"shape\":[17]},\"y\":[167.5106964111328,176.63685607910156,188.27291870117188,236.0486297607422,195.072021484375,229.31710815429688,228.56378173828125,242.02957153320312,277.9136962890625,228.29734802246094,289.2675476074219,263.64666748046875,246.87518310546875,202.96759033203125,251.85491943359375,182.13409423828125,169.2896270751953]},\"selected\":{\"id\":\"9677\",\"type\":\"Selection\"},\"selection_policy\":{\"id\":\"9676\",\"type\":\"UnionRenderers\"}},\"id\":\"9354\",\"type\":\"ColumnDataSource\"},{\"attributes\":{\"data_source\":{\"id\":\"9354\",\"type\":\"ColumnDataSource\"},\"glyph\":{\"id\":\"9355\",\"type\":\"Line\"},\"hover_glyph\":null,\"muted_glyph\":null,\"nonselection_glyph\":{\"id\":\"9356\",\"type\":\"Line\"},\"selection_glyph\":null,\"view\":{\"id\":\"9358\",\"type\":\"CDSView\"}},\"id\":\"9357\",\"type\":\"GlyphRenderer\"},{\"attributes\":{},\"id\":\"9328\",\"type\":\"BasicTicker\"},{\"attributes\":{},\"id\":\"9671\",\"type\":\"BasicTickFormatter\"},{\"attributes\":{},\"id\":\"9673\",\"type\":\"BasicTickFormatter\"},{\"attributes\":{},\"id\":\"9318\",\"type\":\"LinearScale\"},{\"attributes\":{\"formatter\":{\"id\":\"9671\",\"type\":\"BasicTickFormatter\"},\"plot\":{\"id\":\"9312\",\"subtype\":\"Figure\",\"type\":\"Plot\"},\"ticker\":{\"id\":\"9323\",\"type\":\"BasicTicker\"}},\"id\":\"9322\",\"type\":\"LinearAxis\"},{\"attributes\":{},\"id\":\"9677\",\"type\":\"Selection\"},{\"attributes\":{},\"id\":\"9332\",\"type\":\"PanTool\"},{\"attributes\":{},\"id\":\"9337\",\"type\":\"HelpTool\"},{\"attributes\":{\"line_color\":\"red\",\"x\":{\"field\":\"x\"},\"y\":{\"field\":\"y\"}},\"id\":\"9355\",\"type\":\"Line\"},{\"attributes\":{},\"id\":\"9323\",\"type\":\"BasicTicker\"},{\"attributes\":{\"source\":{\"id\":\"9354\",\"type\":\"ColumnDataSource\"}},\"id\":\"9358\",\"type\":\"CDSView\"},{\"attributes\":{},\"id\":\"9336\",\"type\":\"ResetTool\"},{\"attributes\":{\"source\":{\"id\":\"9347\",\"type\":\"ColumnDataSource\"}},\"id\":\"9351\",\"type\":\"CDSView\"},{\"attributes\":{\"plot\":{\"id\":\"9312\",\"subtype\":\"Figure\",\"type\":\"Plot\"},\"ticker\":{\"id\":\"9323\",\"type\":\"BasicTicker\"}},\"id\":\"9326\",\"type\":\"Grid\"},{\"attributes\":{\"dimension\":1,\"plot\":{\"id\":\"9312\",\"subtype\":\"Figure\",\"type\":\"Plot\"},\"ticker\":{\"id\":\"9328\",\"type\":\"BasicTicker\"}},\"id\":\"9331\",\"type\":\"Grid\"},{\"attributes\":{\"overlay\":{\"id\":\"9340\",\"type\":\"BoxAnnotation\"}},\"id\":\"9334\",\"type\":\"BoxZoomTool\"},{\"attributes\":{\"callback\":null},\"id\":\"9314\",\"type\":\"DataRange1d\"},{\"attributes\":{},\"id\":\"9320\",\"type\":\"LinearScale\"},{\"attributes\":{},\"id\":\"9333\",\"type\":\"WheelZoomTool\"},{\"attributes\":{},\"id\":\"9675\",\"type\":\"Selection\"},{\"attributes\":{\"plot\":null,\"text\":\"17:40:41.8735, -53:40:21.6137, 53\"},\"id\":\"9311\",\"type\":\"Title\"},{\"attributes\":{},\"id\":\"9674\",\"type\":\"UnionRenderers\"},{\"attributes\":{\"bottom_units\":\"screen\",\"fill_alpha\":{\"value\":0.5},\"fill_color\":{\"value\":\"lightgrey\"},\"left_units\":\"screen\",\"level\":\"overlay\",\"line_alpha\":{\"value\":1.0},\"line_color\":{\"value\":\"black\"},\"line_dash\":[4,4],\"line_width\":{\"value\":2},\"plot\":null,\"render_mode\":\"css\",\"right_units\":\"screen\",\"top_units\":\"screen\"},\"id\":\"9340\",\"type\":\"BoxAnnotation\"},{\"attributes\":{\"callback\":null,\"data\":{\"x\":{\"__ndarray__\":\"////Pxn6uUD///8/Wfu5QP///z+Z/LlA////P9n9uUD///8/Gf+5QP///z9ZALpA////P5kBukD///8/2QK6QP///z8ZBLpA////P1kFukD///8/mQa6QP///z/ZB7pA////PxkJukD///8/WQq6QP///z+ZC7pA////P9kMukD///8/GQ66QP///z9ZD7pA////P5kQukD///8/2RG6QP///z8ZE7pA////P1kUukD///8/mRW6QP///z/ZFrpA////PxkYukD///8/WRm6QP///z+ZGrpA////P9kbukD///8/GR26QP///z9ZHrpA////P5kfukD///8/2SC6QP///z8ZIrpA////P1kjukD///8/mSS6QP///z/ZJbpA////PxknukD///8/WSi6QP///z+ZKbpA////P9kqukD///8/GSy6QP///z9ZLbpA////P5kuukD///8/2S+6QP///z8ZMbpA////P1kyukD///8/mTO6QP///z/ZNLpA////Pxk2ukD///8/WTe6QP///z+ZOLpA////P9k5ukD///8/GTu6QP///z9ZPLpA////P5k9ukD///8/2T66QP///z8ZQLpA////P1lBukD///8/mUK6QP///z/ZQ7pA////PxlFukD///8/WUa6QP///z+ZR7pA////P9lIukD///8/GUq6QP///z9ZS7pA////P5lMukD///8/2U26QP///z8ZT7pA////P1lQukD///8/mVG6QP///z/ZUrpA////PxlUukD///8/WVW6QP///z+ZVrpA////P9lXukD///8/GVm6QP///z9ZWrpA////P5lbukD///8/2Vy6QP///z8ZXrpA////P1lfukD///8/mWC6QP///z/ZYbpA////PxljukD///8/WWS6QP///z+ZZbpA////P9lmukD///8/GWi6QP///z9ZabpA////P5lqukD///8/2Wu6QP///z8ZbbpA////P1luukD///8/mW+6QP///z/ZcLpA////PxlyukD///8/WXO6QP///z+ZdLpA////P9l1ukD///8/GXe6QP///z9ZeLpA////P5l5ukD///8/2Xq6QP///z8ZfLpA////P1l9ukD///8/mX66QP///z/Zf7pA////PxmBukD///8/WYK6QP///z+Zg7pA////P9mEukD///8/GYa6QP///z9Zh7pA////P5mIukD///8/2Ym6QP///z8Zi7pA////P1mMukD///8/mY26QP///z/ZjrpA////PxmQukD///8/WZG6QP///z+ZkrpA////P9mTukD///8/GZW6QP///z9ZlrpA////P5mXukD///8/2Zi6QP///z8ZmrpA////P1mbukD///8/mZy6QP///z/ZnbpA////PxmfukD///8/WaC6QP///z+ZobpA////P9miukA=\",\"dtype\":\"float64\",\"shape\":[136]},\"y\":[29.038326263427734,21.744762420654297,36.784332275390625,-30.984079360961914,26.324174880981445,-27.53724479675293,-41.69004440307617,-38.740787506103516,-2.513448715209961,-7.449071884155273,66.81440734863281,25.1507625579834,55.957950592041016,103.0806884765625,167.5106964111328,176.63685607910156,188.27291870117188,236.0486297607422,195.072021484375,229.31710815429688,228.56378173828125,242.02957153320312,277.9136962890625,228.29734802246094,289.2675476074219,263.64666748046875,246.87518310546875,202.96759033203125,251.85491943359375,150.46038818359375,182.13409423828125,169.2896270751953,116.67281341552734,78.75144958496094,50.086917877197266,-3.0508739948272705,15.614805221557617,6.656342029571533,18.38013458251953,40.76262283325195,3.143038034439087,2.8603720664978027,-32.76030349731445,-18.56713104248047,-16.63494110107422,50.9378776550293,10.341510772705078,33.887969970703125,-48.56007385253906,26.022281646728516,4.709012031555176,3.6236507892608643,23.619226455688477,37.11761474609375,7.59610652923584,-49.86887741088867,0.6247604489326477,12.488275527954102,1.3369016647338867,-8.755142211914062,4.186753749847412,-23.681772232055664,-19.359375,-7.14280891418457,77.42874145507812,68.03765106201172,51.64106750488281,-23.481218338012695,-82.11997985839844,-2.011056900024414,-13.467926025390625,0.32960379123687744,58.92901611328125,-5.619880676269531,-37.01069259643555,36.89024353027344,6.417530059814453,0.38402867317199707,-0.9789367914199829,0.5800986886024475,-30.044822692871094,3.219543695449829,15.78872299194336,10.096796989440918,-8.515412330627441,-67.53301239013672,-22.68208122253418,-25.026334762573242,-55.501564025878906,21.025772094726562,-18.231922149658203,-65.42759704589844,16.768447875976562,59.331687927246094,37.62576675415039,-19.760446548461914,1.3588368892669678,38.67404556274414,29.904787063598633,-2.834561347961426,-14.997245788574219,-72.17872619628906,40.975128173828125,-30.849044799804688,-42.94042205810547,-37.55023193359375,-15.772829055786133,34.44793701171875,76.94544219970703,10.407059669494629,5.572539329528809,-19.19447135925293,-7.440116882324219,37.45059585571289,-28.250852584838867,11.79794692993164,-16.176074981689453,-10.332712173461914,46.96805191040039,23.551170349121094,-31.629135131835938,20.417980194091797,9.04004955291748,42.73963928222656,-9.923929214477539,-3.134977102279663,-20.95197868347168,-17.89605140686035,25.650846481323242,-4.77124547958374,4.619288444519043,2.0991814136505127,9.813575744628906,-6.295634746551514,-52.717220306396484,17.3599796295166]},\"selected\":{\"id\":\"9675\",\"type\":\"Selection\"},\"selection_policy\":{\"id\":\"9674\",\"type\":\"UnionRenderers\"}},\"id\":\"9347\",\"type\":\"ColumnDataSource\"},{\"attributes\":{\"line_color\":\"#1f77b4\",\"x\":{\"field\":\"x\"},\"y\":{\"field\":\"y\"}},\"id\":\"9348\",\"type\":\"Line\"},{\"attributes\":{\"callback\":null,\"tooltips\":[[\"(x,y)\",\"($x{1}, $y)\"]]},\"id\":\"9352\",\"type\":\"HoverTool\"},{\"attributes\":{\"line_alpha\":0.1,\"line_color\":\"#1f77b4\",\"x\":{\"field\":\"x\"},\"y\":{\"field\":\"y\"}},\"id\":\"9356\",\"type\":\"Line\"},{\"attributes\":{\"formatter\":{\"id\":\"9673\",\"type\":\"BasicTickFormatter\"},\"plot\":{\"id\":\"9312\",\"subtype\":\"Figure\",\"type\":\"Plot\"},\"ticker\":{\"id\":\"9328\",\"type\":\"BasicTicker\"}},\"id\":\"9327\",\"type\":\"LinearAxis\"},{\"attributes\":{\"active_drag\":{\"id\":\"9334\",\"type\":\"BoxZoomTool\"},\"active_inspect\":\"auto\",\"active_multi\":null,\"active_scroll\":{\"id\":\"9333\",\"type\":\"WheelZoomTool\"},\"active_tap\":\"auto\",\"tools\":[{\"id\":\"9332\",\"type\":\"PanTool\"},{\"id\":\"9333\",\"type\":\"WheelZoomTool\"},{\"id\":\"9334\",\"type\":\"BoxZoomTool\"},{\"id\":\"9335\",\"type\":\"SaveTool\"},{\"id\":\"9336\",\"type\":\"ResetTool\"},{\"id\":\"9337\",\"type\":\"HelpTool\"},{\"id\":\"9352\",\"type\":\"HoverTool\"}]},\"id\":\"9338\",\"type\":\"Toolbar\"},{\"attributes\":{\"data_source\":{\"id\":\"9347\",\"type\":\"ColumnDataSource\"},\"glyph\":{\"id\":\"9348\",\"type\":\"Line\"},\"hover_glyph\":null,\"muted_glyph\":null,\"nonselection_glyph\":{\"id\":\"9349\",\"type\":\"Line\"},\"selection_glyph\":null,\"view\":{\"id\":\"9351\",\"type\":\"CDSView\"}},\"id\":\"9350\",\"type\":\"GlyphRenderer\"},{\"attributes\":{\"callback\":null},\"id\":\"9316\",\"type\":\"DataRange1d\"},{\"attributes\":{\"line_alpha\":0.1,\"line_color\":\"#1f77b4\",\"x\":{\"field\":\"x\"},\"y\":{\"field\":\"y\"}},\"id\":\"9349\",\"type\":\"Line\"}],\"root_ids\":[\"9312\"]},\"title\":\"Bokeh Application\",\"version\":\"1.0.4\"}};\n",
       "  var render_items = [{\"docid\":\"e27fc26d-8260-43b7-b4df-20738af4d3d5\",\"roots\":{\"9312\":\"403dbedb-203e-4c0c-a9dc-af38b63c507f\"}}];\n",
       "  root.Bokeh.embed.embed_items_notebook(docs_json, render_items);\n",
       "\n",
       "  }\n",
       "  if (root.Bokeh !== undefined) {\n",
       "    embed_document(root);\n",
       "  } else {\n",
       "    var attempts = 0;\n",
       "    var timer = setInterval(function(root) {\n",
       "      if (root.Bokeh !== undefined) {\n",
       "        embed_document(root);\n",
       "        clearInterval(timer);\n",
       "      }\n",
       "      attempts++;\n",
       "      if (attempts > 100) {\n",
       "        console.log(\"Bokeh: ERROR: Unable to run BokehJS code because BokehJS library is missing\");\n",
       "        clearInterval(timer);\n",
       "      }\n",
       "    }, 10, root)\n",
       "  }\n",
       "})(window);"
      ],
      "application/vnd.bokehjs_exec.v0+json": ""
     },
     "metadata": {
      "application/vnd.bokehjs_exec.v0+json": {
       "id": "9312"
      }
     },
     "output_type": "display_data"
    },
    {
     "data": {
      "text/html": [
       "\n",
       "\n",
       "\n",
       "\n",
       "\n",
       "\n",
       "  <div class=\"bk-root\" id=\"d6f789b7-b17e-4be0-8757-3b8501d77f65\" data-root-id=\"9740\"></div>\n"
      ]
     },
     "metadata": {},
     "output_type": "display_data"
    },
    {
     "data": {
      "application/javascript": [
       "(function(root) {\n",
       "  function embed_document(root) {\n",
       "    \n",
       "  var docs_json = {\"9d735d73-e720-450a-babf-a781dc2b7ec0\":{\"roots\":{\"references\":[{\"attributes\":{\"below\":[{\"id\":\"9750\",\"type\":\"LinearAxis\"}],\"left\":[{\"id\":\"9755\",\"type\":\"LinearAxis\"}],\"plot_height\":500,\"plot_width\":900,\"renderers\":[{\"id\":\"9750\",\"type\":\"LinearAxis\"},{\"id\":\"9754\",\"type\":\"Grid\"},{\"id\":\"9755\",\"type\":\"LinearAxis\"},{\"id\":\"9759\",\"type\":\"Grid\"},{\"id\":\"9768\",\"type\":\"BoxAnnotation\"},{\"id\":\"9778\",\"type\":\"GlyphRenderer\"},{\"id\":\"9785\",\"type\":\"GlyphRenderer\"}],\"title\":{\"id\":\"9739\",\"type\":\"Title\"},\"toolbar\":{\"id\":\"9766\",\"type\":\"Toolbar\"},\"x_range\":{\"id\":\"9742\",\"type\":\"DataRange1d\"},\"x_scale\":{\"id\":\"9746\",\"type\":\"LinearScale\"},\"y_range\":{\"id\":\"9744\",\"type\":\"DataRange1d\"},\"y_scale\":{\"id\":\"9748\",\"type\":\"LinearScale\"}},\"id\":\"9740\",\"subtype\":\"Figure\",\"type\":\"Plot\"},{\"attributes\":{\"plot\":null,\"text\":\"17:40:41.6068, -53:40:19.6137, 125\"},\"id\":\"9739\",\"type\":\"Title\"},{\"attributes\":{\"line_alpha\":0.1,\"line_color\":\"#1f77b4\",\"x\":{\"field\":\"x\"},\"y\":{\"field\":\"y\"}},\"id\":\"9777\",\"type\":\"Line\"},{\"attributes\":{\"line_color\":\"#1f77b4\",\"x\":{\"field\":\"x\"},\"y\":{\"field\":\"y\"}},\"id\":\"9776\",\"type\":\"Line\"},{\"attributes\":{\"overlay\":{\"id\":\"9768\",\"type\":\"BoxAnnotation\"}},\"id\":\"9762\",\"type\":\"BoxZoomTool\"},{\"attributes\":{\"plot\":{\"id\":\"9740\",\"subtype\":\"Figure\",\"type\":\"Plot\"},\"ticker\":{\"id\":\"9751\",\"type\":\"BasicTicker\"}},\"id\":\"9754\",\"type\":\"Grid\"},{\"attributes\":{\"bottom_units\":\"screen\",\"fill_alpha\":{\"value\":0.5},\"fill_color\":{\"value\":\"lightgrey\"},\"left_units\":\"screen\",\"level\":\"overlay\",\"line_alpha\":{\"value\":1.0},\"line_color\":{\"value\":\"black\"},\"line_dash\":[4,4],\"line_width\":{\"value\":2},\"plot\":null,\"render_mode\":\"css\",\"right_units\":\"screen\",\"top_units\":\"screen\"},\"id\":\"9768\",\"type\":\"BoxAnnotation\"},{\"attributes\":{},\"id\":\"10114\",\"type\":\"UnionRenderers\"},{\"attributes\":{\"source\":{\"id\":\"9775\",\"type\":\"ColumnDataSource\"}},\"id\":\"9779\",\"type\":\"CDSView\"},{\"attributes\":{\"source\":{\"id\":\"9782\",\"type\":\"ColumnDataSource\"}},\"id\":\"9786\",\"type\":\"CDSView\"},{\"attributes\":{\"data_source\":{\"id\":\"9775\",\"type\":\"ColumnDataSource\"},\"glyph\":{\"id\":\"9776\",\"type\":\"Line\"},\"hover_glyph\":null,\"muted_glyph\":null,\"nonselection_glyph\":{\"id\":\"9777\",\"type\":\"Line\"},\"selection_glyph\":null,\"view\":{\"id\":\"9779\",\"type\":\"CDSView\"}},\"id\":\"9778\",\"type\":\"GlyphRenderer\"},{\"attributes\":{},\"id\":\"9763\",\"type\":\"SaveTool\"},{\"attributes\":{\"data_source\":{\"id\":\"9782\",\"type\":\"ColumnDataSource\"},\"glyph\":{\"id\":\"9783\",\"type\":\"Line\"},\"hover_glyph\":null,\"muted_glyph\":null,\"nonselection_glyph\":{\"id\":\"9784\",\"type\":\"Line\"},\"selection_glyph\":null,\"view\":{\"id\":\"9786\",\"type\":\"CDSView\"}},\"id\":\"9785\",\"type\":\"GlyphRenderer\"},{\"attributes\":{\"formatter\":{\"id\":\"10109\",\"type\":\"BasicTickFormatter\"},\"plot\":{\"id\":\"9740\",\"subtype\":\"Figure\",\"type\":\"Plot\"},\"ticker\":{\"id\":\"9751\",\"type\":\"BasicTicker\"}},\"id\":\"9750\",\"type\":\"LinearAxis\"},{\"attributes\":{\"line_color\":\"red\",\"x\":{\"field\":\"x\"},\"y\":{\"field\":\"y\"}},\"id\":\"9783\",\"type\":\"Line\"},{\"attributes\":{\"dimension\":1,\"plot\":{\"id\":\"9740\",\"subtype\":\"Figure\",\"type\":\"Plot\"},\"ticker\":{\"id\":\"9756\",\"type\":\"BasicTicker\"}},\"id\":\"9759\",\"type\":\"Grid\"},{\"attributes\":{\"formatter\":{\"id\":\"10111\",\"type\":\"BasicTickFormatter\"},\"plot\":{\"id\":\"9740\",\"subtype\":\"Figure\",\"type\":\"Plot\"},\"ticker\":{\"id\":\"9756\",\"type\":\"BasicTicker\"}},\"id\":\"9755\",\"type\":\"LinearAxis\"},{\"attributes\":{},\"id\":\"9751\",\"type\":\"BasicTicker\"},{\"attributes\":{\"active_drag\":{\"id\":\"9762\",\"type\":\"BoxZoomTool\"},\"active_inspect\":\"auto\",\"active_multi\":null,\"active_scroll\":{\"id\":\"9761\",\"type\":\"WheelZoomTool\"},\"active_tap\":\"auto\",\"tools\":[{\"id\":\"9760\",\"type\":\"PanTool\"},{\"id\":\"9761\",\"type\":\"WheelZoomTool\"},{\"id\":\"9762\",\"type\":\"BoxZoomTool\"},{\"id\":\"9763\",\"type\":\"SaveTool\"},{\"id\":\"9764\",\"type\":\"ResetTool\"},{\"id\":\"9765\",\"type\":\"HelpTool\"},{\"id\":\"9780\",\"type\":\"HoverTool\"}]},\"id\":\"9766\",\"type\":\"Toolbar\"},{\"attributes\":{\"line_alpha\":0.1,\"line_color\":\"#1f77b4\",\"x\":{\"field\":\"x\"},\"y\":{\"field\":\"y\"}},\"id\":\"9784\",\"type\":\"Line\"},{\"attributes\":{\"callback\":null,\"tooltips\":[[\"(x,y)\",\"($x{1}, $y)\"]]},\"id\":\"9780\",\"type\":\"HoverTool\"},{\"attributes\":{},\"id\":\"10112\",\"type\":\"UnionRenderers\"},{\"attributes\":{},\"id\":\"9765\",\"type\":\"HelpTool\"},{\"attributes\":{\"callback\":null,\"data\":{\"x\":{\"__ndarray__\":\"////Pxn6uUD///8/Wfu5QP///z+Z/LlA////P9n9uUD///8/Gf+5QP///z9ZALpA////P5kBukD///8/2QK6QP///z8ZBLpA////P1kFukD///8/mQa6QP///z/ZB7pA////PxkJukD///8/WQq6QP///z+ZC7pA////P9kMukD///8/GQ66QP///z9ZD7pA////P5kQukD///8/2RG6QP///z8ZE7pA////P1kUukD///8/mRW6QP///z/ZFrpA////PxkYukD///8/WRm6QP///z+ZGrpA////P9kbukD///8/GR26QP///z9ZHrpA////P5kfukD///8/2SC6QP///z8ZIrpA////P1kjukD///8/mSS6QP///z/ZJbpA////PxknukD///8/WSi6QP///z+ZKbpA////P9kqukD///8/GSy6QP///z9ZLbpA////P5kuukD///8/2S+6QP///z8ZMbpA////P1kyukD///8/mTO6QP///z/ZNLpA////Pxk2ukD///8/WTe6QP///z+ZOLpA////P9k5ukD///8/GTu6QP///z9ZPLpA////P5k9ukD///8/2T66QP///z8ZQLpA////P1lBukD///8/mUK6QP///z/ZQ7pA////PxlFukD///8/WUa6QP///z+ZR7pA////P9lIukD///8/GUq6QP///z9ZS7pA////P5lMukD///8/2U26QP///z8ZT7pA////P1lQukD///8/mVG6QP///z/ZUrpA////PxlUukD///8/WVW6QP///z+ZVrpA////P9lXukD///8/GVm6QP///z9ZWrpA////P5lbukD///8/2Vy6QP///z8ZXrpA////P1lfukD///8/mWC6QP///z/ZYbpA////PxljukD///8/WWS6QP///z+ZZbpA////P9lmukD///8/GWi6QP///z9ZabpA////P5lqukD///8/2Wu6QP///z8ZbbpA////P1luukD///8/mW+6QP///z/ZcLpA////PxlyukD///8/WXO6QP///z+ZdLpA////P9l1ukD///8/GXe6QP///z9ZeLpA////P5l5ukD///8/2Xq6QP///z8ZfLpA////P1l9ukD///8/mX66QP///z/Zf7pA////PxmBukD///8/WYK6QP///z+Zg7pA////P9mEukD///8/GYa6QP///z9Zh7pA////P5mIukD///8/2Ym6QP///z8Zi7pA////P1mMukD///8/mY26QP///z/ZjrpA////PxmQukD///8/WZG6QP///z+ZkrpA////P9mTukD///8/GZW6QP///z9ZlrpA////P5mXukD///8/2Zi6QP///z8ZmrpA////P1mbukD///8/mZy6QP///z/ZnbpA////PxmfukD///8/WaC6QP///z+ZobpA////P9miukA=\",\"dtype\":\"float64\",\"shape\":[136]},\"y\":[-28.091421127319336,-28.995540618896484,-28.721410751342773,-27.244619369506836,-47.02512741088867,53.02300262451172,30.42955780029297,74.05146789550781,109.50055694580078,171.5150909423828,146.0643310546875,184.68096923828125,220.22879028320312,297.4870910644531,318.8845520019531,372.5545349121094,351.4452209472656,532.17822265625,569.8717041015625,594.914794921875,623.2929077148438,613.1763916015625,555.9559326171875,511.5162353515625,518.6541748046875,356.82928466796875,353.5146789550781,171.8729248046875,271.297119140625,241.91421508789062,195.75546264648438,179.0649871826172,136.99612426757812,222.92678833007812,39.82965850830078,103.08069610595703,84.98263549804688,-14.438643455505371,163.37496948242188,46.435672760009766,74.55597686767578,17.10452651977539,-101.2980728149414,-62.37105178833008,1.1492537260055542,41.919097900390625,18.975584030151367,12.672235488891602,92.25172424316406,-57.60186767578125,35.28235626220703,-18.080949783325195,-1.595598578453064,20.07190704345703,22.188167572021484,1.245859146118164,-22.541149139404297,-29.200204849243164,5.882465839385986,29.456859588623047,62.302764892578125,-66.07737731933594,90.7309799194336,-15.667672157287598,43.1661262512207,37.46577072143555,8.021785736083984,-63.66777801513672,70.20567321777344,38.05619812011719,-3.295888900756836,-66.93505859375,-111.49363708496094,0.16314148902893066,5.381957054138184,-53.715606689453125,-17.191078186035156,-10.972674369812012,-54.56235122680664,-9.485987663269043,54.16999053955078,3.8816590309143066,59.853118896484375,19.809953689575195,21.537811279296875,108.25690460205078,48.83295440673828,-17.474756240844727,7.730252742767334,79.17454528808594,-66.40311431884766,8.758028030395508,-24.923582077026367,-44.02069091796875,-10.570903778076172,19.647953033447266,-43.64146423339844,-95.51728057861328,-45.2348747253418,72.02656555175781,60.500919342041016,-82.58769226074219,-37.744632720947266,-44.74578857421875,-5.088717937469482,21.33986473083496,23.891029357910156,-91.75992584228516,40.982696533203125,-30.968017578125,0.4938940107822418,65.2995834350586,43.49445343017578,21.452531814575195,30.8095645904541,-48.835819244384766,78.7400131225586,-63.18364334106445,9.092923164367676,-82.34728240966797,-22.716175079345703,-59.00691604614258,4.25656795501709,51.917049407958984,-36.05769729614258,28.347461700439453,-8.524208068847656,-78.6126480102539,-28.939834594726562,14.591891288757324,56.71934509277344,69.0636215209961,8.337611198425293,-41.95966339111328,109.68986511230469,-17.201597213745117]},\"selected\":{\"id\":\"10113\",\"type\":\"Selection\"},\"selection_policy\":{\"id\":\"10112\",\"type\":\"UnionRenderers\"}},\"id\":\"9775\",\"type\":\"ColumnDataSource\"},{\"attributes\":{\"callback\":null},\"id\":\"9744\",\"type\":\"DataRange1d\"},{\"attributes\":{},\"id\":\"10115\",\"type\":\"Selection\"},{\"attributes\":{},\"id\":\"9760\",\"type\":\"PanTool\"},{\"attributes\":{},\"id\":\"9748\",\"type\":\"LinearScale\"},{\"attributes\":{},\"id\":\"10109\",\"type\":\"BasicTickFormatter\"},{\"attributes\":{},\"id\":\"9761\",\"type\":\"WheelZoomTool\"},{\"attributes\":{\"callback\":null,\"data\":{\"x\":{\"__ndarray__\":\"////P1kKukD///8/mQu6QP///z/ZDLpA////PxkOukD///8/WQ+6QP///z+ZELpA////P9kRukD///8/GRO6QP///z9ZFLpA////P5kVukD///8/2Ra6QP///z8ZGLpA////P1kZukD///8/mRq6QP///z8ZHbpA\",\"dtype\":\"float64\",\"shape\":[15]},\"y\":[297.4870910644531,318.8845520019531,372.5545349121094,351.4452209472656,532.17822265625,569.8717041015625,594.914794921875,623.2929077148438,613.1763916015625,555.9559326171875,511.5162353515625,518.6541748046875,356.82928466796875,353.5146789550781,271.297119140625]},\"selected\":{\"id\":\"10115\",\"type\":\"Selection\"},\"selection_policy\":{\"id\":\"10114\",\"type\":\"UnionRenderers\"}},\"id\":\"9782\",\"type\":\"ColumnDataSource\"},{\"attributes\":{},\"id\":\"10113\",\"type\":\"Selection\"},{\"attributes\":{},\"id\":\"10111\",\"type\":\"BasicTickFormatter\"},{\"attributes\":{},\"id\":\"9764\",\"type\":\"ResetTool\"},{\"attributes\":{},\"id\":\"9746\",\"type\":\"LinearScale\"},{\"attributes\":{},\"id\":\"9756\",\"type\":\"BasicTicker\"},{\"attributes\":{\"callback\":null},\"id\":\"9742\",\"type\":\"DataRange1d\"}],\"root_ids\":[\"9740\"]},\"title\":\"Bokeh Application\",\"version\":\"1.0.4\"}};\n",
       "  var render_items = [{\"docid\":\"9d735d73-e720-450a-babf-a781dc2b7ec0\",\"roots\":{\"9740\":\"d6f789b7-b17e-4be0-8757-3b8501d77f65\"}}];\n",
       "  root.Bokeh.embed.embed_items_notebook(docs_json, render_items);\n",
       "\n",
       "  }\n",
       "  if (root.Bokeh !== undefined) {\n",
       "    embed_document(root);\n",
       "  } else {\n",
       "    var attempts = 0;\n",
       "    var timer = setInterval(function(root) {\n",
       "      if (root.Bokeh !== undefined) {\n",
       "        embed_document(root);\n",
       "        clearInterval(timer);\n",
       "      }\n",
       "      attempts++;\n",
       "      if (attempts > 100) {\n",
       "        console.log(\"Bokeh: ERROR: Unable to run BokehJS code because BokehJS library is missing\");\n",
       "        clearInterval(timer);\n",
       "      }\n",
       "    }, 10, root)\n",
       "  }\n",
       "})(window);"
      ],
      "application/vnd.bokehjs_exec.v0+json": ""
     },
     "metadata": {
      "application/vnd.bokehjs_exec.v0+json": {
       "id": "9740"
      }
     },
     "output_type": "display_data"
    },
    {
     "data": {
      "text/html": [
       "\n",
       "\n",
       "\n",
       "\n",
       "\n",
       "\n",
       "  <div class=\"bk-root\" id=\"a0a88209-8ba8-4756-964e-0dd193d6fd3f\" data-root-id=\"10178\"></div>\n"
      ]
     },
     "metadata": {},
     "output_type": "display_data"
    },
    {
     "data": {
      "application/javascript": [
       "(function(root) {\n",
       "  function embed_document(root) {\n",
       "    \n",
       "  var docs_json = {\"cf348cfc-ee5b-468b-af80-054c52213925\":{\"roots\":{\"references\":[{\"attributes\":{\"below\":[{\"id\":\"10188\",\"type\":\"LinearAxis\"}],\"left\":[{\"id\":\"10193\",\"type\":\"LinearAxis\"}],\"plot_height\":500,\"plot_width\":900,\"renderers\":[{\"id\":\"10188\",\"type\":\"LinearAxis\"},{\"id\":\"10192\",\"type\":\"Grid\"},{\"id\":\"10193\",\"type\":\"LinearAxis\"},{\"id\":\"10197\",\"type\":\"Grid\"},{\"id\":\"10206\",\"type\":\"BoxAnnotation\"},{\"id\":\"10216\",\"type\":\"GlyphRenderer\"},{\"id\":\"10223\",\"type\":\"GlyphRenderer\"}],\"title\":{\"id\":\"10177\",\"type\":\"Title\"},\"toolbar\":{\"id\":\"10204\",\"type\":\"Toolbar\"},\"x_range\":{\"id\":\"10180\",\"type\":\"DataRange1d\"},\"x_scale\":{\"id\":\"10184\",\"type\":\"LinearScale\"},\"y_range\":{\"id\":\"10182\",\"type\":\"DataRange1d\"},\"y_scale\":{\"id\":\"10186\",\"type\":\"LinearScale\"}},\"id\":\"10178\",\"subtype\":\"Figure\",\"type\":\"Plot\"},{\"attributes\":{\"callback\":null},\"id\":\"10180\",\"type\":\"DataRange1d\"},{\"attributes\":{},\"id\":\"10199\",\"type\":\"WheelZoomTool\"},{\"attributes\":{\"formatter\":{\"id\":\"10557\",\"type\":\"BasicTickFormatter\"},\"plot\":{\"id\":\"10178\",\"subtype\":\"Figure\",\"type\":\"Plot\"},\"ticker\":{\"id\":\"10189\",\"type\":\"BasicTicker\"}},\"id\":\"10188\",\"type\":\"LinearAxis\"},{\"attributes\":{},\"id\":\"10202\",\"type\":\"ResetTool\"},{\"attributes\":{},\"id\":\"10184\",\"type\":\"LinearScale\"},{\"attributes\":{\"source\":{\"id\":\"10213\",\"type\":\"ColumnDataSource\"}},\"id\":\"10217\",\"type\":\"CDSView\"},{\"attributes\":{},\"id\":\"10186\",\"type\":\"LinearScale\"},{\"attributes\":{\"active_drag\":{\"id\":\"10200\",\"type\":\"BoxZoomTool\"},\"active_inspect\":\"auto\",\"active_multi\":null,\"active_scroll\":{\"id\":\"10199\",\"type\":\"WheelZoomTool\"},\"active_tap\":\"auto\",\"tools\":[{\"id\":\"10198\",\"type\":\"PanTool\"},{\"id\":\"10199\",\"type\":\"WheelZoomTool\"},{\"id\":\"10200\",\"type\":\"BoxZoomTool\"},{\"id\":\"10201\",\"type\":\"SaveTool\"},{\"id\":\"10202\",\"type\":\"ResetTool\"},{\"id\":\"10203\",\"type\":\"HelpTool\"},{\"id\":\"10218\",\"type\":\"HoverTool\"}]},\"id\":\"10204\",\"type\":\"Toolbar\"},{\"attributes\":{\"line_color\":\"red\",\"x\":{\"field\":\"x\"},\"y\":{\"field\":\"y\"}},\"id\":\"10221\",\"type\":\"Line\"},{\"attributes\":{\"dimension\":1,\"plot\":{\"id\":\"10178\",\"subtype\":\"Figure\",\"type\":\"Plot\"},\"ticker\":{\"id\":\"10194\",\"type\":\"BasicTicker\"}},\"id\":\"10197\",\"type\":\"Grid\"},{\"attributes\":{\"data_source\":{\"id\":\"10213\",\"type\":\"ColumnDataSource\"},\"glyph\":{\"id\":\"10214\",\"type\":\"Line\"},\"hover_glyph\":null,\"muted_glyph\":null,\"nonselection_glyph\":{\"id\":\"10215\",\"type\":\"Line\"},\"selection_glyph\":null,\"view\":{\"id\":\"10217\",\"type\":\"CDSView\"}},\"id\":\"10216\",\"type\":\"GlyphRenderer\"},{\"attributes\":{},\"id\":\"10562\",\"type\":\"UnionRenderers\"},{\"attributes\":{},\"id\":\"10201\",\"type\":\"SaveTool\"},{\"attributes\":{},\"id\":\"10189\",\"type\":\"BasicTicker\"},{\"attributes\":{},\"id\":\"10194\",\"type\":\"BasicTicker\"},{\"attributes\":{},\"id\":\"10563\",\"type\":\"Selection\"},{\"attributes\":{},\"id\":\"10203\",\"type\":\"HelpTool\"},{\"attributes\":{\"callback\":null,\"tooltips\":[[\"(x,y)\",\"($x{1}, $y)\"]]},\"id\":\"10218\",\"type\":\"HoverTool\"},{\"attributes\":{\"line_color\":\"#1f77b4\",\"x\":{\"field\":\"x\"},\"y\":{\"field\":\"y\"}},\"id\":\"10214\",\"type\":\"Line\"},{\"attributes\":{\"callback\":null,\"data\":{\"x\":{\"__ndarray__\":\"////Pxn6uUD///8/Wfu5QP///z+Z/LlA////P9n9uUD///8/Gf+5QP///z9ZALpA////P5kBukD///8/2QK6QP///z8ZBLpA////P1kFukD///8/mQa6QP///z/ZB7pA////PxkJukD///8/WQq6QP///z+ZC7pA////P9kMukD///8/GQ66QP///z9ZD7pA////P5kQukD///8/2RG6QP///z8ZE7pA////P1kUukD///8/mRW6QP///z/ZFrpA////PxkYukD///8/WRm6QP///z+ZGrpA////P9kbukD///8/GR26QP///z9ZHrpA////P5kfukD///8/2SC6QP///z8ZIrpA////P1kjukD///8/mSS6QP///z/ZJbpA////PxknukD///8/WSi6QP///z+ZKbpA////P9kqukD///8/GSy6QP///z9ZLbpA////P5kuukD///8/2S+6QP///z8ZMbpA////P1kyukD///8/mTO6QP///z/ZNLpA////Pxk2ukD///8/WTe6QP///z+ZOLpA////P9k5ukD///8/GTu6QP///z9ZPLpA////P5k9ukD///8/2T66QP///z8ZQLpA////P1lBukD///8/mUK6QP///z/ZQ7pA////PxlFukD///8/WUa6QP///z+ZR7pA////P9lIukD///8/GUq6QP///z9ZS7pA////P5lMukD///8/2U26QP///z8ZT7pA////P1lQukD///8/mVG6QP///z/ZUrpA////PxlUukD///8/WVW6QP///z+ZVrpA////P9lXukD///8/GVm6QP///z9ZWrpA////P5lbukD///8/2Vy6QP///z8ZXrpA////P1lfukD///8/mWC6QP///z/ZYbpA////PxljukD///8/WWS6QP///z+ZZbpA////P9lmukD///8/GWi6QP///z9ZabpA////P5lqukD///8/2Wu6QP///z8ZbbpA////P1luukD///8/mW+6QP///z/ZcLpA////PxlyukD///8/WXO6QP///z+ZdLpA////P9l1ukD///8/GXe6QP///z9ZeLpA////P5l5ukD///8/2Xq6QP///z8ZfLpA////P1l9ukD///8/mX66QP///z/Zf7pA////PxmBukD///8/WYK6QP///z+Zg7pA////P9mEukD///8/GYa6QP///z9Zh7pA////P5mIukD///8/2Ym6QP///z8Zi7pA////P1mMukD///8/mY26QP///z/ZjrpA////PxmQukD///8/WZG6QP///z+ZkrpA////P9mTukD///8/GZW6QP///z9ZlrpA////P5mXukD///8/2Zi6QP///z8ZmrpA////P1mbukD///8/mZy6QP///z/ZnbpA////PxmfukD///8/WaC6QP///z+ZobpA////P9miukA=\",\"dtype\":\"float64\",\"shape\":[136]},\"y\":[-29.038267135620117,-2.777165412902832,29.167287826538086,-6.18440055847168,-29.359085083007812,40.12272644042969,-9.196972846984863,-27.56037139892578,82.93780517578125,19.57196617126465,74.52766418457031,121.74044799804688,225.25132751464844,190.922607421875,254.20887756347656,296.9953918457031,247.08245849609375,305.1199645996094,385.3163757324219,403.3436279296875,299.6123352050781,508.33489990234375,328.4610290527344,363.92236328125,329.84783935546875,205.42782592773438,199.345458984375,128.4659881591797,75.51449584960938,175.59791564941406,103.12982177734375,173.59751892089844,79.01469421386719,82.8217544555664,22.295562744140625,70.48837280273438,72.4255599975586,65.29170989990234,168.30899047851562,51.140960693359375,61.843299865722656,80.39256286621094,-35.35773468017578,-68.84362030029297,26.843585968017578,-5.453823566436768,68.33690643310547,-38.95122528076172,-28.663909912109375,-7.3919758796691895,-4.484053134918213,-3.8180718421936035,-18.265125274658203,63.86619186401367,11.33466911315918,0.9274154305458069,-32.613868713378906,-19.7843017578125,22.85849952697754,-19.90958595275879,38.568668365478516,-5.187695503234863,59.14310073852539,24.828149795532227,26.22242546081543,54.11743927001953,-15.238280296325684,-10.15429973602295,34.226802825927734,85.59203338623047,-82.79541015625,-17.25634765625,-125.89379119873047,50.3215446472168,-51.866188049316406,-19.25191879272461,-20.807327270507812,-13.452330589294434,-21.522871017456055,75.8472671508789,108.49108123779297,73.62684631347656,42.77653121948242,-31.842580795288086,-35.432151794433594,-4.018548488616943,-0.5832135677337646,20.701976776123047,15.38780403137207,23.659814834594727,-47.261775970458984,-32.24073791503906,-68.91036987304688,-23.636402130126953,-0.27624762058258057,-57.20686340332031,6.806616306304932,22.903348922729492,-61.827308654785156,32.05849075317383,14.915726661682129,25.787857055664062,-46.48869323730469,-14.227885246276855,-9.533726692199707,48.97757339477539,-65.7418441772461,-15.027413368225098,31.115482330322266,-72.78971099853516,27.641759872436523,-6.469488620758057,66.04841613769531,-6.229333877563477,-53.0234375,-25.99600601196289,-31.94098663330078,46.505882263183594,-12.838507652282715,-88.96780395507812,39.03546142578125,54.692298889160156,-39.21409225463867,-3.050416946411133,-24.468524932861328,25.191247940063477,-22.890918731689453,34.49835205078125,-11.18781566619873,2.1282155513763428,73.82291412353516,27.020782470703125,67.80386352539062,47.22976303100586,-5.279634475708008,-81.86251831054688]},\"selected\":{\"id\":\"10561\",\"type\":\"Selection\"},\"selection_policy\":{\"id\":\"10560\",\"type\":\"UnionRenderers\"}},\"id\":\"10213\",\"type\":\"ColumnDataSource\"},{\"attributes\":{},\"id\":\"10560\",\"type\":\"UnionRenderers\"},{\"attributes\":{\"line_alpha\":0.1,\"line_color\":\"#1f77b4\",\"x\":{\"field\":\"x\"},\"y\":{\"field\":\"y\"}},\"id\":\"10222\",\"type\":\"Line\"},{\"attributes\":{},\"id\":\"10561\",\"type\":\"Selection\"},{\"attributes\":{},\"id\":\"10559\",\"type\":\"BasicTickFormatter\"},{\"attributes\":{},\"id\":\"10557\",\"type\":\"BasicTickFormatter\"},{\"attributes\":{\"plot\":{\"id\":\"10178\",\"subtype\":\"Figure\",\"type\":\"Plot\"},\"ticker\":{\"id\":\"10189\",\"type\":\"BasicTicker\"}},\"id\":\"10192\",\"type\":\"Grid\"},{\"attributes\":{\"overlay\":{\"id\":\"10206\",\"type\":\"BoxAnnotation\"}},\"id\":\"10200\",\"type\":\"BoxZoomTool\"},{\"attributes\":{\"plot\":null,\"text\":\"17:40:41.6401, -53:40:19.6137, 126\"},\"id\":\"10177\",\"type\":\"Title\"},{\"attributes\":{},\"id\":\"10198\",\"type\":\"PanTool\"},{\"attributes\":{\"source\":{\"id\":\"10220\",\"type\":\"ColumnDataSource\"}},\"id\":\"10224\",\"type\":\"CDSView\"},{\"attributes\":{\"line_alpha\":0.1,\"line_color\":\"#1f77b4\",\"x\":{\"field\":\"x\"},\"y\":{\"field\":\"y\"}},\"id\":\"10215\",\"type\":\"Line\"},{\"attributes\":{\"formatter\":{\"id\":\"10559\",\"type\":\"BasicTickFormatter\"},\"plot\":{\"id\":\"10178\",\"subtype\":\"Figure\",\"type\":\"Plot\"},\"ticker\":{\"id\":\"10194\",\"type\":\"BasicTicker\"}},\"id\":\"10193\",\"type\":\"LinearAxis\"},{\"attributes\":{\"data_source\":{\"id\":\"10220\",\"type\":\"ColumnDataSource\"},\"glyph\":{\"id\":\"10221\",\"type\":\"Line\"},\"hover_glyph\":null,\"muted_glyph\":null,\"nonselection_glyph\":{\"id\":\"10222\",\"type\":\"Line\"},\"selection_glyph\":null,\"view\":{\"id\":\"10224\",\"type\":\"CDSView\"}},\"id\":\"10223\",\"type\":\"GlyphRenderer\"},{\"attributes\":{\"callback\":null},\"id\":\"10182\",\"type\":\"DataRange1d\"},{\"attributes\":{\"callback\":null,\"data\":{\"x\":{\"__ndarray__\":\"////PxkJukD///8/mQu6QP///z/ZDLpA////PxkOukD///8/WQ+6QP///z+ZELpA////P9kRukD///8/GRO6QP///z9ZFLpA////P5kVukD///8/2Ra6QP///z8ZGLpA\",\"dtype\":\"float64\",\"shape\":[12]},\"y\":[225.25132751464844,254.20887756347656,296.9953918457031,247.08245849609375,305.1199645996094,385.3163757324219,403.3436279296875,299.6123352050781,508.33489990234375,328.4610290527344,363.92236328125,329.84783935546875]},\"selected\":{\"id\":\"10563\",\"type\":\"Selection\"},\"selection_policy\":{\"id\":\"10562\",\"type\":\"UnionRenderers\"}},\"id\":\"10220\",\"type\":\"ColumnDataSource\"},{\"attributes\":{\"bottom_units\":\"screen\",\"fill_alpha\":{\"value\":0.5},\"fill_color\":{\"value\":\"lightgrey\"},\"left_units\":\"screen\",\"level\":\"overlay\",\"line_alpha\":{\"value\":1.0},\"line_color\":{\"value\":\"black\"},\"line_dash\":[4,4],\"line_width\":{\"value\":2},\"plot\":null,\"render_mode\":\"css\",\"right_units\":\"screen\",\"top_units\":\"screen\"},\"id\":\"10206\",\"type\":\"BoxAnnotation\"}],\"root_ids\":[\"10178\"]},\"title\":\"Bokeh Application\",\"version\":\"1.0.4\"}};\n",
       "  var render_items = [{\"docid\":\"cf348cfc-ee5b-468b-af80-054c52213925\",\"roots\":{\"10178\":\"a0a88209-8ba8-4756-964e-0dd193d6fd3f\"}}];\n",
       "  root.Bokeh.embed.embed_items_notebook(docs_json, render_items);\n",
       "\n",
       "  }\n",
       "  if (root.Bokeh !== undefined) {\n",
       "    embed_document(root);\n",
       "  } else {\n",
       "    var attempts = 0;\n",
       "    var timer = setInterval(function(root) {\n",
       "      if (root.Bokeh !== undefined) {\n",
       "        embed_document(root);\n",
       "        clearInterval(timer);\n",
       "      }\n",
       "      attempts++;\n",
       "      if (attempts > 100) {\n",
       "        console.log(\"Bokeh: ERROR: Unable to run BokehJS code because BokehJS library is missing\");\n",
       "        clearInterval(timer);\n",
       "      }\n",
       "    }, 10, root)\n",
       "  }\n",
       "})(window);"
      ],
      "application/vnd.bokehjs_exec.v0+json": ""
     },
     "metadata": {
      "application/vnd.bokehjs_exec.v0+json": {
       "id": "10178"
      }
     },
     "output_type": "display_data"
    },
    {
     "data": {
      "text/html": [
       "\n",
       "\n",
       "\n",
       "\n",
       "\n",
       "\n",
       "  <div class=\"bk-root\" id=\"f65b8726-c6fe-4447-b730-30a22243e1ea\" data-root-id=\"10626\"></div>\n"
      ]
     },
     "metadata": {},
     "output_type": "display_data"
    },
    {
     "data": {
      "application/javascript": [
       "(function(root) {\n",
       "  function embed_document(root) {\n",
       "    \n",
       "  var docs_json = {\"0ebc402f-e325-4965-9496-ccc9081f172f\":{\"roots\":{\"references\":[{\"attributes\":{\"below\":[{\"id\":\"10636\",\"type\":\"LinearAxis\"}],\"left\":[{\"id\":\"10641\",\"type\":\"LinearAxis\"}],\"plot_height\":500,\"plot_width\":900,\"renderers\":[{\"id\":\"10636\",\"type\":\"LinearAxis\"},{\"id\":\"10640\",\"type\":\"Grid\"},{\"id\":\"10641\",\"type\":\"LinearAxis\"},{\"id\":\"10645\",\"type\":\"Grid\"},{\"id\":\"10654\",\"type\":\"BoxAnnotation\"},{\"id\":\"10664\",\"type\":\"GlyphRenderer\"},{\"id\":\"10671\",\"type\":\"GlyphRenderer\"}],\"title\":{\"id\":\"10625\",\"type\":\"Title\"},\"toolbar\":{\"id\":\"10652\",\"type\":\"Toolbar\"},\"x_range\":{\"id\":\"10628\",\"type\":\"DataRange1d\"},\"x_scale\":{\"id\":\"10632\",\"type\":\"LinearScale\"},\"y_range\":{\"id\":\"10630\",\"type\":\"DataRange1d\"},\"y_scale\":{\"id\":\"10634\",\"type\":\"LinearScale\"}},\"id\":\"10626\",\"subtype\":\"Figure\",\"type\":\"Plot\"},{\"attributes\":{\"line_alpha\":0.1,\"line_color\":\"#1f77b4\",\"x\":{\"field\":\"x\"},\"y\":{\"field\":\"y\"}},\"id\":\"10670\",\"type\":\"Line\"},{\"attributes\":{},\"id\":\"10649\",\"type\":\"SaveTool\"},{\"attributes\":{\"dimension\":1,\"plot\":{\"id\":\"10626\",\"subtype\":\"Figure\",\"type\":\"Plot\"},\"ticker\":{\"id\":\"10642\",\"type\":\"BasicTicker\"}},\"id\":\"10645\",\"type\":\"Grid\"},{\"attributes\":{\"callback\":null,\"data\":{\"x\":{\"__ndarray__\":\"////Pxn6uUD///8/Wfu5QP///z+Z/LlA////P9n9uUD///8/Gf+5QP///z9ZALpA////P5kBukD///8/2QK6QP///z8ZBLpA////P1kFukD///8/mQa6QP///z/ZB7pA////PxkJukD///8/WQq6QP///z+ZC7pA////P9kMukD///8/GQ66QP///z9ZD7pA////P5kQukD///8/2RG6QP///z8ZE7pA////P1kUukD///8/mRW6QP///z/ZFrpA////PxkYukD///8/WRm6QP///z+ZGrpA////P9kbukD///8/GR26QP///z9ZHrpA////P5kfukD///8/2SC6QP///z8ZIrpA////P1kjukD///8/mSS6QP///z/ZJbpA////PxknukD///8/WSi6QP///z+ZKbpA////P9kqukD///8/GSy6QP///z9ZLbpA////P5kuukD///8/2S+6QP///z8ZMbpA////P1kyukD///8/mTO6QP///z/ZNLpA////Pxk2ukD///8/WTe6QP///z+ZOLpA////P9k5ukD///8/GTu6QP///z9ZPLpA////P5k9ukD///8/2T66QP///z8ZQLpA////P1lBukD///8/mUK6QP///z/ZQ7pA////PxlFukD///8/WUa6QP///z+ZR7pA////P9lIukD///8/GUq6QP///z9ZS7pA////P5lMukD///8/2U26QP///z8ZT7pA////P1lQukD///8/mVG6QP///z/ZUrpA////PxlUukD///8/WVW6QP///z+ZVrpA////P9lXukD///8/GVm6QP///z9ZWrpA////P5lbukD///8/2Vy6QP///z8ZXrpA////P1lfukD///8/mWC6QP///z/ZYbpA////PxljukD///8/WWS6QP///z+ZZbpA////P9lmukD///8/GWi6QP///z9ZabpA////P5lqukD///8/2Wu6QP///z8ZbbpA////P1luukD///8/mW+6QP///z/ZcLpA////PxlyukD///8/WXO6QP///z+ZdLpA////P9l1ukD///8/GXe6QP///z9ZeLpA////P5l5ukD///8/2Xq6QP///z8ZfLpA////P1l9ukD///8/mX66QP///z/Zf7pA////PxmBukD///8/WYK6QP///z+Zg7pA////P9mEukD///8/GYa6QP///z9Zh7pA////P5mIukD///8/2Ym6QP///z8Zi7pA////P1mMukD///8/mY26QP///z/ZjrpA////PxmQukD///8/WZG6QP///z+ZkrpA////P9mTukD///8/GZW6QP///z9ZlrpA////P5mXukD///8/2Zi6QP///z8ZmrpA////P1mbukD///8/mZy6QP///z/ZnbpA////PxmfukD///8/WaC6QP///z+ZobpA////P9miukA=\",\"dtype\":\"float64\",\"shape\":[136]},\"y\":[-11.99050235748291,-46.76546096801758,-69.38693237304688,29.913644790649414,5.513215065002441,17.66861915588379,22.11276626586914,-4.977097511291504,-17.92372703552246,38.79460906982422,95.06707000732422,37.86703872680664,62.734561920166016,134.0248565673828,135.74549865722656,117.99561309814453,93.85819244384766,129.734130859375,213.6627197265625,180.56097412109375,146.25332641601562,196.60504150390625,191.7310791015625,193.0880126953125,124.77591705322266,108.9234619140625,121.23500061035156,86.12556457519531,111.94793701171875,55.53951644897461,16.291913986206055,16.793012619018555,61.622161865234375,77.52643585205078,-7.64017391204834,26.827421188354492,-29.037578582763672,5.098323822021484,40.37233352661133,32.68557357788086,45.440147399902344,-10.825620651245117,26.418058395385742,8.335001945495605,5.170327186584473,-20.682411193847656,5.7509074211120605,11.554756164550781,63.87146759033203,5.140987873077393,-24.361785888671875,-17.543834686279297,54.77477264404297,108.87724304199219,50.807518005371094,-48.49348449707031,-3.444220781326294,-37.3296012878418,13.889677047729492,-8.639898300170898,-4.793084144592285,-32.803279876708984,2.209887981414795,0.19026502966880798,104.29434967041016,113.30167388916016,41.416343688964844,-59.818180084228516,-23.015182495117188,-50.00498580932617,19.920665740966797,-43.26288986206055,-3.007312774658203,19.01601219177246,-30.364059448242188,6.33709192276001,25.09114646911621,-24.63290023803711,1.6400467157363892,-59.05436706542969,-27.169754028320312,13.626648902893066,-65.9429931640625,28.106924057006836,-6.045629978179932,1.4245433807373047,-34.4278678894043,3.461099624633789,7.880998134613037,-36.533409118652344,-0.8966187834739685,-14.434222221374512,-54.230201721191406,-16.477184295654297,-9.637327194213867,6.90704345703125,-2.883622407913208,-18.00468635559082,-32.214935302734375,-10.197966575622559,-1.4642751216888428,61.18022918701172,-23.622608184814453,40.49245071411133,-0.6286537647247314,3.2362520694732666,34.69263458251953,-35.84714889526367,19.454540252685547,43.83794403076172,6.040363311767578,-57.830535888671875,42.758941650390625,20.67280387878418,3.749189615249634,-72.34295654296875,-32.1988525390625,-14.805797576904297,28.221214294433594,46.63096237182617,-77.42298889160156,-3.6547462940216064,14.417861938476562,-6.215415000915527,2.2808706760406494,-64.66651916503906,49.183128356933594,-22.832530975341797,21.204225540161133,28.34417724609375,-2.863602638244629,72.75276184082031,16.165924072265625,9.362215042114258,1.296955943107605,-9.909247398376465]},\"selected\":{\"id\":\"11019\",\"type\":\"Selection\"},\"selection_policy\":{\"id\":\"11018\",\"type\":\"UnionRenderers\"}},\"id\":\"10661\",\"type\":\"ColumnDataSource\"},{\"attributes\":{\"active_drag\":{\"id\":\"10648\",\"type\":\"BoxZoomTool\"},\"active_inspect\":\"auto\",\"active_multi\":null,\"active_scroll\":{\"id\":\"10647\",\"type\":\"WheelZoomTool\"},\"active_tap\":\"auto\",\"tools\":[{\"id\":\"10646\",\"type\":\"PanTool\"},{\"id\":\"10647\",\"type\":\"WheelZoomTool\"},{\"id\":\"10648\",\"type\":\"BoxZoomTool\"},{\"id\":\"10649\",\"type\":\"SaveTool\"},{\"id\":\"10650\",\"type\":\"ResetTool\"},{\"id\":\"10651\",\"type\":\"HelpTool\"},{\"id\":\"10666\",\"type\":\"HoverTool\"}]},\"id\":\"10652\",\"type\":\"Toolbar\"},{\"attributes\":{\"line_alpha\":0.1,\"line_color\":\"#1f77b4\",\"x\":{\"field\":\"x\"},\"y\":{\"field\":\"y\"}},\"id\":\"10663\",\"type\":\"Line\"},{\"attributes\":{},\"id\":\"11017\",\"type\":\"BasicTickFormatter\"},{\"attributes\":{\"callback\":null,\"data\":{\"x\":{\"__ndarray__\":\"////P5kQukD///8/WRS6QP///z+ZFbpA////P9kWukA=\",\"dtype\":\"float64\",\"shape\":[4]},\"y\":[213.6627197265625,196.60504150390625,191.7310791015625,193.0880126953125]},\"selected\":{\"id\":\"11021\",\"type\":\"Selection\"},\"selection_policy\":{\"id\":\"11020\",\"type\":\"UnionRenderers\"}},\"id\":\"10668\",\"type\":\"ColumnDataSource\"},{\"attributes\":{\"source\":{\"id\":\"10668\",\"type\":\"ColumnDataSource\"}},\"id\":\"10672\",\"type\":\"CDSView\"},{\"attributes\":{},\"id\":\"10634\",\"type\":\"LinearScale\"},{\"attributes\":{\"formatter\":{\"id\":\"11017\",\"type\":\"BasicTickFormatter\"},\"plot\":{\"id\":\"10626\",\"subtype\":\"Figure\",\"type\":\"Plot\"},\"ticker\":{\"id\":\"10642\",\"type\":\"BasicTicker\"}},\"id\":\"10641\",\"type\":\"LinearAxis\"},{\"attributes\":{\"overlay\":{\"id\":\"10654\",\"type\":\"BoxAnnotation\"}},\"id\":\"10648\",\"type\":\"BoxZoomTool\"},{\"attributes\":{},\"id\":\"10646\",\"type\":\"PanTool\"},{\"attributes\":{},\"id\":\"11021\",\"type\":\"Selection\"},{\"attributes\":{\"data_source\":{\"id\":\"10661\",\"type\":\"ColumnDataSource\"},\"glyph\":{\"id\":\"10662\",\"type\":\"Line\"},\"hover_glyph\":null,\"muted_glyph\":null,\"nonselection_glyph\":{\"id\":\"10663\",\"type\":\"Line\"},\"selection_glyph\":null,\"view\":{\"id\":\"10665\",\"type\":\"CDSView\"}},\"id\":\"10664\",\"type\":\"GlyphRenderer\"},{\"attributes\":{\"formatter\":{\"id\":\"11015\",\"type\":\"BasicTickFormatter\"},\"plot\":{\"id\":\"10626\",\"subtype\":\"Figure\",\"type\":\"Plot\"},\"ticker\":{\"id\":\"10637\",\"type\":\"BasicTicker\"}},\"id\":\"10636\",\"type\":\"LinearAxis\"},{\"attributes\":{\"callback\":null,\"tooltips\":[[\"(x,y)\",\"($x{1}, $y)\"]]},\"id\":\"10666\",\"type\":\"HoverTool\"},{\"attributes\":{},\"id\":\"11018\",\"type\":\"UnionRenderers\"},{\"attributes\":{\"line_color\":\"#1f77b4\",\"x\":{\"field\":\"x\"},\"y\":{\"field\":\"y\"}},\"id\":\"10662\",\"type\":\"Line\"},{\"attributes\":{},\"id\":\"11019\",\"type\":\"Selection\"},{\"attributes\":{},\"id\":\"10647\",\"type\":\"WheelZoomTool\"},{\"attributes\":{},\"id\":\"10650\",\"type\":\"ResetTool\"},{\"attributes\":{},\"id\":\"11015\",\"type\":\"BasicTickFormatter\"},{\"attributes\":{\"plot\":{\"id\":\"10626\",\"subtype\":\"Figure\",\"type\":\"Plot\"},\"ticker\":{\"id\":\"10637\",\"type\":\"BasicTicker\"}},\"id\":\"10640\",\"type\":\"Grid\"},{\"attributes\":{},\"id\":\"10651\",\"type\":\"HelpTool\"},{\"attributes\":{},\"id\":\"10642\",\"type\":\"BasicTicker\"},{\"attributes\":{\"bottom_units\":\"screen\",\"fill_alpha\":{\"value\":0.5},\"fill_color\":{\"value\":\"lightgrey\"},\"left_units\":\"screen\",\"level\":\"overlay\",\"line_alpha\":{\"value\":1.0},\"line_color\":{\"value\":\"black\"},\"line_dash\":[4,4],\"line_width\":{\"value\":2},\"plot\":null,\"render_mode\":\"css\",\"right_units\":\"screen\",\"top_units\":\"screen\"},\"id\":\"10654\",\"type\":\"BoxAnnotation\"},{\"attributes\":{\"plot\":null,\"text\":\"17:40:41.6068, -53:40:19.1137, 145\"},\"id\":\"10625\",\"type\":\"Title\"},{\"attributes\":{\"line_color\":\"red\",\"x\":{\"field\":\"x\"},\"y\":{\"field\":\"y\"}},\"id\":\"10669\",\"type\":\"Line\"},{\"attributes\":{},\"id\":\"11020\",\"type\":\"UnionRenderers\"},{\"attributes\":{\"data_source\":{\"id\":\"10668\",\"type\":\"ColumnDataSource\"},\"glyph\":{\"id\":\"10669\",\"type\":\"Line\"},\"hover_glyph\":null,\"muted_glyph\":null,\"nonselection_glyph\":{\"id\":\"10670\",\"type\":\"Line\"},\"selection_glyph\":null,\"view\":{\"id\":\"10672\",\"type\":\"CDSView\"}},\"id\":\"10671\",\"type\":\"GlyphRenderer\"},{\"attributes\":{\"callback\":null},\"id\":\"10628\",\"type\":\"DataRange1d\"},{\"attributes\":{},\"id\":\"10632\",\"type\":\"LinearScale\"},{\"attributes\":{\"callback\":null},\"id\":\"10630\",\"type\":\"DataRange1d\"},{\"attributes\":{},\"id\":\"10637\",\"type\":\"BasicTicker\"},{\"attributes\":{\"source\":{\"id\":\"10661\",\"type\":\"ColumnDataSource\"}},\"id\":\"10665\",\"type\":\"CDSView\"}],\"root_ids\":[\"10626\"]},\"title\":\"Bokeh Application\",\"version\":\"1.0.4\"}};\n",
       "  var render_items = [{\"docid\":\"0ebc402f-e325-4965-9496-ccc9081f172f\",\"roots\":{\"10626\":\"f65b8726-c6fe-4447-b730-30a22243e1ea\"}}];\n",
       "  root.Bokeh.embed.embed_items_notebook(docs_json, render_items);\n",
       "\n",
       "  }\n",
       "  if (root.Bokeh !== undefined) {\n",
       "    embed_document(root);\n",
       "  } else {\n",
       "    var attempts = 0;\n",
       "    var timer = setInterval(function(root) {\n",
       "      if (root.Bokeh !== undefined) {\n",
       "        embed_document(root);\n",
       "        clearInterval(timer);\n",
       "      }\n",
       "      attempts++;\n",
       "      if (attempts > 100) {\n",
       "        console.log(\"Bokeh: ERROR: Unable to run BokehJS code because BokehJS library is missing\");\n",
       "        clearInterval(timer);\n",
       "      }\n",
       "    }, 10, root)\n",
       "  }\n",
       "})(window);"
      ],
      "application/vnd.bokehjs_exec.v0+json": ""
     },
     "metadata": {
      "application/vnd.bokehjs_exec.v0+json": {
       "id": "10626"
      }
     },
     "output_type": "display_data"
    }
   ],
   "source": [
    "listcoord = []\n",
    "foundspec = []\n",
    "\n",
    "for number,vaina in enumerate(listlatlog):\n",
    "    ra = vaina[0]\n",
    "    dec = vaina[1]\n",
    "    #print(ra)\n",
    "    try:\n",
    "        tryspec = getspectrafromregion(spectralcube,dec, ra, 0.200,name=number,xmin=6650.,xmax=6820.,\n",
    "                                      exclude=[6660,6700])\n",
    "        findlines(tryspec,minwave=6700,maxwave=6800,toleranceinsigma=5.0)\n",
    "        if tryspec.line:\n",
    "            tryspec.plotline(title='{}, {}, {}'.format(tryspec.ra,tryspec.dec,number))\n",
    "            listcoord.append([tryspec.ra,tryspec.dec,tryspec.apperture,'{'+str(number)+'}'])\n",
    "\n",
    "    except:\n",
    "        #print('a')\n",
    "        pass\n"
   ]
  },
  {
   "cell_type": "code",
   "execution_count": 13,
   "metadata": {},
   "outputs": [],
   "source": [
    "len(listcoord)\n",
    "regionfilename = 'foundlinesHeI.reg'\n",
    "makeregionfromlist(listcoord,regionfilename)"
   ]
  },
  {
   "cell_type": "code",
   "execution_count": 14,
   "metadata": {},
   "outputs": [
    {
     "data": {
      "application/vnd.jupyter.widget-view+json": {
       "model_id": "a4a605b0d33b4b398d7d1f78e1b525ff",
       "version_major": 2,
       "version_minor": 0
      },
      "text/plain": [
       "FigureCanvasNbAgg()"
      ]
     },
     "metadata": {},
     "output_type": "display_data"
    }
   ],
   "source": [
    "dwarf = aplpy.FITSFigure('IMAGE_FOV_0004.fits',hdu=1)\n",
    "dwarf.show_colorscale(cmap='gray', vmin=49,vmax=37000)\n",
    "dwarf.show_regions(regionfilename)\n",
    "dwarf.show_regions('sourceswithrealwcs.reg')"
   ]
  }
 ],
 "metadata": {
  "kernelspec": {
   "display_name": "Python 3",
   "language": "python",
   "name": "python3"
  },
  "language_info": {
   "codemirror_mode": {
    "name": "ipython",
    "version": 3
   },
   "file_extension": ".py",
   "mimetype": "text/x-python",
   "name": "python",
   "nbconvert_exporter": "python",
   "pygments_lexer": "ipython3",
   "version": "3.7.2"
  }
 },
 "nbformat": 4,
 "nbformat_minor": 2
}
