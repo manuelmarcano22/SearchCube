{
 "cells": [
  {
   "cell_type": "code",
   "execution_count": 6,
   "metadata": {},
   "outputs": [
    {
     "data": {
      "text/html": [
       "\n",
       "    <div class=\"bk-root\">\n",
       "        <a href=\"https://bokeh.pydata.org\" target=\"_blank\" class=\"bk-logo bk-logo-small bk-logo-notebook\"></a>\n",
       "        <span id=\"1244\">Loading BokehJS ...</span>\n",
       "    </div>"
      ]
     },
     "metadata": {},
     "output_type": "display_data"
    },
    {
     "data": {
      "application/javascript": [
       "\n",
       "(function(root) {\n",
       "  function now() {\n",
       "    return new Date();\n",
       "  }\n",
       "\n",
       "  var force = true;\n",
       "\n",
       "  if (typeof root._bokeh_onload_callbacks === \"undefined\" || force === true) {\n",
       "    root._bokeh_onload_callbacks = [];\n",
       "    root._bokeh_is_loading = undefined;\n",
       "  }\n",
       "\n",
       "  var JS_MIME_TYPE = 'application/javascript';\n",
       "  var HTML_MIME_TYPE = 'text/html';\n",
       "  var EXEC_MIME_TYPE = 'application/vnd.bokehjs_exec.v0+json';\n",
       "  var CLASS_NAME = 'output_bokeh rendered_html';\n",
       "\n",
       "  /**\n",
       "   * Render data to the DOM node\n",
       "   */\n",
       "  function render(props, node) {\n",
       "    var script = document.createElement(\"script\");\n",
       "    node.appendChild(script);\n",
       "  }\n",
       "\n",
       "  /**\n",
       "   * Handle when an output is cleared or removed\n",
       "   */\n",
       "  function handleClearOutput(event, handle) {\n",
       "    var cell = handle.cell;\n",
       "\n",
       "    var id = cell.output_area._bokeh_element_id;\n",
       "    var server_id = cell.output_area._bokeh_server_id;\n",
       "    // Clean up Bokeh references\n",
       "    if (id != null && id in Bokeh.index) {\n",
       "      Bokeh.index[id].model.document.clear();\n",
       "      delete Bokeh.index[id];\n",
       "    }\n",
       "\n",
       "    if (server_id !== undefined) {\n",
       "      // Clean up Bokeh references\n",
       "      var cmd = \"from bokeh.io.state import curstate; print(curstate().uuid_to_server['\" + server_id + \"'].get_sessions()[0].document.roots[0]._id)\";\n",
       "      cell.notebook.kernel.execute(cmd, {\n",
       "        iopub: {\n",
       "          output: function(msg) {\n",
       "            var id = msg.content.text.trim();\n",
       "            if (id in Bokeh.index) {\n",
       "              Bokeh.index[id].model.document.clear();\n",
       "              delete Bokeh.index[id];\n",
       "            }\n",
       "          }\n",
       "        }\n",
       "      });\n",
       "      // Destroy server and session\n",
       "      var cmd = \"import bokeh.io.notebook as ion; ion.destroy_server('\" + server_id + \"')\";\n",
       "      cell.notebook.kernel.execute(cmd);\n",
       "    }\n",
       "  }\n",
       "\n",
       "  /**\n",
       "   * Handle when a new output is added\n",
       "   */\n",
       "  function handleAddOutput(event, handle) {\n",
       "    var output_area = handle.output_area;\n",
       "    var output = handle.output;\n",
       "\n",
       "    // limit handleAddOutput to display_data with EXEC_MIME_TYPE content only\n",
       "    if ((output.output_type != \"display_data\") || (!output.data.hasOwnProperty(EXEC_MIME_TYPE))) {\n",
       "      return\n",
       "    }\n",
       "\n",
       "    var toinsert = output_area.element.find(\".\" + CLASS_NAME.split(' ')[0]);\n",
       "\n",
       "    if (output.metadata[EXEC_MIME_TYPE][\"id\"] !== undefined) {\n",
       "      toinsert[toinsert.length - 1].firstChild.textContent = output.data[JS_MIME_TYPE];\n",
       "      // store reference to embed id on output_area\n",
       "      output_area._bokeh_element_id = output.metadata[EXEC_MIME_TYPE][\"id\"];\n",
       "    }\n",
       "    if (output.metadata[EXEC_MIME_TYPE][\"server_id\"] !== undefined) {\n",
       "      var bk_div = document.createElement(\"div\");\n",
       "      bk_div.innerHTML = output.data[HTML_MIME_TYPE];\n",
       "      var script_attrs = bk_div.children[0].attributes;\n",
       "      for (var i = 0; i < script_attrs.length; i++) {\n",
       "        toinsert[toinsert.length - 1].firstChild.setAttribute(script_attrs[i].name, script_attrs[i].value);\n",
       "      }\n",
       "      // store reference to server id on output_area\n",
       "      output_area._bokeh_server_id = output.metadata[EXEC_MIME_TYPE][\"server_id\"];\n",
       "    }\n",
       "  }\n",
       "\n",
       "  function register_renderer(events, OutputArea) {\n",
       "\n",
       "    function append_mime(data, metadata, element) {\n",
       "      // create a DOM node to render to\n",
       "      var toinsert = this.create_output_subarea(\n",
       "        metadata,\n",
       "        CLASS_NAME,\n",
       "        EXEC_MIME_TYPE\n",
       "      );\n",
       "      this.keyboard_manager.register_events(toinsert);\n",
       "      // Render to node\n",
       "      var props = {data: data, metadata: metadata[EXEC_MIME_TYPE]};\n",
       "      render(props, toinsert[toinsert.length - 1]);\n",
       "      element.append(toinsert);\n",
       "      return toinsert\n",
       "    }\n",
       "\n",
       "    /* Handle when an output is cleared or removed */\n",
       "    events.on('clear_output.CodeCell', handleClearOutput);\n",
       "    events.on('delete.Cell', handleClearOutput);\n",
       "\n",
       "    /* Handle when a new output is added */\n",
       "    events.on('output_added.OutputArea', handleAddOutput);\n",
       "\n",
       "    /**\n",
       "     * Register the mime type and append_mime function with output_area\n",
       "     */\n",
       "    OutputArea.prototype.register_mime_type(EXEC_MIME_TYPE, append_mime, {\n",
       "      /* Is output safe? */\n",
       "      safe: true,\n",
       "      /* Index of renderer in `output_area.display_order` */\n",
       "      index: 0\n",
       "    });\n",
       "  }\n",
       "\n",
       "  // register the mime type if in Jupyter Notebook environment and previously unregistered\n",
       "  if (root.Jupyter !== undefined) {\n",
       "    var events = require('base/js/events');\n",
       "    var OutputArea = require('notebook/js/outputarea').OutputArea;\n",
       "\n",
       "    if (OutputArea.prototype.mime_types().indexOf(EXEC_MIME_TYPE) == -1) {\n",
       "      register_renderer(events, OutputArea);\n",
       "    }\n",
       "  }\n",
       "\n",
       "  \n",
       "  if (typeof (root._bokeh_timeout) === \"undefined\" || force === true) {\n",
       "    root._bokeh_timeout = Date.now() + 5000;\n",
       "    root._bokeh_failed_load = false;\n",
       "  }\n",
       "\n",
       "  var NB_LOAD_WARNING = {'data': {'text/html':\n",
       "     \"<div style='background-color: #fdd'>\\n\"+\n",
       "     \"<p>\\n\"+\n",
       "     \"BokehJS does not appear to have successfully loaded. If loading BokehJS from CDN, this \\n\"+\n",
       "     \"may be due to a slow or bad network connection. Possible fixes:\\n\"+\n",
       "     \"</p>\\n\"+\n",
       "     \"<ul>\\n\"+\n",
       "     \"<li>re-rerun `output_notebook()` to attempt to load from CDN again, or</li>\\n\"+\n",
       "     \"<li>use INLINE resources instead, as so:</li>\\n\"+\n",
       "     \"</ul>\\n\"+\n",
       "     \"<code>\\n\"+\n",
       "     \"from bokeh.resources import INLINE\\n\"+\n",
       "     \"output_notebook(resources=INLINE)\\n\"+\n",
       "     \"</code>\\n\"+\n",
       "     \"</div>\"}};\n",
       "\n",
       "  function display_loaded() {\n",
       "    var el = document.getElementById(\"1244\");\n",
       "    if (el != null) {\n",
       "      el.textContent = \"BokehJS is loading...\";\n",
       "    }\n",
       "    if (root.Bokeh !== undefined) {\n",
       "      if (el != null) {\n",
       "        el.textContent = \"BokehJS \" + root.Bokeh.version + \" successfully loaded.\";\n",
       "      }\n",
       "    } else if (Date.now() < root._bokeh_timeout) {\n",
       "      setTimeout(display_loaded, 100)\n",
       "    }\n",
       "  }\n",
       "\n",
       "\n",
       "  function run_callbacks() {\n",
       "    try {\n",
       "      root._bokeh_onload_callbacks.forEach(function(callback) {\n",
       "        if (callback != null)\n",
       "          callback();\n",
       "      });\n",
       "    } finally {\n",
       "      delete root._bokeh_onload_callbacks\n",
       "    }\n",
       "    console.debug(\"Bokeh: all callbacks have finished\");\n",
       "  }\n",
       "\n",
       "  function load_libs(css_urls, js_urls, callback) {\n",
       "    if (css_urls == null) css_urls = [];\n",
       "    if (js_urls == null) js_urls = [];\n",
       "\n",
       "    root._bokeh_onload_callbacks.push(callback);\n",
       "    if (root._bokeh_is_loading > 0) {\n",
       "      console.debug(\"Bokeh: BokehJS is being loaded, scheduling callback at\", now());\n",
       "      return null;\n",
       "    }\n",
       "    if (js_urls == null || js_urls.length === 0) {\n",
       "      run_callbacks();\n",
       "      return null;\n",
       "    }\n",
       "    console.debug(\"Bokeh: BokehJS not loaded, scheduling load and callback at\", now());\n",
       "    root._bokeh_is_loading = css_urls.length + js_urls.length;\n",
       "\n",
       "    function on_load() {\n",
       "      root._bokeh_is_loading--;\n",
       "      if (root._bokeh_is_loading === 0) {\n",
       "        console.debug(\"Bokeh: all BokehJS libraries/stylesheets loaded\");\n",
       "        run_callbacks()\n",
       "      }\n",
       "    }\n",
       "\n",
       "    function on_error() {\n",
       "      console.error(\"failed to load \" + url);\n",
       "    }\n",
       "\n",
       "    for (var i = 0; i < css_urls.length; i++) {\n",
       "      var url = css_urls[i];\n",
       "      const element = document.createElement(\"link\");\n",
       "      element.onload = on_load;\n",
       "      element.onerror = on_error;\n",
       "      element.rel = \"stylesheet\";\n",
       "      element.type = \"text/css\";\n",
       "      element.href = url;\n",
       "      console.debug(\"Bokeh: injecting link tag for BokehJS stylesheet: \", url);\n",
       "      document.body.appendChild(element);\n",
       "    }\n",
       "\n",
       "    for (var i = 0; i < js_urls.length; i++) {\n",
       "      var url = js_urls[i];\n",
       "      var element = document.createElement('script');\n",
       "      element.onload = on_load;\n",
       "      element.onerror = on_error;\n",
       "      element.async = false;\n",
       "      element.src = url;\n",
       "      console.debug(\"Bokeh: injecting script tag for BokehJS library: \", url);\n",
       "      document.head.appendChild(element);\n",
       "    }\n",
       "  };var element = document.getElementById(\"1244\");\n",
       "  if (element == null) {\n",
       "    console.error(\"Bokeh: ERROR: autoload.js configured with elementid '1244' but no matching script tag was found. \")\n",
       "    return false;\n",
       "  }\n",
       "\n",
       "  function inject_raw_css(css) {\n",
       "    const element = document.createElement(\"style\");\n",
       "    element.appendChild(document.createTextNode(css));\n",
       "    document.body.appendChild(element);\n",
       "  }\n",
       "\n",
       "  var js_urls = [\"https://cdn.pydata.org/bokeh/release/bokeh-1.1.0.min.js\", \"https://cdn.pydata.org/bokeh/release/bokeh-widgets-1.1.0.min.js\", \"https://cdn.pydata.org/bokeh/release/bokeh-tables-1.1.0.min.js\", \"https://cdn.pydata.org/bokeh/release/bokeh-gl-1.1.0.min.js\"];\n",
       "  var css_urls = [\"https://cdn.pydata.org/bokeh/release/bokeh-1.1.0.min.css\", \"https://cdn.pydata.org/bokeh/release/bokeh-widgets-1.1.0.min.css\", \"https://cdn.pydata.org/bokeh/release/bokeh-tables-1.1.0.min.css\"];\n",
       "\n",
       "  var inline_js = [\n",
       "    function(Bokeh) {\n",
       "      Bokeh.set_log_level(\"info\");\n",
       "    },\n",
       "    \n",
       "    function(Bokeh) {\n",
       "      \n",
       "    },\n",
       "    function(Bokeh) {} // ensure no trailing comma for IE\n",
       "  ];\n",
       "\n",
       "  function run_inline_js() {\n",
       "    \n",
       "    if ((root.Bokeh !== undefined) || (force === true)) {\n",
       "      for (var i = 0; i < inline_js.length; i++) {\n",
       "        inline_js[i].call(root, root.Bokeh);\n",
       "      }if (force === true) {\n",
       "        display_loaded();\n",
       "      }} else if (Date.now() < root._bokeh_timeout) {\n",
       "      setTimeout(run_inline_js, 100);\n",
       "    } else if (!root._bokeh_failed_load) {\n",
       "      console.log(\"Bokeh: BokehJS failed to load within specified timeout.\");\n",
       "      root._bokeh_failed_load = true;\n",
       "    } else if (force !== true) {\n",
       "      var cell = $(document.getElementById(\"1244\")).parents('.cell').data().cell;\n",
       "      cell.output_area.append_execute_result(NB_LOAD_WARNING)\n",
       "    }\n",
       "\n",
       "  }\n",
       "\n",
       "  if (root._bokeh_is_loading === 0) {\n",
       "    console.debug(\"Bokeh: BokehJS loaded, going straight to plotting\");\n",
       "    run_inline_js();\n",
       "  } else {\n",
       "    load_libs(css_urls, js_urls, function() {\n",
       "      console.debug(\"Bokeh: BokehJS plotting callback run at\", now());\n",
       "      run_inline_js();\n",
       "    });\n",
       "  }\n",
       "}(window));"
      ],
      "application/vnd.bokehjs_load.v0+json": "\n(function(root) {\n  function now() {\n    return new Date();\n  }\n\n  var force = true;\n\n  if (typeof root._bokeh_onload_callbacks === \"undefined\" || force === true) {\n    root._bokeh_onload_callbacks = [];\n    root._bokeh_is_loading = undefined;\n  }\n\n  \n\n  \n  if (typeof (root._bokeh_timeout) === \"undefined\" || force === true) {\n    root._bokeh_timeout = Date.now() + 5000;\n    root._bokeh_failed_load = false;\n  }\n\n  var NB_LOAD_WARNING = {'data': {'text/html':\n     \"<div style='background-color: #fdd'>\\n\"+\n     \"<p>\\n\"+\n     \"BokehJS does not appear to have successfully loaded. If loading BokehJS from CDN, this \\n\"+\n     \"may be due to a slow or bad network connection. Possible fixes:\\n\"+\n     \"</p>\\n\"+\n     \"<ul>\\n\"+\n     \"<li>re-rerun `output_notebook()` to attempt to load from CDN again, or</li>\\n\"+\n     \"<li>use INLINE resources instead, as so:</li>\\n\"+\n     \"</ul>\\n\"+\n     \"<code>\\n\"+\n     \"from bokeh.resources import INLINE\\n\"+\n     \"output_notebook(resources=INLINE)\\n\"+\n     \"</code>\\n\"+\n     \"</div>\"}};\n\n  function display_loaded() {\n    var el = document.getElementById(\"1244\");\n    if (el != null) {\n      el.textContent = \"BokehJS is loading...\";\n    }\n    if (root.Bokeh !== undefined) {\n      if (el != null) {\n        el.textContent = \"BokehJS \" + root.Bokeh.version + \" successfully loaded.\";\n      }\n    } else if (Date.now() < root._bokeh_timeout) {\n      setTimeout(display_loaded, 100)\n    }\n  }\n\n\n  function run_callbacks() {\n    try {\n      root._bokeh_onload_callbacks.forEach(function(callback) {\n        if (callback != null)\n          callback();\n      });\n    } finally {\n      delete root._bokeh_onload_callbacks\n    }\n    console.debug(\"Bokeh: all callbacks have finished\");\n  }\n\n  function load_libs(css_urls, js_urls, callback) {\n    if (css_urls == null) css_urls = [];\n    if (js_urls == null) js_urls = [];\n\n    root._bokeh_onload_callbacks.push(callback);\n    if (root._bokeh_is_loading > 0) {\n      console.debug(\"Bokeh: BokehJS is being loaded, scheduling callback at\", now());\n      return null;\n    }\n    if (js_urls == null || js_urls.length === 0) {\n      run_callbacks();\n      return null;\n    }\n    console.debug(\"Bokeh: BokehJS not loaded, scheduling load and callback at\", now());\n    root._bokeh_is_loading = css_urls.length + js_urls.length;\n\n    function on_load() {\n      root._bokeh_is_loading--;\n      if (root._bokeh_is_loading === 0) {\n        console.debug(\"Bokeh: all BokehJS libraries/stylesheets loaded\");\n        run_callbacks()\n      }\n    }\n\n    function on_error() {\n      console.error(\"failed to load \" + url);\n    }\n\n    for (var i = 0; i < css_urls.length; i++) {\n      var url = css_urls[i];\n      const element = document.createElement(\"link\");\n      element.onload = on_load;\n      element.onerror = on_error;\n      element.rel = \"stylesheet\";\n      element.type = \"text/css\";\n      element.href = url;\n      console.debug(\"Bokeh: injecting link tag for BokehJS stylesheet: \", url);\n      document.body.appendChild(element);\n    }\n\n    for (var i = 0; i < js_urls.length; i++) {\n      var url = js_urls[i];\n      var element = document.createElement('script');\n      element.onload = on_load;\n      element.onerror = on_error;\n      element.async = false;\n      element.src = url;\n      console.debug(\"Bokeh: injecting script tag for BokehJS library: \", url);\n      document.head.appendChild(element);\n    }\n  };var element = document.getElementById(\"1244\");\n  if (element == null) {\n    console.error(\"Bokeh: ERROR: autoload.js configured with elementid '1244' but no matching script tag was found. \")\n    return false;\n  }\n\n  function inject_raw_css(css) {\n    const element = document.createElement(\"style\");\n    element.appendChild(document.createTextNode(css));\n    document.body.appendChild(element);\n  }\n\n  var js_urls = [\"https://cdn.pydata.org/bokeh/release/bokeh-1.1.0.min.js\", \"https://cdn.pydata.org/bokeh/release/bokeh-widgets-1.1.0.min.js\", \"https://cdn.pydata.org/bokeh/release/bokeh-tables-1.1.0.min.js\", \"https://cdn.pydata.org/bokeh/release/bokeh-gl-1.1.0.min.js\"];\n  var css_urls = [\"https://cdn.pydata.org/bokeh/release/bokeh-1.1.0.min.css\", \"https://cdn.pydata.org/bokeh/release/bokeh-widgets-1.1.0.min.css\", \"https://cdn.pydata.org/bokeh/release/bokeh-tables-1.1.0.min.css\"];\n\n  var inline_js = [\n    function(Bokeh) {\n      Bokeh.set_log_level(\"info\");\n    },\n    \n    function(Bokeh) {\n      \n    },\n    function(Bokeh) {} // ensure no trailing comma for IE\n  ];\n\n  function run_inline_js() {\n    \n    if ((root.Bokeh !== undefined) || (force === true)) {\n      for (var i = 0; i < inline_js.length; i++) {\n        inline_js[i].call(root, root.Bokeh);\n      }if (force === true) {\n        display_loaded();\n      }} else if (Date.now() < root._bokeh_timeout) {\n      setTimeout(run_inline_js, 100);\n    } else if (!root._bokeh_failed_load) {\n      console.log(\"Bokeh: BokehJS failed to load within specified timeout.\");\n      root._bokeh_failed_load = true;\n    } else if (force !== true) {\n      var cell = $(document.getElementById(\"1244\")).parents('.cell').data().cell;\n      cell.output_area.append_execute_result(NB_LOAD_WARNING)\n    }\n\n  }\n\n  if (root._bokeh_is_loading === 0) {\n    console.debug(\"Bokeh: BokehJS loaded, going straight to plotting\");\n    run_inline_js();\n  } else {\n    load_libs(css_urls, js_urls, function() {\n      console.debug(\"Bokeh: BokehJS plotting callback run at\", now());\n      run_inline_js();\n    });\n  }\n}(window));"
     },
     "metadata": {},
     "output_type": "display_data"
    }
   ],
   "source": [
    "from search import getlatloglist, getspectrafromregion, findlines, makeregionfromlist\n",
    "from spectral_cube import SpectralCube\n",
    "\n",
    "import aplpy\n",
    "\n",
    "\n",
    "\n",
    "from bokeh.plotting import output_notebook\n",
    "output_notebook()\n",
    "%matplotlib widget\n"
   ]
  },
  {
   "cell_type": "code",
   "execution_count": 7,
   "metadata": {},
   "outputs": [
    {
     "name": "stdout",
     "output_type": "stream",
     "text": [
      "3168\n"
     ]
    }
   ],
   "source": [
    "#cube = 'mini.fits'\n",
    "cube = 'FixedAstrometryDATACUBE_FINAL.fits'\n",
    "cube2 = 'FixedAstrometryDATACUBE_FINALOld.fits'\n",
    "\n",
    "#cube = 'cubenoedges.fits'\n",
    "spectralcube= SpectralCube.read(cube,hdu=1)\n",
    "#listlatlog = getlatloglist(spectralcube,latsepa=0.5,logsepa=0.5)\n",
    "listlatlog = getlatloglist(spectralcube,latsepa=1.5,logsepa=1.5)\n",
    "print(len(listlatlog))"
   ]
  },
  {
   "cell_type": "code",
   "execution_count": 8,
   "metadata": {},
   "outputs": [
    {
     "name": "stderr",
     "output_type": "stream",
     "text": [
      "WARNING: gnorm=0.   wa2=[1.42250965e-03 1.33883430e-05 1.51230269e-07] [pyspeckit.mpfit.mpfit]\n",
      "WARNING: gnorm=0.   wa2=[1.42250965e-03 1.33883430e-05 1.51230269e-07] [pyspeckit.mpfit.mpfit]\n",
      "WARNING: gnorm=0.   wa2=[1.42250965e-03 1.33883430e-05 1.51230269e-07] [pyspeckit.mpfit.mpfit]\n",
      "WARNING: gnorm=0.   wa2=[1.42250965e-03 1.33883430e-05 1.51230269e-07] [pyspeckit.mpfit.mpfit]\n",
      "WARNING: gnorm=0.   wa2=[1.42250965e-03 1.33883430e-05 1.51230269e-07] [pyspeckit.mpfit.mpfit]\n",
      "WARNING: gnorm=0.   wa2=[1.42250965e-03 1.33883430e-05 1.51230269e-07] [pyspeckit.mpfit.mpfit]\n",
      "WARNING: gnorm=0.   wa2=[1.42250965e-03 1.33883430e-05 1.51230269e-07] [pyspeckit.mpfit.mpfit]\n"
     ]
    },
    {
     "data": {
      "text/html": [
       "\n",
       "\n",
       "\n",
       "\n",
       "\n",
       "\n",
       "  <div class=\"bk-root\" id=\"34d8eb65-3a6a-4298-b356-fea70d27bc48\" data-root-id=\"1245\"></div>\n"
      ]
     },
     "metadata": {},
     "output_type": "display_data"
    },
    {
     "data": {
      "application/javascript": [
       "(function(root) {\n",
       "  function embed_document(root) {\n",
       "    \n",
       "  var docs_json = {\"6783397a-3285-4d6c-ac8b-a0ab96f31956\":{\"roots\":{\"references\":[{\"attributes\":{\"below\":[{\"id\":\"1256\",\"type\":\"LinearAxis\"}],\"center\":[{\"id\":\"1260\",\"type\":\"Grid\"},{\"id\":\"1265\",\"type\":\"Grid\"}],\"left\":[{\"id\":\"1261\",\"type\":\"LinearAxis\"}],\"plot_height\":500,\"plot_width\":900,\"renderers\":[{\"id\":\"1282\",\"type\":\"GlyphRenderer\"},{\"id\":\"1289\",\"type\":\"GlyphRenderer\"}],\"title\":{\"id\":\"1246\",\"type\":\"Title\"},\"toolbar\":{\"id\":\"1272\",\"type\":\"Toolbar\"},\"x_range\":{\"id\":\"1248\",\"type\":\"DataRange1d\"},\"x_scale\":{\"id\":\"1252\",\"type\":\"LinearScale\"},\"y_range\":{\"id\":\"1250\",\"type\":\"DataRange1d\"},\"y_scale\":{\"id\":\"1254\",\"type\":\"LinearScale\"}},\"id\":\"1245\",\"subtype\":\"Figure\",\"type\":\"Plot\"},{\"attributes\":{},\"id\":\"1257\",\"type\":\"BasicTicker\"},{\"attributes\":{},\"id\":\"1318\",\"type\":\"UnionRenderers\"},{\"attributes\":{\"active_drag\":{\"id\":\"1268\",\"type\":\"BoxZoomTool\"},\"active_inspect\":\"auto\",\"active_multi\":null,\"active_scroll\":{\"id\":\"1267\",\"type\":\"WheelZoomTool\"},\"active_tap\":\"auto\",\"tools\":[{\"id\":\"1266\",\"type\":\"PanTool\"},{\"id\":\"1267\",\"type\":\"WheelZoomTool\"},{\"id\":\"1268\",\"type\":\"BoxZoomTool\"},{\"id\":\"1269\",\"type\":\"SaveTool\"},{\"id\":\"1270\",\"type\":\"ResetTool\"},{\"id\":\"1271\",\"type\":\"HelpTool\"},{\"id\":\"1284\",\"type\":\"HoverTool\"}]},\"id\":\"1272\",\"type\":\"Toolbar\"},{\"attributes\":{\"source\":{\"id\":\"1286\",\"type\":\"ColumnDataSource\"}},\"id\":\"1290\",\"type\":\"CDSView\"},{\"attributes\":{\"line_color\":\"#1f77b4\",\"x\":{\"field\":\"x\"},\"y\":{\"field\":\"y\"}},\"id\":\"1280\",\"type\":\"Line\"},{\"attributes\":{\"callback\":null,\"tooltips\":[[\"(x,y)\",\"($x{1}, $y)\"]]},\"id\":\"1284\",\"type\":\"HoverTool\"},{\"attributes\":{\"bottom_units\":\"screen\",\"fill_alpha\":{\"value\":0.5},\"fill_color\":{\"value\":\"lightgrey\"},\"left_units\":\"screen\",\"level\":\"overlay\",\"line_alpha\":{\"value\":1.0},\"line_color\":{\"value\":\"black\"},\"line_dash\":[4,4],\"line_width\":{\"value\":2},\"render_mode\":\"css\",\"right_units\":\"screen\",\"top_units\":\"screen\"},\"id\":\"1316\",\"type\":\"BoxAnnotation\"},{\"attributes\":{},\"id\":\"1266\",\"type\":\"PanTool\"},{\"attributes\":{\"formatter\":{\"id\":\"1313\",\"type\":\"BasicTickFormatter\"},\"ticker\":{\"id\":\"1257\",\"type\":\"BasicTicker\"}},\"id\":\"1256\",\"type\":\"LinearAxis\"},{\"attributes\":{},\"id\":\"1317\",\"type\":\"Selection\"},{\"attributes\":{\"source\":{\"id\":\"1279\",\"type\":\"ColumnDataSource\"}},\"id\":\"1283\",\"type\":\"CDSView\"},{\"attributes\":{\"data_source\":{\"id\":\"1286\",\"type\":\"ColumnDataSource\"},\"glyph\":{\"id\":\"1287\",\"type\":\"Line\"},\"hover_glyph\":null,\"muted_glyph\":null,\"nonselection_glyph\":{\"id\":\"1288\",\"type\":\"Line\"},\"selection_glyph\":null,\"view\":{\"id\":\"1290\",\"type\":\"CDSView\"}},\"id\":\"1289\",\"type\":\"GlyphRenderer\"},{\"attributes\":{\"overlay\":{\"id\":\"1316\",\"type\":\"BoxAnnotation\"}},\"id\":\"1268\",\"type\":\"BoxZoomTool\"},{\"attributes\":{},\"id\":\"1320\",\"type\":\"UnionRenderers\"},{\"attributes\":{},\"id\":\"1313\",\"type\":\"BasicTickFormatter\"},{\"attributes\":{\"line_alpha\":0.1,\"line_color\":\"#1f77b4\",\"x\":{\"field\":\"x\"},\"y\":{\"field\":\"y\"}},\"id\":\"1288\",\"type\":\"Line\"},{\"attributes\":{\"line_alpha\":0.1,\"line_color\":\"#1f77b4\",\"x\":{\"field\":\"x\"},\"y\":{\"field\":\"y\"}},\"id\":\"1281\",\"type\":\"Line\"},{\"attributes\":{},\"id\":\"1315\",\"type\":\"BasicTickFormatter\"},{\"attributes\":{\"callback\":null,\"data\":{\"x\":{\"__ndarray__\":\"////Pxn6uUD///8/Wfu5QP///z+Z/LlA////P9n9uUD///8/Gf+5QP///z9ZALpA////P5kBukD///8/2QK6QP///z8ZBLpA////P1kFukD///8/mQa6QP///z/ZB7pA////PxkJukD///8/WQq6QP///z+ZC7pA////P9kMukD///8/GQ66QP///z9ZD7pA////P5kQukD///8/2RG6QP///z8ZE7pA////P1kUukD///8/mRW6QP///z/ZFrpA////PxkYukD///8/WRm6QP///z+ZGrpA////P9kbukD///8/GR26QP///z9ZHrpA////P5kfukD///8/2SC6QP///z8ZIrpA////P1kjukD///8/mSS6QP///z/ZJbpA////PxknukD///8/WSi6QP///z+ZKbpA////P9kqukD///8/GSy6QP///z9ZLbpA////P5kuukD///8/2S+6QP///z8ZMbpA////P1kyukD///8/mTO6QP///z/ZNLpA////Pxk2ukD///8/WTe6QP///z+ZOLpA////P9k5ukD///8/GTu6QP///z9ZPLpA////P5k9ukD///8/2T66QP///z8ZQLpA////P1lBukD///8/mUK6QP///z/ZQ7pA////PxlFukD///8/WUa6QP///z+ZR7pA////P9lIukD///8/GUq6QP///z9ZS7pA////P5lMukD///8/2U26QP///z8ZT7pA////P1lQukD///8/mVG6QP///z/ZUrpA////PxlUukD///8/WVW6QP///z+ZVrpA////P9lXukD///8/GVm6QP///z9ZWrpA////P5lbukD///8/2Vy6QP///z8ZXrpA////P1lfukD///8/mWC6QP///z/ZYbpA////PxljukD///8/WWS6QP///z+ZZbpA////P9lmukD///8/GWi6QP///z9ZabpA////P5lqukD///8/2Wu6QP///z8ZbbpA////P1luukD///8/mW+6QP///z/ZcLpA////PxlyukD///8/WXO6QP///z+ZdLpA////P9l1ukD///8/GXe6QP///z9ZeLpA////P5l5ukD///8/2Xq6QP///z8ZfLpA////P1l9ukD///8/mX66QP///z/Zf7pA////PxmBukD///8/WYK6QP///z+Zg7pA////P9mEukD///8/GYa6QP///z9Zh7pA////P5mIukD///8/2Ym6QP///z8Zi7pA////P1mMukD///8/mY26QP///z/ZjrpA////PxmQukD///8/WZG6QP///z+ZkrpA////P9mTukD///8/GZW6QP///z9ZlrpA////P5mXukD///8/2Zi6QP///z8ZmrpA////P1mbukD///8/mZy6QP///z/ZnbpA////PxmfukD///8/WaC6QP///z+ZobpA////P9miukA=\",\"dtype\":\"float64\",\"shape\":[136]},\"y\":[24.000125885009766,-59.20629119873047,1.1480722427368164,165.29759216308594,53.53524398803711,32.41571044921875,-52.275856018066406,-60.80897903442383,-44.53913497924805,-41.7319450378418,-134.1686553955078,15.037446022033691,23.917612075805664,-81.92268371582031,127.82709503173828,33.696250915527344,-63.662872314453125,52.931365966796875,70.49263763427734,60.39985275268555,44.15886306762695,-3.792825222015381,-16.361465454101562,-117.59393310546875,151.76368713378906,69.95941925048828,42.137821197509766,1.1797378063201904,-144.99880981445312,205.0943603515625,1110.109619140625,-11.954917907714844,-55.16767883300781,-14.454421043395996,257.6477355957031,211.70132446289062,-124.063232421875,-71.20645141601562,87.65642547607422,29.375011444091797,193.7071075439453,57.56874465942383,-13.274462699890137,-37.412357330322266,179.15701293945312,95.75006866455078,-169.87539672851562,-147.74281311035156,110.08531951904297,-101.79138946533203,-56.30263137817383,42.83480453491211,50.097476959228516,189.74710083007812,-306.82568359375,0.5802730917930603,175.58412170410156,-18.073894500732422,-39.8215217590332,18.25921058654785,-16.312162399291992,166.84521484375,-107.0264663696289,-71.92134857177734,40.84025573730469,48.70561218261719,-197.12411499023438,66.6401596069336,46.943721771240234,-61.21927261352539,-44.83320236206055,-5.648069858551025,-38.19316864013672,-88.22435760498047,24.705625534057617,-20.430559158325195,-86.52159118652344,-25.84284782409668,-143.5193328857422,-25.398719787597656,-237.14505004882812,-148.49075317382812,-81.04911804199219,25.207216262817383,-97.72957611083984,-147.9376220703125,94.27841186523438,-64.83736419677734,57.96116638183594,87.01383972167969,-4.173486709594727,-235.45628356933594,-61.584537506103516,-10.243812561035156,-149.84034729003906,74.5614013671875,60.590335845947266,-60.8316650390625,1.3500880002975464,-112.56753540039062,205.8744659423828,907.6038208007812,559.9935302734375,12.197946548461914,211.25611877441406,38.22858810424805,75.5469970703125,-74.26911926269531,-32.68461227416992,58.3200569152832,-78.11644744873047,171.32032775878906,-2.002415895462036,140.26686096191406,-23.30540657043457,-78.54151153564453,36.494110107421875,19.590511322021484,-40.23277282714844,53.91878890991211,-38.78097152709961,-1.1191715002059937,-125.8204116821289,56.89263916015625,1.1156977415084839,4.081179141998291,-159.49998474121094,-95.69613647460938,-43.120567321777344,-68.58187103271484,-56.062477111816406,-73.01354217529297,-29.26320457458496,45.26862335205078,-67.5254898071289,-94.5244369506836]},\"selected\":{\"id\":\"1317\",\"type\":\"Selection\"},\"selection_policy\":{\"id\":\"1318\",\"type\":\"UnionRenderers\"}},\"id\":\"1279\",\"type\":\"ColumnDataSource\"},{\"attributes\":{\"ticker\":{\"id\":\"1257\",\"type\":\"BasicTicker\"}},\"id\":\"1260\",\"type\":\"Grid\"},{\"attributes\":{\"formatter\":{\"id\":\"1315\",\"type\":\"BasicTickFormatter\"},\"ticker\":{\"id\":\"1262\",\"type\":\"BasicTicker\"}},\"id\":\"1261\",\"type\":\"LinearAxis\"},{\"attributes\":{\"callback\":null,\"data\":{\"x\":{\"__ndarray__\":\"////P5kfukD///8/WXi6QP///z+ZebpA\",\"dtype\":\"float64\",\"shape\":[3]},\"y\":[1110.109619140625,907.6038208007812,559.9935302734375]},\"selected\":{\"id\":\"1319\",\"type\":\"Selection\"},\"selection_policy\":{\"id\":\"1320\",\"type\":\"UnionRenderers\"}},\"id\":\"1286\",\"type\":\"ColumnDataSource\"},{\"attributes\":{},\"id\":\"1319\",\"type\":\"Selection\"},{\"attributes\":{\"callback\":null},\"id\":\"1248\",\"type\":\"DataRange1d\"},{\"attributes\":{\"data_source\":{\"id\":\"1279\",\"type\":\"ColumnDataSource\"},\"glyph\":{\"id\":\"1280\",\"type\":\"Line\"},\"hover_glyph\":null,\"muted_glyph\":null,\"nonselection_glyph\":{\"id\":\"1281\",\"type\":\"Line\"},\"selection_glyph\":null,\"view\":{\"id\":\"1283\",\"type\":\"CDSView\"}},\"id\":\"1282\",\"type\":\"GlyphRenderer\"},{\"attributes\":{\"callback\":null},\"id\":\"1250\",\"type\":\"DataRange1d\"},{\"attributes\":{\"text\":\"17:40:42.2113, -53:40:42.1137, 390\"},\"id\":\"1246\",\"type\":\"Title\"},{\"attributes\":{},\"id\":\"1252\",\"type\":\"LinearScale\"},{\"attributes\":{},\"id\":\"1267\",\"type\":\"WheelZoomTool\"},{\"attributes\":{},\"id\":\"1270\",\"type\":\"ResetTool\"},{\"attributes\":{\"line_color\":\"red\",\"x\":{\"field\":\"x\"},\"y\":{\"field\":\"y\"}},\"id\":\"1287\",\"type\":\"Line\"},{\"attributes\":{},\"id\":\"1262\",\"type\":\"BasicTicker\"},{\"attributes\":{\"dimension\":1,\"ticker\":{\"id\":\"1262\",\"type\":\"BasicTicker\"}},\"id\":\"1265\",\"type\":\"Grid\"},{\"attributes\":{},\"id\":\"1269\",\"type\":\"SaveTool\"},{\"attributes\":{},\"id\":\"1271\",\"type\":\"HelpTool\"},{\"attributes\":{},\"id\":\"1254\",\"type\":\"LinearScale\"}],\"root_ids\":[\"1245\"]},\"title\":\"Bokeh Application\",\"version\":\"1.1.0\"}};\n",
       "  var render_items = [{\"docid\":\"6783397a-3285-4d6c-ac8b-a0ab96f31956\",\"roots\":{\"1245\":\"34d8eb65-3a6a-4298-b356-fea70d27bc48\"}}];\n",
       "  root.Bokeh.embed.embed_items_notebook(docs_json, render_items);\n",
       "\n",
       "  }\n",
       "  if (root.Bokeh !== undefined) {\n",
       "    embed_document(root);\n",
       "  } else {\n",
       "    var attempts = 0;\n",
       "    var timer = setInterval(function(root) {\n",
       "      if (root.Bokeh !== undefined) {\n",
       "        embed_document(root);\n",
       "        clearInterval(timer);\n",
       "      }\n",
       "      attempts++;\n",
       "      if (attempts > 100) {\n",
       "        console.log(\"Bokeh: ERROR: Unable to run BokehJS code because BokehJS library is missing\");\n",
       "        clearInterval(timer);\n",
       "      }\n",
       "    }, 10, root)\n",
       "  }\n",
       "})(window);"
      ],
      "application/vnd.bokehjs_exec.v0+json": ""
     },
     "metadata": {
      "application/vnd.bokehjs_exec.v0+json": {
       "id": "1245"
      }
     },
     "output_type": "display_data"
    },
    {
     "data": {
      "text/html": [
       "\n",
       "\n",
       "\n",
       "\n",
       "\n",
       "\n",
       "  <div class=\"bk-root\" id=\"81fd32cc-0f04-4026-af2c-01419dbf10b8\" data-root-id=\"1381\"></div>\n"
      ]
     },
     "metadata": {},
     "output_type": "display_data"
    },
    {
     "data": {
      "application/javascript": [
       "(function(root) {\n",
       "  function embed_document(root) {\n",
       "    \n",
       "  var docs_json = {\"2ba0146c-ac0c-41a0-8d35-bd9f95a3a105\":{\"roots\":{\"references\":[{\"attributes\":{\"below\":[{\"id\":\"1392\",\"type\":\"LinearAxis\"}],\"center\":[{\"id\":\"1396\",\"type\":\"Grid\"},{\"id\":\"1401\",\"type\":\"Grid\"}],\"left\":[{\"id\":\"1397\",\"type\":\"LinearAxis\"}],\"plot_height\":500,\"plot_width\":900,\"renderers\":[{\"id\":\"1418\",\"type\":\"GlyphRenderer\"},{\"id\":\"1425\",\"type\":\"GlyphRenderer\"}],\"title\":{\"id\":\"1382\",\"type\":\"Title\"},\"toolbar\":{\"id\":\"1408\",\"type\":\"Toolbar\"},\"x_range\":{\"id\":\"1384\",\"type\":\"DataRange1d\"},\"x_scale\":{\"id\":\"1388\",\"type\":\"LinearScale\"},\"y_range\":{\"id\":\"1386\",\"type\":\"DataRange1d\"},\"y_scale\":{\"id\":\"1390\",\"type\":\"LinearScale\"}},\"id\":\"1381\",\"subtype\":\"Figure\",\"type\":\"Plot\"},{\"attributes\":{\"formatter\":{\"id\":\"1461\",\"type\":\"BasicTickFormatter\"},\"ticker\":{\"id\":\"1398\",\"type\":\"BasicTicker\"}},\"id\":\"1397\",\"type\":\"LinearAxis\"},{\"attributes\":{\"callback\":null},\"id\":\"1386\",\"type\":\"DataRange1d\"},{\"attributes\":{},\"id\":\"1459\",\"type\":\"BasicTickFormatter\"},{\"attributes\":{\"data_source\":{\"id\":\"1422\",\"type\":\"ColumnDataSource\"},\"glyph\":{\"id\":\"1423\",\"type\":\"Line\"},\"hover_glyph\":null,\"muted_glyph\":null,\"nonselection_glyph\":{\"id\":\"1424\",\"type\":\"Line\"},\"selection_glyph\":null,\"view\":{\"id\":\"1426\",\"type\":\"CDSView\"}},\"id\":\"1425\",\"type\":\"GlyphRenderer\"},{\"attributes\":{},\"id\":\"1398\",\"type\":\"BasicTicker\"},{\"attributes\":{\"ticker\":{\"id\":\"1393\",\"type\":\"BasicTicker\"}},\"id\":\"1396\",\"type\":\"Grid\"},{\"attributes\":{},\"id\":\"1406\",\"type\":\"ResetTool\"},{\"attributes\":{\"dimension\":1,\"ticker\":{\"id\":\"1398\",\"type\":\"BasicTicker\"}},\"id\":\"1401\",\"type\":\"Grid\"},{\"attributes\":{\"overlay\":{\"id\":\"1462\",\"type\":\"BoxAnnotation\"}},\"id\":\"1404\",\"type\":\"BoxZoomTool\"},{\"attributes\":{\"callback\":null,\"data\":{\"x\":{\"__ndarray__\":\"////P1kFukD///8/2SW6QP///z8ZJ7pA////P9lmukA=\",\"dtype\":\"float64\",\"shape\":[4]},\"y\":[194.85411071777344,261.68450927734375,226.2443389892578,251.54322814941406]},\"selected\":{\"id\":\"1465\",\"type\":\"Selection\"},\"selection_policy\":{\"id\":\"1466\",\"type\":\"UnionRenderers\"}},\"id\":\"1422\",\"type\":\"ColumnDataSource\"},{\"attributes\":{},\"id\":\"1464\",\"type\":\"UnionRenderers\"},{\"attributes\":{},\"id\":\"1466\",\"type\":\"UnionRenderers\"},{\"attributes\":{},\"id\":\"1393\",\"type\":\"BasicTicker\"},{\"attributes\":{},\"id\":\"1407\",\"type\":\"HelpTool\"},{\"attributes\":{\"bottom_units\":\"screen\",\"fill_alpha\":{\"value\":0.5},\"fill_color\":{\"value\":\"lightgrey\"},\"left_units\":\"screen\",\"level\":\"overlay\",\"line_alpha\":{\"value\":1.0},\"line_color\":{\"value\":\"black\"},\"line_dash\":[4,4],\"line_width\":{\"value\":2},\"render_mode\":\"css\",\"right_units\":\"screen\",\"top_units\":\"screen\"},\"id\":\"1462\",\"type\":\"BoxAnnotation\"},{\"attributes\":{},\"id\":\"1465\",\"type\":\"Selection\"},{\"attributes\":{\"line_alpha\":0.1,\"line_color\":\"#1f77b4\",\"x\":{\"field\":\"x\"},\"y\":{\"field\":\"y\"}},\"id\":\"1417\",\"type\":\"Line\"},{\"attributes\":{},\"id\":\"1461\",\"type\":\"BasicTickFormatter\"},{\"attributes\":{},\"id\":\"1403\",\"type\":\"WheelZoomTool\"},{\"attributes\":{},\"id\":\"1402\",\"type\":\"PanTool\"},{\"attributes\":{},\"id\":\"1405\",\"type\":\"SaveTool\"},{\"attributes\":{\"text\":\"17:40:42.2113, -53:40:37.6137, 606\"},\"id\":\"1382\",\"type\":\"Title\"},{\"attributes\":{\"source\":{\"id\":\"1415\",\"type\":\"ColumnDataSource\"}},\"id\":\"1419\",\"type\":\"CDSView\"},{\"attributes\":{\"line_color\":\"#1f77b4\",\"x\":{\"field\":\"x\"},\"y\":{\"field\":\"y\"}},\"id\":\"1416\",\"type\":\"Line\"},{\"attributes\":{},\"id\":\"1388\",\"type\":\"LinearScale\"},{\"attributes\":{\"formatter\":{\"id\":\"1459\",\"type\":\"BasicTickFormatter\"},\"ticker\":{\"id\":\"1393\",\"type\":\"BasicTicker\"}},\"id\":\"1392\",\"type\":\"LinearAxis\"},{\"attributes\":{\"callback\":null,\"tooltips\":[[\"(x,y)\",\"($x{1}, $y)\"]]},\"id\":\"1420\",\"type\":\"HoverTool\"},{\"attributes\":{\"callback\":null,\"data\":{\"x\":{\"__ndarray__\":\"////Pxn6uUD///8/Wfu5QP///z+Z/LlA////P9n9uUD///8/Gf+5QP///z9ZALpA////P5kBukD///8/2QK6QP///z8ZBLpA////P1kFukD///8/mQa6QP///z/ZB7pA////PxkJukD///8/WQq6QP///z+ZC7pA////P9kMukD///8/GQ66QP///z9ZD7pA////P5kQukD///8/2RG6QP///z8ZE7pA////P1kUukD///8/mRW6QP///z/ZFrpA////PxkYukD///8/WRm6QP///z+ZGrpA////P9kbukD///8/GR26QP///z9ZHrpA////P5kfukD///8/2SC6QP///z8ZIrpA////P1kjukD///8/mSS6QP///z/ZJbpA////PxknukD///8/WSi6QP///z+ZKbpA////P9kqukD///8/GSy6QP///z9ZLbpA////P5kuukD///8/2S+6QP///z8ZMbpA////P1kyukD///8/mTO6QP///z/ZNLpA////Pxk2ukD///8/WTe6QP///z+ZOLpA////P9k5ukD///8/GTu6QP///z9ZPLpA////P5k9ukD///8/2T66QP///z8ZQLpA////P1lBukD///8/mUK6QP///z/ZQ7pA////PxlFukD///8/WUa6QP///z+ZR7pA////P9lIukD///8/GUq6QP///z9ZS7pA////P5lMukD///8/2U26QP///z8ZT7pA////P1lQukD///8/mVG6QP///z/ZUrpA////PxlUukD///8/WVW6QP///z+ZVrpA////P9lXukD///8/GVm6QP///z9ZWrpA////P5lbukD///8/2Vy6QP///z8ZXrpA////P1lfukD///8/mWC6QP///z/ZYbpA////PxljukD///8/WWS6QP///z+ZZbpA////P9lmukD///8/GWi6QP///z9ZabpA////P5lqukD///8/2Wu6QP///z8ZbbpA////P1luukD///8/mW+6QP///z/ZcLpA////PxlyukD///8/WXO6QP///z+ZdLpA////P9l1ukD///8/GXe6QP///z9ZeLpA////P5l5ukD///8/2Xq6QP///z8ZfLpA////P1l9ukD///8/mX66QP///z/Zf7pA////PxmBukD///8/WYK6QP///z+Zg7pA////P9mEukD///8/GYa6QP///z9Zh7pA////P5mIukD///8/2Ym6QP///z8Zi7pA////P1mMukD///8/mY26QP///z/ZjrpA////PxmQukD///8/WZG6QP///z+ZkrpA////P9mTukD///8/GZW6QP///z9ZlrpA////P5mXukD///8/2Zi6QP///z8ZmrpA////P1mbukD///8/mZy6QP///z/ZnbpA////PxmfukD///8/WaC6QP///z+ZobpA////P9miukA=\",\"dtype\":\"float64\",\"shape\":[136]},\"y\":[3.8509905338287354,36.11610412597656,-15.937996864318848,-17.705358505249023,-40.122501373291016,-60.954078674316406,4.1837053298950195,-13.96696662902832,48.13785171508789,194.85411071777344,-5.101372241973877,112.1698226928711,54.770721435546875,4.767739772796631,88.79222106933594,105.36125183105469,96.95140075683594,92.66813659667969,79.82884216308594,12.899815559387207,22.700891494750977,87.15101623535156,38.58270263671875,11.439800262451172,-23.256202697753906,-44.43157958984375,14.296971321105957,-2.1530680656433105,23.923866271972656,27.78217124938965,72.18112182617188,49.77648162841797,68.71424865722656,52.53543472290039,120.48612976074219,261.68450927734375,226.2443389892578,27.479572296142578,10.99764347076416,-19.98563003540039,-1.3823583126068115,1.4153687953948975,11.693684577941895,-12.352099418640137,45.522159576416016,53.38383865356445,-46.72506332397461,-49.19077682495117,10.69567584991455,1.4958242177963257,0.6452128887176514,22.917768478393555,84.31202697753906,57.52964401245117,100.73468780517578,65.05361938476562,51.3726692199707,0.19867447018623352,-24.32578468322754,-25.049100875854492,-19.118974685668945,62.1928596496582,25.62395668029785,23.252925872802734,32.268245697021484,54.99462127685547,79.09172821044922,-11.703632354736328,-75.00473022460938,-102.32646179199219,-28.416378021240234,-15.015213012695312,-4.896886348724365,-72.4322509765625,-46.531211853027344,-18.173513412475586,-0.17287331819534302,49.31958770751953,-49.276947021484375,-16.33771514892578,-34.90788650512695,-71.82388305664062,-34.82423400878906,-36.436038970947266,-41.708126068115234,-7.1639275550842285,-13.757795333862305,251.54322814941406,163.46620178222656,27.104141235351562,12.18628978729248,-33.414546966552734,3.0245273113250732,-15.103171348571777,-20.079383850097656,-92.76250457763672,-34.01313781738281,-65.3198013305664,-27.6380672454834,-49.62833023071289,-62.038150787353516,-29.166358947753906,-3.6667609214782715,-35.98296356201172,-14.914522171020508,12.887191772460938,-43.38153076171875,4.148204803466797,-30.37272071838379,14.023953437805176,10.598969459533691,40.85550308227539,18.114351272583008,-13.866425514221191,-71.01651763916016,-26.195785522460938,-20.315853118896484,9.89232349395752,-28.09811019897461,3.86860728263855,46.320796966552734,17.838777542114258,-60.543025970458984,45.896827697753906,94.76111602783203,28.627962112426758,61.290828704833984,-14.129193305969238,20.942113876342773,4.929069995880127,55.85877227783203,-13.855450630187988,-1.1225310564041138,47.39517593383789,-64.86043548583984,4.403115272521973]},\"selected\":{\"id\":\"1463\",\"type\":\"Selection\"},\"selection_policy\":{\"id\":\"1464\",\"type\":\"UnionRenderers\"}},\"id\":\"1415\",\"type\":\"ColumnDataSource\"},{\"attributes\":{},\"id\":\"1390\",\"type\":\"LinearScale\"},{\"attributes\":{\"active_drag\":{\"id\":\"1404\",\"type\":\"BoxZoomTool\"},\"active_inspect\":\"auto\",\"active_multi\":null,\"active_scroll\":{\"id\":\"1403\",\"type\":\"WheelZoomTool\"},\"active_tap\":\"auto\",\"tools\":[{\"id\":\"1402\",\"type\":\"PanTool\"},{\"id\":\"1403\",\"type\":\"WheelZoomTool\"},{\"id\":\"1404\",\"type\":\"BoxZoomTool\"},{\"id\":\"1405\",\"type\":\"SaveTool\"},{\"id\":\"1406\",\"type\":\"ResetTool\"},{\"id\":\"1407\",\"type\":\"HelpTool\"},{\"id\":\"1420\",\"type\":\"HoverTool\"}]},\"id\":\"1408\",\"type\":\"Toolbar\"},{\"attributes\":{},\"id\":\"1463\",\"type\":\"Selection\"},{\"attributes\":{\"source\":{\"id\":\"1422\",\"type\":\"ColumnDataSource\"}},\"id\":\"1426\",\"type\":\"CDSView\"},{\"attributes\":{\"line_color\":\"red\",\"x\":{\"field\":\"x\"},\"y\":{\"field\":\"y\"}},\"id\":\"1423\",\"type\":\"Line\"},{\"attributes\":{\"data_source\":{\"id\":\"1415\",\"type\":\"ColumnDataSource\"},\"glyph\":{\"id\":\"1416\",\"type\":\"Line\"},\"hover_glyph\":null,\"muted_glyph\":null,\"nonselection_glyph\":{\"id\":\"1417\",\"type\":\"Line\"},\"selection_glyph\":null,\"view\":{\"id\":\"1419\",\"type\":\"CDSView\"}},\"id\":\"1418\",\"type\":\"GlyphRenderer\"},{\"attributes\":{\"line_alpha\":0.1,\"line_color\":\"#1f77b4\",\"x\":{\"field\":\"x\"},\"y\":{\"field\":\"y\"}},\"id\":\"1424\",\"type\":\"Line\"},{\"attributes\":{\"callback\":null},\"id\":\"1384\",\"type\":\"DataRange1d\"}],\"root_ids\":[\"1381\"]},\"title\":\"Bokeh Application\",\"version\":\"1.1.0\"}};\n",
       "  var render_items = [{\"docid\":\"2ba0146c-ac0c-41a0-8d35-bd9f95a3a105\",\"roots\":{\"1381\":\"81fd32cc-0f04-4026-af2c-01419dbf10b8\"}}];\n",
       "  root.Bokeh.embed.embed_items_notebook(docs_json, render_items);\n",
       "\n",
       "  }\n",
       "  if (root.Bokeh !== undefined) {\n",
       "    embed_document(root);\n",
       "  } else {\n",
       "    var attempts = 0;\n",
       "    var timer = setInterval(function(root) {\n",
       "      if (root.Bokeh !== undefined) {\n",
       "        embed_document(root);\n",
       "        clearInterval(timer);\n",
       "      }\n",
       "      attempts++;\n",
       "      if (attempts > 100) {\n",
       "        console.log(\"Bokeh: ERROR: Unable to run BokehJS code because BokehJS library is missing\");\n",
       "        clearInterval(timer);\n",
       "      }\n",
       "    }, 10, root)\n",
       "  }\n",
       "})(window);"
      ],
      "application/vnd.bokehjs_exec.v0+json": ""
     },
     "metadata": {
      "application/vnd.bokehjs_exec.v0+json": {
       "id": "1381"
      }
     },
     "output_type": "display_data"
    },
    {
     "name": "stderr",
     "output_type": "stream",
     "text": [
      "WARNING: gnorm=0.   wa2=[1.42250965e-03 1.33883430e-05 1.51230269e-07] [pyspeckit.mpfit.mpfit]\n"
     ]
    },
    {
     "data": {
      "text/html": [
       "\n",
       "\n",
       "\n",
       "\n",
       "\n",
       "\n",
       "  <div class=\"bk-root\" id=\"ba6829b9-8eea-451e-9440-ab779f9cdccf\" data-root-id=\"1527\"></div>\n"
      ]
     },
     "metadata": {},
     "output_type": "display_data"
    },
    {
     "data": {
      "application/javascript": [
       "(function(root) {\n",
       "  function embed_document(root) {\n",
       "    \n",
       "  var docs_json = {\"e3d45fca-e909-467a-8ffc-b6c13f596f66\":{\"roots\":{\"references\":[{\"attributes\":{\"below\":[{\"id\":\"1538\",\"type\":\"LinearAxis\"}],\"center\":[{\"id\":\"1542\",\"type\":\"Grid\"},{\"id\":\"1547\",\"type\":\"Grid\"}],\"left\":[{\"id\":\"1543\",\"type\":\"LinearAxis\"}],\"plot_height\":500,\"plot_width\":900,\"renderers\":[{\"id\":\"1564\",\"type\":\"GlyphRenderer\"},{\"id\":\"1571\",\"type\":\"GlyphRenderer\"}],\"title\":{\"id\":\"1528\",\"type\":\"Title\"},\"toolbar\":{\"id\":\"1554\",\"type\":\"Toolbar\"},\"x_range\":{\"id\":\"1530\",\"type\":\"DataRange1d\"},\"x_scale\":{\"id\":\"1534\",\"type\":\"LinearScale\"},\"y_range\":{\"id\":\"1532\",\"type\":\"DataRange1d\"},\"y_scale\":{\"id\":\"1536\",\"type\":\"LinearScale\"}},\"id\":\"1527\",\"subtype\":\"Figure\",\"type\":\"Plot\"},{\"attributes\":{\"callback\":null},\"id\":\"1530\",\"type\":\"DataRange1d\"},{\"attributes\":{\"callback\":null,\"tooltips\":[[\"(x,y)\",\"($x{1}, $y)\"]]},\"id\":\"1566\",\"type\":\"HoverTool\"},{\"attributes\":{\"callback\":null,\"data\":{\"x\":{\"__ndarray__\":\"////P1kjukD///8/mSS6QP///z/ZJbpA\",\"dtype\":\"float64\",\"shape\":[3]},\"y\":[103.95701599121094,429.47320556640625,159.80404663085938]},\"selected\":{\"id\":\"1621\",\"type\":\"Selection\"},\"selection_policy\":{\"id\":\"1622\",\"type\":\"UnionRenderers\"}},\"id\":\"1568\",\"type\":\"ColumnDataSource\"},{\"attributes\":{\"source\":{\"id\":\"1561\",\"type\":\"ColumnDataSource\"}},\"id\":\"1565\",\"type\":\"CDSView\"},{\"attributes\":{},\"id\":\"1552\",\"type\":\"ResetTool\"},{\"attributes\":{},\"id\":\"1619\",\"type\":\"Selection\"},{\"attributes\":{\"data_source\":{\"id\":\"1561\",\"type\":\"ColumnDataSource\"},\"glyph\":{\"id\":\"1562\",\"type\":\"Line\"},\"hover_glyph\":null,\"muted_glyph\":null,\"nonselection_glyph\":{\"id\":\"1563\",\"type\":\"Line\"},\"selection_glyph\":null,\"view\":{\"id\":\"1565\",\"type\":\"CDSView\"}},\"id\":\"1564\",\"type\":\"GlyphRenderer\"},{\"attributes\":{\"active_drag\":{\"id\":\"1550\",\"type\":\"BoxZoomTool\"},\"active_inspect\":\"auto\",\"active_multi\":null,\"active_scroll\":{\"id\":\"1549\",\"type\":\"WheelZoomTool\"},\"active_tap\":\"auto\",\"tools\":[{\"id\":\"1548\",\"type\":\"PanTool\"},{\"id\":\"1549\",\"type\":\"WheelZoomTool\"},{\"id\":\"1550\",\"type\":\"BoxZoomTool\"},{\"id\":\"1551\",\"type\":\"SaveTool\"},{\"id\":\"1552\",\"type\":\"ResetTool\"},{\"id\":\"1553\",\"type\":\"HelpTool\"},{\"id\":\"1566\",\"type\":\"HoverTool\"}]},\"id\":\"1554\",\"type\":\"Toolbar\"},{\"attributes\":{},\"id\":\"1548\",\"type\":\"PanTool\"},{\"attributes\":{},\"id\":\"1553\",\"type\":\"HelpTool\"},{\"attributes\":{\"formatter\":{\"id\":\"1617\",\"type\":\"BasicTickFormatter\"},\"ticker\":{\"id\":\"1544\",\"type\":\"BasicTicker\"}},\"id\":\"1543\",\"type\":\"LinearAxis\"},{\"attributes\":{\"callback\":null},\"id\":\"1532\",\"type\":\"DataRange1d\"},{\"attributes\":{\"callback\":null,\"data\":{\"x\":{\"__ndarray__\":\"////Pxn6uUD///8/Wfu5QP///z+Z/LlA////P9n9uUD///8/Gf+5QP///z9ZALpA////P5kBukD///8/2QK6QP///z8ZBLpA////P1kFukD///8/mQa6QP///z/ZB7pA////PxkJukD///8/WQq6QP///z+ZC7pA////P9kMukD///8/GQ66QP///z9ZD7pA////P5kQukD///8/2RG6QP///z8ZE7pA////P1kUukD///8/mRW6QP///z/ZFrpA////PxkYukD///8/WRm6QP///z+ZGrpA////P9kbukD///8/GR26QP///z9ZHrpA////P5kfukD///8/2SC6QP///z8ZIrpA////P1kjukD///8/mSS6QP///z/ZJbpA////PxknukD///8/WSi6QP///z+ZKbpA////P9kqukD///8/GSy6QP///z9ZLbpA////P5kuukD///8/2S+6QP///z8ZMbpA////P1kyukD///8/mTO6QP///z/ZNLpA////Pxk2ukD///8/WTe6QP///z+ZOLpA////P9k5ukD///8/GTu6QP///z9ZPLpA////P5k9ukD///8/2T66QP///z8ZQLpA////P1lBukD///8/mUK6QP///z/ZQ7pA////PxlFukD///8/WUa6QP///z+ZR7pA////P9lIukD///8/GUq6QP///z9ZS7pA////P5lMukD///8/2U26QP///z8ZT7pA////P1lQukD///8/mVG6QP///z/ZUrpA////PxlUukD///8/WVW6QP///z+ZVrpA////P9lXukD///8/GVm6QP///z9ZWrpA////P5lbukD///8/2Vy6QP///z8ZXrpA////P1lfukD///8/mWC6QP///z/ZYbpA////PxljukD///8/WWS6QP///z+ZZbpA////P9lmukD///8/GWi6QP///z9ZabpA////P5lqukD///8/2Wu6QP///z8ZbbpA////P1luukD///8/mW+6QP///z/ZcLpA////PxlyukD///8/WXO6QP///z+ZdLpA////P9l1ukD///8/GXe6QP///z9ZeLpA////P5l5ukD///8/2Xq6QP///z8ZfLpA////P1l9ukD///8/mX66QP///z/Zf7pA////PxmBukD///8/WYK6QP///z+Zg7pA////P9mEukD///8/GYa6QP///z9Zh7pA////P5mIukD///8/2Ym6QP///z8Zi7pA////P1mMukD///8/mY26QP///z/ZjrpA////PxmQukD///8/WZG6QP///z+ZkrpA////P9mTukD///8/GZW6QP///z9ZlrpA////P5mXukD///8/2Zi6QP///z8ZmrpA////P1mbukD///8/mZy6QP///z/ZnbpA////PxmfukD///8/WaC6QP///z+ZobpA////P9miukA=\",\"dtype\":\"float64\",\"shape\":[136]},\"y\":[18.80413818359375,40.06139373779297,14.672088623046875,-29.00293731689453,-5.526429176330566,5.191457748413086,-3.937899589538574,-54.40717697143555,-4.492254257202148,-14.564834594726562,3.737386465072632,-56.62343215942383,15.254075050354004,29.375524520874023,31.747140884399414,-46.529144287109375,-26.276945114135742,-4.814614772796631,-2.1668145656585693,-12.11479377746582,-3.5845787525177,28.667484283447266,-27.628381729125977,-0.8994213342666626,-19.1583309173584,-25.373249053955078,16.31104850769043,-47.862762451171875,-1.2477115392684937,-35.69132995605469,32.06761169433594,36.82476806640625,-23.26849365234375,103.95701599121094,429.47320556640625,159.80404663085938,-9.010714530944824,15.026012420654297,-44.306114196777344,-34.65784454345703,-11.713632583618164,1.4314298629760742,-3.780029058456421,36.1368522644043,-21.388723373413086,-21.630441665649414,-44.40739440917969,-36.05258560180664,21.180688858032227,28.827701568603516,-7.707123279571533,-18.25569725036621,31.78732681274414,35.92012023925781,54.990943908691406,3.4171621799468994,-14.006793975830078,25.766437530517578,-17.829545974731445,-48.69904327392578,-20.090715408325195,-17.67850685119629,-19.873674392700195,44.19353103637695,19.753215789794922,30.179523468017578,-38.14644241333008,6.682053089141846,23.534154891967773,12.620923042297363,-1.281278371810913,36.341590881347656,10.708279609680176,13.738099098205566,-35.22361373901367,-6.312841415405273,-6.23698616027832,-5.674879550933838,7.332585334777832,33.73889923095703,-7.936406135559082,37.03603744506836,4.7011566162109375,-39.7778434753418,-11.40694808959961,-27.0731143951416,-6.613626003265381,-43.889320373535156,31.95917510986328,25.768287658691406,11.579766273498535,-35.05316925048828,-32.888816833496094,-9.499931335449219,50.554161071777344,-12.640604019165039,29.411502838134766,-16.011198043823242,-49.58460998535156,21.467023849487305,-8.71908950805664,-24.82422637939453,-20.6057071685791,21.815004348754883,24.181684494018555,-20.259204864501953,-36.936500549316406,-10.393293380737305,22.613706588745117,-7.07895565032959,1.1030611991882324,4.942960739135742,-9.424491882324219,11.464326858520508,6.258098602294922,0.7422230839729309,25.78645133972168,36.723670959472656,-19.076858520507812,-16.842796325683594,-0.9635464549064636,13.653419494628906,36.64018249511719,-31.998865127563477,-13.06108283996582,1.6300398111343384,12.108927726745605,13.411469459533691,-2.345025062561035,30.77291488647461,0.6821613907814026,-44.970680236816406,20.440364837646484,-6.373763561248779,-20.515361785888672,9.457222938537598]},\"selected\":{\"id\":\"1619\",\"type\":\"Selection\"},\"selection_policy\":{\"id\":\"1620\",\"type\":\"UnionRenderers\"}},\"id\":\"1561\",\"type\":\"ColumnDataSource\"},{\"attributes\":{\"source\":{\"id\":\"1568\",\"type\":\"ColumnDataSource\"}},\"id\":\"1572\",\"type\":\"CDSView\"},{\"attributes\":{\"bottom_units\":\"screen\",\"fill_alpha\":{\"value\":0.5},\"fill_color\":{\"value\":\"lightgrey\"},\"left_units\":\"screen\",\"level\":\"overlay\",\"line_alpha\":{\"value\":1.0},\"line_color\":{\"value\":\"black\"},\"line_dash\":[4,4],\"line_width\":{\"value\":2},\"render_mode\":\"css\",\"right_units\":\"screen\",\"top_units\":\"screen\"},\"id\":\"1618\",\"type\":\"BoxAnnotation\"},{\"attributes\":{},\"id\":\"1551\",\"type\":\"SaveTool\"},{\"attributes\":{},\"id\":\"1622\",\"type\":\"UnionRenderers\"},{\"attributes\":{},\"id\":\"1549\",\"type\":\"WheelZoomTool\"},{\"attributes\":{},\"id\":\"1536\",\"type\":\"LinearScale\"},{\"attributes\":{\"line_alpha\":0.1,\"line_color\":\"#1f77b4\",\"x\":{\"field\":\"x\"},\"y\":{\"field\":\"y\"}},\"id\":\"1570\",\"type\":\"Line\"},{\"attributes\":{\"line_color\":\"red\",\"x\":{\"field\":\"x\"},\"y\":{\"field\":\"y\"}},\"id\":\"1569\",\"type\":\"Line\"},{\"attributes\":{},\"id\":\"1615\",\"type\":\"BasicTickFormatter\"},{\"attributes\":{},\"id\":\"1544\",\"type\":\"BasicTicker\"},{\"attributes\":{\"line_color\":\"#1f77b4\",\"x\":{\"field\":\"x\"},\"y\":{\"field\":\"y\"}},\"id\":\"1562\",\"type\":\"Line\"},{\"attributes\":{\"ticker\":{\"id\":\"1539\",\"type\":\"BasicTicker\"}},\"id\":\"1542\",\"type\":\"Grid\"},{\"attributes\":{\"dimension\":1,\"ticker\":{\"id\":\"1544\",\"type\":\"BasicTicker\"}},\"id\":\"1547\",\"type\":\"Grid\"},{\"attributes\":{},\"id\":\"1620\",\"type\":\"UnionRenderers\"},{\"attributes\":{\"line_alpha\":0.1,\"line_color\":\"#1f77b4\",\"x\":{\"field\":\"x\"},\"y\":{\"field\":\"y\"}},\"id\":\"1563\",\"type\":\"Line\"},{\"attributes\":{},\"id\":\"1534\",\"type\":\"LinearScale\"},{\"attributes\":{},\"id\":\"1621\",\"type\":\"Selection\"},{\"attributes\":{\"text\":\"17:40:39.8113, -53:40:28.6137, 1014\"},\"id\":\"1528\",\"type\":\"Title\"},{\"attributes\":{\"data_source\":{\"id\":\"1568\",\"type\":\"ColumnDataSource\"},\"glyph\":{\"id\":\"1569\",\"type\":\"Line\"},\"hover_glyph\":null,\"muted_glyph\":null,\"nonselection_glyph\":{\"id\":\"1570\",\"type\":\"Line\"},\"selection_glyph\":null,\"view\":{\"id\":\"1572\",\"type\":\"CDSView\"}},\"id\":\"1571\",\"type\":\"GlyphRenderer\"},{\"attributes\":{},\"id\":\"1617\",\"type\":\"BasicTickFormatter\"},{\"attributes\":{\"formatter\":{\"id\":\"1615\",\"type\":\"BasicTickFormatter\"},\"ticker\":{\"id\":\"1539\",\"type\":\"BasicTicker\"}},\"id\":\"1538\",\"type\":\"LinearAxis\"},{\"attributes\":{\"overlay\":{\"id\":\"1618\",\"type\":\"BoxAnnotation\"}},\"id\":\"1550\",\"type\":\"BoxZoomTool\"},{\"attributes\":{},\"id\":\"1539\",\"type\":\"BasicTicker\"}],\"root_ids\":[\"1527\"]},\"title\":\"Bokeh Application\",\"version\":\"1.1.0\"}};\n",
       "  var render_items = [{\"docid\":\"e3d45fca-e909-467a-8ffc-b6c13f596f66\",\"roots\":{\"1527\":\"ba6829b9-8eea-451e-9440-ab779f9cdccf\"}}];\n",
       "  root.Bokeh.embed.embed_items_notebook(docs_json, render_items);\n",
       "\n",
       "  }\n",
       "  if (root.Bokeh !== undefined) {\n",
       "    embed_document(root);\n",
       "  } else {\n",
       "    var attempts = 0;\n",
       "    var timer = setInterval(function(root) {\n",
       "      if (root.Bokeh !== undefined) {\n",
       "        embed_document(root);\n",
       "        clearInterval(timer);\n",
       "      }\n",
       "      attempts++;\n",
       "      if (attempts > 100) {\n",
       "        console.log(\"Bokeh: ERROR: Unable to run BokehJS code because BokehJS library is missing\");\n",
       "        clearInterval(timer);\n",
       "      }\n",
       "    }, 10, root)\n",
       "  }\n",
       "})(window);"
      ],
      "application/vnd.bokehjs_exec.v0+json": ""
     },
     "metadata": {
      "application/vnd.bokehjs_exec.v0+json": {
       "id": "1527"
      }
     },
     "output_type": "display_data"
    },
    {
     "name": "stderr",
     "output_type": "stream",
     "text": [
      "WARNING: gnorm=0.   wa2=[1.42250965e-03 1.33883430e-05 1.51230269e-07] [pyspeckit.mpfit.mpfit]\n"
     ]
    },
    {
     "data": {
      "text/html": [
       "\n",
       "\n",
       "\n",
       "\n",
       "\n",
       "\n",
       "  <div class=\"bk-root\" id=\"7a1bfcea-51b5-47fe-8fda-75c1967c3370\" data-root-id=\"1683\"></div>\n"
      ]
     },
     "metadata": {},
     "output_type": "display_data"
    },
    {
     "data": {
      "application/javascript": [
       "(function(root) {\n",
       "  function embed_document(root) {\n",
       "    \n",
       "  var docs_json = {\"ee3b8967-a4b4-4703-9c0c-20a069e79cc5\":{\"roots\":{\"references\":[{\"attributes\":{\"below\":[{\"id\":\"1694\",\"type\":\"LinearAxis\"}],\"center\":[{\"id\":\"1698\",\"type\":\"Grid\"},{\"id\":\"1703\",\"type\":\"Grid\"}],\"left\":[{\"id\":\"1699\",\"type\":\"LinearAxis\"}],\"plot_height\":500,\"plot_width\":900,\"renderers\":[{\"id\":\"1720\",\"type\":\"GlyphRenderer\"},{\"id\":\"1727\",\"type\":\"GlyphRenderer\"}],\"title\":{\"id\":\"1684\",\"type\":\"Title\"},\"toolbar\":{\"id\":\"1710\",\"type\":\"Toolbar\"},\"x_range\":{\"id\":\"1686\",\"type\":\"DataRange1d\"},\"x_scale\":{\"id\":\"1690\",\"type\":\"LinearScale\"},\"y_range\":{\"id\":\"1688\",\"type\":\"DataRange1d\"},\"y_scale\":{\"id\":\"1692\",\"type\":\"LinearScale\"}},\"id\":\"1683\",\"subtype\":\"Figure\",\"type\":\"Plot\"},{\"attributes\":{\"ticker\":{\"id\":\"1695\",\"type\":\"BasicTicker\"}},\"id\":\"1698\",\"type\":\"Grid\"},{\"attributes\":{\"line_alpha\":0.1,\"line_color\":\"#1f77b4\",\"x\":{\"field\":\"x\"},\"y\":{\"field\":\"y\"}},\"id\":\"1719\",\"type\":\"Line\"},{\"attributes\":{\"line_color\":\"#1f77b4\",\"x\":{\"field\":\"x\"},\"y\":{\"field\":\"y\"}},\"id\":\"1718\",\"type\":\"Line\"},{\"attributes\":{\"callback\":null},\"id\":\"1686\",\"type\":\"DataRange1d\"},{\"attributes\":{\"data_source\":{\"id\":\"1717\",\"type\":\"ColumnDataSource\"},\"glyph\":{\"id\":\"1718\",\"type\":\"Line\"},\"hover_glyph\":null,\"muted_glyph\":null,\"nonselection_glyph\":{\"id\":\"1719\",\"type\":\"Line\"},\"selection_glyph\":null,\"view\":{\"id\":\"1721\",\"type\":\"CDSView\"}},\"id\":\"1720\",\"type\":\"GlyphRenderer\"},{\"attributes\":{},\"id\":\"1692\",\"type\":\"LinearScale\"},{\"attributes\":{},\"id\":\"1704\",\"type\":\"PanTool\"},{\"attributes\":{},\"id\":\"1705\",\"type\":\"WheelZoomTool\"},{\"attributes\":{},\"id\":\"1786\",\"type\":\"UnionRenderers\"},{\"attributes\":{\"overlay\":{\"id\":\"1784\",\"type\":\"BoxAnnotation\"}},\"id\":\"1706\",\"type\":\"BoxZoomTool\"},{\"attributes\":{\"formatter\":{\"id\":\"1781\",\"type\":\"BasicTickFormatter\"},\"ticker\":{\"id\":\"1695\",\"type\":\"BasicTicker\"}},\"id\":\"1694\",\"type\":\"LinearAxis\"},{\"attributes\":{},\"id\":\"1707\",\"type\":\"SaveTool\"},{\"attributes\":{\"callback\":null},\"id\":\"1688\",\"type\":\"DataRange1d\"},{\"attributes\":{},\"id\":\"1785\",\"type\":\"Selection\"},{\"attributes\":{},\"id\":\"1708\",\"type\":\"ResetTool\"},{\"attributes\":{},\"id\":\"1709\",\"type\":\"HelpTool\"},{\"attributes\":{},\"id\":\"1788\",\"type\":\"UnionRenderers\"},{\"attributes\":{\"active_drag\":{\"id\":\"1706\",\"type\":\"BoxZoomTool\"},\"active_inspect\":\"auto\",\"active_multi\":null,\"active_scroll\":{\"id\":\"1705\",\"type\":\"WheelZoomTool\"},\"active_tap\":\"auto\",\"tools\":[{\"id\":\"1704\",\"type\":\"PanTool\"},{\"id\":\"1705\",\"type\":\"WheelZoomTool\"},{\"id\":\"1706\",\"type\":\"BoxZoomTool\"},{\"id\":\"1707\",\"type\":\"SaveTool\"},{\"id\":\"1708\",\"type\":\"ResetTool\"},{\"id\":\"1709\",\"type\":\"HelpTool\"},{\"id\":\"1722\",\"type\":\"HoverTool\"}]},\"id\":\"1710\",\"type\":\"Toolbar\"},{\"attributes\":{},\"id\":\"1700\",\"type\":\"BasicTicker\"},{\"attributes\":{},\"id\":\"1695\",\"type\":\"BasicTicker\"},{\"attributes\":{\"source\":{\"id\":\"1717\",\"type\":\"ColumnDataSource\"}},\"id\":\"1721\",\"type\":\"CDSView\"},{\"attributes\":{},\"id\":\"1781\",\"type\":\"BasicTickFormatter\"},{\"attributes\":{\"callback\":null,\"tooltips\":[[\"(x,y)\",\"($x{1}, $y)\"]]},\"id\":\"1722\",\"type\":\"HoverTool\"},{\"attributes\":{},\"id\":\"1690\",\"type\":\"LinearScale\"},{\"attributes\":{\"bottom_units\":\"screen\",\"fill_alpha\":{\"value\":0.5},\"fill_color\":{\"value\":\"lightgrey\"},\"left_units\":\"screen\",\"level\":\"overlay\",\"line_alpha\":{\"value\":1.0},\"line_color\":{\"value\":\"black\"},\"line_dash\":[4,4],\"line_width\":{\"value\":2},\"render_mode\":\"css\",\"right_units\":\"screen\",\"top_units\":\"screen\"},\"id\":\"1784\",\"type\":\"BoxAnnotation\"},{\"attributes\":{\"callback\":null,\"data\":{\"x\":{\"__ndarray__\":\"////P9kRukD///8/GRO6QP///z9ZFLpA\",\"dtype\":\"float64\",\"shape\":[3]},\"y\":[449.5433654785156,1897.5877685546875,1331.1551513671875]},\"selected\":{\"id\":\"1787\",\"type\":\"Selection\"},\"selection_policy\":{\"id\":\"1788\",\"type\":\"UnionRenderers\"}},\"id\":\"1724\",\"type\":\"ColumnDataSource\"},{\"attributes\":{\"line_color\":\"red\",\"x\":{\"field\":\"x\"},\"y\":{\"field\":\"y\"}},\"id\":\"1725\",\"type\":\"Line\"},{\"attributes\":{\"text\":\"17:40:41.5113, -53:40:27.1137, 1103\"},\"id\":\"1684\",\"type\":\"Title\"},{\"attributes\":{\"line_alpha\":0.1,\"line_color\":\"#1f77b4\",\"x\":{\"field\":\"x\"},\"y\":{\"field\":\"y\"}},\"id\":\"1726\",\"type\":\"Line\"},{\"attributes\":{\"callback\":null,\"data\":{\"x\":{\"__ndarray__\":\"////Pxn6uUD///8/Wfu5QP///z+Z/LlA////P9n9uUD///8/Gf+5QP///z9ZALpA////P5kBukD///8/2QK6QP///z8ZBLpA////P1kFukD///8/mQa6QP///z/ZB7pA////PxkJukD///8/WQq6QP///z+ZC7pA////P9kMukD///8/GQ66QP///z9ZD7pA////P5kQukD///8/2RG6QP///z8ZE7pA////P1kUukD///8/mRW6QP///z/ZFrpA////PxkYukD///8/WRm6QP///z+ZGrpA////P9kbukD///8/GR26QP///z9ZHrpA////P5kfukD///8/2SC6QP///z8ZIrpA////P1kjukD///8/mSS6QP///z/ZJbpA////PxknukD///8/WSi6QP///z+ZKbpA////P9kqukD///8/GSy6QP///z9ZLbpA////P5kuukD///8/2S+6QP///z8ZMbpA////P1kyukD///8/mTO6QP///z/ZNLpA////Pxk2ukD///8/WTe6QP///z+ZOLpA////P9k5ukD///8/GTu6QP///z9ZPLpA////P5k9ukD///8/2T66QP///z8ZQLpA////P1lBukD///8/mUK6QP///z/ZQ7pA////PxlFukD///8/WUa6QP///z+ZR7pA////P9lIukD///8/GUq6QP///z9ZS7pA////P5lMukD///8/2U26QP///z8ZT7pA////P1lQukD///8/mVG6QP///z/ZUrpA////PxlUukD///8/WVW6QP///z+ZVrpA////P9lXukD///8/GVm6QP///z9ZWrpA////P5lbukD///8/2Vy6QP///z8ZXrpA////P1lfukD///8/mWC6QP///z/ZYbpA////PxljukD///8/WWS6QP///z+ZZbpA////P9lmukD///8/GWi6QP///z9ZabpA////P5lqukD///8/2Wu6QP///z8ZbbpA////P1luukD///8/mW+6QP///z/ZcLpA////PxlyukD///8/WXO6QP///z+ZdLpA////P9l1ukD///8/GXe6QP///z9ZeLpA////P5l5ukD///8/2Xq6QP///z8ZfLpA////P1l9ukD///8/mX66QP///z/Zf7pA////PxmBukD///8/WYK6QP///z+Zg7pA////P9mEukD///8/GYa6QP///z9Zh7pA////P5mIukD///8/2Ym6QP///z8Zi7pA////P1mMukD///8/mY26QP///z/ZjrpA////PxmQukD///8/WZG6QP///z+ZkrpA////P9mTukD///8/GZW6QP///z9ZlrpA////P5mXukD///8/2Zi6QP///z8ZmrpA////P1mbukD///8/mZy6QP///z/ZnbpA////PxmfukD///8/WaC6QP///z+ZobpA////P9miukA=\",\"dtype\":\"float64\",\"shape\":[136]},\"y\":[4.810169219970703,-77.03455352783203,-157.31324768066406,128.56195068359375,259.800048828125,152.54556274414062,-47.838218688964844,-152.47433471679688,-59.75343322753906,-57.85127639770508,-190.0315399169922,-27.73563003540039,199.9485626220703,14.345250129699707,12.30014419555664,156.72535705566406,95.9665756225586,177.61366271972656,79.94393920898438,449.5433654785156,1897.5877685546875,1331.1551513671875,-91.16654968261719,-62.070640563964844,78.4877700805664,-89.73936462402344,-28.921966552734375,-117.1830825805664,-26.594982147216797,220.4946746826172,27.943328857421875,-7.805678367614746,12.321876525878906,47.12482452392578,-48.0081672668457,-28.977487564086914,-6.7694621086120605,-131.55010986328125,96.68643188476562,10.50461483001709,20.250141143798828,-122.02425384521484,-55.941619873046875,141.53515625,124.71076202392578,-56.94214630126953,39.9943962097168,-134.65147399902344,-193.74110412597656,44.38957595825195,-6.913722515106201,-79.58460235595703,2.8378829956054688,-149.49978637695312,-306.1796569824219,61.763145446777344,-105.94093322753906,26.458112716674805,-96.17057800292969,74.47964477539062,14.943925857543945,133.69493103027344,11.650614738464355,-7.304243087768555,169.93777465820312,49.46455764770508,34.34446716308594,54.32164001464844,106.99568939208984,50.829505920410156,-68.13589477539062,-67.80872344970703,-125.13819122314453,117.6257095336914,-28.741647720336914,19.165996551513672,-21.024404525756836,210.65199279785156,63.97057342529297,53.66376876831055,-32.715694427490234,11.441561698913574,-73.05001068115234,53.67677688598633,21.711769104003906,-52.86300277709961,-51.231136322021484,8.40619945526123,133.53533935546875,127.06837463378906,138.3647003173828,53.79539108276367,14.231555938720703,142.94662475585938,-39.94220733642578,-117.37830352783203,7.261376857757568,-234.42355346679688,-78.4877700805664,-3.859027624130249,-31.65645408630371,126.52229309082031,57.42525863647461,-4.5100579261779785,53.122596740722656,51.848609924316406,-129.13475036621094,-188.55599975585938,-105.34288024902344,10.024147033691406,-121.22249603271484,-11.664839744567871,107.08969116210938,-62.08976364135742,8.011643409729004,58.7239875793457,113.62149047851562,74.42875671386719,58.23758316040039,52.6046142578125,-49.347103118896484,-102.88514709472656,19.302978515625,77.14110565185547,-55.015296936035156,-93.53927612304688,-73.62419891357422,-28.40677261352539,-11.676065444946289,-88.82074737548828,-21.008790969848633,-69.90035247802734,-40.34112548828125,133.95989990234375,153.81326293945312,11.631077766418457]},\"selected\":{\"id\":\"1785\",\"type\":\"Selection\"},\"selection_policy\":{\"id\":\"1786\",\"type\":\"UnionRenderers\"}},\"id\":\"1717\",\"type\":\"ColumnDataSource\"},{\"attributes\":{\"data_source\":{\"id\":\"1724\",\"type\":\"ColumnDataSource\"},\"glyph\":{\"id\":\"1725\",\"type\":\"Line\"},\"hover_glyph\":null,\"muted_glyph\":null,\"nonselection_glyph\":{\"id\":\"1726\",\"type\":\"Line\"},\"selection_glyph\":null,\"view\":{\"id\":\"1728\",\"type\":\"CDSView\"}},\"id\":\"1727\",\"type\":\"GlyphRenderer\"},{\"attributes\":{\"dimension\":1,\"ticker\":{\"id\":\"1700\",\"type\":\"BasicTicker\"}},\"id\":\"1703\",\"type\":\"Grid\"},{\"attributes\":{},\"id\":\"1783\",\"type\":\"BasicTickFormatter\"},{\"attributes\":{},\"id\":\"1787\",\"type\":\"Selection\"},{\"attributes\":{\"source\":{\"id\":\"1724\",\"type\":\"ColumnDataSource\"}},\"id\":\"1728\",\"type\":\"CDSView\"},{\"attributes\":{\"formatter\":{\"id\":\"1783\",\"type\":\"BasicTickFormatter\"},\"ticker\":{\"id\":\"1700\",\"type\":\"BasicTicker\"}},\"id\":\"1699\",\"type\":\"LinearAxis\"}],\"root_ids\":[\"1683\"]},\"title\":\"Bokeh Application\",\"version\":\"1.1.0\"}};\n",
       "  var render_items = [{\"docid\":\"ee3b8967-a4b4-4703-9c0c-20a069e79cc5\",\"roots\":{\"1683\":\"7a1bfcea-51b5-47fe-8fda-75c1967c3370\"}}];\n",
       "  root.Bokeh.embed.embed_items_notebook(docs_json, render_items);\n",
       "\n",
       "  }\n",
       "  if (root.Bokeh !== undefined) {\n",
       "    embed_document(root);\n",
       "  } else {\n",
       "    var attempts = 0;\n",
       "    var timer = setInterval(function(root) {\n",
       "      if (root.Bokeh !== undefined) {\n",
       "        embed_document(root);\n",
       "        clearInterval(timer);\n",
       "      }\n",
       "      attempts++;\n",
       "      if (attempts > 100) {\n",
       "        console.log(\"Bokeh: ERROR: Unable to run BokehJS code because BokehJS library is missing\");\n",
       "        clearInterval(timer);\n",
       "      }\n",
       "    }, 10, root)\n",
       "  }\n",
       "})(window);"
      ],
      "application/vnd.bokehjs_exec.v0+json": ""
     },
     "metadata": {
      "application/vnd.bokehjs_exec.v0+json": {
       "id": "1683"
      }
     },
     "output_type": "display_data"
    },
    {
     "data": {
      "text/html": [
       "\n",
       "\n",
       "\n",
       "\n",
       "\n",
       "\n",
       "  <div class=\"bk-root\" id=\"4aa63b83-0b29-4a8c-9dd0-599a045fac8d\" data-root-id=\"1849\"></div>\n"
      ]
     },
     "metadata": {},
     "output_type": "display_data"
    },
    {
     "data": {
      "application/javascript": [
       "(function(root) {\n",
       "  function embed_document(root) {\n",
       "    \n",
       "  var docs_json = {\"07b382df-3511-4d57-afae-6163bc1b056a\":{\"roots\":{\"references\":[{\"attributes\":{\"below\":[{\"id\":\"1860\",\"type\":\"LinearAxis\"}],\"center\":[{\"id\":\"1864\",\"type\":\"Grid\"},{\"id\":\"1869\",\"type\":\"Grid\"}],\"left\":[{\"id\":\"1865\",\"type\":\"LinearAxis\"}],\"plot_height\":500,\"plot_width\":900,\"renderers\":[{\"id\":\"1886\",\"type\":\"GlyphRenderer\"},{\"id\":\"1893\",\"type\":\"GlyphRenderer\"}],\"title\":{\"id\":\"1850\",\"type\":\"Title\"},\"toolbar\":{\"id\":\"1876\",\"type\":\"Toolbar\"},\"x_range\":{\"id\":\"1852\",\"type\":\"DataRange1d\"},\"x_scale\":{\"id\":\"1856\",\"type\":\"LinearScale\"},\"y_range\":{\"id\":\"1854\",\"type\":\"DataRange1d\"},\"y_scale\":{\"id\":\"1858\",\"type\":\"LinearScale\"}},\"id\":\"1849\",\"subtype\":\"Figure\",\"type\":\"Plot\"},{\"attributes\":{},\"id\":\"1871\",\"type\":\"WheelZoomTool\"},{\"attributes\":{\"data_source\":{\"id\":\"1883\",\"type\":\"ColumnDataSource\"},\"glyph\":{\"id\":\"1884\",\"type\":\"Line\"},\"hover_glyph\":null,\"muted_glyph\":null,\"nonselection_glyph\":{\"id\":\"1885\",\"type\":\"Line\"},\"selection_glyph\":null,\"view\":{\"id\":\"1887\",\"type\":\"CDSView\"}},\"id\":\"1886\",\"type\":\"GlyphRenderer\"},{\"attributes\":{},\"id\":\"1959\",\"type\":\"BasicTickFormatter\"},{\"attributes\":{},\"id\":\"1963\",\"type\":\"Selection\"},{\"attributes\":{},\"id\":\"1858\",\"type\":\"LinearScale\"},{\"attributes\":{\"bottom_units\":\"screen\",\"fill_alpha\":{\"value\":0.5},\"fill_color\":{\"value\":\"lightgrey\"},\"left_units\":\"screen\",\"level\":\"overlay\",\"line_alpha\":{\"value\":1.0},\"line_color\":{\"value\":\"black\"},\"line_dash\":[4,4],\"line_width\":{\"value\":2},\"render_mode\":\"css\",\"right_units\":\"screen\",\"top_units\":\"screen\"},\"id\":\"1960\",\"type\":\"BoxAnnotation\"},{\"attributes\":{},\"id\":\"1962\",\"type\":\"UnionRenderers\"},{\"attributes\":{},\"id\":\"1964\",\"type\":\"UnionRenderers\"},{\"attributes\":{\"text\":\"17:40:44.1113, -53:40:22.6137, 1345\"},\"id\":\"1850\",\"type\":\"Title\"},{\"attributes\":{\"callback\":null},\"id\":\"1854\",\"type\":\"DataRange1d\"},{\"attributes\":{\"callback\":null,\"data\":{\"x\":{\"__ndarray__\":\"////P1k8ukD///8/GUq6QP///z9ZS7pA\",\"dtype\":\"float64\",\"shape\":[3]},\"y\":[83.53272247314453,79.34913635253906,78.16984558105469]},\"selected\":{\"id\":\"1963\",\"type\":\"Selection\"},\"selection_policy\":{\"id\":\"1964\",\"type\":\"UnionRenderers\"}},\"id\":\"1890\",\"type\":\"ColumnDataSource\"},{\"attributes\":{\"data_source\":{\"id\":\"1890\",\"type\":\"ColumnDataSource\"},\"glyph\":{\"id\":\"1891\",\"type\":\"Line\"},\"hover_glyph\":null,\"muted_glyph\":null,\"nonselection_glyph\":{\"id\":\"1892\",\"type\":\"Line\"},\"selection_glyph\":null,\"view\":{\"id\":\"1894\",\"type\":\"CDSView\"}},\"id\":\"1893\",\"type\":\"GlyphRenderer\"},{\"attributes\":{\"formatter\":{\"id\":\"1957\",\"type\":\"BasicTickFormatter\"},\"ticker\":{\"id\":\"1861\",\"type\":\"BasicTicker\"}},\"id\":\"1860\",\"type\":\"LinearAxis\"},{\"attributes\":{\"ticker\":{\"id\":\"1861\",\"type\":\"BasicTicker\"}},\"id\":\"1864\",\"type\":\"Grid\"},{\"attributes\":{},\"id\":\"1861\",\"type\":\"BasicTicker\"},{\"attributes\":{\"overlay\":{\"id\":\"1960\",\"type\":\"BoxAnnotation\"}},\"id\":\"1872\",\"type\":\"BoxZoomTool\"},{\"attributes\":{\"callback\":null,\"data\":{\"x\":{\"__ndarray__\":\"////Pxn6uUD///8/Wfu5QP///z+Z/LlA////P9n9uUD///8/Gf+5QP///z9ZALpA////P5kBukD///8/2QK6QP///z8ZBLpA////P1kFukD///8/mQa6QP///z/ZB7pA////PxkJukD///8/WQq6QP///z+ZC7pA////P9kMukD///8/GQ66QP///z9ZD7pA////P5kQukD///8/2RG6QP///z8ZE7pA////P1kUukD///8/mRW6QP///z/ZFrpA////PxkYukD///8/WRm6QP///z+ZGrpA////P9kbukD///8/GR26QP///z9ZHrpA////P5kfukD///8/2SC6QP///z8ZIrpA////P1kjukD///8/mSS6QP///z/ZJbpA////PxknukD///8/WSi6QP///z+ZKbpA////P9kqukD///8/GSy6QP///z9ZLbpA////P5kuukD///8/2S+6QP///z8ZMbpA////P1kyukD///8/mTO6QP///z/ZNLpA////Pxk2ukD///8/WTe6QP///z+ZOLpA////P9k5ukD///8/GTu6QP///z9ZPLpA////P5k9ukD///8/2T66QP///z8ZQLpA////P1lBukD///8/mUK6QP///z/ZQ7pA////PxlFukD///8/WUa6QP///z+ZR7pA////P9lIukD///8/GUq6QP///z9ZS7pA////P5lMukD///8/2U26QP///z8ZT7pA////P1lQukD///8/mVG6QP///z/ZUrpA////PxlUukD///8/WVW6QP///z+ZVrpA////P9lXukD///8/GVm6QP///z9ZWrpA////P5lbukD///8/2Vy6QP///z8ZXrpA////P1lfukD///8/mWC6QP///z/ZYbpA////PxljukD///8/WWS6QP///z+ZZbpA////P9lmukD///8/GWi6QP///z9ZabpA////P5lqukD///8/2Wu6QP///z8ZbbpA////P1luukD///8/mW+6QP///z/ZcLpA////PxlyukD///8/WXO6QP///z+ZdLpA////P9l1ukD///8/GXe6QP///z9ZeLpA////P5l5ukD///8/2Xq6QP///z8ZfLpA////P1l9ukD///8/mX66QP///z/Zf7pA////PxmBukD///8/WYK6QP///z+Zg7pA////P9mEukD///8/GYa6QP///z9Zh7pA////P5mIukD///8/2Ym6QP///z8Zi7pA////P1mMukD///8/mY26QP///z/ZjrpA////PxmQukD///8/WZG6QP///z+ZkrpA////P9mTukD///8/GZW6QP///z9ZlrpA////P5mXukD///8/2Zi6QP///z8ZmrpA////P1mbukD///8/mZy6QP///z/ZnbpA////PxmfukD///8/WaC6QP///z+ZobpA////P9miukA=\",\"dtype\":\"float64\",\"shape\":[136]},\"y\":[-3.500885486602783,11.529974937438965,-10.34872817993164,-12.2041015625,5.1326165199279785,-8.401501655578613,27.084993362426758,-2.979278802871704,5.145152568817139,-3.4518985748291016,-1.912034511566162,-38.97921371459961,6.9754133224487305,-24.521883010864258,-7.064330101013184,11.18773078918457,-7.367995738983154,2.270047903060913,-36.43585968017578,-7.015682697296143,-3.5612220764160156,-6.345974922180176,-0.44998905062675476,-24.01791763305664,-10.260332107543945,3.002516269683838,-15.77173137664795,-6.23621129989624,8.459051132202148,-2.302581787109375,-3.8811261653900146,-2.2679452896118164,2.0361979007720947,25.75823211669922,-24.1264705657959,3.44815993309021,0.8624043464660645,-26.673227310180664,-20.537092208862305,-12.300297737121582,-13.473034858703613,-19.792150497436523,6.426405429840088,-7.051862716674805,-14.21560287475586,-4.160305023193359,-14.79707145690918,-28.449996948242188,-24.99078941345215,-23.587993621826172,-4.972079753875732,-1.3655215501785278,19.66197967529297,83.53272247314453,43.27219772338867,-27.19620132446289,-13.437199592590332,2.509315252304077,2.666110038757324,-17.296039581298828,-24.48531723022461,1.1812846660614014,9.302367210388184,33.238895416259766,79.34913635253906,78.16984558105469,9.164125442504883,-10.968842506408691,-27.67958641052246,-17.167476654052734,-8.283833503723145,5.134003639221191,-9.771814346313477,-3.123206377029419,-8.905126571655273,-13.985860824584961,-9.703788757324219,-13.210552215576172,-7.518754005432129,4.884941577911377,-8.307540893554688,-23.55002784729004,3.1518654823303223,6.5904669761657715,3.1221301555633545,15.061613082885742,3.664989709854126,-2.4710917472839355,-1.0592772960662842,5.504223346710205,-8.686260223388672,-0.2714444696903229,2.4036083221435547,-25.365081787109375,-9.814329147338867,-7.455091953277588,-17.965408325195312,-2.252720594406128,1.576986312866211,-0.22427469491958618,-1.654916524887085,-6.926914215087891,-3.2631680965423584,-3.2660343647003174,2.0093114376068115,9.92871379852295,10.917222023010254,15.796795845031738,16.01604461669922,-7.2219696044921875,6.8231730461120605,-9.932269096374512,3.983689308166504,-9.11022663116455,2.1268653869628906,7.07460355758667,-5.341353416442871,-9.053805351257324,-25.27869415283203,13.555908203125,8.573264122009277,0.33999285101890564,0.8522799015045166,14.034990310668945,2.704165458679199,7.541688919067383,18.191177368164062,-4.900410175323486,-5.310343265533447,-5.29911994934082,6.5618791580200195,-8.752614974975586,23.72529411315918,9.72100830078125,-14.935606956481934,-22.573410034179688]},\"selected\":{\"id\":\"1961\",\"type\":\"Selection\"},\"selection_policy\":{\"id\":\"1962\",\"type\":\"UnionRenderers\"}},\"id\":\"1883\",\"type\":\"ColumnDataSource\"},{\"attributes\":{\"line_alpha\":0.1,\"line_color\":\"#1f77b4\",\"x\":{\"field\":\"x\"},\"y\":{\"field\":\"y\"}},\"id\":\"1892\",\"type\":\"Line\"},{\"attributes\":{\"line_alpha\":0.1,\"line_color\":\"#1f77b4\",\"x\":{\"field\":\"x\"},\"y\":{\"field\":\"y\"}},\"id\":\"1885\",\"type\":\"Line\"},{\"attributes\":{\"line_color\":\"red\",\"x\":{\"field\":\"x\"},\"y\":{\"field\":\"y\"}},\"id\":\"1891\",\"type\":\"Line\"},{\"attributes\":{},\"id\":\"1875\",\"type\":\"HelpTool\"},{\"attributes\":{\"source\":{\"id\":\"1883\",\"type\":\"ColumnDataSource\"}},\"id\":\"1887\",\"type\":\"CDSView\"},{\"attributes\":{\"formatter\":{\"id\":\"1959\",\"type\":\"BasicTickFormatter\"},\"ticker\":{\"id\":\"1866\",\"type\":\"BasicTicker\"}},\"id\":\"1865\",\"type\":\"LinearAxis\"},{\"attributes\":{},\"id\":\"1870\",\"type\":\"PanTool\"},{\"attributes\":{},\"id\":\"1874\",\"type\":\"ResetTool\"},{\"attributes\":{},\"id\":\"1856\",\"type\":\"LinearScale\"},{\"attributes\":{\"callback\":null},\"id\":\"1852\",\"type\":\"DataRange1d\"},{\"attributes\":{\"callback\":null,\"tooltips\":[[\"(x,y)\",\"($x{1}, $y)\"]]},\"id\":\"1888\",\"type\":\"HoverTool\"},{\"attributes\":{\"line_color\":\"#1f77b4\",\"x\":{\"field\":\"x\"},\"y\":{\"field\":\"y\"}},\"id\":\"1884\",\"type\":\"Line\"},{\"attributes\":{},\"id\":\"1961\",\"type\":\"Selection\"},{\"attributes\":{\"dimension\":1,\"ticker\":{\"id\":\"1866\",\"type\":\"BasicTicker\"}},\"id\":\"1869\",\"type\":\"Grid\"},{\"attributes\":{},\"id\":\"1957\",\"type\":\"BasicTickFormatter\"},{\"attributes\":{\"source\":{\"id\":\"1890\",\"type\":\"ColumnDataSource\"}},\"id\":\"1894\",\"type\":\"CDSView\"},{\"attributes\":{},\"id\":\"1866\",\"type\":\"BasicTicker\"},{\"attributes\":{\"active_drag\":{\"id\":\"1872\",\"type\":\"BoxZoomTool\"},\"active_inspect\":\"auto\",\"active_multi\":null,\"active_scroll\":{\"id\":\"1871\",\"type\":\"WheelZoomTool\"},\"active_tap\":\"auto\",\"tools\":[{\"id\":\"1870\",\"type\":\"PanTool\"},{\"id\":\"1871\",\"type\":\"WheelZoomTool\"},{\"id\":\"1872\",\"type\":\"BoxZoomTool\"},{\"id\":\"1873\",\"type\":\"SaveTool\"},{\"id\":\"1874\",\"type\":\"ResetTool\"},{\"id\":\"1875\",\"type\":\"HelpTool\"},{\"id\":\"1888\",\"type\":\"HoverTool\"}]},\"id\":\"1876\",\"type\":\"Toolbar\"},{\"attributes\":{},\"id\":\"1873\",\"type\":\"SaveTool\"}],\"root_ids\":[\"1849\"]},\"title\":\"Bokeh Application\",\"version\":\"1.1.0\"}};\n",
       "  var render_items = [{\"docid\":\"07b382df-3511-4d57-afae-6163bc1b056a\",\"roots\":{\"1849\":\"4aa63b83-0b29-4a8c-9dd0-599a045fac8d\"}}];\n",
       "  root.Bokeh.embed.embed_items_notebook(docs_json, render_items);\n",
       "\n",
       "  }\n",
       "  if (root.Bokeh !== undefined) {\n",
       "    embed_document(root);\n",
       "  } else {\n",
       "    var attempts = 0;\n",
       "    var timer = setInterval(function(root) {\n",
       "      if (root.Bokeh !== undefined) {\n",
       "        embed_document(root);\n",
       "        clearInterval(timer);\n",
       "      }\n",
       "      attempts++;\n",
       "      if (attempts > 100) {\n",
       "        console.log(\"Bokeh: ERROR: Unable to run BokehJS code because BokehJS library is missing\");\n",
       "        clearInterval(timer);\n",
       "      }\n",
       "    }, 10, root)\n",
       "  }\n",
       "})(window);"
      ],
      "application/vnd.bokehjs_exec.v0+json": ""
     },
     "metadata": {
      "application/vnd.bokehjs_exec.v0+json": {
       "id": "1849"
      }
     },
     "output_type": "display_data"
    },
    {
     "data": {
      "text/html": [
       "\n",
       "\n",
       "\n",
       "\n",
       "\n",
       "\n",
       "  <div class=\"bk-root\" id=\"64e103ac-1db8-4679-a3a9-fcd60ae93037\" data-root-id=\"2025\"></div>\n"
      ]
     },
     "metadata": {},
     "output_type": "display_data"
    },
    {
     "data": {
      "application/javascript": [
       "(function(root) {\n",
       "  function embed_document(root) {\n",
       "    \n",
       "  var docs_json = {\"29a0b670-c79c-4816-a1e2-bc2a76a773ae\":{\"roots\":{\"references\":[{\"attributes\":{\"below\":[{\"id\":\"2036\",\"type\":\"LinearAxis\"}],\"center\":[{\"id\":\"2040\",\"type\":\"Grid\"},{\"id\":\"2045\",\"type\":\"Grid\"}],\"left\":[{\"id\":\"2041\",\"type\":\"LinearAxis\"}],\"plot_height\":500,\"plot_width\":900,\"renderers\":[{\"id\":\"2062\",\"type\":\"GlyphRenderer\"},{\"id\":\"2069\",\"type\":\"GlyphRenderer\"}],\"title\":{\"id\":\"2026\",\"type\":\"Title\"},\"toolbar\":{\"id\":\"2052\",\"type\":\"Toolbar\"},\"x_range\":{\"id\":\"2028\",\"type\":\"DataRange1d\"},\"x_scale\":{\"id\":\"2032\",\"type\":\"LinearScale\"},\"y_range\":{\"id\":\"2030\",\"type\":\"DataRange1d\"},\"y_scale\":{\"id\":\"2034\",\"type\":\"LinearScale\"}},\"id\":\"2025\",\"subtype\":\"Figure\",\"type\":\"Plot\"},{\"attributes\":{\"callback\":null},\"id\":\"2028\",\"type\":\"DataRange1d\"},{\"attributes\":{},\"id\":\"2034\",\"type\":\"LinearScale\"},{\"attributes\":{\"line_alpha\":0.1,\"line_color\":\"#1f77b4\",\"x\":{\"field\":\"x\"},\"y\":{\"field\":\"y\"}},\"id\":\"2068\",\"type\":\"Line\"},{\"attributes\":{},\"id\":\"2050\",\"type\":\"ResetTool\"},{\"attributes\":{\"callback\":null,\"data\":{\"x\":{\"__ndarray__\":\"////P9kHukD///8/GQm6QP///z9ZCrpA////P5kLukD///8/2Qy6QP///z8ZDrpA////P1kPukD///8/mRC6QP///z/ZEbpA////PxkTukD///8/WRS6QP///z+ZFbpA////P9kWukD///8/GRi6QP///z9ZGbpA////P5kaukD///8/GR26QP///z9ZHrpA////P5kfukD///8/2SC6QP///z9ZI7pA////P5kpukA=\",\"dtype\":\"float64\",\"shape\":[22]},\"y\":[158.3299560546875,207.1001434326172,206.79945373535156,268.44403076171875,308.5845947265625,269.5332336425781,450.6507263183594,436.7628173828125,455.02667236328125,427.79339599609375,454.70361328125,420.83642578125,396.3963928222656,399.2986145019531,268.61480712890625,254.97537231445312,183.46926879882812,159.8701629638672,178.61427307128906,177.59999084472656,150.37203979492188,154.48068237304688]},\"selected\":{\"id\":\"2149\",\"type\":\"Selection\"},\"selection_policy\":{\"id\":\"2150\",\"type\":\"UnionRenderers\"}},\"id\":\"2066\",\"type\":\"ColumnDataSource\"},{\"attributes\":{\"line_alpha\":0.1,\"line_color\":\"#1f77b4\",\"x\":{\"field\":\"x\"},\"y\":{\"field\":\"y\"}},\"id\":\"2061\",\"type\":\"Line\"},{\"attributes\":{\"source\":{\"id\":\"2059\",\"type\":\"ColumnDataSource\"}},\"id\":\"2063\",\"type\":\"CDSView\"},{\"attributes\":{},\"id\":\"2047\",\"type\":\"WheelZoomTool\"},{\"attributes\":{},\"id\":\"2147\",\"type\":\"Selection\"},{\"attributes\":{},\"id\":\"2046\",\"type\":\"PanTool\"},{\"attributes\":{},\"id\":\"2150\",\"type\":\"UnionRenderers\"},{\"attributes\":{\"ticker\":{\"id\":\"2037\",\"type\":\"BasicTicker\"}},\"id\":\"2040\",\"type\":\"Grid\"},{\"attributes\":{\"formatter\":{\"id\":\"2143\",\"type\":\"BasicTickFormatter\"},\"ticker\":{\"id\":\"2037\",\"type\":\"BasicTicker\"}},\"id\":\"2036\",\"type\":\"LinearAxis\"},{\"attributes\":{},\"id\":\"2051\",\"type\":\"HelpTool\"},{\"attributes\":{\"data_source\":{\"id\":\"2066\",\"type\":\"ColumnDataSource\"},\"glyph\":{\"id\":\"2067\",\"type\":\"Line\"},\"hover_glyph\":null,\"muted_glyph\":null,\"nonselection_glyph\":{\"id\":\"2068\",\"type\":\"Line\"},\"selection_glyph\":null,\"view\":{\"id\":\"2070\",\"type\":\"CDSView\"}},\"id\":\"2069\",\"type\":\"GlyphRenderer\"},{\"attributes\":{},\"id\":\"2049\",\"type\":\"SaveTool\"},{\"attributes\":{\"overlay\":{\"id\":\"2146\",\"type\":\"BoxAnnotation\"}},\"id\":\"2048\",\"type\":\"BoxZoomTool\"},{\"attributes\":{},\"id\":\"2149\",\"type\":\"Selection\"},{\"attributes\":{},\"id\":\"2037\",\"type\":\"BasicTicker\"},{\"attributes\":{},\"id\":\"2148\",\"type\":\"UnionRenderers\"},{\"attributes\":{\"source\":{\"id\":\"2066\",\"type\":\"ColumnDataSource\"}},\"id\":\"2070\",\"type\":\"CDSView\"},{\"attributes\":{},\"id\":\"2032\",\"type\":\"LinearScale\"},{\"attributes\":{},\"id\":\"2143\",\"type\":\"BasicTickFormatter\"},{\"attributes\":{\"callback\":null,\"tooltips\":[[\"(x,y)\",\"($x{1}, $y)\"]]},\"id\":\"2064\",\"type\":\"HoverTool\"},{\"attributes\":{\"line_color\":\"#1f77b4\",\"x\":{\"field\":\"x\"},\"y\":{\"field\":\"y\"}},\"id\":\"2060\",\"type\":\"Line\"},{\"attributes\":{},\"id\":\"2145\",\"type\":\"BasicTickFormatter\"},{\"attributes\":{},\"id\":\"2042\",\"type\":\"BasicTicker\"},{\"attributes\":{\"callback\":null,\"data\":{\"x\":{\"__ndarray__\":\"////Pxn6uUD///8/Wfu5QP///z+Z/LlA////P9n9uUD///8/Gf+5QP///z9ZALpA////P5kBukD///8/2QK6QP///z8ZBLpA////P1kFukD///8/mQa6QP///z/ZB7pA////PxkJukD///8/WQq6QP///z+ZC7pA////P9kMukD///8/GQ66QP///z9ZD7pA////P5kQukD///8/2RG6QP///z8ZE7pA////P1kUukD///8/mRW6QP///z/ZFrpA////PxkYukD///8/WRm6QP///z+ZGrpA////P9kbukD///8/GR26QP///z9ZHrpA////P5kfukD///8/2SC6QP///z8ZIrpA////P1kjukD///8/mSS6QP///z/ZJbpA////PxknukD///8/WSi6QP///z+ZKbpA////P9kqukD///8/GSy6QP///z9ZLbpA////P5kuukD///8/2S+6QP///z8ZMbpA////P1kyukD///8/mTO6QP///z/ZNLpA////Pxk2ukD///8/WTe6QP///z+ZOLpA////P9k5ukD///8/GTu6QP///z9ZPLpA////P5k9ukD///8/2T66QP///z8ZQLpA////P1lBukD///8/mUK6QP///z/ZQ7pA////PxlFukD///8/WUa6QP///z+ZR7pA////P9lIukD///8/GUq6QP///z9ZS7pA////P5lMukD///8/2U26QP///z8ZT7pA////P1lQukD///8/mVG6QP///z/ZUrpA////PxlUukD///8/WVW6QP///z+ZVrpA////P9lXukD///8/GVm6QP///z9ZWrpA////P5lbukD///8/2Vy6QP///z8ZXrpA////P1lfukD///8/mWC6QP///z/ZYbpA////PxljukD///8/WWS6QP///z+ZZbpA////P9lmukD///8/GWi6QP///z9ZabpA////P5lqukD///8/2Wu6QP///z8ZbbpA////P1luukD///8/mW+6QP///z/ZcLpA////PxlyukD///8/WXO6QP///z+ZdLpA////P9l1ukD///8/GXe6QP///z9ZeLpA////P5l5ukD///8/2Xq6QP///z8ZfLpA////P1l9ukD///8/mX66QP///z/Zf7pA////PxmBukD///8/WYK6QP///z+Zg7pA////P9mEukD///8/GYa6QP///z9Zh7pA////P5mIukD///8/2Ym6QP///z8Zi7pA////P1mMukD///8/mY26QP///z/ZjrpA////PxmQukD///8/WZG6QP///z+ZkrpA////P9mTukD///8/GZW6QP///z9ZlrpA////P5mXukD///8/2Zi6QP///z8ZmrpA////P1mbukD///8/mZy6QP///z/ZnbpA////PxmfukD///8/WaC6QP///z+ZobpA////P9miukA=\",\"dtype\":\"float64\",\"shape\":[136]},\"y\":[-10.244492530822754,-32.14448928833008,5.146854877471924,-33.537940979003906,-40.493309020996094,21.169418334960938,25.215383529663086,53.28178787231445,108.31346130371094,94.8968276977539,70.3351058959961,158.3299560546875,207.1001434326172,206.79945373535156,268.44403076171875,308.5845947265625,269.5332336425781,450.6507263183594,436.7628173828125,455.02667236328125,427.79339599609375,454.70361328125,420.83642578125,396.3963928222656,399.2986145019531,268.61480712890625,254.97537231445312,131.64593505859375,183.46926879882812,159.8701629638672,178.61427307128906,177.59999084472656,135.30050659179688,150.37203979492188,24.481107711791992,89.2282943725586,78.13507843017578,10.256647109985352,154.48068237304688,2.9658918380737305,56.91245651245117,51.82624053955078,-62.028106689453125,-47.87812423706055,-37.72674560546875,17.035409927368164,22.28822135925293,2.031689167022705,49.32392120361328,-18.700321197509766,36.33591842651367,20.465845108032227,-10.65869140625,2.953524351119995,3.029541254043579,27.730005264282227,5.486554145812988,-37.897586822509766,29.69135093688965,9.322704315185547,62.0213737487793,-30.86986541748047,75.51763916015625,-33.77363586425781,38.070281982421875,39.75299835205078,-10.678121566772461,-75.61565399169922,48.04977798461914,18.53691864013672,-30.29582977294922,-99.65794372558594,-127.9703140258789,2.6103177070617676,19.092248916625977,-45.75254821777344,0.5622607469558716,-9.524364471435547,-51.29416275024414,-9.330625534057617,83.70266723632812,21.578672409057617,60.19337844848633,13.698156356811523,24.34739875793457,104.65038299560547,32.834651947021484,-15.257022857666016,-23.066537857055664,43.67173385620117,-54.478736877441406,2.949833869934082,-36.25203323364258,18.345348358154297,3.3010644912719727,5.382202625274658,-56.99961471557617,-19.212064743041992,-31.64430809020996,52.98051452636719,18.607709884643555,-43.888694763183594,-44.162994384765625,-19.959335327148438,4.007443428039551,7.883335590362549,6.884650230407715,-41.30599594116211,25.870969772338867,-49.51414108276367,-39.000396728515625,39.57871627807617,38.00395202636719,45.50871658325195,6.391829013824463,-29.632837295532227,52.148582458496094,-32.548580169677734,47.61015319824219,-80.96702575683594,-10.34895133972168,-43.7114143371582,-40.344451904296875,73.81639099121094,-28.094606399536133,29.345890045166016,-31.06963539123535,-49.649776458740234,-26.441410064697266,21.278121948242188,43.288116455078125,42.69696807861328,15.734175682067871,-30.49528694152832,85.99198150634766,-24.713193893432617]},\"selected\":{\"id\":\"2147\",\"type\":\"Selection\"},\"selection_policy\":{\"id\":\"2148\",\"type\":\"UnionRenderers\"}},\"id\":\"2059\",\"type\":\"ColumnDataSource\"},{\"attributes\":{\"formatter\":{\"id\":\"2145\",\"type\":\"BasicTickFormatter\"},\"ticker\":{\"id\":\"2042\",\"type\":\"BasicTicker\"}},\"id\":\"2041\",\"type\":\"LinearAxis\"},{\"attributes\":{\"text\":\"17:40:41.6113, -53:40:19.6137, 1464\"},\"id\":\"2026\",\"type\":\"Title\"},{\"attributes\":{\"active_drag\":{\"id\":\"2048\",\"type\":\"BoxZoomTool\"},\"active_inspect\":\"auto\",\"active_multi\":null,\"active_scroll\":{\"id\":\"2047\",\"type\":\"WheelZoomTool\"},\"active_tap\":\"auto\",\"tools\":[{\"id\":\"2046\",\"type\":\"PanTool\"},{\"id\":\"2047\",\"type\":\"WheelZoomTool\"},{\"id\":\"2048\",\"type\":\"BoxZoomTool\"},{\"id\":\"2049\",\"type\":\"SaveTool\"},{\"id\":\"2050\",\"type\":\"ResetTool\"},{\"id\":\"2051\",\"type\":\"HelpTool\"},{\"id\":\"2064\",\"type\":\"HoverTool\"}]},\"id\":\"2052\",\"type\":\"Toolbar\"},{\"attributes\":{\"line_color\":\"red\",\"x\":{\"field\":\"x\"},\"y\":{\"field\":\"y\"}},\"id\":\"2067\",\"type\":\"Line\"},{\"attributes\":{\"callback\":null},\"id\":\"2030\",\"type\":\"DataRange1d\"},{\"attributes\":{\"dimension\":1,\"ticker\":{\"id\":\"2042\",\"type\":\"BasicTicker\"}},\"id\":\"2045\",\"type\":\"Grid\"},{\"attributes\":{\"bottom_units\":\"screen\",\"fill_alpha\":{\"value\":0.5},\"fill_color\":{\"value\":\"lightgrey\"},\"left_units\":\"screen\",\"level\":\"overlay\",\"line_alpha\":{\"value\":1.0},\"line_color\":{\"value\":\"black\"},\"line_dash\":[4,4],\"line_width\":{\"value\":2},\"render_mode\":\"css\",\"right_units\":\"screen\",\"top_units\":\"screen\"},\"id\":\"2146\",\"type\":\"BoxAnnotation\"},{\"attributes\":{\"data_source\":{\"id\":\"2059\",\"type\":\"ColumnDataSource\"},\"glyph\":{\"id\":\"2060\",\"type\":\"Line\"},\"hover_glyph\":null,\"muted_glyph\":null,\"nonselection_glyph\":{\"id\":\"2061\",\"type\":\"Line\"},\"selection_glyph\":null,\"view\":{\"id\":\"2063\",\"type\":\"CDSView\"}},\"id\":\"2062\",\"type\":\"GlyphRenderer\"}],\"root_ids\":[\"2025\"]},\"title\":\"Bokeh Application\",\"version\":\"1.1.0\"}};\n",
       "  var render_items = [{\"docid\":\"29a0b670-c79c-4816-a1e2-bc2a76a773ae\",\"roots\":{\"2025\":\"64e103ac-1db8-4679-a3a9-fcd60ae93037\"}}];\n",
       "  root.Bokeh.embed.embed_items_notebook(docs_json, render_items);\n",
       "\n",
       "  }\n",
       "  if (root.Bokeh !== undefined) {\n",
       "    embed_document(root);\n",
       "  } else {\n",
       "    var attempts = 0;\n",
       "    var timer = setInterval(function(root) {\n",
       "      if (root.Bokeh !== undefined) {\n",
       "        embed_document(root);\n",
       "        clearInterval(timer);\n",
       "      }\n",
       "      attempts++;\n",
       "      if (attempts > 100) {\n",
       "        console.log(\"Bokeh: ERROR: Unable to run BokehJS code because BokehJS library is missing\");\n",
       "        clearInterval(timer);\n",
       "      }\n",
       "    }, 10, root)\n",
       "  }\n",
       "})(window);"
      ],
      "application/vnd.bokehjs_exec.v0+json": ""
     },
     "metadata": {
      "application/vnd.bokehjs_exec.v0+json": {
       "id": "2025"
      }
     },
     "output_type": "display_data"
    },
    {
     "data": {
      "text/html": [
       "\n",
       "\n",
       "\n",
       "\n",
       "\n",
       "\n",
       "  <div class=\"bk-root\" id=\"7531b571-aa80-4d00-80d9-b4f4e9471099\" data-root-id=\"2211\"></div>\n"
      ]
     },
     "metadata": {},
     "output_type": "display_data"
    },
    {
     "data": {
      "application/javascript": [
       "(function(root) {\n",
       "  function embed_document(root) {\n",
       "    \n",
       "  var docs_json = {\"4e4c5824-5205-44ef-9810-e9f7ec3cbc87\":{\"roots\":{\"references\":[{\"attributes\":{\"below\":[{\"id\":\"2222\",\"type\":\"LinearAxis\"}],\"center\":[{\"id\":\"2226\",\"type\":\"Grid\"},{\"id\":\"2231\",\"type\":\"Grid\"}],\"left\":[{\"id\":\"2227\",\"type\":\"LinearAxis\"}],\"plot_height\":500,\"plot_width\":900,\"renderers\":[{\"id\":\"2248\",\"type\":\"GlyphRenderer\"},{\"id\":\"2255\",\"type\":\"GlyphRenderer\"}],\"title\":{\"id\":\"2212\",\"type\":\"Title\"},\"toolbar\":{\"id\":\"2238\",\"type\":\"Toolbar\"},\"x_range\":{\"id\":\"2214\",\"type\":\"DataRange1d\"},\"x_scale\":{\"id\":\"2218\",\"type\":\"LinearScale\"},\"y_range\":{\"id\":\"2216\",\"type\":\"DataRange1d\"},\"y_scale\":{\"id\":\"2220\",\"type\":\"LinearScale\"}},\"id\":\"2211\",\"subtype\":\"Figure\",\"type\":\"Plot\"},{\"attributes\":{},\"id\":\"2228\",\"type\":\"BasicTicker\"},{\"attributes\":{\"active_drag\":{\"id\":\"2234\",\"type\":\"BoxZoomTool\"},\"active_inspect\":\"auto\",\"active_multi\":null,\"active_scroll\":{\"id\":\"2233\",\"type\":\"WheelZoomTool\"},\"active_tap\":\"auto\",\"tools\":[{\"id\":\"2232\",\"type\":\"PanTool\"},{\"id\":\"2233\",\"type\":\"WheelZoomTool\"},{\"id\":\"2234\",\"type\":\"BoxZoomTool\"},{\"id\":\"2235\",\"type\":\"SaveTool\"},{\"id\":\"2236\",\"type\":\"ResetTool\"},{\"id\":\"2237\",\"type\":\"HelpTool\"},{\"id\":\"2250\",\"type\":\"HoverTool\"}]},\"id\":\"2238\",\"type\":\"Toolbar\"},{\"attributes\":{\"callback\":null},\"id\":\"2216\",\"type\":\"DataRange1d\"},{\"attributes\":{},\"id\":\"2341\",\"type\":\"BasicTickFormatter\"},{\"attributes\":{},\"id\":\"2223\",\"type\":\"BasicTicker\"},{\"attributes\":{\"text\":\"17:40:42.7113, -53:40:19.6137, 1475\"},\"id\":\"2212\",\"type\":\"Title\"},{\"attributes\":{\"line_color\":\"#1f77b4\",\"x\":{\"field\":\"x\"},\"y\":{\"field\":\"y\"}},\"id\":\"2246\",\"type\":\"Line\"},{\"attributes\":{},\"id\":\"2344\",\"type\":\"UnionRenderers\"},{\"attributes\":{\"line_alpha\":0.1,\"line_color\":\"#1f77b4\",\"x\":{\"field\":\"x\"},\"y\":{\"field\":\"y\"}},\"id\":\"2254\",\"type\":\"Line\"},{\"attributes\":{\"data_source\":{\"id\":\"2245\",\"type\":\"ColumnDataSource\"},\"glyph\":{\"id\":\"2246\",\"type\":\"Line\"},\"hover_glyph\":null,\"muted_glyph\":null,\"nonselection_glyph\":{\"id\":\"2247\",\"type\":\"Line\"},\"selection_glyph\":null,\"view\":{\"id\":\"2249\",\"type\":\"CDSView\"}},\"id\":\"2248\",\"type\":\"GlyphRenderer\"},{\"attributes\":{\"formatter\":{\"id\":\"2341\",\"type\":\"BasicTickFormatter\"},\"ticker\":{\"id\":\"2228\",\"type\":\"BasicTicker\"}},\"id\":\"2227\",\"type\":\"LinearAxis\"},{\"attributes\":{},\"id\":\"2346\",\"type\":\"UnionRenderers\"},{\"attributes\":{\"line_alpha\":0.1,\"line_color\":\"#1f77b4\",\"x\":{\"field\":\"x\"},\"y\":{\"field\":\"y\"}},\"id\":\"2247\",\"type\":\"Line\"},{\"attributes\":{},\"id\":\"2220\",\"type\":\"LinearScale\"},{\"attributes\":{\"source\":{\"id\":\"2245\",\"type\":\"ColumnDataSource\"}},\"id\":\"2249\",\"type\":\"CDSView\"},{\"attributes\":{\"dimension\":1,\"ticker\":{\"id\":\"2228\",\"type\":\"BasicTicker\"}},\"id\":\"2231\",\"type\":\"Grid\"},{\"attributes\":{},\"id\":\"2237\",\"type\":\"HelpTool\"},{\"attributes\":{},\"id\":\"2232\",\"type\":\"PanTool\"},{\"attributes\":{\"bottom_units\":\"screen\",\"fill_alpha\":{\"value\":0.5},\"fill_color\":{\"value\":\"lightgrey\"},\"left_units\":\"screen\",\"level\":\"overlay\",\"line_alpha\":{\"value\":1.0},\"line_color\":{\"value\":\"black\"},\"line_dash\":[4,4],\"line_width\":{\"value\":2},\"render_mode\":\"css\",\"right_units\":\"screen\",\"top_units\":\"screen\"},\"id\":\"2342\",\"type\":\"BoxAnnotation\"},{\"attributes\":{\"data_source\":{\"id\":\"2252\",\"type\":\"ColumnDataSource\"},\"glyph\":{\"id\":\"2253\",\"type\":\"Line\"},\"hover_glyph\":null,\"muted_glyph\":null,\"nonselection_glyph\":{\"id\":\"2254\",\"type\":\"Line\"},\"selection_glyph\":null,\"view\":{\"id\":\"2256\",\"type\":\"CDSView\"}},\"id\":\"2255\",\"type\":\"GlyphRenderer\"},{\"attributes\":{},\"id\":\"2235\",\"type\":\"SaveTool\"},{\"attributes\":{},\"id\":\"2343\",\"type\":\"Selection\"},{\"attributes\":{\"line_color\":\"red\",\"x\":{\"field\":\"x\"},\"y\":{\"field\":\"y\"}},\"id\":\"2253\",\"type\":\"Line\"},{\"attributes\":{\"callback\":null,\"tooltips\":[[\"(x,y)\",\"($x{1}, $y)\"]]},\"id\":\"2250\",\"type\":\"HoverTool\"},{\"attributes\":{\"callback\":null},\"id\":\"2214\",\"type\":\"DataRange1d\"},{\"attributes\":{},\"id\":\"2218\",\"type\":\"LinearScale\"},{\"attributes\":{\"formatter\":{\"id\":\"2339\",\"type\":\"BasicTickFormatter\"},\"ticker\":{\"id\":\"2223\",\"type\":\"BasicTicker\"}},\"id\":\"2222\",\"type\":\"LinearAxis\"},{\"attributes\":{\"callback\":null,\"data\":{\"x\":{\"__ndarray__\":\"////PxkYukD///8/WRm6QP///z+ZGrpA////P9kbukD///8/GR26QA==\",\"dtype\":\"float64\",\"shape\":[5]},\"y\":[97.4422836303711,102.4345474243164,103.39472961425781,112.95198822021484,116.67906951904297]},\"selected\":{\"id\":\"2345\",\"type\":\"Selection\"},\"selection_policy\":{\"id\":\"2346\",\"type\":\"UnionRenderers\"}},\"id\":\"2252\",\"type\":\"ColumnDataSource\"},{\"attributes\":{},\"id\":\"2233\",\"type\":\"WheelZoomTool\"},{\"attributes\":{\"overlay\":{\"id\":\"2342\",\"type\":\"BoxAnnotation\"}},\"id\":\"2234\",\"type\":\"BoxZoomTool\"},{\"attributes\":{\"source\":{\"id\":\"2252\",\"type\":\"ColumnDataSource\"}},\"id\":\"2256\",\"type\":\"CDSView\"},{\"attributes\":{\"ticker\":{\"id\":\"2223\",\"type\":\"BasicTicker\"}},\"id\":\"2226\",\"type\":\"Grid\"},{\"attributes\":{},\"id\":\"2236\",\"type\":\"ResetTool\"},{\"attributes\":{},\"id\":\"2339\",\"type\":\"BasicTickFormatter\"},{\"attributes\":{},\"id\":\"2345\",\"type\":\"Selection\"},{\"attributes\":{\"callback\":null,\"data\":{\"x\":{\"__ndarray__\":\"////Pxn6uUD///8/Wfu5QP///z+Z/LlA////P9n9uUD///8/Gf+5QP///z9ZALpA////P5kBukD///8/2QK6QP///z8ZBLpA////P1kFukD///8/mQa6QP///z/ZB7pA////PxkJukD///8/WQq6QP///z+ZC7pA////P9kMukD///8/GQ66QP///z9ZD7pA////P5kQukD///8/2RG6QP///z8ZE7pA////P1kUukD///8/mRW6QP///z/ZFrpA////PxkYukD///8/WRm6QP///z+ZGrpA////P9kbukD///8/GR26QP///z9ZHrpA////P5kfukD///8/2SC6QP///z8ZIrpA////P1kjukD///8/mSS6QP///z/ZJbpA////PxknukD///8/WSi6QP///z+ZKbpA////P9kqukD///8/GSy6QP///z9ZLbpA////P5kuukD///8/2S+6QP///z8ZMbpA////P1kyukD///8/mTO6QP///z/ZNLpA////Pxk2ukD///8/WTe6QP///z+ZOLpA////P9k5ukD///8/GTu6QP///z9ZPLpA////P5k9ukD///8/2T66QP///z8ZQLpA////P1lBukD///8/mUK6QP///z/ZQ7pA////PxlFukD///8/WUa6QP///z+ZR7pA////P9lIukD///8/GUq6QP///z9ZS7pA////P5lMukD///8/2U26QP///z8ZT7pA////P1lQukD///8/mVG6QP///z/ZUrpA////PxlUukD///8/WVW6QP///z+ZVrpA////P9lXukD///8/GVm6QP///z9ZWrpA////P5lbukD///8/2Vy6QP///z8ZXrpA////P1lfukD///8/mWC6QP///z/ZYbpA////PxljukD///8/WWS6QP///z+ZZbpA////P9lmukD///8/GWi6QP///z9ZabpA////P5lqukD///8/2Wu6QP///z8ZbbpA////P1luukD///8/mW+6QP///z/ZcLpA////PxlyukD///8/WXO6QP///z+ZdLpA////P9l1ukD///8/GXe6QP///z9ZeLpA////P5l5ukD///8/2Xq6QP///z8ZfLpA////P1l9ukD///8/mX66QP///z/Zf7pA////PxmBukD///8/WYK6QP///z+Zg7pA////P9mEukD///8/GYa6QP///z9Zh7pA////P5mIukD///8/2Ym6QP///z8Zi7pA////P1mMukD///8/mY26QP///z/ZjrpA////PxmQukD///8/WZG6QP///z+ZkrpA////P9mTukD///8/GZW6QP///z9ZlrpA////P5mXukD///8/2Zi6QP///z8ZmrpA////P1mbukD///8/mZy6QP///z/ZnbpA////PxmfukD///8/WaC6QP///z+ZobpA////P9miukA=\",\"dtype\":\"float64\",\"shape\":[136]},\"y\":[12.43232536315918,8.148727416992188,-26.939044952392578,-4.426938056945801,-4.323010444641113,-13.472475051879883,-5.624723434448242,9.459015846252441,14.516167640686035,3.2807424068450928,41.83184051513672,45.270904541015625,37.376861572265625,37.407283782958984,45.53623962402344,49.444026947021484,48.16153335571289,47.619667053222656,73.87067413330078,87.10009765625,48.98456954956055,50.77031707763672,73.74359130859375,47.45394515991211,97.4422836303711,102.4345474243164,103.39472961425781,112.95198822021484,116.67906951904297,89.50957489013672,49.3629264831543,59.073848724365234,78.7373046875,69.22159576416016,39.58517837524414,54.091121673583984,-10.945759773254395,-17.409860610961914,-31.36429214477539,15.046534538269043,27.687488555908203,-30.561792373657227,-0.2650260627269745,11.280665397644043,11.73226547241211,42.23162078857422,12.218670845031738,-8.698062896728516,13.947361946105957,-39.062705993652344,-38.93151092529297,-27.721315383911133,34.32679748535156,68.17925262451172,-0.8808598518371582,-13.754059791564941,5.925377368927002,-28.936054229736328,-10.73923397064209,6.380096912384033,-6.069517135620117,13.077207565307617,-15.991620063781738,59.915287017822266,24.440013885498047,34.38249206542969,-4.4613823890686035,14.000920295715332,30.360830307006836,73.35931396484375,-19.063682556152344,-34.177452087402344,-14.349424362182617,-22.584726333618164,15.4911527633667,9.362833976745605,-2.8754453659057617,25.68207550048828,-1.552491545677185,-7.828904628753662,-31.28217315673828,4.179989337921143,-19.220983505249023,-57.34897994995117,-9.85598373413086,-18.186447143554688,26.81661033630371,-1.0546969175338745,-18.314407348632812,-9.703975677490234,-27.18055534362793,12.370965957641602,22.59597396850586,-12.93326473236084,-33.98677062988281,-44.341156005859375,7.946084022521973,7.6023688316345215,1.0345569849014282,21.50900650024414,33.400108337402344,6.230074405670166,-26.14391326904297,-18.941701889038086,-38.19247055053711,5.0958476066589355,-16.341272354125977,-20.73356819152832,15.751358985900879,-4.1757988929748535,-23.45791244506836,24.890979766845703,11.353789329528809,24.18881607055664,35.94219970703125,-29.06769371032715,-32.61406326293945,-5.727423191070557,55.04290771484375,28.306549072265625,-20.39108657836914,-1.924514651298523,45.613494873046875,-21.202110290527344,0.34229493141174316,5.512579917907715,0.4913613796234131,-15.953537940979004,-10.37460994720459,-12.135011672973633,-7.963625907897949,15.871114730834961,-28.66790008544922,29.98695945739746,32.270503997802734,-9.97180461883545]},\"selected\":{\"id\":\"2343\",\"type\":\"Selection\"},\"selection_policy\":{\"id\":\"2344\",\"type\":\"UnionRenderers\"}},\"id\":\"2245\",\"type\":\"ColumnDataSource\"}],\"root_ids\":[\"2211\"]},\"title\":\"Bokeh Application\",\"version\":\"1.1.0\"}};\n",
       "  var render_items = [{\"docid\":\"4e4c5824-5205-44ef-9810-e9f7ec3cbc87\",\"roots\":{\"2211\":\"7531b571-aa80-4d00-80d9-b4f4e9471099\"}}];\n",
       "  root.Bokeh.embed.embed_items_notebook(docs_json, render_items);\n",
       "\n",
       "  }\n",
       "  if (root.Bokeh !== undefined) {\n",
       "    embed_document(root);\n",
       "  } else {\n",
       "    var attempts = 0;\n",
       "    var timer = setInterval(function(root) {\n",
       "      if (root.Bokeh !== undefined) {\n",
       "        embed_document(root);\n",
       "        clearInterval(timer);\n",
       "      }\n",
       "      attempts++;\n",
       "      if (attempts > 100) {\n",
       "        console.log(\"Bokeh: ERROR: Unable to run BokehJS code because BokehJS library is missing\");\n",
       "        clearInterval(timer);\n",
       "      }\n",
       "    }, 10, root)\n",
       "  }\n",
       "})(window);"
      ],
      "application/vnd.bokehjs_exec.v0+json": ""
     },
     "metadata": {
      "application/vnd.bokehjs_exec.v0+json": {
       "id": "2211"
      }
     },
     "output_type": "display_data"
    },
    {
     "data": {
      "text/html": [
       "\n",
       "\n",
       "\n",
       "\n",
       "\n",
       "\n",
       "  <div class=\"bk-root\" id=\"c102d66f-4601-4505-af9f-6c57c4608084\" data-root-id=\"2407\"></div>\n"
      ]
     },
     "metadata": {},
     "output_type": "display_data"
    },
    {
     "data": {
      "application/javascript": [
       "(function(root) {\n",
       "  function embed_document(root) {\n",
       "    \n",
       "  var docs_json = {\"8b83c2a0-53d3-4d42-a7be-541c6ea3c537\":{\"roots\":{\"references\":[{\"attributes\":{\"below\":[{\"id\":\"2418\",\"type\":\"LinearAxis\"}],\"center\":[{\"id\":\"2422\",\"type\":\"Grid\"},{\"id\":\"2427\",\"type\":\"Grid\"}],\"left\":[{\"id\":\"2423\",\"type\":\"LinearAxis\"}],\"plot_height\":500,\"plot_width\":900,\"renderers\":[{\"id\":\"2444\",\"type\":\"GlyphRenderer\"},{\"id\":\"2451\",\"type\":\"GlyphRenderer\"}],\"title\":{\"id\":\"2408\",\"type\":\"Title\"},\"toolbar\":{\"id\":\"2434\",\"type\":\"Toolbar\"},\"x_range\":{\"id\":\"2410\",\"type\":\"DataRange1d\"},\"x_scale\":{\"id\":\"2414\",\"type\":\"LinearScale\"},\"y_range\":{\"id\":\"2412\",\"type\":\"DataRange1d\"},\"y_scale\":{\"id\":\"2416\",\"type\":\"LinearScale\"}},\"id\":\"2407\",\"subtype\":\"Figure\",\"type\":\"Plot\"},{\"attributes\":{},\"id\":\"2545\",\"type\":\"BasicTickFormatter\"},{\"attributes\":{\"line_color\":\"red\",\"x\":{\"field\":\"x\"},\"y\":{\"field\":\"y\"}},\"id\":\"2449\",\"type\":\"Line\"},{\"attributes\":{\"data_source\":{\"id\":\"2441\",\"type\":\"ColumnDataSource\"},\"glyph\":{\"id\":\"2442\",\"type\":\"Line\"},\"hover_glyph\":null,\"muted_glyph\":null,\"nonselection_glyph\":{\"id\":\"2443\",\"type\":\"Line\"},\"selection_glyph\":null,\"view\":{\"id\":\"2445\",\"type\":\"CDSView\"}},\"id\":\"2444\",\"type\":\"GlyphRenderer\"},{\"attributes\":{},\"id\":\"2549\",\"type\":\"Selection\"},{\"attributes\":{\"overlay\":{\"id\":\"2548\",\"type\":\"BoxAnnotation\"}},\"id\":\"2430\",\"type\":\"BoxZoomTool\"},{\"attributes\":{\"line_color\":\"#1f77b4\",\"x\":{\"field\":\"x\"},\"y\":{\"field\":\"y\"}},\"id\":\"2442\",\"type\":\"Line\"},{\"attributes\":{},\"id\":\"2433\",\"type\":\"HelpTool\"},{\"attributes\":{},\"id\":\"2431\",\"type\":\"SaveTool\"},{\"attributes\":{\"formatter\":{\"id\":\"2545\",\"type\":\"BasicTickFormatter\"},\"ticker\":{\"id\":\"2419\",\"type\":\"BasicTicker\"}},\"id\":\"2418\",\"type\":\"LinearAxis\"},{\"attributes\":{},\"id\":\"2547\",\"type\":\"BasicTickFormatter\"},{\"attributes\":{},\"id\":\"2551\",\"type\":\"Selection\"},{\"attributes\":{\"source\":{\"id\":\"2448\",\"type\":\"ColumnDataSource\"}},\"id\":\"2452\",\"type\":\"CDSView\"},{\"attributes\":{\"callback\":null,\"data\":{\"x\":{\"__ndarray__\":\"////P9kMukD///8/mRC6QP///z/ZG7pA////PxkdukA=\",\"dtype\":\"float64\",\"shape\":[4]},\"y\":[327.80682373046875,300.1259765625,321.156494140625,321.7145080566406]},\"selected\":{\"id\":\"2551\",\"type\":\"Selection\"},\"selection_policy\":{\"id\":\"2552\",\"type\":\"UnionRenderers\"}},\"id\":\"2448\",\"type\":\"ColumnDataSource\"},{\"attributes\":{\"callback\":null,\"tooltips\":[[\"(x,y)\",\"($x{1}, $y)\"]]},\"id\":\"2446\",\"type\":\"HoverTool\"},{\"attributes\":{\"ticker\":{\"id\":\"2419\",\"type\":\"BasicTicker\"}},\"id\":\"2422\",\"type\":\"Grid\"},{\"attributes\":{},\"id\":\"2550\",\"type\":\"UnionRenderers\"},{\"attributes\":{},\"id\":\"2552\",\"type\":\"UnionRenderers\"},{\"attributes\":{},\"id\":\"2428\",\"type\":\"PanTool\"},{\"attributes\":{\"callback\":null},\"id\":\"2412\",\"type\":\"DataRange1d\"},{\"attributes\":{\"line_alpha\":0.1,\"line_color\":\"#1f77b4\",\"x\":{\"field\":\"x\"},\"y\":{\"field\":\"y\"}},\"id\":\"2443\",\"type\":\"Line\"},{\"attributes\":{\"callback\":null,\"data\":{\"x\":{\"__ndarray__\":\"////Pxn6uUD///8/Wfu5QP///z+Z/LlA////P9n9uUD///8/Gf+5QP///z9ZALpA////P5kBukD///8/2QK6QP///z8ZBLpA////P1kFukD///8/mQa6QP///z/ZB7pA////PxkJukD///8/WQq6QP///z+ZC7pA////P9kMukD///8/GQ66QP///z9ZD7pA////P5kQukD///8/2RG6QP///z8ZE7pA////P1kUukD///8/mRW6QP///z/ZFrpA////PxkYukD///8/WRm6QP///z+ZGrpA////P9kbukD///8/GR26QP///z9ZHrpA////P5kfukD///8/2SC6QP///z8ZIrpA////P1kjukD///8/mSS6QP///z/ZJbpA////PxknukD///8/WSi6QP///z+ZKbpA////P9kqukD///8/GSy6QP///z9ZLbpA////P5kuukD///8/2S+6QP///z8ZMbpA////P1kyukD///8/mTO6QP///z/ZNLpA////Pxk2ukD///8/WTe6QP///z+ZOLpA////P9k5ukD///8/GTu6QP///z9ZPLpA////P5k9ukD///8/2T66QP///z8ZQLpA////P1lBukD///8/mUK6QP///z/ZQ7pA////PxlFukD///8/WUa6QP///z+ZR7pA////P9lIukD///8/GUq6QP///z9ZS7pA////P5lMukD///8/2U26QP///z8ZT7pA////P1lQukD///8/mVG6QP///z/ZUrpA////PxlUukD///8/WVW6QP///z+ZVrpA////P9lXukD///8/GVm6QP///z9ZWrpA////P5lbukD///8/2Vy6QP///z8ZXrpA////P1lfukD///8/mWC6QP///z/ZYbpA////PxljukD///8/WWS6QP///z+ZZbpA////P9lmukD///8/GWi6QP///z9ZabpA////P5lqukD///8/2Wu6QP///z8ZbbpA////P1luukD///8/mW+6QP///z/ZcLpA////PxlyukD///8/WXO6QP///z+ZdLpA////P9l1ukD///8/GXe6QP///z9ZeLpA////P5l5ukD///8/2Xq6QP///z8ZfLpA////P1l9ukD///8/mX66QP///z/Zf7pA////PxmBukD///8/WYK6QP///z+Zg7pA////P9mEukD///8/GYa6QP///z9Zh7pA////P5mIukD///8/2Ym6QP///z8Zi7pA////P1mMukD///8/mY26QP///z/ZjrpA////PxmQukD///8/WZG6QP///z+ZkrpA////P9mTukD///8/GZW6QP///z9ZlrpA////P5mXukD///8/2Zi6QP///z8ZmrpA////P1mbukD///8/mZy6QP///z/ZnbpA////PxmfukD///8/WaC6QP///z+ZobpA////P9miukA=\",\"dtype\":\"float64\",\"shape\":[136]},\"y\":[-104.57819366455078,-115.07720184326172,-20.958864212036133,46.136192321777344,185.36227416992188,-162.1048583984375,-98.88041687011719,86.17620849609375,44.83065414428711,60.784080505371094,122.9759521484375,198.16212463378906,-85.76873779296875,12.132588386535645,-57.34092330932617,327.80682373046875,217.2476806640625,217.80979919433594,300.1259765625,37.06147003173828,110.46585845947266,29.39579963684082,-163.66629028320312,153.1252899169922,196.7334442138672,112.08394622802734,104.51272583007812,321.156494140625,321.7145080566406,246.05587768554688,-10.606512069702148,118.45391845703125,133.14341735839844,258.47369384765625,183.43304443359375,226.44332885742188,85.39126586914062,-26.457509994506836,102.54739379882812,48.14619827270508,-95.30952453613281,-146.8197784423828,30.828338623046875,161.0469207763672,28.296913146972656,73.06659698486328,37.84815216064453,19.543930053710938,-39.9222412109375,70.46721649169922,-3.7232506275177,-37.90574264526367,156.82208251953125,107.91529083251953,115.2469482421875,47.053367614746094,60.066978454589844,-30.450502395629883,-89.35454559326172,27.489620208740234,100.05269622802734,-189.8332977294922,44.573848724365234,2.4245049953460693,84.08782196044922,111.19270324707031,82.02040100097656,86.52403259277344,-68.48194122314453,-113.73775482177734,-74.510986328125,51.5733642578125,65.05044555664062,49.05308151245117,24.014856338500977,-69.70094299316406,34.796302795410156,-4.790272235870361,-12.077862739562988,-42.23834228515625,-54.30686569213867,-78.06858825683594,40.54289245605469,-47.6032829284668,28.813203811645508,-46.8053092956543,-57.04475784301758,-188.07701110839844,-41.39036560058594,22.784725189208984,36.26466369628906,-109.42711639404297,62.43985366821289,12.05893611907959,58.60200500488281,-18.909452438354492,-23.977394104003906,-159.36158752441406,-113.24951934814453,-132.16073608398438,-19.226091384887695,19.08566665649414,12.692503929138184,35.97528076171875,11.54923152923584,25.953418731689453,-140.63441467285156,-55.018978118896484,44.315372467041016,7.608864784240723,-167.6717071533203,-160.50289916992188,-21.21087646484375,-121.379638671875,54.41464614868164,-23.204971313476562,100.87088012695312,54.72814178466797,49.4742317199707,128.51345825195312,-8.222561836242676,-29.860761642456055,39.409400939941406,71.13089752197266,101.13965606689453,187.56459045410156,78.37835693359375,108.25086975097656,-72.47605895996094,-13.775100708007812,25.26976776123047,-3.294581651687622,69.29747772216797,-36.10834884643555,-59.56870651245117,-48.175392150878906]},\"selected\":{\"id\":\"2549\",\"type\":\"Selection\"},\"selection_policy\":{\"id\":\"2550\",\"type\":\"UnionRenderers\"}},\"id\":\"2441\",\"type\":\"ColumnDataSource\"},{\"attributes\":{},\"id\":\"2416\",\"type\":\"LinearScale\"},{\"attributes\":{\"formatter\":{\"id\":\"2547\",\"type\":\"BasicTickFormatter\"},\"ticker\":{\"id\":\"2424\",\"type\":\"BasicTicker\"}},\"id\":\"2423\",\"type\":\"LinearAxis\"},{\"attributes\":{\"line_alpha\":0.1,\"line_color\":\"#1f77b4\",\"x\":{\"field\":\"x\"},\"y\":{\"field\":\"y\"}},\"id\":\"2450\",\"type\":\"Line\"},{\"attributes\":{\"active_drag\":{\"id\":\"2430\",\"type\":\"BoxZoomTool\"},\"active_inspect\":\"auto\",\"active_multi\":null,\"active_scroll\":{\"id\":\"2429\",\"type\":\"WheelZoomTool\"},\"active_tap\":\"auto\",\"tools\":[{\"id\":\"2428\",\"type\":\"PanTool\"},{\"id\":\"2429\",\"type\":\"WheelZoomTool\"},{\"id\":\"2430\",\"type\":\"BoxZoomTool\"},{\"id\":\"2431\",\"type\":\"SaveTool\"},{\"id\":\"2432\",\"type\":\"ResetTool\"},{\"id\":\"2433\",\"type\":\"HelpTool\"},{\"id\":\"2446\",\"type\":\"HoverTool\"}]},\"id\":\"2434\",\"type\":\"Toolbar\"},{\"attributes\":{\"source\":{\"id\":\"2441\",\"type\":\"ColumnDataSource\"}},\"id\":\"2445\",\"type\":\"CDSView\"},{\"attributes\":{\"dimension\":1,\"ticker\":{\"id\":\"2424\",\"type\":\"BasicTicker\"}},\"id\":\"2427\",\"type\":\"Grid\"},{\"attributes\":{\"data_source\":{\"id\":\"2448\",\"type\":\"ColumnDataSource\"},\"glyph\":{\"id\":\"2449\",\"type\":\"Line\"},\"hover_glyph\":null,\"muted_glyph\":null,\"nonselection_glyph\":{\"id\":\"2450\",\"type\":\"Line\"},\"selection_glyph\":null,\"view\":{\"id\":\"2452\",\"type\":\"CDSView\"}},\"id\":\"2451\",\"type\":\"GlyphRenderer\"},{\"attributes\":{\"bottom_units\":\"screen\",\"fill_alpha\":{\"value\":0.5},\"fill_color\":{\"value\":\"lightgrey\"},\"left_units\":\"screen\",\"level\":\"overlay\",\"line_alpha\":{\"value\":1.0},\"line_color\":{\"value\":\"black\"},\"line_dash\":[4,4],\"line_width\":{\"value\":2},\"render_mode\":\"css\",\"right_units\":\"screen\",\"top_units\":\"screen\"},\"id\":\"2548\",\"type\":\"BoxAnnotation\"},{\"attributes\":{},\"id\":\"2414\",\"type\":\"LinearScale\"},{\"attributes\":{\"callback\":null},\"id\":\"2410\",\"type\":\"DataRange1d\"},{\"attributes\":{},\"id\":\"2429\",\"type\":\"WheelZoomTool\"},{\"attributes\":{},\"id\":\"2424\",\"type\":\"BasicTicker\"},{\"attributes\":{\"text\":\"17:40:39.7113, -53:40:18.1137, 1517\"},\"id\":\"2408\",\"type\":\"Title\"},{\"attributes\":{},\"id\":\"2432\",\"type\":\"ResetTool\"},{\"attributes\":{},\"id\":\"2419\",\"type\":\"BasicTicker\"}],\"root_ids\":[\"2407\"]},\"title\":\"Bokeh Application\",\"version\":\"1.1.0\"}};\n",
       "  var render_items = [{\"docid\":\"8b83c2a0-53d3-4d42-a7be-541c6ea3c537\",\"roots\":{\"2407\":\"c102d66f-4601-4505-af9f-6c57c4608084\"}}];\n",
       "  root.Bokeh.embed.embed_items_notebook(docs_json, render_items);\n",
       "\n",
       "  }\n",
       "  if (root.Bokeh !== undefined) {\n",
       "    embed_document(root);\n",
       "  } else {\n",
       "    var attempts = 0;\n",
       "    var timer = setInterval(function(root) {\n",
       "      if (root.Bokeh !== undefined) {\n",
       "        embed_document(root);\n",
       "        clearInterval(timer);\n",
       "      }\n",
       "      attempts++;\n",
       "      if (attempts > 100) {\n",
       "        console.log(\"Bokeh: ERROR: Unable to run BokehJS code because BokehJS library is missing\");\n",
       "        clearInterval(timer);\n",
       "      }\n",
       "    }, 10, root)\n",
       "  }\n",
       "})(window);"
      ],
      "application/vnd.bokehjs_exec.v0+json": ""
     },
     "metadata": {
      "application/vnd.bokehjs_exec.v0+json": {
       "id": "2407"
      }
     },
     "output_type": "display_data"
    },
    {
     "data": {
      "text/html": [
       "\n",
       "\n",
       "\n",
       "\n",
       "\n",
       "\n",
       "  <div class=\"bk-root\" id=\"d0b31970-3ac0-4ef6-9300-df792e9b429b\" data-root-id=\"2613\"></div>\n"
      ]
     },
     "metadata": {},
     "output_type": "display_data"
    },
    {
     "data": {
      "application/javascript": [
       "(function(root) {\n",
       "  function embed_document(root) {\n",
       "    \n",
       "  var docs_json = {\"32a1aabe-91d1-44ce-9132-e4dc9cfc621c\":{\"roots\":{\"references\":[{\"attributes\":{\"below\":[{\"id\":\"2624\",\"type\":\"LinearAxis\"}],\"center\":[{\"id\":\"2628\",\"type\":\"Grid\"},{\"id\":\"2633\",\"type\":\"Grid\"}],\"left\":[{\"id\":\"2629\",\"type\":\"LinearAxis\"}],\"plot_height\":500,\"plot_width\":900,\"renderers\":[{\"id\":\"2650\",\"type\":\"GlyphRenderer\"},{\"id\":\"2657\",\"type\":\"GlyphRenderer\"}],\"title\":{\"id\":\"2614\",\"type\":\"Title\"},\"toolbar\":{\"id\":\"2640\",\"type\":\"Toolbar\"},\"x_range\":{\"id\":\"2616\",\"type\":\"DataRange1d\"},\"x_scale\":{\"id\":\"2620\",\"type\":\"LinearScale\"},\"y_range\":{\"id\":\"2618\",\"type\":\"DataRange1d\"},\"y_scale\":{\"id\":\"2622\",\"type\":\"LinearScale\"}},\"id\":\"2613\",\"subtype\":\"Figure\",\"type\":\"Plot\"},{\"attributes\":{},\"id\":\"2639\",\"type\":\"HelpTool\"},{\"attributes\":{\"line_color\":\"#1f77b4\",\"x\":{\"field\":\"x\"},\"y\":{\"field\":\"y\"}},\"id\":\"2648\",\"type\":\"Line\"},{\"attributes\":{},\"id\":\"2638\",\"type\":\"ResetTool\"},{\"attributes\":{},\"id\":\"2766\",\"type\":\"UnionRenderers\"},{\"attributes\":{\"formatter\":{\"id\":\"2761\",\"type\":\"BasicTickFormatter\"},\"ticker\":{\"id\":\"2625\",\"type\":\"BasicTicker\"}},\"id\":\"2624\",\"type\":\"LinearAxis\"},{\"attributes\":{\"line_alpha\":0.1,\"line_color\":\"#1f77b4\",\"x\":{\"field\":\"x\"},\"y\":{\"field\":\"y\"}},\"id\":\"2656\",\"type\":\"Line\"},{\"attributes\":{\"line_color\":\"red\",\"x\":{\"field\":\"x\"},\"y\":{\"field\":\"y\"}},\"id\":\"2655\",\"type\":\"Line\"},{\"attributes\":{\"callback\":null,\"data\":{\"x\":{\"__ndarray__\":\"////Pxn6uUD///8/Wfu5QP///z+Z/LlA////P9n9uUD///8/Gf+5QP///z9ZALpA////P5kBukD///8/2QK6QP///z8ZBLpA////P1kFukD///8/mQa6QP///z/ZB7pA////PxkJukD///8/WQq6QP///z+ZC7pA////P9kMukD///8/GQ66QP///z9ZD7pA////P5kQukD///8/2RG6QP///z8ZE7pA////P1kUukD///8/mRW6QP///z/ZFrpA////PxkYukD///8/WRm6QP///z+ZGrpA////P9kbukD///8/GR26QP///z9ZHrpA////P5kfukD///8/2SC6QP///z8ZIrpA////P1kjukD///8/mSS6QP///z/ZJbpA////PxknukD///8/WSi6QP///z+ZKbpA////P9kqukD///8/GSy6QP///z9ZLbpA////P5kuukD///8/2S+6QP///z8ZMbpA////P1kyukD///8/mTO6QP///z/ZNLpA////Pxk2ukD///8/WTe6QP///z+ZOLpA////P9k5ukD///8/GTu6QP///z9ZPLpA////P5k9ukD///8/2T66QP///z8ZQLpA////P1lBukD///8/mUK6QP///z/ZQ7pA////PxlFukD///8/WUa6QP///z+ZR7pA////P9lIukD///8/GUq6QP///z9ZS7pA////P5lMukD///8/2U26QP///z8ZT7pA////P1lQukD///8/mVG6QP///z/ZUrpA////PxlUukD///8/WVW6QP///z+ZVrpA////P9lXukD///8/GVm6QP///z9ZWrpA////P5lbukD///8/2Vy6QP///z8ZXrpA////P1lfukD///8/mWC6QP///z/ZYbpA////PxljukD///8/WWS6QP///z+ZZbpA////P9lmukD///8/GWi6QP///z9ZabpA////P5lqukD///8/2Wu6QP///z8ZbbpA////P1luukD///8/mW+6QP///z/ZcLpA////PxlyukD///8/WXO6QP///z+ZdLpA////P9l1ukD///8/GXe6QP///z9ZeLpA////P5l5ukD///8/2Xq6QP///z8ZfLpA////P1l9ukD///8/mX66QP///z/Zf7pA////PxmBukD///8/WYK6QP///z+Zg7pA////P9mEukD///8/GYa6QP///z9Zh7pA////P5mIukD///8/2Ym6QP///z8Zi7pA////P1mMukD///8/mY26QP///z/ZjrpA////PxmQukD///8/WZG6QP///z+ZkrpA////P9mTukD///8/GZW6QP///z9ZlrpA////P5mXukD///8/2Zi6QP///z8ZmrpA////P1mbukD///8/mZy6QP///z/ZnbpA////PxmfukD///8/WaC6QP///z+ZobpA////P9miukA=\",\"dtype\":\"float64\",\"shape\":[136]},\"y\":[-40.154075622558594,-27.33625030517578,55.5939826965332,-50.28256607055664,41.97624206542969,7.904340744018555,60.498313903808594,-5.88881254196167,-15.460894584655762,26.954429626464844,31.752914428710938,180.16966247558594,776.7095336914062,207.2041473388672,31.9783878326416,-22.75923728942871,37.904361724853516,-41.32695770263672,-32.24494171142578,19.92384910583496,-92.24490356445312,46.66407775878906,27.053876876831055,-164.6795196533203,-41.42695999145508,14.231454849243164,-25.17936134338379,-42.9782600402832,-66.51606750488281,5.785332679748535,-37.50593566894531,26.607929229736328,98.74337768554688,-34.09445571899414,-45.98614501953125,48.48384094238281,15.898265838623047,-30.98750114440918,7.214725971221924,-36.63836669921875,-62.747703552246094,-52.458744049072266,-51.047367095947266,-30.286279678344727,-28.169376373291016,-4.915164470672607,41.676063537597656,-27.27532958984375,-87.82501220703125,-58.55403137207031,-54.11840057373047,40.64765548706055,45.160152435302734,40.427879333496094,97.55361938476562,-17.49608039855957,-24.73244285583496,1.279099941253662,36.89059829711914,2.47558856010437,0.13709646463394165,-35.1397705078125,-13.129668235778809,83.53922271728516,191.93795776367188,68.22962188720703,-47.92808532714844,-6.064200401306152,-37.80348587036133,34.424861907958984,-14.19996166229248,-30.029760360717773,-85.26497650146484,-6.97591495513916,-18.52293586730957,18.460418701171875,-26.406221389770508,-80.23320770263672,-11.241735458374023,12.023279190063477,31.824039459228516,6.124414443969727,8.947352409362793,9.000372886657715,-17.326143264770508,-35.912322998046875,-2.7252049446105957,39.319435119628906,95.40983581542969,78.75473022460938,97.86632537841797,-8.787110328674316,-73.26271057128906,25.283519744873047,-48.81541061401367,-9.497245788574219,65.2536392211914,-20.226333618164062,20.611181259155273,-48.78801727294922,-13.877790451049805,-54.60295867919922,-21.88124656677246,11.059074401855469,-9.099135398864746,-31.428630828857422,-0.1903955191373825,3.9224531650543213,-7.607418060302734,46.30934524536133,22.888076782226562,-31.16004180908203,13.30341625213623,-11.313590049743652,-29.81989860534668,10.566717147827148,44.56281280517578,-8.279372215270996,-42.42931365966797,-44.19707489013672,-87.65955352783203,-36.0696907043457,35.50294494628906,46.770751953125,-27.733314514160156,53.14651107788086,30.61067008972168,-20.16090965270996,5.8073577880859375,-7.063627243041992,1.0601189136505127,-7.806755065917969,15.641658782958984,-13.337071418762207,19.93771743774414,24.217981338500977]},\"selected\":{\"id\":\"2765\",\"type\":\"Selection\"},\"selection_policy\":{\"id\":\"2766\",\"type\":\"UnionRenderers\"}},\"id\":\"2647\",\"type\":\"ColumnDataSource\"},{\"attributes\":{\"dimension\":1,\"ticker\":{\"id\":\"2630\",\"type\":\"BasicTicker\"}},\"id\":\"2633\",\"type\":\"Grid\"},{\"attributes\":{},\"id\":\"2761\",\"type\":\"BasicTickFormatter\"},{\"attributes\":{},\"id\":\"2763\",\"type\":\"BasicTickFormatter\"},{\"attributes\":{\"callback\":null},\"id\":\"2616\",\"type\":\"DataRange1d\"},{\"attributes\":{},\"id\":\"2620\",\"type\":\"LinearScale\"},{\"attributes\":{},\"id\":\"2635\",\"type\":\"WheelZoomTool\"},{\"attributes\":{\"data_source\":{\"id\":\"2647\",\"type\":\"ColumnDataSource\"},\"glyph\":{\"id\":\"2648\",\"type\":\"Line\"},\"hover_glyph\":null,\"muted_glyph\":null,\"nonselection_glyph\":{\"id\":\"2649\",\"type\":\"Line\"},\"selection_glyph\":null,\"view\":{\"id\":\"2651\",\"type\":\"CDSView\"}},\"id\":\"2650\",\"type\":\"GlyphRenderer\"},{\"attributes\":{\"callback\":null},\"id\":\"2618\",\"type\":\"DataRange1d\"},{\"attributes\":{},\"id\":\"2768\",\"type\":\"UnionRenderers\"},{\"attributes\":{\"data_source\":{\"id\":\"2654\",\"type\":\"ColumnDataSource\"},\"glyph\":{\"id\":\"2655\",\"type\":\"Line\"},\"hover_glyph\":null,\"muted_glyph\":null,\"nonselection_glyph\":{\"id\":\"2656\",\"type\":\"Line\"},\"selection_glyph\":null,\"view\":{\"id\":\"2658\",\"type\":\"CDSView\"}},\"id\":\"2657\",\"type\":\"GlyphRenderer\"},{\"attributes\":{},\"id\":\"2767\",\"type\":\"Selection\"},{\"attributes\":{\"text\":\"17:40:43.7113, -53:40:18.1137, 1557\"},\"id\":\"2614\",\"type\":\"Title\"},{\"attributes\":{\"line_alpha\":0.1,\"line_color\":\"#1f77b4\",\"x\":{\"field\":\"x\"},\"y\":{\"field\":\"y\"}},\"id\":\"2649\",\"type\":\"Line\"},{\"attributes\":{\"callback\":null,\"tooltips\":[[\"(x,y)\",\"($x{1}, $y)\"]]},\"id\":\"2652\",\"type\":\"HoverTool\"},{\"attributes\":{\"source\":{\"id\":\"2647\",\"type\":\"ColumnDataSource\"}},\"id\":\"2651\",\"type\":\"CDSView\"},{\"attributes\":{\"ticker\":{\"id\":\"2625\",\"type\":\"BasicTicker\"}},\"id\":\"2628\",\"type\":\"Grid\"},{\"attributes\":{\"source\":{\"id\":\"2654\",\"type\":\"ColumnDataSource\"}},\"id\":\"2658\",\"type\":\"CDSView\"},{\"attributes\":{\"bottom_units\":\"screen\",\"fill_alpha\":{\"value\":0.5},\"fill_color\":{\"value\":\"lightgrey\"},\"left_units\":\"screen\",\"level\":\"overlay\",\"line_alpha\":{\"value\":1.0},\"line_color\":{\"value\":\"black\"},\"line_dash\":[4,4],\"line_width\":{\"value\":2},\"render_mode\":\"css\",\"right_units\":\"screen\",\"top_units\":\"screen\"},\"id\":\"2764\",\"type\":\"BoxAnnotation\"},{\"attributes\":{\"callback\":null,\"data\":{\"x\":{\"__ndarray__\":\"////P9kHukD///8/GQm6QP///z9ZCrpA////PxlKukA=\",\"dtype\":\"float64\",\"shape\":[4]},\"y\":[180.16966247558594,776.7095336914062,207.2041473388672,191.93795776367188]},\"selected\":{\"id\":\"2767\",\"type\":\"Selection\"},\"selection_policy\":{\"id\":\"2768\",\"type\":\"UnionRenderers\"}},\"id\":\"2654\",\"type\":\"ColumnDataSource\"},{\"attributes\":{},\"id\":\"2630\",\"type\":\"BasicTicker\"},{\"attributes\":{},\"id\":\"2625\",\"type\":\"BasicTicker\"},{\"attributes\":{\"active_drag\":{\"id\":\"2636\",\"type\":\"BoxZoomTool\"},\"active_inspect\":\"auto\",\"active_multi\":null,\"active_scroll\":{\"id\":\"2635\",\"type\":\"WheelZoomTool\"},\"active_tap\":\"auto\",\"tools\":[{\"id\":\"2634\",\"type\":\"PanTool\"},{\"id\":\"2635\",\"type\":\"WheelZoomTool\"},{\"id\":\"2636\",\"type\":\"BoxZoomTool\"},{\"id\":\"2637\",\"type\":\"SaveTool\"},{\"id\":\"2638\",\"type\":\"ResetTool\"},{\"id\":\"2639\",\"type\":\"HelpTool\"},{\"id\":\"2652\",\"type\":\"HoverTool\"}]},\"id\":\"2640\",\"type\":\"Toolbar\"},{\"attributes\":{\"overlay\":{\"id\":\"2764\",\"type\":\"BoxAnnotation\"}},\"id\":\"2636\",\"type\":\"BoxZoomTool\"},{\"attributes\":{},\"id\":\"2634\",\"type\":\"PanTool\"},{\"attributes\":{\"formatter\":{\"id\":\"2763\",\"type\":\"BasicTickFormatter\"},\"ticker\":{\"id\":\"2630\",\"type\":\"BasicTicker\"}},\"id\":\"2629\",\"type\":\"LinearAxis\"},{\"attributes\":{},\"id\":\"2637\",\"type\":\"SaveTool\"},{\"attributes\":{},\"id\":\"2622\",\"type\":\"LinearScale\"},{\"attributes\":{},\"id\":\"2765\",\"type\":\"Selection\"}],\"root_ids\":[\"2613\"]},\"title\":\"Bokeh Application\",\"version\":\"1.1.0\"}};\n",
       "  var render_items = [{\"docid\":\"32a1aabe-91d1-44ce-9132-e4dc9cfc621c\",\"roots\":{\"2613\":\"d0b31970-3ac0-4ef6-9300-df792e9b429b\"}}];\n",
       "  root.Bokeh.embed.embed_items_notebook(docs_json, render_items);\n",
       "\n",
       "  }\n",
       "  if (root.Bokeh !== undefined) {\n",
       "    embed_document(root);\n",
       "  } else {\n",
       "    var attempts = 0;\n",
       "    var timer = setInterval(function(root) {\n",
       "      if (root.Bokeh !== undefined) {\n",
       "        embed_document(root);\n",
       "        clearInterval(timer);\n",
       "      }\n",
       "      attempts++;\n",
       "      if (attempts > 100) {\n",
       "        console.log(\"Bokeh: ERROR: Unable to run BokehJS code because BokehJS library is missing\");\n",
       "        clearInterval(timer);\n",
       "      }\n",
       "    }, 10, root)\n",
       "  }\n",
       "})(window);"
      ],
      "application/vnd.bokehjs_exec.v0+json": ""
     },
     "metadata": {
      "application/vnd.bokehjs_exec.v0+json": {
       "id": "2613"
      }
     },
     "output_type": "display_data"
    },
    {
     "data": {
      "text/html": [
       "\n",
       "\n",
       "\n",
       "\n",
       "\n",
       "\n",
       "  <div class=\"bk-root\" id=\"9e5b2848-19f6-432f-bb7b-b0e41a360344\" data-root-id=\"2829\"></div>\n"
      ]
     },
     "metadata": {},
     "output_type": "display_data"
    },
    {
     "data": {
      "application/javascript": [
       "(function(root) {\n",
       "  function embed_document(root) {\n",
       "    \n",
       "  var docs_json = {\"15a8f5f1-59b7-4df0-ae95-f53a7c2795d9\":{\"roots\":{\"references\":[{\"attributes\":{\"below\":[{\"id\":\"2840\",\"type\":\"LinearAxis\"}],\"center\":[{\"id\":\"2844\",\"type\":\"Grid\"},{\"id\":\"2849\",\"type\":\"Grid\"}],\"left\":[{\"id\":\"2845\",\"type\":\"LinearAxis\"}],\"plot_height\":500,\"plot_width\":900,\"renderers\":[{\"id\":\"2866\",\"type\":\"GlyphRenderer\"},{\"id\":\"2873\",\"type\":\"GlyphRenderer\"}],\"title\":{\"id\":\"2830\",\"type\":\"Title\"},\"toolbar\":{\"id\":\"2856\",\"type\":\"Toolbar\"},\"x_range\":{\"id\":\"2832\",\"type\":\"DataRange1d\"},\"x_scale\":{\"id\":\"2836\",\"type\":\"LinearScale\"},\"y_range\":{\"id\":\"2834\",\"type\":\"DataRange1d\"},\"y_scale\":{\"id\":\"2838\",\"type\":\"LinearScale\"}},\"id\":\"2829\",\"subtype\":\"Figure\",\"type\":\"Plot\"},{\"attributes\":{\"formatter\":{\"id\":\"2989\",\"type\":\"BasicTickFormatter\"},\"ticker\":{\"id\":\"2846\",\"type\":\"BasicTicker\"}},\"id\":\"2845\",\"type\":\"LinearAxis\"},{\"attributes\":{\"callback\":null,\"tooltips\":[[\"(x,y)\",\"($x{1}, $y)\"]]},\"id\":\"2868\",\"type\":\"HoverTool\"},{\"attributes\":{},\"id\":\"2854\",\"type\":\"ResetTool\"},{\"attributes\":{},\"id\":\"2989\",\"type\":\"BasicTickFormatter\"},{\"attributes\":{\"ticker\":{\"id\":\"2841\",\"type\":\"BasicTicker\"}},\"id\":\"2844\",\"type\":\"Grid\"},{\"attributes\":{\"data_source\":{\"id\":\"2870\",\"type\":\"ColumnDataSource\"},\"glyph\":{\"id\":\"2871\",\"type\":\"Line\"},\"hover_glyph\":null,\"muted_glyph\":null,\"nonselection_glyph\":{\"id\":\"2872\",\"type\":\"Line\"},\"selection_glyph\":null,\"view\":{\"id\":\"2874\",\"type\":\"CDSView\"}},\"id\":\"2873\",\"type\":\"GlyphRenderer\"},{\"attributes\":{},\"id\":\"2841\",\"type\":\"BasicTicker\"},{\"attributes\":{},\"id\":\"2838\",\"type\":\"LinearScale\"},{\"attributes\":{},\"id\":\"2836\",\"type\":\"LinearScale\"},{\"attributes\":{\"callback\":null},\"id\":\"2832\",\"type\":\"DataRange1d\"},{\"attributes\":{\"data_source\":{\"id\":\"2863\",\"type\":\"ColumnDataSource\"},\"glyph\":{\"id\":\"2864\",\"type\":\"Line\"},\"hover_glyph\":null,\"muted_glyph\":null,\"nonselection_glyph\":{\"id\":\"2865\",\"type\":\"Line\"},\"selection_glyph\":null,\"view\":{\"id\":\"2867\",\"type\":\"CDSView\"}},\"id\":\"2866\",\"type\":\"GlyphRenderer\"},{\"attributes\":{\"dimension\":1,\"ticker\":{\"id\":\"2846\",\"type\":\"BasicTicker\"}},\"id\":\"2849\",\"type\":\"Grid\"},{\"attributes\":{\"active_drag\":{\"id\":\"2852\",\"type\":\"BoxZoomTool\"},\"active_inspect\":\"auto\",\"active_multi\":null,\"active_scroll\":{\"id\":\"2851\",\"type\":\"WheelZoomTool\"},\"active_tap\":\"auto\",\"tools\":[{\"id\":\"2850\",\"type\":\"PanTool\"},{\"id\":\"2851\",\"type\":\"WheelZoomTool\"},{\"id\":\"2852\",\"type\":\"BoxZoomTool\"},{\"id\":\"2853\",\"type\":\"SaveTool\"},{\"id\":\"2854\",\"type\":\"ResetTool\"},{\"id\":\"2855\",\"type\":\"HelpTool\"},{\"id\":\"2868\",\"type\":\"HoverTool\"}]},\"id\":\"2856\",\"type\":\"Toolbar\"},{\"attributes\":{},\"id\":\"2853\",\"type\":\"SaveTool\"},{\"attributes\":{},\"id\":\"2993\",\"type\":\"Selection\"},{\"attributes\":{\"source\":{\"id\":\"2870\",\"type\":\"ColumnDataSource\"}},\"id\":\"2874\",\"type\":\"CDSView\"},{\"attributes\":{},\"id\":\"2987\",\"type\":\"BasicTickFormatter\"},{\"attributes\":{\"line_color\":\"red\",\"x\":{\"field\":\"x\"},\"y\":{\"field\":\"y\"}},\"id\":\"2871\",\"type\":\"Line\"},{\"attributes\":{\"line_color\":\"#1f77b4\",\"x\":{\"field\":\"x\"},\"y\":{\"field\":\"y\"}},\"id\":\"2864\",\"type\":\"Line\"},{\"attributes\":{},\"id\":\"2991\",\"type\":\"Selection\"},{\"attributes\":{},\"id\":\"2855\",\"type\":\"HelpTool\"},{\"attributes\":{},\"id\":\"2994\",\"type\":\"UnionRenderers\"},{\"attributes\":{},\"id\":\"2851\",\"type\":\"WheelZoomTool\"},{\"attributes\":{\"overlay\":{\"id\":\"2990\",\"type\":\"BoxAnnotation\"}},\"id\":\"2852\",\"type\":\"BoxZoomTool\"},{\"attributes\":{},\"id\":\"2992\",\"type\":\"UnionRenderers\"},{\"attributes\":{\"callback\":null,\"data\":{\"x\":{\"__ndarray__\":\"////P1mgukD///8/maG6QP///z/ZorpA\",\"dtype\":\"float64\",\"shape\":[3]},\"y\":[306.612060546875,787.2713012695312,501.13641357421875]},\"selected\":{\"id\":\"2993\",\"type\":\"Selection\"},\"selection_policy\":{\"id\":\"2994\",\"type\":\"UnionRenderers\"}},\"id\":\"2870\",\"type\":\"ColumnDataSource\"},{\"attributes\":{},\"id\":\"2850\",\"type\":\"PanTool\"},{\"attributes\":{\"bottom_units\":\"screen\",\"fill_alpha\":{\"value\":0.5},\"fill_color\":{\"value\":\"lightgrey\"},\"left_units\":\"screen\",\"level\":\"overlay\",\"line_alpha\":{\"value\":1.0},\"line_color\":{\"value\":\"black\"},\"line_dash\":[4,4],\"line_width\":{\"value\":2},\"render_mode\":\"css\",\"right_units\":\"screen\",\"top_units\":\"screen\"},\"id\":\"2990\",\"type\":\"BoxAnnotation\"},{\"attributes\":{\"line_alpha\":0.1,\"line_color\":\"#1f77b4\",\"x\":{\"field\":\"x\"},\"y\":{\"field\":\"y\"}},\"id\":\"2865\",\"type\":\"Line\"},{\"attributes\":{\"formatter\":{\"id\":\"2987\",\"type\":\"BasicTickFormatter\"},\"ticker\":{\"id\":\"2841\",\"type\":\"BasicTicker\"}},\"id\":\"2840\",\"type\":\"LinearAxis\"},{\"attributes\":{\"callback\":null},\"id\":\"2834\",\"type\":\"DataRange1d\"},{\"attributes\":{},\"id\":\"2846\",\"type\":\"BasicTicker\"},{\"attributes\":{\"callback\":null,\"data\":{\"x\":{\"__ndarray__\":\"////Pxn6uUD///8/Wfu5QP///z+Z/LlA////P9n9uUD///8/Gf+5QP///z9ZALpA////P5kBukD///8/2QK6QP///z8ZBLpA////P1kFukD///8/mQa6QP///z/ZB7pA////PxkJukD///8/WQq6QP///z+ZC7pA////P9kMukD///8/GQ66QP///z9ZD7pA////P5kQukD///8/2RG6QP///z8ZE7pA////P1kUukD///8/mRW6QP///z/ZFrpA////PxkYukD///8/WRm6QP///z+ZGrpA////P9kbukD///8/GR26QP///z9ZHrpA////P5kfukD///8/2SC6QP///z8ZIrpA////P1kjukD///8/mSS6QP///z/ZJbpA////PxknukD///8/WSi6QP///z+ZKbpA////P9kqukD///8/GSy6QP///z9ZLbpA////P5kuukD///8/2S+6QP///z8ZMbpA////P1kyukD///8/mTO6QP///z/ZNLpA////Pxk2ukD///8/WTe6QP///z+ZOLpA////P9k5ukD///8/GTu6QP///z9ZPLpA////P5k9ukD///8/2T66QP///z8ZQLpA////P1lBukD///8/mUK6QP///z/ZQ7pA////PxlFukD///8/WUa6QP///z+ZR7pA////P9lIukD///8/GUq6QP///z9ZS7pA////P5lMukD///8/2U26QP///z8ZT7pA////P1lQukD///8/mVG6QP///z/ZUrpA////PxlUukD///8/WVW6QP///z+ZVrpA////P9lXukD///8/GVm6QP///z9ZWrpA////P5lbukD///8/2Vy6QP///z8ZXrpA////P1lfukD///8/mWC6QP///z/ZYbpA////PxljukD///8/WWS6QP///z+ZZbpA////P9lmukD///8/GWi6QP///z9ZabpA////P5lqukD///8/2Wu6QP///z8ZbbpA////P1luukD///8/mW+6QP///z/ZcLpA////PxlyukD///8/WXO6QP///z+ZdLpA////P9l1ukD///8/GXe6QP///z9ZeLpA////P5l5ukD///8/2Xq6QP///z8ZfLpA////P1l9ukD///8/mX66QP///z/Zf7pA////PxmBukD///8/WYK6QP///z+Zg7pA////P9mEukD///8/GYa6QP///z9Zh7pA////P5mIukD///8/2Ym6QP///z8Zi7pA////P1mMukD///8/mY26QP///z/ZjrpA////PxmQukD///8/WZG6QP///z+ZkrpA////P9mTukD///8/GZW6QP///z9ZlrpA////P5mXukD///8/2Zi6QP///z8ZmrpA////P1mbukD///8/mZy6QP///z/ZnbpA////PxmfukD///8/WaC6QP///z+ZobpA////P9miukA=\",\"dtype\":\"float64\",\"shape\":[136]},\"y\":[-152.7209014892578,-116.4482421875,-14.596664428710938,44.471527099609375,97.1445083618164,-10.923898696899414,39.61346435546875,-147.51829528808594,-57.25425720214844,4.150226593017578,41.627281188964844,12.970849990844727,12.013941764831543,-2.9421751499176025,61.113731384277344,43.36134719848633,-64.15196228027344,-0.028740378096699715,-34.53363037109375,-8.90638256072998,165.50437927246094,108.90567016601562,10.785292625427246,-117.62091064453125,102.42338562011719,79.46212005615234,25.21161460876465,-24.292495727539062,50.586997985839844,0.5166023373603821,-27.700952529907227,28.330820083618164,92.25450134277344,3.895277500152588,-72.47145080566406,40.0918083190918,14.882424354553223,23.857913970947266,9.569547653198242,-21.289804458618164,77.34284973144531,-70.54470825195312,141.0275115966797,34.98480987548828,88.0625228881836,105.38468170166016,-63.6419792175293,7.586549758911133,23.552196502685547,-52.847084045410156,37.90090560913086,-40.33761215209961,38.133155822753906,95.7677993774414,17.151777267456055,38.51261520385742,76.93333435058594,53.635597229003906,-46.28487777709961,62.270538330078125,13.32723331451416,-8.786666870117188,-25.0535831451416,25.6851749420166,83.12345886230469,93.31204223632812,99.80610656738281,-3.6082193851470947,-62.321556091308594,-6.41251802444458,21.490964889526367,36.38449478149414,55.7226676940918,78.75450134277344,17.45558738708496,-15.421150207519531,-81.6506118774414,-19.78308868408203,38.27174758911133,95.30589294433594,11.504895210266113,-12.477930068969727,-23.145998001098633,15.482624053955078,100.9577407836914,-23.166446685791016,24.70429801940918,-63.19516372680664,-53.80867385864258,-62.73682403564453,-67.57677459716797,-38.98966979980469,29.233482360839844,-103.33651733398438,-59.87740707397461,-85.8369369506836,-2.1311216354370117,36.39579772949219,-54.45393753051758,-29.751117706298828,-42.042625427246094,-29.49984359741211,-9.030977249145508,-98.96610260009766,-55.83598709106445,-34.654781341552734,39.52330780029297,-8.724081993103027,58.717308044433594,-114.56999969482422,12.252370834350586,-19.073881149291992,-68.74357604980469,34.26525115966797,75.90182495117188,-42.254756927490234,-56.551170349121094,23.44080924987793,-9.521988868713379,-59.06797790527344,-17.004289627075195,-44.5247688293457,-68.3125228881836,-134.0623779296875,-115.77970123291016,-61.17494201660156,-199.11920166015625,-118.51139068603516,-119.18891906738281,-150.67279052734375,-113.09580993652344,-114.28463745117188,-194.51759338378906,306.612060546875,787.2713012695312,501.13641357421875]},\"selected\":{\"id\":\"2991\",\"type\":\"Selection\"},\"selection_policy\":{\"id\":\"2992\",\"type\":\"UnionRenderers\"}},\"id\":\"2863\",\"type\":\"ColumnDataSource\"},{\"attributes\":{\"line_alpha\":0.1,\"line_color\":\"#1f77b4\",\"x\":{\"field\":\"x\"},\"y\":{\"field\":\"y\"}},\"id\":\"2872\",\"type\":\"Line\"},{\"attributes\":{\"text\":\"17:40:42.8113, -53:40:15.1137, 1692\"},\"id\":\"2830\",\"type\":\"Title\"},{\"attributes\":{\"source\":{\"id\":\"2863\",\"type\":\"ColumnDataSource\"}},\"id\":\"2867\",\"type\":\"CDSView\"}],\"root_ids\":[\"2829\"]},\"title\":\"Bokeh Application\",\"version\":\"1.1.0\"}};\n",
       "  var render_items = [{\"docid\":\"15a8f5f1-59b7-4df0-ae95-f53a7c2795d9\",\"roots\":{\"2829\":\"9e5b2848-19f6-432f-bb7b-b0e41a360344\"}}];\n",
       "  root.Bokeh.embed.embed_items_notebook(docs_json, render_items);\n",
       "\n",
       "  }\n",
       "  if (root.Bokeh !== undefined) {\n",
       "    embed_document(root);\n",
       "  } else {\n",
       "    var attempts = 0;\n",
       "    var timer = setInterval(function(root) {\n",
       "      if (root.Bokeh !== undefined) {\n",
       "        embed_document(root);\n",
       "        clearInterval(timer);\n",
       "      }\n",
       "      attempts++;\n",
       "      if (attempts > 100) {\n",
       "        console.log(\"Bokeh: ERROR: Unable to run BokehJS code because BokehJS library is missing\");\n",
       "        clearInterval(timer);\n",
       "      }\n",
       "    }, 10, root)\n",
       "  }\n",
       "})(window);"
      ],
      "application/vnd.bokehjs_exec.v0+json": ""
     },
     "metadata": {
      "application/vnd.bokehjs_exec.v0+json": {
       "id": "2829"
      }
     },
     "output_type": "display_data"
    },
    {
     "data": {
      "text/html": [
       "\n",
       "\n",
       "\n",
       "\n",
       "\n",
       "\n",
       "  <div class=\"bk-root\" id=\"a33b3a2b-751b-4f0d-86f6-09b0a594121a\" data-root-id=\"3055\"></div>\n"
      ]
     },
     "metadata": {},
     "output_type": "display_data"
    },
    {
     "data": {
      "application/javascript": [
       "(function(root) {\n",
       "  function embed_document(root) {\n",
       "    \n",
       "  var docs_json = {\"af2ae942-59e1-4400-bb79-b26b91d5c043\":{\"roots\":{\"references\":[{\"attributes\":{\"below\":[{\"id\":\"3066\",\"type\":\"LinearAxis\"}],\"center\":[{\"id\":\"3070\",\"type\":\"Grid\"},{\"id\":\"3075\",\"type\":\"Grid\"}],\"left\":[{\"id\":\"3071\",\"type\":\"LinearAxis\"}],\"plot_height\":500,\"plot_width\":900,\"renderers\":[{\"id\":\"3092\",\"type\":\"GlyphRenderer\"},{\"id\":\"3099\",\"type\":\"GlyphRenderer\"}],\"title\":{\"id\":\"3056\",\"type\":\"Title\"},\"toolbar\":{\"id\":\"3082\",\"type\":\"Toolbar\"},\"x_range\":{\"id\":\"3058\",\"type\":\"DataRange1d\"},\"x_scale\":{\"id\":\"3062\",\"type\":\"LinearScale\"},\"y_range\":{\"id\":\"3060\",\"type\":\"DataRange1d\"},\"y_scale\":{\"id\":\"3064\",\"type\":\"LinearScale\"}},\"id\":\"3055\",\"subtype\":\"Figure\",\"type\":\"Plot\"},{\"attributes\":{\"callback\":null,\"data\":{\"x\":{\"__ndarray__\":\"////P5kGukD///8/2Qe6QP///z/ZEbpA\",\"dtype\":\"float64\",\"shape\":[3]},\"y\":[266.6650085449219,344.46148681640625,93.6343002319336]},\"selected\":{\"id\":\"3229\",\"type\":\"Selection\"},\"selection_policy\":{\"id\":\"3230\",\"type\":\"UnionRenderers\"}},\"id\":\"3096\",\"type\":\"ColumnDataSource\"},{\"attributes\":{},\"id\":\"3072\",\"type\":\"BasicTicker\"},{\"attributes\":{},\"id\":\"3080\",\"type\":\"ResetTool\"},{\"attributes\":{\"line_color\":\"red\",\"x\":{\"field\":\"x\"},\"y\":{\"field\":\"y\"}},\"id\":\"3097\",\"type\":\"Line\"},{\"attributes\":{},\"id\":\"3228\",\"type\":\"UnionRenderers\"},{\"attributes\":{\"line_alpha\":0.1,\"line_color\":\"#1f77b4\",\"x\":{\"field\":\"x\"},\"y\":{\"field\":\"y\"}},\"id\":\"3098\",\"type\":\"Line\"},{\"attributes\":{},\"id\":\"3081\",\"type\":\"HelpTool\"},{\"attributes\":{\"data_source\":{\"id\":\"3096\",\"type\":\"ColumnDataSource\"},\"glyph\":{\"id\":\"3097\",\"type\":\"Line\"},\"hover_glyph\":null,\"muted_glyph\":null,\"nonselection_glyph\":{\"id\":\"3098\",\"type\":\"Line\"},\"selection_glyph\":null,\"view\":{\"id\":\"3100\",\"type\":\"CDSView\"}},\"id\":\"3099\",\"type\":\"GlyphRenderer\"},{\"attributes\":{\"data_source\":{\"id\":\"3089\",\"type\":\"ColumnDataSource\"},\"glyph\":{\"id\":\"3090\",\"type\":\"Line\"},\"hover_glyph\":null,\"muted_glyph\":null,\"nonselection_glyph\":{\"id\":\"3091\",\"type\":\"Line\"},\"selection_glyph\":null,\"view\":{\"id\":\"3093\",\"type\":\"CDSView\"}},\"id\":\"3092\",\"type\":\"GlyphRenderer\"},{\"attributes\":{},\"id\":\"3064\",\"type\":\"LinearScale\"},{\"attributes\":{\"source\":{\"id\":\"3096\",\"type\":\"ColumnDataSource\"}},\"id\":\"3100\",\"type\":\"CDSView\"},{\"attributes\":{\"callback\":null,\"tooltips\":[[\"(x,y)\",\"($x{1}, $y)\"]]},\"id\":\"3094\",\"type\":\"HoverTool\"},{\"attributes\":{},\"id\":\"3225\",\"type\":\"BasicTickFormatter\"},{\"attributes\":{\"formatter\":{\"id\":\"3223\",\"type\":\"BasicTickFormatter\"},\"ticker\":{\"id\":\"3067\",\"type\":\"BasicTicker\"}},\"id\":\"3066\",\"type\":\"LinearAxis\"},{\"attributes\":{},\"id\":\"3067\",\"type\":\"BasicTicker\"},{\"attributes\":{\"bottom_units\":\"screen\",\"fill_alpha\":{\"value\":0.5},\"fill_color\":{\"value\":\"lightgrey\"},\"left_units\":\"screen\",\"level\":\"overlay\",\"line_alpha\":{\"value\":1.0},\"line_color\":{\"value\":\"black\"},\"line_dash\":[4,4],\"line_width\":{\"value\":2},\"render_mode\":\"css\",\"right_units\":\"screen\",\"top_units\":\"screen\"},\"id\":\"3226\",\"type\":\"BoxAnnotation\"},{\"attributes\":{\"ticker\":{\"id\":\"3067\",\"type\":\"BasicTicker\"}},\"id\":\"3070\",\"type\":\"Grid\"},{\"attributes\":{},\"id\":\"3223\",\"type\":\"BasicTickFormatter\"},{\"attributes\":{},\"id\":\"3076\",\"type\":\"PanTool\"},{\"attributes\":{},\"id\":\"3230\",\"type\":\"UnionRenderers\"},{\"attributes\":{},\"id\":\"3077\",\"type\":\"WheelZoomTool\"},{\"attributes\":{},\"id\":\"3227\",\"type\":\"Selection\"},{\"attributes\":{\"overlay\":{\"id\":\"3226\",\"type\":\"BoxAnnotation\"}},\"id\":\"3078\",\"type\":\"BoxZoomTool\"},{\"attributes\":{\"source\":{\"id\":\"3089\",\"type\":\"ColumnDataSource\"}},\"id\":\"3093\",\"type\":\"CDSView\"},{\"attributes\":{\"formatter\":{\"id\":\"3225\",\"type\":\"BasicTickFormatter\"},\"ticker\":{\"id\":\"3072\",\"type\":\"BasicTicker\"}},\"id\":\"3071\",\"type\":\"LinearAxis\"},{\"attributes\":{\"callback\":null},\"id\":\"3060\",\"type\":\"DataRange1d\"},{\"attributes\":{\"line_color\":\"#1f77b4\",\"x\":{\"field\":\"x\"},\"y\":{\"field\":\"y\"}},\"id\":\"3090\",\"type\":\"Line\"},{\"attributes\":{\"line_alpha\":0.1,\"line_color\":\"#1f77b4\",\"x\":{\"field\":\"x\"},\"y\":{\"field\":\"y\"}},\"id\":\"3091\",\"type\":\"Line\"},{\"attributes\":{\"active_drag\":{\"id\":\"3078\",\"type\":\"BoxZoomTool\"},\"active_inspect\":\"auto\",\"active_multi\":null,\"active_scroll\":{\"id\":\"3077\",\"type\":\"WheelZoomTool\"},\"active_tap\":\"auto\",\"tools\":[{\"id\":\"3076\",\"type\":\"PanTool\"},{\"id\":\"3077\",\"type\":\"WheelZoomTool\"},{\"id\":\"3078\",\"type\":\"BoxZoomTool\"},{\"id\":\"3079\",\"type\":\"SaveTool\"},{\"id\":\"3080\",\"type\":\"ResetTool\"},{\"id\":\"3081\",\"type\":\"HelpTool\"},{\"id\":\"3094\",\"type\":\"HoverTool\"}]},\"id\":\"3082\",\"type\":\"Toolbar\"},{\"attributes\":{},\"id\":\"3062\",\"type\":\"LinearScale\"},{\"attributes\":{\"text\":\"17:40:46.0113, -53:40:13.6137, 1796\"},\"id\":\"3056\",\"type\":\"Title\"},{\"attributes\":{},\"id\":\"3229\",\"type\":\"Selection\"},{\"attributes\":{\"dimension\":1,\"ticker\":{\"id\":\"3072\",\"type\":\"BasicTicker\"}},\"id\":\"3075\",\"type\":\"Grid\"},{\"attributes\":{\"callback\":null,\"data\":{\"x\":{\"__ndarray__\":\"////Pxn6uUD///8/Wfu5QP///z+Z/LlA////P9n9uUD///8/Gf+5QP///z9ZALpA////P5kBukD///8/2QK6QP///z8ZBLpA////P1kFukD///8/mQa6QP///z/ZB7pA////PxkJukD///8/WQq6QP///z+ZC7pA////P9kMukD///8/GQ66QP///z9ZD7pA////P5kQukD///8/2RG6QP///z8ZE7pA////P1kUukD///8/mRW6QP///z/ZFrpA////PxkYukD///8/WRm6QP///z+ZGrpA////P9kbukD///8/GR26QP///z9ZHrpA////P5kfukD///8/2SC6QP///z8ZIrpA////P1kjukD///8/mSS6QP///z/ZJbpA////PxknukD///8/WSi6QP///z+ZKbpA////P9kqukD///8/GSy6QP///z9ZLbpA////P5kuukD///8/2S+6QP///z8ZMbpA////P1kyukD///8/mTO6QP///z/ZNLpA////Pxk2ukD///8/WTe6QP///z+ZOLpA////P9k5ukD///8/GTu6QP///z9ZPLpA////P5k9ukD///8/2T66QP///z8ZQLpA////P1lBukD///8/mUK6QP///z/ZQ7pA////PxlFukD///8/WUa6QP///z+ZR7pA////P9lIukD///8/GUq6QP///z9ZS7pA////P5lMukD///8/2U26QP///z8ZT7pA////P1lQukD///8/mVG6QP///z/ZUrpA////PxlUukD///8/WVW6QP///z+ZVrpA////P9lXukD///8/GVm6QP///z9ZWrpA////P5lbukD///8/2Vy6QP///z8ZXrpA////P1lfukD///8/mWC6QP///z/ZYbpA////PxljukD///8/WWS6QP///z+ZZbpA////P9lmukD///8/GWi6QP///z9ZabpA////P5lqukD///8/2Wu6QP///z8ZbbpA////P1luukD///8/mW+6QP///z/ZcLpA////PxlyukD///8/WXO6QP///z+ZdLpA////P9l1ukD///8/GXe6QP///z9ZeLpA////P5l5ukD///8/2Xq6QP///z8ZfLpA////P1l9ukD///8/mX66QP///z/Zf7pA////PxmBukD///8/WYK6QP///z+Zg7pA////P9mEukD///8/GYa6QP///z9Zh7pA////P5mIukD///8/2Ym6QP///z8Zi7pA////P1mMukD///8/mY26QP///z/ZjrpA////PxmQukD///8/WZG6QP///z+ZkrpA////P9mTukD///8/GZW6QP///z9ZlrpA////P5mXukD///8/2Zi6QP///z8ZmrpA////P1mbukD///8/mZy6QP///z/ZnbpA////PxmfukD///8/WaC6QP///z+ZobpA////P9miukA=\",\"dtype\":\"float64\",\"shape\":[136]},\"y\":[3.1284689903259277,-28.73261260986328,-33.6500358581543,-11.789931297302246,27.473426818847656,15.108668327331543,-30.548513412475586,28.062307357788086,21.829923629760742,-24.723569869995117,266.6650085449219,344.46148681640625,-7.636391639709473,15.283977508544922,8.507993698120117,19.418102264404297,85.5383529663086,14.475062370300293,-10.169222831726074,93.6343002319336,42.467552185058594,80.09370422363281,-17.330015182495117,-60.04554748535156,2.5617337226867676,12.162724494934082,25.190528869628906,-53.91979217529297,54.730445861816406,-21.5435791015625,37.86800003051758,-28.181787490844727,26.856861114501953,1.614194631576538,-0.4409141540527344,31.0595760345459,-2.334894895553589,-17.14801025390625,1.2933268547058105,8.565775871276855,-2.563573122024536,-10.233635902404785,-22.482255935668945,29.353168487548828,-24.019237518310547,26.926286697387695,-3.742269277572632,7.3302001953125,23.910295486450195,10.733122825622559,53.492042541503906,-7.0397491455078125,-12.687329292297363,44.55186462402344,47.60703659057617,7.406895160675049,44.444969177246094,-14.609184265136719,0.014209890738129616,-46.99417495727539,-13.251769065856934,25.413057327270508,25.68206787109375,-10.51322078704834,22.478437423706055,37.38885498046875,9.28504753112793,-42.848243713378906,-30.980621337890625,-20.711820602416992,-4.7222580909729,-8.095187187194824,-35.33793258666992,-12.659477233886719,24.43212127685547,-24.48525619506836,-15.050280570983887,-16.00343132019043,-55.45017623901367,-10.699843406677246,34.8327751159668,11.816864013671875,-25.73304557800293,26.55377197265625,36.05170822143555,-13.768659591674805,2.4210405349731445,-22.561809539794922,-29.452682495117188,-41.48900604248047,-32.806034088134766,-5.381916046142578,12.89003849029541,-35.75970458984375,-46.749351501464844,-7.801200866699219,0.3636830449104309,17.60015869140625,43.13502883911133,28.219276428222656,8.710317611694336,24.9798583984375,-9.726005554199219,-8.39262866973877,21.504404067993164,26.2049617767334,34.78204345703125,-5.0038580894470215,-14.627591133117676,19.117141723632812,17.98204803466797,-0.4805012345314026,-15.441773414611816,-22.951936721801758,-39.25623321533203,-24.80510139465332,15.969329833984375,12.364180564880371,25.24297523498535,9.071778297424316,-19.955562591552734,-57.659847259521484,-34.10284423828125,21.00988006591797,36.01670455932617,11.048001289367676,51.3178825378418,58.97917556762695,5.882225513458252,-9.415960311889648,5.137962341308594,-49.85334396362305,-18.98278045654297,7.835353374481201,0.6458533406257629,-2.4111428260803223]},\"selected\":{\"id\":\"3227\",\"type\":\"Selection\"},\"selection_policy\":{\"id\":\"3228\",\"type\":\"UnionRenderers\"}},\"id\":\"3089\",\"type\":\"ColumnDataSource\"},{\"attributes\":{\"callback\":null},\"id\":\"3058\",\"type\":\"DataRange1d\"},{\"attributes\":{},\"id\":\"3079\",\"type\":\"SaveTool\"}],\"root_ids\":[\"3055\"]},\"title\":\"Bokeh Application\",\"version\":\"1.1.0\"}};\n",
       "  var render_items = [{\"docid\":\"af2ae942-59e1-4400-bb79-b26b91d5c043\",\"roots\":{\"3055\":\"a33b3a2b-751b-4f0d-86f6-09b0a594121a\"}}];\n",
       "  root.Bokeh.embed.embed_items_notebook(docs_json, render_items);\n",
       "\n",
       "  }\n",
       "  if (root.Bokeh !== undefined) {\n",
       "    embed_document(root);\n",
       "  } else {\n",
       "    var attempts = 0;\n",
       "    var timer = setInterval(function(root) {\n",
       "      if (root.Bokeh !== undefined) {\n",
       "        embed_document(root);\n",
       "        clearInterval(timer);\n",
       "      }\n",
       "      attempts++;\n",
       "      if (attempts > 100) {\n",
       "        console.log(\"Bokeh: ERROR: Unable to run BokehJS code because BokehJS library is missing\");\n",
       "        clearInterval(timer);\n",
       "      }\n",
       "    }, 10, root)\n",
       "  }\n",
       "})(window);"
      ],
      "application/vnd.bokehjs_exec.v0+json": ""
     },
     "metadata": {
      "application/vnd.bokehjs_exec.v0+json": {
       "id": "3055"
      }
     },
     "output_type": "display_data"
    },
    {
     "data": {
      "text/html": [
       "\n",
       "\n",
       "\n",
       "\n",
       "\n",
       "\n",
       "  <div class=\"bk-root\" id=\"d770be5e-f40e-45f1-952b-9da5d0c02bf8\" data-root-id=\"3291\"></div>\n"
      ]
     },
     "metadata": {},
     "output_type": "display_data"
    },
    {
     "data": {
      "application/javascript": [
       "(function(root) {\n",
       "  function embed_document(root) {\n",
       "    \n",
       "  var docs_json = {\"203d8f50-73ae-45ae-85bf-9b276b5d2fe6\":{\"roots\":{\"references\":[{\"attributes\":{\"below\":[{\"id\":\"3302\",\"type\":\"LinearAxis\"}],\"center\":[{\"id\":\"3306\",\"type\":\"Grid\"},{\"id\":\"3311\",\"type\":\"Grid\"}],\"left\":[{\"id\":\"3307\",\"type\":\"LinearAxis\"}],\"plot_height\":500,\"plot_width\":900,\"renderers\":[{\"id\":\"3328\",\"type\":\"GlyphRenderer\"},{\"id\":\"3335\",\"type\":\"GlyphRenderer\"}],\"title\":{\"id\":\"3292\",\"type\":\"Title\"},\"toolbar\":{\"id\":\"3318\",\"type\":\"Toolbar\"},\"x_range\":{\"id\":\"3294\",\"type\":\"DataRange1d\"},\"x_scale\":{\"id\":\"3298\",\"type\":\"LinearScale\"},\"y_range\":{\"id\":\"3296\",\"type\":\"DataRange1d\"},\"y_scale\":{\"id\":\"3300\",\"type\":\"LinearScale\"}},\"id\":\"3291\",\"subtype\":\"Figure\",\"type\":\"Plot\"},{\"attributes\":{\"text\":\"17:40:41.4113, -53:40:06.1137, 2110\"},\"id\":\"3292\",\"type\":\"Title\"},{\"attributes\":{\"formatter\":{\"id\":\"3471\",\"type\":\"BasicTickFormatter\"},\"ticker\":{\"id\":\"3308\",\"type\":\"BasicTicker\"}},\"id\":\"3307\",\"type\":\"LinearAxis\"},{\"attributes\":{},\"id\":\"3469\",\"type\":\"BasicTickFormatter\"},{\"attributes\":{\"line_alpha\":0.1,\"line_color\":\"#1f77b4\",\"x\":{\"field\":\"x\"},\"y\":{\"field\":\"y\"}},\"id\":\"3327\",\"type\":\"Line\"},{\"attributes\":{},\"id\":\"3298\",\"type\":\"LinearScale\"},{\"attributes\":{},\"id\":\"3300\",\"type\":\"LinearScale\"},{\"attributes\":{},\"id\":\"3474\",\"type\":\"UnionRenderers\"},{\"attributes\":{\"callback\":null,\"data\":{\"x\":{\"__ndarray__\":\"////Pxn6uUD///8/Wfu5QP///z+Z/LlA////P9n9uUD///8/Gf+5QP///z9ZALpA////P5kBukD///8/2QK6QP///z8ZBLpA////P1kFukD///8/mQa6QP///z/ZB7pA////PxkJukD///8/WQq6QP///z+ZC7pA////P9kMukD///8/GQ66QP///z9ZD7pA////P5kQukD///8/2RG6QP///z8ZE7pA////P1kUukD///8/mRW6QP///z/ZFrpA////PxkYukD///8/WRm6QP///z+ZGrpA////P9kbukD///8/GR26QP///z9ZHrpA////P5kfukD///8/2SC6QP///z8ZIrpA////P1kjukD///8/mSS6QP///z/ZJbpA////PxknukD///8/WSi6QP///z+ZKbpA////P9kqukD///8/GSy6QP///z9ZLbpA////P5kuukD///8/2S+6QP///z8ZMbpA////P1kyukD///8/mTO6QP///z/ZNLpA////Pxk2ukD///8/WTe6QP///z+ZOLpA////P9k5ukD///8/GTu6QP///z9ZPLpA////P5k9ukD///8/2T66QP///z8ZQLpA////P1lBukD///8/mUK6QP///z/ZQ7pA////PxlFukD///8/WUa6QP///z+ZR7pA////P9lIukD///8/GUq6QP///z9ZS7pA////P5lMukD///8/2U26QP///z8ZT7pA////P1lQukD///8/mVG6QP///z/ZUrpA////PxlUukD///8/WVW6QP///z+ZVrpA////P9lXukD///8/GVm6QP///z9ZWrpA////P5lbukD///8/2Vy6QP///z8ZXrpA////P1lfukD///8/mWC6QP///z/ZYbpA////PxljukD///8/WWS6QP///z+ZZbpA////P9lmukD///8/GWi6QP///z9ZabpA////P5lqukD///8/2Wu6QP///z8ZbbpA////P1luukD///8/mW+6QP///z/ZcLpA////PxlyukD///8/WXO6QP///z+ZdLpA////P9l1ukD///8/GXe6QP///z9ZeLpA////P5l5ukD///8/2Xq6QP///z8ZfLpA////P1l9ukD///8/mX66QP///z/Zf7pA////PxmBukD///8/WYK6QP///z+Zg7pA////P9mEukD///8/GYa6QP///z9Zh7pA////P5mIukD///8/2Ym6QP///z8Zi7pA////P1mMukD///8/mY26QP///z/ZjrpA////PxmQukD///8/WZG6QP///z+ZkrpA////P9mTukD///8/GZW6QP///z9ZlrpA////P5mXukD///8/2Zi6QP///z8ZmrpA////P1mbukD///8/mZy6QP///z/ZnbpA////PxmfukD///8/WaC6QP///z+ZobpA////P9miukA=\",\"dtype\":\"float64\",\"shape\":[136]},\"y\":[-64.28875732421875,12.152853965759277,41.33168029785156,89.52994537353516,19.89511489868164,-1.4761335849761963,-53.85919189453125,-23.451324462890625,-3.946868896484375,67.9603271484375,-54.550533294677734,-20.68745994567871,-14.449477195739746,178.64096069335938,646.6317138671875,-3.413806915283203,37.349205017089844,-7.091486930847168,-13.728558540344238,34.262210845947266,8.745563507080078,-10.942559242248535,-64.29972076416016,-0.773666262626648,-18.296533584594727,2.0252368450164795,-9.705329895019531,-70.31831359863281,-40.71751403808594,23.337291717529297,40.68058395385742,81.8016128540039,-72.69657897949219,-18.789108276367188,1.8741345405578613,26.84929847717285,-37.688812255859375,5.603066921234131,-51.03971481323242,6.37795877456665,-13.41930103302002,-6.37583065032959,9.933174133300781,35.074119567871094,-18.627798080444336,-12.822481155395508,-81.39469909667969,-95.20479583740234,-71.57797241210938,88.36467742919922,59.8477668762207,30.18086051940918,50.61542892456055,93.0293960571289,32.372474670410156,-28.740591049194336,-12.616442680358887,-58.19160461425781,-9.073495864868164,19.25252914428711,-14.58510971069336,-4.0283074378967285,-19.079505920410156,67.90728759765625,37.20210266113281,49.580810546875,-29.536666870117188,-38.38226318359375,-48.96232223510742,-105.96581268310547,-44.10806655883789,-18.332439422607422,39.04905319213867,-10.846887588500977,27.565675735473633,4.560666561126709,-13.703221321105957,55.12606430053711,7.311701774597168,-3.9256014823913574,-9.891510009765625,-75.07576751708984,54.7618522644043,-16.597883224487305,42.63799285888672,-9.663326263427734,-70.90467834472656,-75.80286407470703,-2.445272445678711,-1.8367981910705566,-12.804098129272461,34.725093841552734,13.677047729492188,29.374515533447266,-78.37976837158203,22.300432205200195,11.896068572998047,1.777258038520813,161.07046508789062,-14.604676246643066,-7.824831485748291,-35.48257827758789,10.148160934448242,-8.394042015075684,-14.408015251159668,48.83573532104492,-26.282424926757812,-17.804969787597656,-37.57125473022461,-20.11497688293457,9.95790958404541,35.84955596923828,57.19423294067383,39.166751861572266,42.641624450683594,25.327829360961914,-1.9640822410583496,-4.711162567138672,-20.788898468017578,19.73288345336914,55.056819915771484,-9.463568687438965,2.0833330154418945,1.1408871412277222,65.97569274902344,48.5042610168457,-92.4848403930664,-31.290931701660156,-4.137637138366699,79.07171630859375,-42.96364212036133,-72.23884582519531,-56.41550064086914,25.439979553222656,-25.53129005432129,-21.19405746459961]},\"selected\":{\"id\":\"3473\",\"type\":\"Selection\"},\"selection_policy\":{\"id\":\"3474\",\"type\":\"UnionRenderers\"}},\"id\":\"3325\",\"type\":\"ColumnDataSource\"},{\"attributes\":{\"source\":{\"id\":\"3332\",\"type\":\"ColumnDataSource\"}},\"id\":\"3336\",\"type\":\"CDSView\"},{\"attributes\":{\"source\":{\"id\":\"3325\",\"type\":\"ColumnDataSource\"}},\"id\":\"3329\",\"type\":\"CDSView\"},{\"attributes\":{\"line_color\":\"red\",\"x\":{\"field\":\"x\"},\"y\":{\"field\":\"y\"}},\"id\":\"3333\",\"type\":\"Line\"},{\"attributes\":{},\"id\":\"3317\",\"type\":\"HelpTool\"},{\"attributes\":{},\"id\":\"3473\",\"type\":\"Selection\"},{\"attributes\":{\"formatter\":{\"id\":\"3469\",\"type\":\"BasicTickFormatter\"},\"ticker\":{\"id\":\"3303\",\"type\":\"BasicTicker\"}},\"id\":\"3302\",\"type\":\"LinearAxis\"},{\"attributes\":{},\"id\":\"3312\",\"type\":\"PanTool\"},{\"attributes\":{\"line_color\":\"#1f77b4\",\"x\":{\"field\":\"x\"},\"y\":{\"field\":\"y\"}},\"id\":\"3326\",\"type\":\"Line\"},{\"attributes\":{\"callback\":null},\"id\":\"3294\",\"type\":\"DataRange1d\"},{\"attributes\":{},\"id\":\"3315\",\"type\":\"SaveTool\"},{\"attributes\":{},\"id\":\"3471\",\"type\":\"BasicTickFormatter\"},{\"attributes\":{},\"id\":\"3316\",\"type\":\"ResetTool\"},{\"attributes\":{},\"id\":\"3476\",\"type\":\"UnionRenderers\"},{\"attributes\":{\"callback\":null},\"id\":\"3296\",\"type\":\"DataRange1d\"},{\"attributes\":{\"callback\":null,\"data\":{\"x\":{\"__ndarray__\":\"////P1kKukD///8/mQu6QP///z+ZdLpA\",\"dtype\":\"float64\",\"shape\":[3]},\"y\":[178.64096069335938,646.6317138671875,161.07046508789062]},\"selected\":{\"id\":\"3475\",\"type\":\"Selection\"},\"selection_policy\":{\"id\":\"3476\",\"type\":\"UnionRenderers\"}},\"id\":\"3332\",\"type\":\"ColumnDataSource\"},{\"attributes\":{\"dimension\":1,\"ticker\":{\"id\":\"3308\",\"type\":\"BasicTicker\"}},\"id\":\"3311\",\"type\":\"Grid\"},{\"attributes\":{\"bottom_units\":\"screen\",\"fill_alpha\":{\"value\":0.5},\"fill_color\":{\"value\":\"lightgrey\"},\"left_units\":\"screen\",\"level\":\"overlay\",\"line_alpha\":{\"value\":1.0},\"line_color\":{\"value\":\"black\"},\"line_dash\":[4,4],\"line_width\":{\"value\":2},\"render_mode\":\"css\",\"right_units\":\"screen\",\"top_units\":\"screen\"},\"id\":\"3472\",\"type\":\"BoxAnnotation\"},{\"attributes\":{\"active_drag\":{\"id\":\"3314\",\"type\":\"BoxZoomTool\"},\"active_inspect\":\"auto\",\"active_multi\":null,\"active_scroll\":{\"id\":\"3313\",\"type\":\"WheelZoomTool\"},\"active_tap\":\"auto\",\"tools\":[{\"id\":\"3312\",\"type\":\"PanTool\"},{\"id\":\"3313\",\"type\":\"WheelZoomTool\"},{\"id\":\"3314\",\"type\":\"BoxZoomTool\"},{\"id\":\"3315\",\"type\":\"SaveTool\"},{\"id\":\"3316\",\"type\":\"ResetTool\"},{\"id\":\"3317\",\"type\":\"HelpTool\"},{\"id\":\"3330\",\"type\":\"HoverTool\"}]},\"id\":\"3318\",\"type\":\"Toolbar\"},{\"attributes\":{},\"id\":\"3313\",\"type\":\"WheelZoomTool\"},{\"attributes\":{\"data_source\":{\"id\":\"3325\",\"type\":\"ColumnDataSource\"},\"glyph\":{\"id\":\"3326\",\"type\":\"Line\"},\"hover_glyph\":null,\"muted_glyph\":null,\"nonselection_glyph\":{\"id\":\"3327\",\"type\":\"Line\"},\"selection_glyph\":null,\"view\":{\"id\":\"3329\",\"type\":\"CDSView\"}},\"id\":\"3328\",\"type\":\"GlyphRenderer\"},{\"attributes\":{\"data_source\":{\"id\":\"3332\",\"type\":\"ColumnDataSource\"},\"glyph\":{\"id\":\"3333\",\"type\":\"Line\"},\"hover_glyph\":null,\"muted_glyph\":null,\"nonselection_glyph\":{\"id\":\"3334\",\"type\":\"Line\"},\"selection_glyph\":null,\"view\":{\"id\":\"3336\",\"type\":\"CDSView\"}},\"id\":\"3335\",\"type\":\"GlyphRenderer\"},{\"attributes\":{\"callback\":null,\"tooltips\":[[\"(x,y)\",\"($x{1}, $y)\"]]},\"id\":\"3330\",\"type\":\"HoverTool\"},{\"attributes\":{},\"id\":\"3475\",\"type\":\"Selection\"},{\"attributes\":{},\"id\":\"3308\",\"type\":\"BasicTicker\"},{\"attributes\":{\"line_alpha\":0.1,\"line_color\":\"#1f77b4\",\"x\":{\"field\":\"x\"},\"y\":{\"field\":\"y\"}},\"id\":\"3334\",\"type\":\"Line\"},{\"attributes\":{\"ticker\":{\"id\":\"3303\",\"type\":\"BasicTicker\"}},\"id\":\"3306\",\"type\":\"Grid\"},{\"attributes\":{\"overlay\":{\"id\":\"3472\",\"type\":\"BoxAnnotation\"}},\"id\":\"3314\",\"type\":\"BoxZoomTool\"},{\"attributes\":{},\"id\":\"3303\",\"type\":\"BasicTicker\"}],\"root_ids\":[\"3291\"]},\"title\":\"Bokeh Application\",\"version\":\"1.1.0\"}};\n",
       "  var render_items = [{\"docid\":\"203d8f50-73ae-45ae-85bf-9b276b5d2fe6\",\"roots\":{\"3291\":\"d770be5e-f40e-45f1-952b-9da5d0c02bf8\"}}];\n",
       "  root.Bokeh.embed.embed_items_notebook(docs_json, render_items);\n",
       "\n",
       "  }\n",
       "  if (root.Bokeh !== undefined) {\n",
       "    embed_document(root);\n",
       "  } else {\n",
       "    var attempts = 0;\n",
       "    var timer = setInterval(function(root) {\n",
       "      if (root.Bokeh !== undefined) {\n",
       "        embed_document(root);\n",
       "        clearInterval(timer);\n",
       "      }\n",
       "      attempts++;\n",
       "      if (attempts > 100) {\n",
       "        console.log(\"Bokeh: ERROR: Unable to run BokehJS code because BokehJS library is missing\");\n",
       "        clearInterval(timer);\n",
       "      }\n",
       "    }, 10, root)\n",
       "  }\n",
       "})(window);"
      ],
      "application/vnd.bokehjs_exec.v0+json": ""
     },
     "metadata": {
      "application/vnd.bokehjs_exec.v0+json": {
       "id": "3291"
      }
     },
     "output_type": "display_data"
    },
    {
     "data": {
      "text/html": [
       "\n",
       "\n",
       "\n",
       "\n",
       "\n",
       "\n",
       "  <div class=\"bk-root\" id=\"2dc3eba5-f97c-4c5c-99b2-39ed45e7cfd9\" data-root-id=\"3537\"></div>\n"
      ]
     },
     "metadata": {},
     "output_type": "display_data"
    },
    {
     "data": {
      "application/javascript": [
       "(function(root) {\n",
       "  function embed_document(root) {\n",
       "    \n",
       "  var docs_json = {\"b836aa0a-07d8-468d-9ba5-57d9435bea69\":{\"roots\":{\"references\":[{\"attributes\":{\"below\":[{\"id\":\"3548\",\"type\":\"LinearAxis\"}],\"center\":[{\"id\":\"3552\",\"type\":\"Grid\"},{\"id\":\"3557\",\"type\":\"Grid\"}],\"left\":[{\"id\":\"3553\",\"type\":\"LinearAxis\"}],\"plot_height\":500,\"plot_width\":900,\"renderers\":[{\"id\":\"3574\",\"type\":\"GlyphRenderer\"},{\"id\":\"3581\",\"type\":\"GlyphRenderer\"}],\"title\":{\"id\":\"3538\",\"type\":\"Title\"},\"toolbar\":{\"id\":\"3564\",\"type\":\"Toolbar\"},\"x_range\":{\"id\":\"3540\",\"type\":\"DataRange1d\"},\"x_scale\":{\"id\":\"3544\",\"type\":\"LinearScale\"},\"y_range\":{\"id\":\"3542\",\"type\":\"DataRange1d\"},\"y_scale\":{\"id\":\"3546\",\"type\":\"LinearScale\"}},\"id\":\"3537\",\"subtype\":\"Figure\",\"type\":\"Plot\"},{\"attributes\":{\"dimension\":1,\"ticker\":{\"id\":\"3554\",\"type\":\"BasicTicker\"}},\"id\":\"3557\",\"type\":\"Grid\"},{\"attributes\":{},\"id\":\"3558\",\"type\":\"PanTool\"},{\"attributes\":{},\"id\":\"3729\",\"type\":\"Selection\"},{\"attributes\":{},\"id\":\"3559\",\"type\":\"WheelZoomTool\"},{\"attributes\":{\"ticker\":{\"id\":\"3549\",\"type\":\"BasicTicker\"}},\"id\":\"3552\",\"type\":\"Grid\"},{\"attributes\":{\"text\":\"17:40:39.3113, -53:40:03.1137, 2233\"},\"id\":\"3538\",\"type\":\"Title\"},{\"attributes\":{\"overlay\":{\"id\":\"3728\",\"type\":\"BoxAnnotation\"}},\"id\":\"3560\",\"type\":\"BoxZoomTool\"},{\"attributes\":{\"line_alpha\":0.1,\"line_color\":\"#1f77b4\",\"x\":{\"field\":\"x\"},\"y\":{\"field\":\"y\"}},\"id\":\"3573\",\"type\":\"Line\"},{\"attributes\":{},\"id\":\"3561\",\"type\":\"SaveTool\"},{\"attributes\":{},\"id\":\"3562\",\"type\":\"ResetTool\"},{\"attributes\":{\"callback\":null},\"id\":\"3542\",\"type\":\"DataRange1d\"},{\"attributes\":{},\"id\":\"3563\",\"type\":\"HelpTool\"},{\"attributes\":{},\"id\":\"3544\",\"type\":\"LinearScale\"},{\"attributes\":{},\"id\":\"3730\",\"type\":\"UnionRenderers\"},{\"attributes\":{\"active_drag\":{\"id\":\"3560\",\"type\":\"BoxZoomTool\"},\"active_inspect\":\"auto\",\"active_multi\":null,\"active_scroll\":{\"id\":\"3559\",\"type\":\"WheelZoomTool\"},\"active_tap\":\"auto\",\"tools\":[{\"id\":\"3558\",\"type\":\"PanTool\"},{\"id\":\"3559\",\"type\":\"WheelZoomTool\"},{\"id\":\"3560\",\"type\":\"BoxZoomTool\"},{\"id\":\"3561\",\"type\":\"SaveTool\"},{\"id\":\"3562\",\"type\":\"ResetTool\"},{\"id\":\"3563\",\"type\":\"HelpTool\"},{\"id\":\"3576\",\"type\":\"HoverTool\"}]},\"id\":\"3564\",\"type\":\"Toolbar\"},{\"attributes\":{},\"id\":\"3546\",\"type\":\"LinearScale\"},{\"attributes\":{\"data_source\":{\"id\":\"3571\",\"type\":\"ColumnDataSource\"},\"glyph\":{\"id\":\"3572\",\"type\":\"Line\"},\"hover_glyph\":null,\"muted_glyph\":null,\"nonselection_glyph\":{\"id\":\"3573\",\"type\":\"Line\"},\"selection_glyph\":null,\"view\":{\"id\":\"3575\",\"type\":\"CDSView\"}},\"id\":\"3574\",\"type\":\"GlyphRenderer\"},{\"attributes\":{\"source\":{\"id\":\"3571\",\"type\":\"ColumnDataSource\"}},\"id\":\"3575\",\"type\":\"CDSView\"},{\"attributes\":{\"formatter\":{\"id\":\"3725\",\"type\":\"BasicTickFormatter\"},\"ticker\":{\"id\":\"3549\",\"type\":\"BasicTicker\"}},\"id\":\"3548\",\"type\":\"LinearAxis\"},{\"attributes\":{\"callback\":null,\"tooltips\":[[\"(x,y)\",\"($x{1}, $y)\"]]},\"id\":\"3576\",\"type\":\"HoverTool\"},{\"attributes\":{\"bottom_units\":\"screen\",\"fill_alpha\":{\"value\":0.5},\"fill_color\":{\"value\":\"lightgrey\"},\"left_units\":\"screen\",\"level\":\"overlay\",\"line_alpha\":{\"value\":1.0},\"line_color\":{\"value\":\"black\"},\"line_dash\":[4,4],\"line_width\":{\"value\":2},\"render_mode\":\"css\",\"right_units\":\"screen\",\"top_units\":\"screen\"},\"id\":\"3728\",\"type\":\"BoxAnnotation\"},{\"attributes\":{\"callback\":null,\"data\":{\"x\":{\"__ndarray__\":\"////P9mdukD///8/GZ+6QP///z9ZoLpA\",\"dtype\":\"float64\",\"shape\":[3]},\"y\":[1090.572509765625,1124.5452880859375,1088.8636474609375]},\"selected\":{\"id\":\"3731\",\"type\":\"Selection\"},\"selection_policy\":{\"id\":\"3732\",\"type\":\"UnionRenderers\"}},\"id\":\"3578\",\"type\":\"ColumnDataSource\"},{\"attributes\":{},\"id\":\"3554\",\"type\":\"BasicTicker\"},{\"attributes\":{\"line_color\":\"#1f77b4\",\"x\":{\"field\":\"x\"},\"y\":{\"field\":\"y\"}},\"id\":\"3572\",\"type\":\"Line\"},{\"attributes\":{\"line_color\":\"red\",\"x\":{\"field\":\"x\"},\"y\":{\"field\":\"y\"}},\"id\":\"3579\",\"type\":\"Line\"},{\"attributes\":{},\"id\":\"3731\",\"type\":\"Selection\"},{\"attributes\":{},\"id\":\"3549\",\"type\":\"BasicTicker\"},{\"attributes\":{\"line_alpha\":0.1,\"line_color\":\"#1f77b4\",\"x\":{\"field\":\"x\"},\"y\":{\"field\":\"y\"}},\"id\":\"3580\",\"type\":\"Line\"},{\"attributes\":{},\"id\":\"3725\",\"type\":\"BasicTickFormatter\"},{\"attributes\":{\"data_source\":{\"id\":\"3578\",\"type\":\"ColumnDataSource\"},\"glyph\":{\"id\":\"3579\",\"type\":\"Line\"},\"hover_glyph\":null,\"muted_glyph\":null,\"nonselection_glyph\":{\"id\":\"3580\",\"type\":\"Line\"},\"selection_glyph\":null,\"view\":{\"id\":\"3582\",\"type\":\"CDSView\"}},\"id\":\"3581\",\"type\":\"GlyphRenderer\"},{\"attributes\":{\"callback\":null,\"data\":{\"x\":{\"__ndarray__\":\"////Pxn6uUD///8/Wfu5QP///z+Z/LlA////P9n9uUD///8/Gf+5QP///z9ZALpA////P5kBukD///8/2QK6QP///z8ZBLpA////P1kFukD///8/mQa6QP///z/ZB7pA////PxkJukD///8/WQq6QP///z+ZC7pA////P9kMukD///8/GQ66QP///z9ZD7pA////P5kQukD///8/2RG6QP///z8ZE7pA////P1kUukD///8/mRW6QP///z/ZFrpA////PxkYukD///8/WRm6QP///z+ZGrpA////P9kbukD///8/GR26QP///z9ZHrpA////P5kfukD///8/2SC6QP///z8ZIrpA////P1kjukD///8/mSS6QP///z/ZJbpA////PxknukD///8/WSi6QP///z+ZKbpA////P9kqukD///8/GSy6QP///z9ZLbpA////P5kuukD///8/2S+6QP///z8ZMbpA////P1kyukD///8/mTO6QP///z/ZNLpA////Pxk2ukD///8/WTe6QP///z+ZOLpA////P9k5ukD///8/GTu6QP///z9ZPLpA////P5k9ukD///8/2T66QP///z8ZQLpA////P1lBukD///8/mUK6QP///z/ZQ7pA////PxlFukD///8/WUa6QP///z+ZR7pA////P9lIukD///8/GUq6QP///z9ZS7pA////P5lMukD///8/2U26QP///z8ZT7pA////P1lQukD///8/mVG6QP///z/ZUrpA////PxlUukD///8/WVW6QP///z+ZVrpA////P9lXukD///8/GVm6QP///z9ZWrpA////P5lbukD///8/2Vy6QP///z8ZXrpA////P1lfukD///8/mWC6QP///z/ZYbpA////PxljukD///8/WWS6QP///z+ZZbpA////P9lmukD///8/GWi6QP///z9ZabpA////P5lqukD///8/2Wu6QP///z8ZbbpA////P1luukD///8/mW+6QP///z/ZcLpA////PxlyukD///8/WXO6QP///z+ZdLpA////P9l1ukD///8/GXe6QP///z9ZeLpA////P5l5ukD///8/2Xq6QP///z8ZfLpA////P1l9ukD///8/mX66QP///z/Zf7pA////PxmBukD///8/WYK6QP///z+Zg7pA////P9mEukD///8/GYa6QP///z9Zh7pA////P5mIukD///8/2Ym6QP///z8Zi7pA////P1mMukD///8/mY26QP///z/ZjrpA////PxmQukD///8/WZG6QP///z+ZkrpA////P9mTukD///8/GZW6QP///z9ZlrpA////P5mXukD///8/2Zi6QP///z8ZmrpA////P1mbukD///8/mZy6QP///z/ZnbpA////PxmfukD///8/WaC6QP///z+ZobpA////P9miukA=\",\"dtype\":\"float64\",\"shape\":[136]},\"y\":[115.20781707763672,187.42697143554688,94.64790344238281,99.9829330444336,-80.02594757080078,-80.35824584960938,-176.74148559570312,-137.49598693847656,-345.4898986816406,-516.6851806640625,-260.4645690917969,-299.4189453125,-245.05709838867188,-120.05184936523438,-52.1825065612793,-142.41490173339844,-300.435546875,27.18330955505371,98.95726013183594,-4.034576892852783,-49.366424560546875,-190.5675811767578,-269.0608825683594,-347.59832763671875,-273.9513244628906,-251.8230743408203,-242.21157836914062,-145.81802368164062,22.05192756652832,54.856285095214844,-74.12858581542969,53.756492614746094,89.34941101074219,-133.34298706054688,-99.72695922851562,36.7277717590332,-110.36649322509766,-84.41893005371094,56.954246520996094,-261.7254638671875,-187.64266967773438,7.919466018676758,50.9072151184082,21.377222061157227,32.19862365722656,365.5979919433594,117.87023162841797,-135.15359497070312,124.31949615478516,-41.45172882080078,68.25930786132812,84.01314544677734,-290.5564270019531,-71.55585479736328,-15.938254356384277,1.8315212726593018,-108.22601318359375,-170.41848754882812,-335.7165832519531,35.96658706665039,576.9992065429688,156.0697479248047,167.90574645996094,348.2210693359375,-513.9276123046875,-464.5120544433594,265.0732727050781,-86.25951385498047,138.1135711669922,109.85759735107422,-268.6622314453125,71.94670104980469,-368.5148620605469,-3.4912264347076416,-221.39158630371094,202.2069091796875,-326.43304443359375,15.291091918945312,231.7943572998047,-110.86756896972656,-158.42030334472656,-44.76322555541992,516.8839111328125,359.0738525390625,-272.7637023925781,-199.5916748046875,-190.06727600097656,27.49212646484375,3.459562063217163,-52.90715408325195,-547.9410400390625,348.3891906738281,-155.04150390625,131.83624267578125,-69.30864715576172,-440.8833923339844,-951.2805786132812,-499.9835510253906,-576.8781127929688,196.7622833251953,547.3156127929688,115.8853988647461,210.8661346435547,65.77737426757812,631.5703125,60.05541229248047,571.1145629882812,27.665794372558594,283.9580383300781,163.0147705078125,48.15727233886719,-91.68867492675781,-170.2789306640625,-50.89180374145508,62.82229995727539,-86.75965881347656,2.1611454486846924,-166.278564453125,-37.25457763671875,82.61787414550781,467.72943115234375,197.68455505371094,-91.5616455078125,189.30136108398438,280.2813720703125,253.86476135253906,112.51632690429688,-141.50413513183594,535.3052978515625,337.92510986328125,586.3260498046875,1090.572509765625,1124.5452880859375,1088.8636474609375,-2611.550537109375,-2797.5048828125]},\"selected\":{\"id\":\"3729\",\"type\":\"Selection\"},\"selection_policy\":{\"id\":\"3730\",\"type\":\"UnionRenderers\"}},\"id\":\"3571\",\"type\":\"ColumnDataSource\"},{\"attributes\":{\"formatter\":{\"id\":\"3727\",\"type\":\"BasicTickFormatter\"},\"ticker\":{\"id\":\"3554\",\"type\":\"BasicTicker\"}},\"id\":\"3553\",\"type\":\"LinearAxis\"},{\"attributes\":{\"source\":{\"id\":\"3578\",\"type\":\"ColumnDataSource\"}},\"id\":\"3582\",\"type\":\"CDSView\"},{\"attributes\":{\"callback\":null},\"id\":\"3540\",\"type\":\"DataRange1d\"},{\"attributes\":{},\"id\":\"3727\",\"type\":\"BasicTickFormatter\"},{\"attributes\":{},\"id\":\"3732\",\"type\":\"UnionRenderers\"}],\"root_ids\":[\"3537\"]},\"title\":\"Bokeh Application\",\"version\":\"1.1.0\"}};\n",
       "  var render_items = [{\"docid\":\"b836aa0a-07d8-468d-9ba5-57d9435bea69\",\"roots\":{\"3537\":\"2dc3eba5-f97c-4c5c-99b2-39ed45e7cfd9\"}}];\n",
       "  root.Bokeh.embed.embed_items_notebook(docs_json, render_items);\n",
       "\n",
       "  }\n",
       "  if (root.Bokeh !== undefined) {\n",
       "    embed_document(root);\n",
       "  } else {\n",
       "    var attempts = 0;\n",
       "    var timer = setInterval(function(root) {\n",
       "      if (root.Bokeh !== undefined) {\n",
       "        embed_document(root);\n",
       "        clearInterval(timer);\n",
       "      }\n",
       "      attempts++;\n",
       "      if (attempts > 100) {\n",
       "        console.log(\"Bokeh: ERROR: Unable to run BokehJS code because BokehJS library is missing\");\n",
       "        clearInterval(timer);\n",
       "      }\n",
       "    }, 10, root)\n",
       "  }\n",
       "})(window);"
      ],
      "application/vnd.bokehjs_exec.v0+json": ""
     },
     "metadata": {
      "application/vnd.bokehjs_exec.v0+json": {
       "id": "3537"
      }
     },
     "output_type": "display_data"
    },
    {
     "data": {
      "text/html": [
       "\n",
       "\n",
       "\n",
       "\n",
       "\n",
       "\n",
       "  <div class=\"bk-root\" id=\"a3071e45-615a-4c19-a91a-157662d7025b\" data-root-id=\"3793\"></div>\n"
      ]
     },
     "metadata": {},
     "output_type": "display_data"
    },
    {
     "data": {
      "application/javascript": [
       "(function(root) {\n",
       "  function embed_document(root) {\n",
       "    \n",
       "  var docs_json = {\"c4c4b65c-73ed-49f1-b21f-4e3f28306635\":{\"roots\":{\"references\":[{\"attributes\":{\"below\":[{\"id\":\"3804\",\"type\":\"LinearAxis\"}],\"center\":[{\"id\":\"3808\",\"type\":\"Grid\"},{\"id\":\"3813\",\"type\":\"Grid\"}],\"left\":[{\"id\":\"3809\",\"type\":\"LinearAxis\"}],\"plot_height\":500,\"plot_width\":900,\"renderers\":[{\"id\":\"3830\",\"type\":\"GlyphRenderer\"},{\"id\":\"3837\",\"type\":\"GlyphRenderer\"}],\"title\":{\"id\":\"3794\",\"type\":\"Title\"},\"toolbar\":{\"id\":\"3820\",\"type\":\"Toolbar\"},\"x_range\":{\"id\":\"3796\",\"type\":\"DataRange1d\"},\"x_scale\":{\"id\":\"3800\",\"type\":\"LinearScale\"},\"y_range\":{\"id\":\"3798\",\"type\":\"DataRange1d\"},\"y_scale\":{\"id\":\"3802\",\"type\":\"LinearScale\"}},\"id\":\"3793\",\"subtype\":\"Figure\",\"type\":\"Plot\"},{\"attributes\":{\"overlay\":{\"id\":\"3994\",\"type\":\"BoxAnnotation\"}},\"id\":\"3816\",\"type\":\"BoxZoomTool\"},{\"attributes\":{},\"id\":\"3810\",\"type\":\"BasicTicker\"},{\"attributes\":{\"line_color\":\"#1f77b4\",\"x\":{\"field\":\"x\"},\"y\":{\"field\":\"y\"}},\"id\":\"3828\",\"type\":\"Line\"},{\"attributes\":{\"bottom_units\":\"screen\",\"fill_alpha\":{\"value\":0.5},\"fill_color\":{\"value\":\"lightgrey\"},\"left_units\":\"screen\",\"level\":\"overlay\",\"line_alpha\":{\"value\":1.0},\"line_color\":{\"value\":\"black\"},\"line_dash\":[4,4],\"line_width\":{\"value\":2},\"render_mode\":\"css\",\"right_units\":\"screen\",\"top_units\":\"screen\"},\"id\":\"3994\",\"type\":\"BoxAnnotation\"},{\"attributes\":{},\"id\":\"3800\",\"type\":\"LinearScale\"},{\"attributes\":{\"callback\":null,\"data\":{\"x\":{\"__ndarray__\":\"////P1k8ukD///8/mT26QP///z8ZSrpA\",\"dtype\":\"float64\",\"shape\":[3]},\"y\":[78.08509063720703,67.85551452636719,63.97850799560547]},\"selected\":{\"id\":\"3997\",\"type\":\"Selection\"},\"selection_policy\":{\"id\":\"3998\",\"type\":\"UnionRenderers\"}},\"id\":\"3834\",\"type\":\"ColumnDataSource\"},{\"attributes\":{},\"id\":\"3996\",\"type\":\"UnionRenderers\"},{\"attributes\":{\"line_alpha\":0.1,\"line_color\":\"#1f77b4\",\"x\":{\"field\":\"x\"},\"y\":{\"field\":\"y\"}},\"id\":\"3836\",\"type\":\"Line\"},{\"attributes\":{\"formatter\":{\"id\":\"3993\",\"type\":\"BasicTickFormatter\"},\"ticker\":{\"id\":\"3810\",\"type\":\"BasicTicker\"}},\"id\":\"3809\",\"type\":\"LinearAxis\"},{\"attributes\":{},\"id\":\"3819\",\"type\":\"HelpTool\"},{\"attributes\":{\"callback\":null},\"id\":\"3796\",\"type\":\"DataRange1d\"},{\"attributes\":{\"data_source\":{\"id\":\"3827\",\"type\":\"ColumnDataSource\"},\"glyph\":{\"id\":\"3828\",\"type\":\"Line\"},\"hover_glyph\":null,\"muted_glyph\":null,\"nonselection_glyph\":{\"id\":\"3829\",\"type\":\"Line\"},\"selection_glyph\":null,\"view\":{\"id\":\"3831\",\"type\":\"CDSView\"}},\"id\":\"3830\",\"type\":\"GlyphRenderer\"},{\"attributes\":{},\"id\":\"3991\",\"type\":\"BasicTickFormatter\"},{\"attributes\":{},\"id\":\"3995\",\"type\":\"Selection\"},{\"attributes\":{\"line_color\":\"red\",\"x\":{\"field\":\"x\"},\"y\":{\"field\":\"y\"}},\"id\":\"3835\",\"type\":\"Line\"},{\"attributes\":{\"data_source\":{\"id\":\"3834\",\"type\":\"ColumnDataSource\"},\"glyph\":{\"id\":\"3835\",\"type\":\"Line\"},\"hover_glyph\":null,\"muted_glyph\":null,\"nonselection_glyph\":{\"id\":\"3836\",\"type\":\"Line\"},\"selection_glyph\":null,\"view\":{\"id\":\"3838\",\"type\":\"CDSView\"}},\"id\":\"3837\",\"type\":\"GlyphRenderer\"},{\"attributes\":{\"source\":{\"id\":\"3834\",\"type\":\"ColumnDataSource\"}},\"id\":\"3838\",\"type\":\"CDSView\"},{\"attributes\":{},\"id\":\"3998\",\"type\":\"UnionRenderers\"},{\"attributes\":{\"dimension\":1,\"ticker\":{\"id\":\"3810\",\"type\":\"BasicTicker\"}},\"id\":\"3813\",\"type\":\"Grid\"},{\"attributes\":{\"source\":{\"id\":\"3827\",\"type\":\"ColumnDataSource\"}},\"id\":\"3831\",\"type\":\"CDSView\"},{\"attributes\":{},\"id\":\"3997\",\"type\":\"Selection\"},{\"attributes\":{\"ticker\":{\"id\":\"3805\",\"type\":\"BasicTicker\"}},\"id\":\"3808\",\"type\":\"Grid\"},{\"attributes\":{\"text\":\"17:40:46.0113, -53:40:01.6137, 2372\"},\"id\":\"3794\",\"type\":\"Title\"},{\"attributes\":{},\"id\":\"3818\",\"type\":\"ResetTool\"},{\"attributes\":{},\"id\":\"3993\",\"type\":\"BasicTickFormatter\"},{\"attributes\":{\"callback\":null},\"id\":\"3798\",\"type\":\"DataRange1d\"},{\"attributes\":{\"active_drag\":{\"id\":\"3816\",\"type\":\"BoxZoomTool\"},\"active_inspect\":\"auto\",\"active_multi\":null,\"active_scroll\":{\"id\":\"3815\",\"type\":\"WheelZoomTool\"},\"active_tap\":\"auto\",\"tools\":[{\"id\":\"3814\",\"type\":\"PanTool\"},{\"id\":\"3815\",\"type\":\"WheelZoomTool\"},{\"id\":\"3816\",\"type\":\"BoxZoomTool\"},{\"id\":\"3817\",\"type\":\"SaveTool\"},{\"id\":\"3818\",\"type\":\"ResetTool\"},{\"id\":\"3819\",\"type\":\"HelpTool\"},{\"id\":\"3832\",\"type\":\"HoverTool\"}]},\"id\":\"3820\",\"type\":\"Toolbar\"},{\"attributes\":{\"formatter\":{\"id\":\"3991\",\"type\":\"BasicTickFormatter\"},\"ticker\":{\"id\":\"3805\",\"type\":\"BasicTicker\"}},\"id\":\"3804\",\"type\":\"LinearAxis\"},{\"attributes\":{},\"id\":\"3805\",\"type\":\"BasicTicker\"},{\"attributes\":{\"line_alpha\":0.1,\"line_color\":\"#1f77b4\",\"x\":{\"field\":\"x\"},\"y\":{\"field\":\"y\"}},\"id\":\"3829\",\"type\":\"Line\"},{\"attributes\":{\"callback\":null,\"tooltips\":[[\"(x,y)\",\"($x{1}, $y)\"]]},\"id\":\"3832\",\"type\":\"HoverTool\"},{\"attributes\":{},\"id\":\"3802\",\"type\":\"LinearScale\"},{\"attributes\":{\"callback\":null,\"data\":{\"x\":{\"__ndarray__\":\"////Pxn6uUD///8/Wfu5QP///z+Z/LlA////P9n9uUD///8/Gf+5QP///z9ZALpA////P5kBukD///8/2QK6QP///z8ZBLpA////P1kFukD///8/mQa6QP///z/ZB7pA////PxkJukD///8/WQq6QP///z+ZC7pA////P9kMukD///8/GQ66QP///z9ZD7pA////P5kQukD///8/2RG6QP///z8ZE7pA////P1kUukD///8/mRW6QP///z/ZFrpA////PxkYukD///8/WRm6QP///z+ZGrpA////P9kbukD///8/GR26QP///z9ZHrpA////P5kfukD///8/2SC6QP///z8ZIrpA////P1kjukD///8/mSS6QP///z/ZJbpA////PxknukD///8/WSi6QP///z+ZKbpA////P9kqukD///8/GSy6QP///z9ZLbpA////P5kuukD///8/2S+6QP///z8ZMbpA////P1kyukD///8/mTO6QP///z/ZNLpA////Pxk2ukD///8/WTe6QP///z+ZOLpA////P9k5ukD///8/GTu6QP///z9ZPLpA////P5k9ukD///8/2T66QP///z8ZQLpA////P1lBukD///8/mUK6QP///z/ZQ7pA////PxlFukD///8/WUa6QP///z+ZR7pA////P9lIukD///8/GUq6QP///z9ZS7pA////P5lMukD///8/2U26QP///z8ZT7pA////P1lQukD///8/mVG6QP///z/ZUrpA////PxlUukD///8/WVW6QP///z+ZVrpA////P9lXukD///8/GVm6QP///z9ZWrpA////P5lbukD///8/2Vy6QP///z8ZXrpA////P1lfukD///8/mWC6QP///z/ZYbpA////PxljukD///8/WWS6QP///z+ZZbpA////P9lmukD///8/GWi6QP///z9ZabpA////P5lqukD///8/2Wu6QP///z8ZbbpA////P1luukD///8/mW+6QP///z/ZcLpA////PxlyukD///8/WXO6QP///z+ZdLpA////P9l1ukD///8/GXe6QP///z9ZeLpA////P5l5ukD///8/2Xq6QP///z8ZfLpA////P1l9ukD///8/mX66QP///z/Zf7pA////PxmBukD///8/WYK6QP///z+Zg7pA////P9mEukD///8/GYa6QP///z9Zh7pA////P5mIukD///8/2Ym6QP///z8Zi7pA////P1mMukD///8/mY26QP///z/ZjrpA////PxmQukD///8/WZG6QP///z+ZkrpA////P9mTukD///8/GZW6QP///z9ZlrpA////P5mXukD///8/2Zi6QP///z8ZmrpA////P1mbukD///8/mZy6QP///z/ZnbpA////PxmfukD///8/WaC6QP///z+ZobpA////P9miukA=\",\"dtype\":\"float64\",\"shape\":[136]},\"y\":[-4.402665138244629,3.809645414352417,4.045866012573242,-2.066241502761841,23.45797348022461,-10.502127647399902,-11.489190101623535,-16.282176971435547,-7.847792625427246,15.76460075378418,-15.101537704467773,4.132970333099365,-6.423583030700684,-3.129291534423828,-7.312951564788818,-1.4343255758285522,14.979532241821289,7.551319122314453,-12.149508476257324,-7.370432376861572,12.19080924987793,0.5822654962539673,-6.214343070983887,-24.475200653076172,-8.136921882629395,1.8254557847976685,4.23221492767334,10.4181489944458,-3.566175699234009,-9.46871280670166,-3.370915412902832,11.486144065856934,-3.3914313316345215,0.5977379083633423,7.5064473152160645,-14.32402515411377,-20.000553131103516,-15.412034034729004,-10.55377197265625,-10.934920310974121,-8.472090721130371,-16.847410202026367,-11.795577049255371,-14.58648681640625,-3.7233588695526123,-3.3684256076812744,-6.992618560791016,-7.759603977203369,-2.7374353408813477,-6.695369720458984,-27.904586791992188,2.915829658508301,33.69255828857422,78.08509063720703,67.85551452636719,-8.097066879272461,-6.966609954833984,-3.9994983673095703,-6.4123921394348145,-10.639876365661621,-13.172110557556152,17.811418533325195,-12.219335556030273,1.0273144245147705,63.97850799560547,41.89109802246094,11.633459091186523,-14.579715728759766,6.445725440979004,-19.577051162719727,-0.13650959730148315,10.007568359375,-11.589656829833984,-8.458396911621094,-15.130070686340332,-1.4743216037750244,-0.3817899525165558,-25.898923873901367,-12.425853729248047,-17.64505958557129,-8.642404556274414,-7.485527992248535,-11.025933265686035,-12.776619911193848,3.401907444000244,8.597172737121582,3.8224220275878906,-5.1226935386657715,3.5488741397857666,-3.651155948638916,-6.148961544036865,5.749091625213623,-5.00938081741333,14.319473266601562,0.676066517829895,-6.084969997406006,-6.324904441833496,-13.514866828918457,-7.013208866119385,-4.520600318908691,13.866294860839844,0.345215767621994,3.4895262718200684,-7.000196933746338,-15.561575889587402,-16.94732666015625,8.365744590759277,14.174711227416992,2.251941442489624,12.000680923461914,10.024367332458496,9.94791030883789,-9.379356384277344,-14.94699478149414,0.6723482608795166,4.120044231414795,5.900183200836182,3.8045284748077393,-0.4183393120765686,-6.3007683753967285,-5.103990077972412,4.199828624725342,-13.11090087890625,-12.442290306091309,-10.783461570739746,-7.5919342041015625,5.812270164489746,-2.5257129669189453,9.946895599365234,-5.568136215209961,26.496498107910156,5.2189836502075195,1.1733872890472412,19.66480827331543,-13.753210067749023,6.464192867279053]},\"selected\":{\"id\":\"3995\",\"type\":\"Selection\"},\"selection_policy\":{\"id\":\"3996\",\"type\":\"UnionRenderers\"}},\"id\":\"3827\",\"type\":\"ColumnDataSource\"},{\"attributes\":{},\"id\":\"3814\",\"type\":\"PanTool\"},{\"attributes\":{},\"id\":\"3817\",\"type\":\"SaveTool\"},{\"attributes\":{},\"id\":\"3815\",\"type\":\"WheelZoomTool\"}],\"root_ids\":[\"3793\"]},\"title\":\"Bokeh Application\",\"version\":\"1.1.0\"}};\n",
       "  var render_items = [{\"docid\":\"c4c4b65c-73ed-49f1-b21f-4e3f28306635\",\"roots\":{\"3793\":\"a3071e45-615a-4c19-a91a-157662d7025b\"}}];\n",
       "  root.Bokeh.embed.embed_items_notebook(docs_json, render_items);\n",
       "\n",
       "  }\n",
       "  if (root.Bokeh !== undefined) {\n",
       "    embed_document(root);\n",
       "  } else {\n",
       "    var attempts = 0;\n",
       "    var timer = setInterval(function(root) {\n",
       "      if (root.Bokeh !== undefined) {\n",
       "        embed_document(root);\n",
       "        clearInterval(timer);\n",
       "      }\n",
       "      attempts++;\n",
       "      if (attempts > 100) {\n",
       "        console.log(\"Bokeh: ERROR: Unable to run BokehJS code because BokehJS library is missing\");\n",
       "        clearInterval(timer);\n",
       "      }\n",
       "    }, 10, root)\n",
       "  }\n",
       "})(window);"
      ],
      "application/vnd.bokehjs_exec.v0+json": ""
     },
     "metadata": {
      "application/vnd.bokehjs_exec.v0+json": {
       "id": "3793"
      }
     },
     "output_type": "display_data"
    },
    {
     "name": "stderr",
     "output_type": "stream",
     "text": [
      "WARNING: gnorm=0.   wa2=[1.42250965e-03 1.33883430e-05 1.51230269e-07] [pyspeckit.mpfit.mpfit]\n",
      "WARNING: gnorm=0.   wa2=[1.42250965e-03 1.33883430e-05 1.51230269e-07] [pyspeckit.mpfit.mpfit]\n",
      "WARNING: gnorm=0.   wa2=[1.42250965e-03 1.33883430e-05 1.51230269e-07] [pyspeckit.mpfit.mpfit]\n",
      "WARNING: gnorm=0.   wa2=[1.42250965e-03 1.33883430e-05 1.51230269e-07] [pyspeckit.mpfit.mpfit]\n",
      "WARNING: gnorm=0.   wa2=[1.42250965e-03 1.33883430e-05 1.51230269e-07] [pyspeckit.mpfit.mpfit]\n",
      "WARNING: gnorm=0.   wa2=[1.42250965e-03 1.33883430e-05 1.51230269e-07] [pyspeckit.mpfit.mpfit]\n",
      "WARNING: gnorm=0.   wa2=[1.42250965e-03 1.33883430e-05 1.51230269e-07] [pyspeckit.mpfit.mpfit]\n",
      "WARNING: gnorm=0.   wa2=[1.42250965e-03 1.33883430e-05 1.51230269e-07] [pyspeckit.mpfit.mpfit]\n",
      "WARNING: gnorm=0.   wa2=[1.42250965e-03 1.33883430e-05 1.51230269e-07] [pyspeckit.mpfit.mpfit]\n",
      "WARNING: gnorm=0.   wa2=[1.42250965e-03 1.33883430e-05 1.51230269e-07] [pyspeckit.mpfit.mpfit]\n",
      "WARNING: gnorm=0.   wa2=[1.42250965e-03 1.33883430e-05 1.51230269e-07] [pyspeckit.mpfit.mpfit]\n",
      "WARNING: gnorm=0.   wa2=[1.42250965e-03 1.33883430e-05 1.51230269e-07] [pyspeckit.mpfit.mpfit]\n",
      "WARNING: gnorm=0.   wa2=[1.42250965e-03 1.33883430e-05 1.51230269e-07] [pyspeckit.mpfit.mpfit]\n"
     ]
    }
   ],
   "source": [
    "listcoord = []\n",
    "foundspec = []\n",
    "\n",
    "for number,vaina in enumerate(listlatlog):\n",
    "    ra = vaina[0]\n",
    "    dec = vaina[1]\n",
    "    #print(ra)\n",
    "    try:\n",
    "        tryspec = getspectrafromregion(spectralcube,dec, ra, 0.200,name=number,xmin=6650.,xmax=6820.,\n",
    "                                      exclude=[6660,6700])\n",
    "        findlines(tryspec,minwave=6700,maxwave=6800,toleranceinsigma=3.5)\n",
    "        if tryspec.line:\n",
    "            tryspec.plotline(title='{}, {}, {}'.format(tryspec.ra,tryspec.dec,number))\n",
    "            listcoord.append([tryspec.ra,tryspec.dec,tryspec.apperture,'{'+str(number)+'}'])\n",
    "\n",
    "    except:\n",
    "        #print('a')\n",
    "        pass\n"
   ]
  },
  {
   "cell_type": "code",
   "execution_count": 9,
   "metadata": {},
   "outputs": [],
   "source": [
    "len(listcoord)\n",
    "regionfilename = 'foundlinesHeI.reg'\n",
    "makeregionfromlist(listcoord,regionfilename)"
   ]
  },
  {
   "cell_type": "code",
   "execution_count": 11,
   "metadata": {},
   "outputs": [
    {
     "data": {
      "application/vnd.jupyter.widget-view+json": {
       "model_id": "3946a1c886174d238d26a398edc9d5ad",
       "version_major": 2,
       "version_minor": 0
      },
      "text/plain": [
       "FigureCanvasNbAgg()"
      ]
     },
     "metadata": {},
     "output_type": "display_data"
    }
   ],
   "source": [
    "dwarf = aplpy.FITSFigure('IMAGE_FOV_0004.fits',hdu=1)\n",
    "\n",
    "dwarf.show_colorscale(cmap='gray', vmin=49,vmax=37000)\n",
    "dwarf.show_regions(regionfilename)\n",
    "dwarf.show_regions('Cohn.reg')"
   ]
  },
  {
   "cell_type": "code",
   "execution_count": null,
   "metadata": {},
   "outputs": [],
   "source": []
  }
 ],
 "metadata": {
  "kernelspec": {
   "display_name": "Python 3",
   "language": "python",
   "name": "python3"
  },
  "language_info": {
   "codemirror_mode": {
    "name": "ipython",
    "version": 3
   },
   "file_extension": ".py",
   "mimetype": "text/x-python",
   "name": "python",
   "nbconvert_exporter": "python",
   "pygments_lexer": "ipython3",
   "version": "3.7.3"
  }
 },
 "nbformat": 4,
 "nbformat_minor": 2
}
